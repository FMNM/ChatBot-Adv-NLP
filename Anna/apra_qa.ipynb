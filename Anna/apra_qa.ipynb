{
 "cells": [
  {
   "cell_type": "markdown",
   "metadata": {},
   "source": [
    "# Chatbot QA for APRA regulatory data\n",
    "The aim of the QA chat is to experiment various techniques for accuracy in answering questions from a private corpus of data. The pipeline starts with reading the documents from the dataset in docx file format located in ./dataset/word_standards. The document data is then divided into smaller chunks for embedding. The embeddings are then stored into the Pinecone vectord database hosted on the cloud. The document embeddings are generated using Cohere from Bedrock. For answer generation, OoenAI is used.\n",
    "\n",
    "![Design architecture](architecture.png)\n",
    "\n",
    "## Techniques of embedding\n",
    "The documents are divided into smaller chunks due to resource limitation of the current technology standards. Accuracy is important when it comes to regulations. So the balance of embedding size or number of chunks is considered with the balance of accuracy, retrieval latency and compute resources with the number of documents provided.\n",
    "\n",
    "### Preserve relevant context\n",
    "When documents are divided into chunks, it also loses context. And context is very important in retrieval. To preserve relevancy, chunking for each document has the longest charactor length and overlapping. \n",
    "\n",
    "### Prevent context cross contamination\n",
    "To ensure precisision, preverving relevant context within the same document is important. Chunking is done by invidual document to prevent text overlapping with another documents, which will contain different regulation data. Cross contaminating data will lead to inaccuracy.\n",
    "\n",
    "## AWS Bedrock \n",
    "Cohere is used for dense vector embedding on all the documents before storing into the vector database. Claude is used for generation. Usuing AWS Bedrock provides the performance and flexibility to change foundation models.\n",
    "\n",
    "## Vector store\n",
    "Pinecone is a cloud based vector store. The embeddings generated from the documents are stored as one-off tasks. This embedding is later retrieved to generate answers based on queries. Cloud vector database provides the performance when it comes go vector search. Cloud service is used for scalability and performance.\n",
    "\n",
    "## Retrieval and generation\n",
    "Based on a query, search on vectors is performed using cosine similarity between query and database vectors. OpenAI is used for prompting and answer generation based on retrievals from Pinecone vector store.\n",
    "\n",
    "## SET UP\n",
    "Before running this file, please run <code>pip install -r requirements.txt</code>. To use various cloude services, following accounts need to be set up to obtain access keys. The following keys are needed in the .env file locatedin the same directory as this notebook.\n",
    "\n",
    "<code>\n",
    "PINECONE_ENV=</br>\n",
    "PINECONE_INDEX_NAME=</br>\n",
    "PINECONE_INDEX_HOST=</br>\n",
    "ANTHROPIC_API_KEY=</br>\n",
    "OPENAI_API_KEY=</br>\n",
    "BEDROCK_REGION=</br>\n",
    "AWS_ACCESS_KEY_ID=</br>\n",
    "AWS_SECRET_ACCESS_KEY=</br>\n",
    "</code>\n",
    "\n"
   ]
  },
  {
   "cell_type": "markdown",
   "metadata": {},
   "source": [
    "## Load environment variables"
   ]
  },
  {
   "cell_type": "code",
   "execution_count": 1,
   "metadata": {},
   "outputs": [
    {
     "data": {
      "text/plain": [
       "True"
      ]
     },
     "execution_count": 1,
     "metadata": {},
     "output_type": "execute_result"
    }
   ],
   "source": [
    "import os\n",
    "from dotenv import load_dotenv\n",
    "load_dotenv()"
   ]
  },
  {
   "cell_type": "markdown",
   "metadata": {},
   "source": [
    "## Data preprocessing"
   ]
  },
  {
   "cell_type": "markdown",
   "metadata": {},
   "source": [
    "#### NLTK for tagging"
   ]
  },
  {
   "cell_type": "code",
   "execution_count": 2,
   "metadata": {},
   "outputs": [
    {
     "name": "stdout",
     "output_type": "stream",
     "text": [
      "/Users/jasper/nltk_data/taggers/averaged_perceptron_tagger\n",
      "/Users/jasper/nltk_data/taggers/averaged_perceptron_tagger\n",
      "/Users/jasper/nltk_data/taggers/averaged_perceptron_tagger_eng\n"
     ]
    },
    {
     "name": "stderr",
     "output_type": "stream",
     "text": [
      "[nltk_data] Downloading package averaged_perceptron_tagger to\n",
      "[nltk_data]     ./nltk_data...\n",
      "[nltk_data]   Package averaged_perceptron_tagger is already up-to-\n",
      "[nltk_data]       date!\n",
      "[nltk_data] Downloading package averaged_perceptron_tagger_eng to\n",
      "[nltk_data]     ./nltk_data...\n",
      "[nltk_data]   Package averaged_perceptron_tagger_eng is already up-to-\n",
      "[nltk_data]       date!\n",
      "[nltk_data] Downloading package punkt_tab to\n",
      "[nltk_data]     /Users/jasper/nltk_data...\n",
      "[nltk_data]   Package punkt_tab is already up-to-date!\n"
     ]
    }
   ],
   "source": [
    "import nltk\n",
    "print(nltk.data.find('taggers/averaged_perceptron_tagger'))\n",
    "\n",
    "nltk_data_path = './nltk_data'\n",
    "nltk.data.path.append(nltk_data_path)\n",
    "nltk.download('averaged_perceptron_tagger', download_dir=nltk_data_path)\n",
    "nltk.download('averaged_perceptron_tagger_eng', download_dir=nltk_data_path)\n",
    "nltk.download('punkt_tab')\n",
    "\n",
    "print(nltk.data.find('taggers/averaged_perceptron_tagger'))\n",
    "print(nltk.data.find('taggers/averaged_perceptron_tagger_eng'))"
   ]
  },
  {
   "cell_type": "markdown",
   "metadata": {},
   "source": [
    "#### Langchain framework for handling data preprocessing and retrieval"
   ]
  },
  {
   "cell_type": "code",
   "execution_count": 3,
   "metadata": {},
   "outputs": [
    {
     "name": "stdout",
     "output_type": "stream",
     "text": [
      "documents: 91\n"
     ]
    }
   ],
   "source": [
    "from langchain.document_loaders import DirectoryLoader\n",
    "\n",
    "doc_loader = DirectoryLoader('./dataset/word_standards/', glob=\"*.docx\")\n",
    "apra_docs = doc_loader.load()\n",
    "\n",
    "print(\"documents:\", len(apra_docs))"
   ]
  },
  {
   "cell_type": "code",
   "execution_count": 4,
   "metadata": {},
   "outputs": [],
   "source": [
    "\n",
    "def get_file_id(doc):\n",
    "    file_path = doc.metadata['source']\n",
    "    id = os.path.splitext(os.path.basename(file_path))[0]\n",
    "    \n",
    "    return id\n",
    "\n",
    "import uuid\n",
    "def chunk_doc(doc, text_splitter):\n",
    "    chunk_data = []\n",
    "    chunks = text_splitter.split_text(doc.page_content)  # Accessing the text of the document\n",
    "    for idx, chunk in enumerate(chunks):\n",
    "        doc_id = get_file_id(doc)\n",
    "        data = {'id':  str(uuid.uuid4()), \n",
    "                'metadata': {'text':doc_id + \" \" + str(idx), \n",
    "                             'doc_id': doc_id, \n",
    "                             'chunk_index': idx}, \n",
    "                'content': chunk}     \n",
    "        chunk_data.append(data)\n",
    "    \n",
    "    return chunk_data\n",
    "    "
   ]
  },
  {
   "cell_type": "code",
   "execution_count": 5,
   "metadata": {},
   "outputs": [
    {
     "name": "stdout",
     "output_type": "stream",
     "text": [
      "Documents: 91\n",
      "Chunks: 2531\n",
      "example {'id': '6c7c4c74-4429-4673-a7a9-3531306c1ba6', 'metadata': {'text': 'F2021L01119 0', 'doc_id': 'F2021L01119', 'chunk_index': 0}, 'content': 'Financial Sector (Collection of Data) (reporting standard) determination No. 28 of 2021 \\n\\nReporting Standard ARS 720.3 ABS/RBA Intra-group Assets and Liabilities\\n\\nFinancial Sector (Collection of Data) Act 2001\\n\\nI, Alison Bliss, delegate of APRA, under paragraph 13(1)(a) of the Financial Sector (Collection of Data) Act 2001 (the Act) and subsection 33(3) of the Acts Interpretation Act 1901:\\n\\nrevoke Financial Sector (Collection of Data) (reporting standard) determination No. 5 of 2019, including Reporting Standard ARS 720.3 ABS/RBA Intra-group Assets and Liabilities made under that Determination; and\\n\\ndetermine Reporting Standard ARS 720.3 ABS/RBA Intra-group Assets and Liabilities, in the form set out in the Schedule, which applies to the financial sector entities to the extent provided in paragraph 4 of the reporting standard.\\n\\nUnder section 15 of the Act, I declare that the reporting standard shall begin to apply to those financial sector entities, and the revoked reporting standard shall cease to apply, on the day it is registered on the Federal Register of Legislation. \\n\\nThis instrument commences upon registration on the Federal Register of Legislation.\\n\\nDated: 30 July 2021\\n\\n[Signed]\\n\\nAlison Bliss\\n\\nGeneral Manager\\n\\nData Analytics & Insights Division\\n\\nInterpretation\\n\\nIn this Determination:\\n\\nAPRA means the Australian Prudential Regulation Authority.\\n\\nfinancial sector entity has the meaning given by section 5 of the Act. \\n\\nSchedule \\n\\nReporting Standard ARS 720.3 ABS/RBA Intra-group Assets and Liabilities comprises the document commencing on the following page.\\n\\nJuly 2021\\n\\nReporting Standard ARS 720.3\\n\\nABS/RBA Intra-group Assets and Liabilities\\n\\nObjective of this Reporting Standard\\n\\nThis Reporting Standard outlines the requirements for the provision of information to APRA relating to an authorised deposit-taking institution’s or registered financial corporation’s intra-group assets and liabilities.'}\n"
     ]
    }
   ],
   "source": [
    "from langchain.text_splitter import RecursiveCharacterTextSplitter\n",
    "\n",
    "text_splitter = RecursiveCharacterTextSplitter(chunk_size=2048, chunk_overlap=400)\n",
    "chunk_data = [] # [{content:, metadata{doc_id:, part_index:}}]\n",
    "\n",
    "# chuck each document individually to prevent regulation data overlap that can give the wrong answer\n",
    "for doc in apra_docs:\n",
    "    doc_chunks = chunk_doc(doc, text_splitter)\n",
    "    chunk_data.extend(doc_chunks)\n",
    "    \n",
    "print(\"Documents:\", len(apra_docs))\n",
    "print(\"Chunks:\", len(chunk_data))\n",
    "print(\"example\", chunk_data[0])"
   ]
  },
  {
   "cell_type": "markdown",
   "metadata": {},
   "source": [
    "## Vector store"
   ]
  },
  {
   "cell_type": "markdown",
   "metadata": {},
   "source": [
    "#### Initialise Pinecone vector database"
   ]
  },
  {
   "cell_type": "code",
   "execution_count": 28,
   "metadata": {},
   "outputs": [
    {
     "name": "stdout",
     "output_type": "stream",
     "text": [
      "Index: <pinecone.data.index.Index object at 0x7f8b182a6a30>\n"
     ]
    }
   ],
   "source": [
    "from pinecone import Pinecone, ServerlessSpec\n",
    "\n",
    "# Fetch Pinecone index created from on the server\n",
    "index_name = os.getenv(\"PINECONE_INDEX_NAME\")\n",
    "pc = Pinecone(api_key=os.getenv(\"PINECONE_API_KEY\"))\n",
    "pc_index = pc.Index(index_name, host=os.getenv(\"PINECONE_INDEX_HOST\"))\n",
    "\n",
    "print(\"Index:\", pc_index)\n",
    "\n",
    "# # NOT NEEDED: Index created on the server website\n",
    "# if index_name not in pc_indexes:\n",
    "#     # dimensions are for cohere.embed-english-v3\n",
    "#     pc.create_index(\n",
    "#         name=index_name,\n",
    "#         dimension=2048, # Replace with your model dimensions\n",
    "#         metric=\"cosine\", # Replace with your model metric\n",
    "#         spec=ServerlessSpec(\n",
    "#             cloud=\"aws\",\n",
    "#             region=\"us-east-1\" # Virgia region (starter plan)\n",
    "#         ) \n",
    "#     )"
   ]
  },
  {
   "cell_type": "markdown",
   "metadata": {},
   "source": [
    "#### Generate embdding from AWS Bedrock foundation model Cohere"
   ]
  },
  {
   "cell_type": "code",
   "execution_count": 7,
   "metadata": {},
   "outputs": [],
   "source": [
    "import boto3\n",
    "from langchain_community.embeddings import BedrockEmbeddings\n",
    "\n",
    "# Load embedding LLM\n",
    "bedrock_client = boto3.client(\"bedrock-runtime\",\n",
    "                              region_name=os.getenv(\"BEDROCK_REGION\"),\n",
    "                              aws_access_key_id=os.getenv(\"AWS_ACCESS_KEY_ID\"),\n",
    "                              aws_secret_access_key=os.getenv(\"AWS_SECRET_ACCESS_KEY\"))\n",
    "\n",
    "embedding_model = BedrockEmbeddings(model_id=\"cohere.embed-english-v3\", client=bedrock_client)"
   ]
  },
  {
   "cell_type": "code",
   "execution_count": 8,
   "metadata": {},
   "outputs": [
    {
     "name": "stdout",
     "output_type": "stream",
     "text": [
      "[[-0.037628174, -0.005771637, -0.107299805, -0.03527832, 0.008735657, -0.017974854, -0.021224976, 0.05404663, 0.044189453, 0.015594482, -0.08795166, 0.0017461777, -0.0096206665, 0.0077705383, -0.02809143, -0.05053711, 0.009849548, 0.007156372, 0.031433105, -2.6166439e-05, -0.018600464, 0.01626587, 0.013244629, -0.025527954, 0.030471802, -0.015853882, 0.026779175, 0.058563232, 0.0107040405, 0.012519836, 0.011314392, -0.034362793, 0.017715454, 0.01600647, 0.024032593, 0.04385376, 0.0025577545, 0.0073051453, 0.0209198, 0.03366089, 0.03704834, -0.038238525, 0.057891846, -0.049865723, 0.010894775, 0.035095215, 0.028381348, -0.0309906, 0.025817871, 0.04043579, -0.022460938, 0.024536133, -0.04437256, 0.099609375, -0.021987915, -0.024017334, -0.022628784, -0.011306763, 0.025268555, 0.044921875, 0.0017080307, -0.0032196045, 0.01222229, -0.028121948, -0.05316162, -0.004310608, 0.041809082, -0.0044288635, 0.054016113, -0.03945923, -0.023910522, 0.06329346, 0.0031757355, -0.015487671, -0.02104187, 0.01663208, -0.0040016174, -0.0051956177, 0.008094788, 0.003112793, 0.013824463, -0.010108948, -0.008407593, 0.0007786751, 0.03463745, 0.04156494, -0.008865356, -0.027694702, 0.019195557, -0.012931824, 0.013587952, 0.005470276, 0.021820068, 0.013504028, -0.017684937, -0.023361206, -0.030273438, 0.014045715, -0.023147583, -0.0077285767, -0.035858154, 0.018615723, -0.06311035, -0.008995056, -0.010444641, 0.05316162, -0.0066719055, -0.06652832, -0.015808105, 0.014129639, -0.027069092, -0.045562744, 0.00844574, -0.0030136108, -0.060791016, 0.028320312, 0.02458191, -0.07043457, -0.007873535, -0.010437012, 0.019683838, 0.06048584, -0.059783936, 0.015792847, -0.036590576, -0.009796143, 0.026779175, -0.027023315, 0.02470398, 0.038269043, -0.015625, -0.02458191, -0.036621094, 0.018005371, 0.007411957, -0.014373779, -0.020187378, 0.01914978, 0.013465881, 0.008476257, 0.05819702, -0.07757568, -0.041229248, 0.07043457, -0.00077581406, 0.012825012, 0.00037693977, 0.011650085, 0.020507812, -0.033966064, 0.0143966675, -0.043548584, 0.05166626, -0.004119873, -0.07678223, 0.00080633163, -0.015640259, -0.009185791, -0.037994385, -0.028915405, 0.052459717, 0.0057258606, -0.02619934, 0.02305603, -2.5689602e-05, -0.014854431, 0.03237915, 0.016555786, 0.013648987, 0.023391724, -0.01309967, -0.017456055, -0.0034065247, -0.014007568, -0.0038223267, 0.010154724, -0.019515991, -0.0022506714, -0.011428833, 0.08099365, 0.041778564, -0.031982422, -0.011871338, 0.034088135, -0.013725281, -0.0385437, -0.01600647, -0.03213501, 0.060028076, 0.012367249, -0.022460938, -0.03164673, -0.0005879402, -0.039001465, 0.0076789856, -0.020339966, 0.034240723, 0.0035915375, 0.004989624, -0.01184082, 0.00655365, -0.011543274, -0.011802673, -0.00028395653, -0.033843994, -0.024337769, 0.00182724, 0.00083351135, -0.09515381, 0.00012421608, 0.061035156, 0.015403748, -0.036102295, 0.0069274902, 0.060180664, -0.008728027, -0.035736084, -0.0050315857, -0.011047363, 0.018066406, -0.06085205, 0.011711121, -0.05709839, -0.021972656, -0.0054969788, -0.010139465, 0.009552002, -0.012374878, 0.04840088, 0.010467529, 0.048461914, -0.014328003, 0.006565094, 0.019241333, -0.02986145, 0.0006456375, -0.01197052, -0.05218506, 0.0074539185, 0.04598999, 0.0066871643, 0.016326904, -0.024520874, 0.020050049, 0.04537964, 0.053527832, 0.034057617, -0.011047363, -0.022766113, 0.024673462, 0.0335083, 0.019515991, -0.008201599, 0.05596924, -0.020721436, 0.02217102, 0.007843018, -0.05834961, 0.037597656, -0.00724411, 0.00869751, -0.052856445, -0.05343628, -0.008270264, -0.01727295, 0.045715332, 0.044677734, 0.050354004, -0.009468079, 0.00944519, -0.005569458, 0.03173828, 0.0059547424, 0.025054932, 0.040039062, 0.0049934387, -0.03326416, -0.006664276, 0.0006284714, 0.010406494, 0.0023860931, 0.009765625, -0.016281128, -0.009277344, 0.016082764, -0.003019333, -0.0067749023, 0.002002716, -0.024017334, -0.021652222, 0.017730713, -0.021591187, -0.026016235, -0.002790451, -0.012161255, -0.039276123, -0.056732178, -0.010826111, 0.020645142, -0.04360962, 0.005268097, 0.06222534, -0.030441284, 0.03765869, -0.006008148, -0.04083252, -0.038513184, 0.04232788, -0.0063056946, -0.067871094, -0.021896362, 0.0335083, 0.0062713623, -0.03930664, 0.0026245117, -0.022872925, -0.04776001, -0.01411438, -0.040924072, 0.022888184, 0.013442993, -0.0032444, -0.05218506, 0.013671875, -0.014556885, 0.022644043, 0.004245758, -0.0158844, 0.0010576248, -0.013839722, -0.0158844, 0.006793976, -0.010818481, 0.0184021, 0.0030994415, -0.029922485, 0.0057296753, 0.0435791, -0.027114868, -0.06112671, -0.010826111, -0.061279297, -0.009124756, 0.011856079, -0.029632568, 0.007484436, -0.010322571, 0.021514893, 0.046661377, -0.012527466, -0.0075416565, -0.027038574, 0.003288269, 0.015342712, 0.040924072, -0.037963867, -0.04031372, 0.048675537, 0.019638062, -0.012145996, -0.015571594, 0.022476196, -0.048065186, -0.09741211, 0.02861023, 0.005847931, -0.030853271, -0.034851074, -0.042114258, -0.0073509216, 0.0357666, -0.027664185, -0.025054932, -0.035125732, -0.062408447, 0.009536743, 0.030548096, -0.016555786, -0.011360168, 0.011024475, 0.017562866, 0.018112183, -0.01914978, -0.008552551, -0.019226074, 0.01902771, 0.009422302, 0.05291748, -0.006187439, -0.03967285, 0.006164551, 0.074645996, -0.0028038025, -0.031555176, 0.026123047, 0.013221741, -0.015235901, 0.009735107, -0.013587952, -0.022277832, 0.07116699, -0.025848389, -0.0032215118, 0.011489868, 0.0035305023, 0.00046133995, 0.04727173, 0.01701355, 0.040618896, -0.013954163, 0.00045990944, 0.016616821, -0.012680054, 0.008583069, -0.028121948, -0.014701843, -0.013076782, 0.003314972, -0.017868042, -0.012367249, 0.03463745, -0.0066566467, 0.024002075, 0.015335083, -0.02355957, 0.026123047, -0.009262085, 0.017974854, 0.0011663437, 0.054016113, 0.0021018982, -0.006023407, -0.022506714, -0.04272461, 0.013702393, 0.010246277, -0.02532959, 0.015823364, -0.04156494, 0.010856628, -0.01676941, 0.015464783, 0.011787415, 0.019897461, -0.020767212, -0.0115356445, 0.021606445, -0.013252258, -0.019317627, 0.015914917, -0.034576416, 0.034301758, -0.021652222, 0.009101868, -0.014160156, -0.072631836, -0.026809692, 0.026748657, 0.0033512115, 0.022918701, 0.016479492, -0.018814087, 0.008903503, 0.010910034, 0.007587433, 0.0385437, -0.036132812, 0.022598267, 0.021270752, -0.040893555, 0.03366089, -0.0007238388, 0.009963989, -0.0006637573, -0.0023288727, 0.021209717, 0.0027885437, -0.04031372, 0.014251709, 0.01838684, 0.019607544, -0.0003578663, 0.08862305, -0.015853882, 0.020690918, 0.004722595, -0.050231934, -0.03845215, -0.013999939, -0.04333496, 0.0005764961, -0.011581421, 0.021530151, -0.047302246, -0.00932312, -0.022705078, 0.008285522, -0.0006136894, -0.026870728, -0.040283203, -0.018188477, -0.0068092346, -0.0049552917, 0.02381897, 0.0020370483, 0.018814087, 0.011505127, -0.022384644, -0.005367279, -0.0010843277, 0.028839111, -0.048065186, 0.037384033, -0.009353638, -0.00044107437, -0.046722412, 0.057373047, 0.0345459, -0.025466919, 0.00077056885, 0.009140015, 0.004901886, 0.044952393, 0.030319214, -0.008239746, 0.0044822693, 0.007965088, -0.007926941, -0.03012085, 0.0037765503, 0.0061683655, 0.05255127, -0.017669678, -0.047668457, 0.03237915, -0.042297363, -0.033050537, 0.04837036, 0.008529663, -0.03378296, -0.04031372, -0.003162384, 0.03869629, -0.014678955, 0.019485474, 0.02330017, -0.006877899, 0.010879517, -0.024261475, -0.008483887, -0.016326904, -0.006324768, 0.010917664, -0.010040283, -0.033569336, -0.0060806274, -0.0096206665, -0.0063705444, -0.0035800934, 0.054840088, -0.03579712, 0.014060974, -0.04006958, 0.004878998, -0.03149414, -0.0012683868, 0.0592041, 0.03994751, 0.011802673, -0.057678223, -0.0029411316, -0.029769897, 0.06439209, 0.031036377, 0.003583908, -0.027038574, 0.017074585, 0.009101868, 0.027770996, 0.0010538101, 0.03543091, 0.014877319, -0.0027217865, 0.02571106, -0.028686523, 0.020950317, -0.0035972595, 0.074401855, -0.0041046143, -0.0135650635, -0.007381439, -0.020462036, 0.02456665, -0.087524414, -0.0625, -0.013710022, -0.033935547, 0.019622803, -0.0103302, -0.0025634766, -0.036712646, 0.030395508, 0.008766174, -0.008796692, 0.03665161, 0.06384277, 0.0072135925, 0.030349731, 0.008903503, 0.048461914, 0.0045547485, -0.033325195, 0.017120361, 0.0010738373, 0.026184082, 0.002040863, -0.050079346, 0.04827881, 0.0065231323, -0.027023315, -0.027420044, -0.0034427643, -0.029174805, -0.05078125, 0.03643799, -0.027709961, -0.046203613, 0.022033691, -0.0020446777, -0.014549255, 0.014968872, -0.015151978, -0.0030918121, 0.008964539, 0.040374756, -0.055389404, 0.0149383545, -0.010307312, 0.020507812, 0.077941895, 0.01348114, -0.008415222, -0.0140686035, 0.005882263, 0.028060913, 0.003019333, 0.014343262, 0.010917664, -0.012191772, 0.016525269, 0.012207031, 0.00028586388, -0.0048561096, -0.058502197, 0.0033130646, -0.024765015, -0.030563354, 0.03970337, -0.012145996, 0.009338379, -0.038879395, 0.0033092499, 0.020629883, -0.02507019, -0.05444336, -0.0065727234, 0.08502197, 0.015914917, 0.002319336, -0.0033683777, -0.007972717, 0.053344727, -0.12261963, 0.010284424, 0.013458252, 0.06100464, -0.011207581, 0.05038452, -0.049041748, 0.020690918, -0.012123108, -0.07537842, -0.008255005, -0.022705078, 0.013763428, -0.009941101, 0.022903442, 0.04196167, -0.008628845, 0.09729004, -0.053375244, -0.015541077, 0.058258057, -0.00982666, -0.08721924, -0.0121536255, -0.0017347336, -0.041015625, -0.045837402, -0.011947632, 0.02999878, -0.017227173, 0.0071907043, -0.03201294, 0.018051147, 0.024475098, 0.0010318756, -0.0034713745, 0.018112183, -0.00014555454, 0.009750366, 0.022659302, -0.011352539, 0.0025577545, -0.046173096, -0.011375427, 0.0043907166, 0.0048980713, 0.0234375, 0.028213501, -0.0056762695, 0.00699234, 0.045806885, -0.03326416, 0.0025081635, 0.05215454, -0.0056533813, 0.023101807, -0.008102417, 0.0040245056, -0.0011129379, -0.031829834, 0.03845215, -0.010116577, -0.023757935, -0.006214142, -0.0054016113, -0.014732361, 0.014564514, -0.054901123, -0.021621704, -0.015579224, 0.03338623, 0.012054443, 0.04144287, 0.031082153, 0.026519775, 0.054351807, -0.0027332306, 0.024780273, -0.0025119781, -0.013465881, -0.12036133, -0.0018949509, 0.035461426, 0.05328369, 0.056884766, -0.039794922, -0.115112305, 0.023773193, -0.014335632, -0.0073928833, -0.02746582, 0.01727295, -0.021133423, 0.016479492, -0.01979065, -0.040496826, -0.0069618225, -0.026245117, -0.0107803345, 0.049438477, -0.009918213, -0.046936035, 0.015350342, -0.05126953, -0.01008606, 0.0034008026, -0.02810669, 0.04727173, 0.019378662, 0.021240234, -0.06060791, -0.02029419, -0.014312744, -4.0352345e-05, 0.00042009354, 0.009712219, -0.029327393, -0.011360168, -0.0037708282, 0.04083252, 0.03086853, -0.025314331, 0.0029964447, -0.0680542, -0.08154297, -0.008369446, -0.09631348, -0.06390381, 0.009185791, 0.014411926, 0.0066986084, 0.007106781, -0.010314941, -0.02822876, 0.060913086, -0.00058603287, -0.024490356, 0.019317627, 0.012245178, 0.0031604767, -0.023635864, 0.018341064, -0.023101807, 0.011695862, 0.105529785, 0.031234741, -0.0038013458, -0.019088745, -0.0093688965, 0.037231445, -0.019332886, 0.048675537, 0.012062073, 0.0072631836, -0.0068359375, 0.011482239, -0.0105896, -0.01689148, 0.031677246, 0.0016994476, 0.031951904, 0.0057296753, 0.006374359, 0.049194336, 0.045928955, 0.05154419, -0.040222168, 0.025726318, -0.06323242, -0.015731812, -0.0031356812, -0.022750854, -0.03466797, 0.046905518, -6.592274e-05, -0.004470825, 0.07720947, 0.029037476, 0.033935547, -0.07330322, -0.011070251, 0.006603241, -0.008934021, -0.027618408, -0.00831604, -0.0256958, 0.007850647, 0.009597778, 0.014564514, 0.02166748, 0.0005340576, -0.015327454, -0.008399963, 0.02720642, -0.03805542, 0.019439697, 0.01259613, 0.033477783, 0.01576233, 0.032440186, -0.02658081, -0.059020996, -0.039489746, 0.014350891, -0.029785156, 0.043945312, -0.034088135, 0.05166626, 0.036499023, 0.054351807, 0.061309814, -0.030258179, 0.04135132, 0.035491943, 0.009841919, 0.059906006, 0.029434204, 0.015235901, 0.035369873, -0.03994751, -0.008117676, 0.021453857, 0.025817871, 0.0473938, 0.00034570694, 0.078308105, 0.011917114, -0.048828125, -0.034729004, 0.014389038, 0.09741211, 0.0541687, -0.038970947, 0.0041999817, 0.020736694, 0.028121948, 0.010536194, -0.03112793, 0.010375977, -0.008773804, 0.014205933, 0.039978027, -0.004196167, -0.009994507, 0.010765076, -0.0067100525, 0.05810547, -0.01637268, -0.022399902, 0.007583618, -0.00038146973, 0.006362915, -0.01058197, -0.01852417, -0.00083351135, 0.010231018, 0.004299164, -0.014228821, 0.018447876, -0.0064201355, 0.064941406, -0.012924194, 0.049804688, -0.015930176, 0.01979065, 0.043548584, -0.019729614, -0.0011501312, 0.00472641, -0.012779236, 0.031677246, -0.005012512, 0.0033893585, -0.022201538, 0.029632568, -0.0073890686, -0.015098572, 0.049072266, 0.06298828, -0.003414154, -0.014328003, 0.028137207, -0.03540039, -0.003921509, -0.04949951, -0.0020427704, -0.015487671, 0.045410156, -0.0042533875, 0.01864624, 0.060546875, 0.06402588, -0.017608643, -0.02911377, -0.019744873, -0.052093506, -0.0026626587, -0.0211792, 0.005973816, 0.013122559, -0.023086548, 0.0028820038, 0.028930664, -0.036010742, 0.014205933, 0.010215759, -0.0046539307, 0.004383087, 0.0008687973, 0.05065918, -0.010765076, 0.0032081604, -0.022064209, -0.04333496, 0.019119263, -0.029449463, -0.046783447, 0.032928467, -0.07165527, -0.03161621, -0.027572632, -0.011444092, -0.015449524, 0.042541504, -0.006855011, 0.0054512024, -0.0418396, 0.003332138, 0.0037937164, -0.011741638, 0.020980835, 0.0036697388, -0.027786255, 0.015029907, 0.0037956238, -0.0017242432, -0.010215759, 0.06665039, -0.009887695, 0.025939941, -0.056274414, 0.005050659, -0.049804688, 0.0039100647, 0.00554657, 0.015609741, 0.022003174, -0.011917114, 0.03744507, 0.003156662, -0.0018482208, 0.021453857]]\n"
     ]
    }
   ],
   "source": [
    "# testing\n",
    "test_text = chunk_data[0]['content']\n",
    "test_embeddings = embedding_model.embed_documents([test_text])\n",
    "print(test_embeddings)"
   ]
  },
  {
   "cell_type": "code",
   "execution_count": 9,
   "metadata": {},
   "outputs": [
    {
     "name": "stdout",
     "output_type": "stream",
     "text": [
      "Embeddings: 2531\n"
     ]
    }
   ],
   "source": [
    "# CAUTION: long (and expensive) task to generate embedding for all chunks on AWS Bedrock.\n",
    "texts = [chunk[\"content\"] for chunk in chunk_data] \n",
    "embeddings = embedding_model.embed_documents(texts)\n",
    "\n",
    "print(\"Embeddings:\", len(embeddings))"
   ]
  },
  {
   "cell_type": "markdown",
   "metadata": {},
   "source": [
    "#### Insert data into pinecone vector database"
   ]
  },
  {
   "cell_type": "code",
   "execution_count": 27,
   "metadata": {},
   "outputs": [
    {
     "data": {
      "text/plain": [
       "{}"
      ]
     },
     "execution_count": 27,
     "metadata": {},
     "output_type": "execute_result"
    }
   ],
   "source": [
    "# clean the database\n",
    "pc_index.delete(deleteAll=\"true\") "
   ]
  },
  {
   "cell_type": "code",
   "execution_count": 11,
   "metadata": {},
   "outputs": [],
   "source": [
    "# construct vector entries\n",
    "entries = []\n",
    "for idx, embedding in enumerate(embeddings):\n",
    "    entries.append({\"id\": chunk_data[idx]['id'], \n",
    "                    \"values\": embedding, \n",
    "                    \"metadata\": chunk_data[idx]['metadata']})"
   ]
  },
  {
   "cell_type": "code",
   "execution_count": 18,
   "metadata": {},
   "outputs": [
    {
     "name": "stdout",
     "output_type": "stream",
     "text": [
      "Entries: 2531\n",
      "Sample metadata: {'text': 'F2021L01119 0', 'doc_id': 'F2021L01119', 'chunk_index': 0}\n",
      "Sample metadata: {'text': 'F2021L01119 1', 'doc_id': 'F2021L01119', 'chunk_index': 1}\n"
     ]
    }
   ],
   "source": [
    "print(\"Entries:\", len(entries))\n",
    "print(\"Sample metadata:\", entries[0]['metadata'])\n",
    "print(\"Sample metadata:\", entries[1]['metadata'])"
   ]
  },
  {
   "cell_type": "code",
   "execution_count": 30,
   "metadata": {},
   "outputs": [
    {
     "name": "stdout",
     "output_type": "stream",
     "text": [
      "12 batches of 200 embeddings\n",
      "inserting  0 to 200\n",
      "inserting  200 to 400\n",
      "inserting  400 to 600\n",
      "inserting  600 to 800\n",
      "inserting  800 to 1000\n",
      "inserting  1000 to 1200\n",
      "inserting  1200 to 1400\n",
      "inserting  1400 to 1600\n",
      "inserting  1600 to 1800\n",
      "inserting  1800 to 2000\n",
      "inserting  2000 to 2200\n",
      "inserting  2400 to 2531\n"
     ]
    }
   ],
   "source": [
    "# upsert in batches due to size limit in Pinecone\n",
    "batch_size = 200\n",
    "batches = int(len(embeddings)/batch_size)\n",
    "print(batches, \"batches of\", batch_size, \"embeddings\")\n",
    "\n",
    "for b in range(batches):\n",
    "    start = (b) * batch_size\n",
    "    end = (b + 1) * batch_size\n",
    "    \n",
    "    if b == batches - 1: # the last batch\n",
    "        start = end\n",
    "        end = len(embeddings)\n",
    "    \n",
    "    print(\"inserting \", start, \"to\", end)\n",
    "    pc_index.upsert(entries[start:end])"
   ]
  },
  {
   "cell_type": "code",
   "execution_count": 33,
   "metadata": {},
   "outputs": [
    {
     "data": {
      "text/plain": [
       "{'dimension': 1024,\n",
       " 'index_fullness': 0.0,\n",
       " 'namespaces': {'': {'vector_count': 2331}},\n",
       " 'total_vector_count': 2331}"
      ]
     },
     "execution_count": 33,
     "metadata": {},
     "output_type": "execute_result"
    }
   ],
   "source": [
    "# Vector store complete\n",
    "pc_index.describe_index_stats()"
   ]
  },
  {
   "cell_type": "markdown",
   "metadata": {},
   "source": [
    "## QA query and answering"
   ]
  },
  {
   "cell_type": "markdown",
   "metadata": {},
   "source": [
    "### Set up vector db connection and LLM"
   ]
  },
  {
   "cell_type": "code",
   "execution_count": 55,
   "metadata": {},
   "outputs": [],
   "source": [
    "from langchain.indexes.vectorstore import VectorStoreIndexWrapper\n",
    "from langchain.vectorstores import Pinecone\n",
    "from langchain_openai import OpenAI\n",
    "from IPython.display import Markdown, display\n",
    "\n",
    "# Fetch index to vector database\n",
    "vectorstore_pinecone = Pinecone.from_existing_index(\n",
    "    embedding=embedding_model,\n",
    "    index_name = index_name\n",
    ")\n",
    "\n",
    "# Retriever to the vector db \n",
    "# Each document averages about 2531 / 91 38.8 chunks. Set top k to 60 to get enough context\n",
    "retriever=vectorstore_pinecone.as_retriever(search_type=\"similarity\", search_kwargs={\"k\": 60})\n",
    "vector_index = VectorStoreIndexWrapper(vectorstore=vectorstore_pinecone)\n",
    "\n",
    "# Decoder LLM for answer generation. Temperature set to 0 for consistent answer\n",
    "llm = OpenAI(openai_api_key=os.getenv('OPENAI_API_KEY'), temperature=0.0, max_tokens=400)\n"
   ]
  },
  {
   "cell_type": "code",
   "execution_count": 73,
   "metadata": {},
   "outputs": [],
   "source": [
    "test_query = \"What is the quality control on International Banking Statistics Balance Sheet Items\""
   ]
  },
  {
   "cell_type": "markdown",
   "metadata": {},
   "source": [
    "### Pinecone query and retrieval "
   ]
  },
  {
   "cell_type": "code",
   "execution_count": 74,
   "metadata": {},
   "outputs": [
    {
     "name": "stdout",
     "output_type": "stream",
     "text": [
      "* [Similarity=0.522018] F2023L00410 16 [{'chunk_index': 16.0, 'doc_id': 'F2023L00410'}]\n",
      "* [Similarity=0.473942] F2018L01116 16 [{'chunk_index': 16.0, 'doc_id': 'F2018L01116'}]\n",
      "* [Similarity=0.469355] F2021L01470 12 [{'chunk_index': 12.0, 'doc_id': 'F2021L01470'}]\n",
      "* [Similarity=0.462184] F2023L00417 29 [{'chunk_index': 29.0, 'doc_id': 'F2023L00417'}]\n",
      "* [Similarity=0.462184] F2023L00417 17 [{'chunk_index': 17.0, 'doc_id': 'F2023L00417'}]\n"
     ]
    }
   ],
   "source": [
    "results = vectorstore_pinecone.similarity_search_with_score(query=test_query,k=60)\n",
    "for doc, score in results[:5]: # peeking at 5 of the chunks retrieved\n",
    "    print(f\"* [Similarity={score:3f}] {doc.page_content} [{doc.metadata}]\")"
   ]
  },
  {
   "cell_type": "code",
   "execution_count": 90,
   "metadata": {},
   "outputs": [
    {
     "data": {
      "text/markdown": [
       "<b>Top chunk content:</b><br>Financial Sector (Collection of Data) (reporting standard) determination No. 56 of 2023 \n",
       "\n",
       "Reporting Standard ARS 223.0 Residential Mortgage Lending\n",
       "\n",
       "Financial Sector (Collection of Data) Act 2001\n",
       "\n",
       "I, Michael Murphy, delegate of APRA, under paragraph 13(1)(a) of the Financial Sector (Collection of Data) Act 2001 (the Act) and subsection 33(3) of the Acts Interpretation Act 1901:\n",
       "\n",
       "revoke Financial Sector (Collection of Data) (reporting standard) determination No. 11 of 2022, including -\tReporting Standard ARS 223.0 Residential Mortgage Lending made under that Determination; and\n",
       "\n",
       "determine Reporting Standard ARS 223.0 Residential Mortgage Lending, in the form set out in the Schedule, which applies to the financial sector entities to the extent provided in paragraph 3 of the reporting standard.\n",
       "\n",
       "Under section 15 of the Act, I declare that the reporting standard shall begin to apply to those financial sector entities, and the revoked reporting standard shall cease to apply, on the day it is registered on the Federal Register of Legislation. \n",
       "\n",
       "This instrument commences upon registration on the Federal Register of Legislation.\n",
       "\n",
       "Dated: 31 March 2023\n",
       "\n",
       "Michael Murphy\n",
       "\n",
       "Acting Chief Data Officer\n",
       "\n",
       "Technology and Data Division\n",
       "\n",
       "Interpretation\n",
       "\n",
       "In this Determination:\n",
       "\n",
       "APRA means the Australian Prudential Regulation Authority.\n",
       "\n",
       "\n",
       "\n",
       "Federal Register of Legislation means the register established under section 15A of the Legislation Act 2003.\n",
       "\n",
       "financial sector entity has the meaning given by section 5 of the Act. \n",
       "\n",
       "Schedule \n",
       "\n",
       "Reporting Standard ARS 223.0 Residential Mortgage Lending comprises the document commencing on the following page.\n",
       "\n",
       "March 2023\n",
       "\n",
       "\n",
       "\n",
       "Reporting Standard ARS 223.0\n",
       "\n",
       "Residential Mortgage Lending\n",
       "\n",
       "Objective of this Reporting Standard\n",
       "\n",
       "This reporting standard outlines the requirements for the provision of information to APRA relating to an authorised deposit-taking institution’s residential mortgage lending.\n",
       "\n",
       "It includes Reporting Form ARF 223.0 Residential Mortgage Lending and the associated specific instructions."
      ],
      "text/plain": [
       "<IPython.core.display.Markdown object>"
      ]
     },
     "metadata": {},
     "output_type": "display_data"
    }
   ],
   "source": [
    "# examining top 1 retrieval chunk\n",
    "top_doc, _ = results[0]\n",
    "top_doc_id = top_doc.metadata['doc_id']\n",
    "top_doc_content = \"\"\n",
    "\n",
    "for chunk in chunk_data: \n",
    "    if chunk['metadata']['doc_id'] == top_doc_id:\n",
    "        top_doc_content = chunk['content']\n",
    "        break\n",
    "    \n",
    "\n",
    "display(Markdown(\"<b>Top chunk content:</b><br>\" + top_doc_content))\n",
    "    "
   ]
  },
  {
   "cell_type": "markdown",
   "metadata": {},
   "source": [
    "### QA prompt engineering with Pinecone vector store"
   ]
  },
  {
   "cell_type": "code",
   "execution_count": 76,
   "metadata": {},
   "outputs": [],
   "source": [
    "from langchain.chains import RetrievalQA\n",
    "from langchain.prompts import PromptTemplate\n",
    "\n",
    "prompt_template = \"\"\"\n",
    "You are an Australia APRA expert on regulations providing answers to customers.\n",
    "Give clear responses to the following question: \n",
    "{question}. \n",
    "Do not make up answers.\n",
    "\n",
    "{context}\n",
    "\n",
    "Question: {question}\n",
    "Answer:\"\"\"\n",
    "\n",
    "prompt = PromptTemplate(\n",
    "    template=prompt_template, input_variables=[\"context\", \"question\"]\n",
    ")\n",
    "\n",
    "qa = RetrievalQA.from_chain_type(\n",
    "    llm=llm,\n",
    "    chain_type=\"stuff\",\n",
    "    retriever=retriever,\n",
    "    return_source_documents=True,\n",
    "    chain_type_kwargs={\"prompt\": prompt}\n",
    ")\n",
    "\n",
    "test_answer = qa({\"query\": test_query})"
   ]
  },
  {
   "cell_type": "code",
   "execution_count": 87,
   "metadata": {},
   "outputs": [
    {
     "data": {
      "text/markdown": [
       "<b>Question:</b>What is the quality control on International Banking Statistics Balance Sheet Items"
      ],
      "text/plain": [
       "<IPython.core.display.Markdown object>"
      ]
     },
     "metadata": {},
     "output_type": "display_data"
    },
    {
     "data": {
      "text/markdown": [
       "<b>Answer (Vectorstore):</b> The quality control on International Banking Statistics Balance Sheet Items is overseen by the Australian Prudential Regulation Authority (APRA). APRA sets and enforces prudential standards and requirements for banks and other financial institutions in Australia, including those related to the reporting and accuracy of balance sheet items. APRA conducts regular reviews and audits to ensure compliance with these standards and to identify any potential issues or discrepancies. Additionally, APRA works closely with other international regulatory bodies to ensure consistency and accuracy in reporting across borders."
      ],
      "text/plain": [
       "<IPython.core.display.Markdown object>"
      ]
     },
     "metadata": {},
     "output_type": "display_data"
    }
   ],
   "source": [
    "# display the results\n",
    "display(Markdown(\"<b>Question:</b>\" + test_query))\n",
    "display(Markdown(\"<b>Answer (Vectorstore):</b>\" + test_answer['result']))"
   ]
  },
  {
   "cell_type": "markdown",
   "metadata": {},
   "source": [
    "## Compare answer to general promot without vector store"
   ]
  },
  {
   "cell_type": "code",
   "execution_count": 86,
   "metadata": {},
   "outputs": [
    {
     "data": {
      "text/markdown": [
       "<b>Question:</b>What is the quality control on International Banking Statistics Balance Sheet Items"
      ],
      "text/plain": [
       "<IPython.core.display.Markdown object>"
      ]
     },
     "metadata": {},
     "output_type": "display_data"
    },
    {
     "data": {
      "text/markdown": [
       "<b>Answer (Vectorstore)</b>: The quality control on International Banking Statistics Balance Sheet Items is overseen by the Australian Prudential Regulation Authority (APRA). APRA sets and enforces prudential standards and requirements for banks and other financial institutions in Australia, including those related to the reporting and accuracy of balance sheet items. APRA conducts regular reviews and audits to ensure compliance with these standards and to identify any potential issues or discrepancies. Additionally, APRA works closely with other international regulatory bodies to ensure consistency and accuracy in reporting across borders."
      ],
      "text/plain": [
       "<IPython.core.display.Markdown object>"
      ]
     },
     "metadata": {},
     "output_type": "display_data"
    },
    {
     "data": {
      "text/markdown": [
       "<b>Answer (OpenAI):</b> The quality control on International Banking Statistics Balance Sheet Items is overseen by the Bank for International Settlements (BIS). The BIS has established a set of guidelines and standards for reporting and compiling these statistics, which are regularly reviewed and updated. Additionally, national central banks and supervisory authorities also have their own quality control measures in place to ensure accuracy and consistency in reporting."
      ],
      "text/plain": [
       "<IPython.core.display.Markdown object>"
      ]
     },
     "metadata": {},
     "output_type": "display_data"
    }
   ],
   "source": [
    "\n",
    "prompt = PromptTemplate.from_template(template=prompt_template)\n",
    "\n",
    "# format the prompt to add variable values\n",
    "prompt_formatted_str: str = prompt.format(\n",
    "    question=test_query,\n",
    "    context=None)\n",
    "\n",
    "# make a prediction\n",
    "prediction = llm.predict(prompt_formatted_str)\n",
    "\n",
    "display(Markdown(\"<b>Question:</b>\" + test_query))\n",
    "display(Markdown(\"<b>Answer (Vectorstore)</b>:\" + test_answer['result']))\n",
    "display(Markdown(\"<b>Answer (OpenAI):</b>\" + prediction))"
   ]
  }
 ],
 "metadata": {
  "kernelspec": {
   "display_name": "base",
   "language": "python",
   "name": "python3"
  },
  "language_info": {
   "codemirror_mode": {
    "name": "ipython",
    "version": 3
   },
   "file_extension": ".py",
   "mimetype": "text/x-python",
   "name": "python",
   "nbconvert_exporter": "python",
   "pygments_lexer": "ipython3",
   "version": "3.9.13"
  }
 },
 "nbformat": 4,
 "nbformat_minor": 2
}
