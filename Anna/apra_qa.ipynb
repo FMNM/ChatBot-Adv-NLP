{
 "cells": [
  {
   "cell_type": "markdown",
   "metadata": {},
   "source": [
    "# Chatbot QA for APRA regulatory data\n",
    "The aim of the QA chat is to experiment various techniques for accuracy in answering questions from a private corpus of data. The pipeline starts with reading the documents from the dataset in docx file format located in ./dataset/word_standards. The document data is then divided into smaller chunks for embedding. The embeddings are then stored into the Pinecone vectord database hosted on the cloud. The document embeddings are generated using Cohere from Bedrock. For answer generation, OoenAI is used.\n",
    "\n",
    "![Design architecture](architecture.png)\n",
    "\n",
    "## Techniques of embedding\n",
    "The documents are divided into smaller chunks due to resource limitation of the current technology standards. Accuracy is important when it comes to regulations. So the balance of embedding size or number of chunks is considered with the balance of accuracy, retrieval latency and compute resources with the number of documents provided.\n",
    "\n",
    "### Preserve relevant context\n",
    "When documents are divided into chunks, it also loses context. And context is very important in retrieval. To preserve relevancy, chunking for each document has the longest charactor length and overlapping. \n",
    "\n",
    "### Prevent context cross contamination\n",
    "To ensure precisision, preverving relevant context within the same document is important. Chunking is done by invidual document to prevent text overlapping with another documents, which will contain different regulation data. Cross contaminating data will lead to inaccuracy.\n",
    "\n",
    "## AWS Bedrock \n",
    "Cohere is used for dense vector embedding on all the documents before storing into the vector database. Claude is used for generation. Usuing AWS Bedrock provides the performance and flexibility to change foundation models.\n",
    "\n",
    "## Vector store\n",
    "Pinecone is a cloud based vector store. The embeddings generated from the documents are stored as one-off tasks. This embedding is later retrieved to generate answers based on queries. Cloud vector database provides the performance when it comes go vector search. Cloud service is used for scalability and performance.\n",
    "\n",
    "## Retrieval and generation\n",
    "Based on a query, search on vectors is performed using cosine similarity between query and database vectors. OpenAI is used for prompting and answer generation based on retrievals from Pinecone vector store.\n",
    "\n",
    "## SET UP\n",
    "Before running this file, please run <code>pip install -r requirements.txt</code>. To use various cloude services, following accounts need to be set up to obtain access keys. The following keys are needed in the .env file locatedin the same directory as this notebook.\n",
    "\n",
    "<code>\n",
    "PINECONE_ENV=</br>\n",
    "PINECONE_INDEX_NAME=</br>\n",
    "PINECONE_INDEX_HOST=</br>\n",
    "ANTHROPIC_API_KEY=</br>\n",
    "OPENAI_API_KEY=</br>\n",
    "BEDROCK_REGION=</br>\n",
    "AWS_ACCESS_KEY_ID=</br>\n",
    "AWS_SECRET_ACCESS_KEY=</br>\n",
    "</code>\n",
    "\n"
   ]
  },
  {
   "cell_type": "markdown",
   "metadata": {},
   "source": [
    "## Load environment variables"
   ]
  },
  {
   "cell_type": "code",
   "execution_count": 1,
   "metadata": {},
   "outputs": [
    {
     "data": {
      "text/plain": [
       "True"
      ]
     },
     "execution_count": 1,
     "metadata": {},
     "output_type": "execute_result"
    }
   ],
   "source": [
    "import os\n",
    "from dotenv import load_dotenv\n",
    "load_dotenv()"
   ]
  },
  {
   "cell_type": "markdown",
   "metadata": {},
   "source": [
    "## Data preprocessing"
   ]
  },
  {
   "cell_type": "markdown",
   "metadata": {},
   "source": [
    "#### NLTK for tagging"
   ]
  },
  {
   "cell_type": "code",
   "execution_count": 45,
   "metadata": {},
   "outputs": [
    {
     "name": "stdout",
     "output_type": "stream",
     "text": [
      "/Users/jasper/nltk_data/taggers/averaged_perceptron_tagger\n",
      "/Users/jasper/nltk_data/taggers/averaged_perceptron_tagger\n",
      "/Users/jasper/nltk_data/taggers/averaged_perceptron_tagger_eng\n"
     ]
    },
    {
     "name": "stderr",
     "output_type": "stream",
     "text": [
      "[nltk_data] Downloading package averaged_perceptron_tagger to\n",
      "[nltk_data]     ./nltk_data...\n",
      "[nltk_data]   Package averaged_perceptron_tagger is already up-to-\n",
      "[nltk_data]       date!\n",
      "[nltk_data] Downloading package averaged_perceptron_tagger_eng to\n",
      "[nltk_data]     ./nltk_data...\n",
      "[nltk_data]   Package averaged_perceptron_tagger_eng is already up-to-\n",
      "[nltk_data]       date!\n",
      "[nltk_data] Downloading package punkt_tab to\n",
      "[nltk_data]     /Users/jasper/nltk_data...\n",
      "[nltk_data]   Package punkt_tab is already up-to-date!\n"
     ]
    }
   ],
   "source": [
    "import nltk\n",
    "print(nltk.data.find('taggers/averaged_perceptron_tagger'))\n",
    "\n",
    "nltk_data_path = './nltk_data'\n",
    "nltk.data.path.append(nltk_data_path)\n",
    "nltk.download('averaged_perceptron_tagger', download_dir=nltk_data_path)\n",
    "nltk.download('averaged_perceptron_tagger_eng', download_dir=nltk_data_path)\n",
    "nltk.download('punkt_tab')\n",
    "\n",
    "print(nltk.data.find('taggers/averaged_perceptron_tagger'))\n",
    "print(nltk.data.find('taggers/averaged_perceptron_tagger_eng'))"
   ]
  },
  {
   "cell_type": "markdown",
   "metadata": {},
   "source": [
    "#### Langchain framework for handling data preprocessing and retrieval"
   ]
  },
  {
   "cell_type": "code",
   "execution_count": 46,
   "metadata": {},
   "outputs": [
    {
     "name": "stdout",
     "output_type": "stream",
     "text": [
      "documents: 91\n"
     ]
    }
   ],
   "source": [
    "from langchain.document_loaders import DirectoryLoader\n",
    "\n",
    "doc_loader = DirectoryLoader('./dataset/word_standards/', glob=\"*.docx\")\n",
    "apra_docs = doc_loader.load()\n",
    "\n",
    "print(\"documents:\", len(apra_docs))"
   ]
  },
  {
   "cell_type": "code",
   "execution_count": 47,
   "metadata": {},
   "outputs": [],
   "source": [
    "\n",
    "def get_file_id(doc):\n",
    "    file_path = doc.metadata['source']\n",
    "    id = os.path.splitext(os.path.basename(file_path))[0]\n",
    "    \n",
    "    return id\n",
    "\n",
    "import uuid\n",
    "def chunk_doc(doc, text_splitter):\n",
    "    chunk_data = []\n",
    "    chunks = text_splitter.split_text(doc.page_content)  # Accessing the text of the document\n",
    "    for idx, chunk in enumerate(chunks):\n",
    "        doc_id = get_file_id(doc)\n",
    "        data = {'id':  str(uuid.uuid4()), \n",
    "                'metadata': {'text':doc_id + \" \" + str(idx), \n",
    "                             'doc_id': doc_id, \n",
    "                             'chunk_index': idx}, \n",
    "                'content': chunk}     \n",
    "        chunk_data.append(data)\n",
    "    \n",
    "    return chunk_data\n",
    "    "
   ]
  },
  {
   "cell_type": "code",
   "execution_count": 48,
   "metadata": {},
   "outputs": [
    {
     "name": "stdout",
     "output_type": "stream",
     "text": [
      "Documents: 91\n",
      "Chunks: 2531\n",
      "example {'id': 'afe5f1df-4e94-42bb-8524-b2d2df9c03dc', 'metadata': {'text': 'F2021L01119 0', 'doc_id': 'F2021L01119', 'chunk_index': 0}, 'content': 'Financial Sector (Collection of Data) (reporting standard) determination No. 28 of 2021 \\n\\nReporting Standard ARS 720.3 ABS/RBA Intra-group Assets and Liabilities\\n\\nFinancial Sector (Collection of Data) Act 2001\\n\\nI, Alison Bliss, delegate of APRA, under paragraph 13(1)(a) of the Financial Sector (Collection of Data) Act 2001 (the Act) and subsection 33(3) of the Acts Interpretation Act 1901:\\n\\nrevoke Financial Sector (Collection of Data) (reporting standard) determination No. 5 of 2019, including Reporting Standard ARS 720.3 ABS/RBA Intra-group Assets and Liabilities made under that Determination; and\\n\\ndetermine Reporting Standard ARS 720.3 ABS/RBA Intra-group Assets and Liabilities, in the form set out in the Schedule, which applies to the financial sector entities to the extent provided in paragraph 4 of the reporting standard.\\n\\nUnder section 15 of the Act, I declare that the reporting standard shall begin to apply to those financial sector entities, and the revoked reporting standard shall cease to apply, on the day it is registered on the Federal Register of Legislation. \\n\\nThis instrument commences upon registration on the Federal Register of Legislation.\\n\\nDated: 30 July 2021\\n\\n[Signed]\\n\\nAlison Bliss\\n\\nGeneral Manager\\n\\nData Analytics & Insights Division\\n\\nInterpretation\\n\\nIn this Determination:\\n\\nAPRA means the Australian Prudential Regulation Authority.\\n\\nfinancial sector entity has the meaning given by section 5 of the Act. \\n\\nSchedule \\n\\nReporting Standard ARS 720.3 ABS/RBA Intra-group Assets and Liabilities comprises the document commencing on the following page.\\n\\nJuly 2021\\n\\nReporting Standard ARS 720.3\\n\\nABS/RBA Intra-group Assets and Liabilities\\n\\nObjective of this Reporting Standard\\n\\nThis Reporting Standard outlines the requirements for the provision of information to APRA relating to an authorised deposit-taking institution’s or registered financial corporation’s intra-group assets and liabilities.'}\n"
     ]
    }
   ],
   "source": [
    "from langchain.text_splitter import RecursiveCharacterTextSplitter\n",
    "\n",
    "text_splitter = RecursiveCharacterTextSplitter(chunk_size=2048, chunk_overlap=400)\n",
    "chunk_data = [] # [{content:, metadata{doc_id:, part_index:}}]\n",
    "\n",
    "# chuck each document individually to prevent regulation data overlap that can give the wrong answer\n",
    "for doc in apra_docs:\n",
    "    doc_chunks = chunk_doc(doc, text_splitter)\n",
    "    chunk_data.extend(doc_chunks)\n",
    "    \n",
    "print(\"Documents:\", len(apra_docs))\n",
    "print(\"Chunks:\", len(chunk_data))\n",
    "print(\"example\", chunk_data[0])"
   ]
  },
  {
   "cell_type": "markdown",
   "metadata": {},
   "source": [
    "## Vector store"
   ]
  },
  {
   "cell_type": "markdown",
   "metadata": {},
   "source": [
    "#### Initialise Pinecone vector database"
   ]
  },
  {
   "cell_type": "code",
   "execution_count": 28,
   "metadata": {},
   "outputs": [
    {
     "name": "stdout",
     "output_type": "stream",
     "text": [
      "Index: <pinecone.data.index.Index object at 0x7f8b182a6a30>\n"
     ]
    }
   ],
   "source": [
    "from pinecone import Pinecone, ServerlessSpec\n",
    "\n",
    "# Fetch Pinecone index created from on the server\n",
    "index_name = os.getenv(\"PINECONE_INDEX_NAME\")\n",
    "pc = Pinecone(api_key=os.getenv(\"PINECONE_API_KEY\"))\n",
    "pc_index = pc.Index(index_name, host=os.getenv(\"PINECONE_INDEX_HOST\"))\n",
    "\n",
    "print(\"Index:\", pc_index)\n",
    "\n",
    "# # NOT NEEDED: Index created on the server website\n",
    "# if index_name not in pc_indexes:\n",
    "#     # dimensions are for cohere.embed-english-v3\n",
    "#     pc.create_index(\n",
    "#         name=index_name,\n",
    "#         dimension=2048, # Replace with your model dimensions\n",
    "#         metric=\"cosine\", # Replace with your model metric\n",
    "#         spec=ServerlessSpec(\n",
    "#             cloud=\"aws\",\n",
    "#             region=\"us-east-1\" # Virgia region (starter plan)\n",
    "#         ) \n",
    "#     )"
   ]
  },
  {
   "cell_type": "markdown",
   "metadata": {},
   "source": [
    "#### Generate embdding from AWS Bedrock foundation model Cohere"
   ]
  },
  {
   "cell_type": "code",
   "execution_count": 7,
   "metadata": {},
   "outputs": [],
   "source": [
    "import boto3\n",
    "from langchain_community.embeddings import BedrockEmbeddings\n",
    "\n",
    "# Load embedding LLM\n",
    "bedrock_client = boto3.client(\"bedrock-runtime\",\n",
    "                              region_name=os.getenv(\"BEDROCK_REGION\"),\n",
    "                              aws_access_key_id=os.getenv(\"AWS_ACCESS_KEY_ID\"),\n",
    "                              aws_secret_access_key=os.getenv(\"AWS_SECRET_ACCESS_KEY\"))\n",
    "\n",
    "embedding_model = BedrockEmbeddings(model_id=\"cohere.embed-english-v3\", client=bedrock_client)"
   ]
  },
  {
   "cell_type": "code",
   "execution_count": 8,
   "metadata": {},
   "outputs": [
    {
     "name": "stdout",
     "output_type": "stream",
     "text": [
      "[[-0.037628174, -0.005771637, -0.107299805, -0.03527832, 0.008735657, -0.017974854, -0.021224976, 0.05404663, 0.044189453, 0.015594482, -0.08795166, 0.0017461777, -0.0096206665, 0.0077705383, -0.02809143, -0.05053711, 0.009849548, 0.007156372, 0.031433105, -2.6166439e-05, -0.018600464, 0.01626587, 0.013244629, -0.025527954, 0.030471802, -0.015853882, 0.026779175, 0.058563232, 0.0107040405, 0.012519836, 0.011314392, -0.034362793, 0.017715454, 0.01600647, 0.024032593, 0.04385376, 0.0025577545, 0.0073051453, 0.0209198, 0.03366089, 0.03704834, -0.038238525, 0.057891846, -0.049865723, 0.010894775, 0.035095215, 0.028381348, -0.0309906, 0.025817871, 0.04043579, -0.022460938, 0.024536133, -0.04437256, 0.099609375, -0.021987915, -0.024017334, -0.022628784, -0.011306763, 0.025268555, 0.044921875, 0.0017080307, -0.0032196045, 0.01222229, -0.028121948, -0.05316162, -0.004310608, 0.041809082, -0.0044288635, 0.054016113, -0.03945923, -0.023910522, 0.06329346, 0.0031757355, -0.015487671, -0.02104187, 0.01663208, -0.0040016174, -0.0051956177, 0.008094788, 0.003112793, 0.013824463, -0.010108948, -0.008407593, 0.0007786751, 0.03463745, 0.04156494, -0.008865356, -0.027694702, 0.019195557, -0.012931824, 0.013587952, 0.005470276, 0.021820068, 0.013504028, -0.017684937, -0.023361206, -0.030273438, 0.014045715, -0.023147583, -0.0077285767, -0.035858154, 0.018615723, -0.06311035, -0.008995056, -0.010444641, 0.05316162, -0.0066719055, -0.06652832, -0.015808105, 0.014129639, -0.027069092, -0.045562744, 0.00844574, -0.0030136108, -0.060791016, 0.028320312, 0.02458191, -0.07043457, -0.007873535, -0.010437012, 0.019683838, 0.06048584, -0.059783936, 0.015792847, -0.036590576, -0.009796143, 0.026779175, -0.027023315, 0.02470398, 0.038269043, -0.015625, -0.02458191, -0.036621094, 0.018005371, 0.007411957, -0.014373779, -0.020187378, 0.01914978, 0.013465881, 0.008476257, 0.05819702, -0.07757568, -0.041229248, 0.07043457, -0.00077581406, 0.012825012, 0.00037693977, 0.011650085, 0.020507812, -0.033966064, 0.0143966675, -0.043548584, 0.05166626, -0.004119873, -0.07678223, 0.00080633163, -0.015640259, -0.009185791, -0.037994385, -0.028915405, 0.052459717, 0.0057258606, -0.02619934, 0.02305603, -2.5689602e-05, -0.014854431, 0.03237915, 0.016555786, 0.013648987, 0.023391724, -0.01309967, -0.017456055, -0.0034065247, -0.014007568, -0.0038223267, 0.010154724, -0.019515991, -0.0022506714, -0.011428833, 0.08099365, 0.041778564, -0.031982422, -0.011871338, 0.034088135, -0.013725281, -0.0385437, -0.01600647, -0.03213501, 0.060028076, 0.012367249, -0.022460938, -0.03164673, -0.0005879402, -0.039001465, 0.0076789856, -0.020339966, 0.034240723, 0.0035915375, 0.004989624, -0.01184082, 0.00655365, -0.011543274, -0.011802673, -0.00028395653, -0.033843994, -0.024337769, 0.00182724, 0.00083351135, -0.09515381, 0.00012421608, 0.061035156, 0.015403748, -0.036102295, 0.0069274902, 0.060180664, -0.008728027, -0.035736084, -0.0050315857, -0.011047363, 0.018066406, -0.06085205, 0.011711121, -0.05709839, -0.021972656, -0.0054969788, -0.010139465, 0.009552002, -0.012374878, 0.04840088, 0.010467529, 0.048461914, -0.014328003, 0.006565094, 0.019241333, -0.02986145, 0.0006456375, -0.01197052, -0.05218506, 0.0074539185, 0.04598999, 0.0066871643, 0.016326904, -0.024520874, 0.020050049, 0.04537964, 0.053527832, 0.034057617, -0.011047363, -0.022766113, 0.024673462, 0.0335083, 0.019515991, -0.008201599, 0.05596924, -0.020721436, 0.02217102, 0.007843018, -0.05834961, 0.037597656, -0.00724411, 0.00869751, -0.052856445, -0.05343628, -0.008270264, -0.01727295, 0.045715332, 0.044677734, 0.050354004, -0.009468079, 0.00944519, -0.005569458, 0.03173828, 0.0059547424, 0.025054932, 0.040039062, 0.0049934387, -0.03326416, -0.006664276, 0.0006284714, 0.010406494, 0.0023860931, 0.009765625, -0.016281128, -0.009277344, 0.016082764, -0.003019333, -0.0067749023, 0.002002716, -0.024017334, -0.021652222, 0.017730713, -0.021591187, -0.026016235, -0.002790451, -0.012161255, -0.039276123, -0.056732178, -0.010826111, 0.020645142, -0.04360962, 0.005268097, 0.06222534, -0.030441284, 0.03765869, -0.006008148, -0.04083252, -0.038513184, 0.04232788, -0.0063056946, -0.067871094, -0.021896362, 0.0335083, 0.0062713623, -0.03930664, 0.0026245117, -0.022872925, -0.04776001, -0.01411438, -0.040924072, 0.022888184, 0.013442993, -0.0032444, -0.05218506, 0.013671875, -0.014556885, 0.022644043, 0.004245758, -0.0158844, 0.0010576248, -0.013839722, -0.0158844, 0.006793976, -0.010818481, 0.0184021, 0.0030994415, -0.029922485, 0.0057296753, 0.0435791, -0.027114868, -0.06112671, -0.010826111, -0.061279297, -0.009124756, 0.011856079, -0.029632568, 0.007484436, -0.010322571, 0.021514893, 0.046661377, -0.012527466, -0.0075416565, -0.027038574, 0.003288269, 0.015342712, 0.040924072, -0.037963867, -0.04031372, 0.048675537, 0.019638062, -0.012145996, -0.015571594, 0.022476196, -0.048065186, -0.09741211, 0.02861023, 0.005847931, -0.030853271, -0.034851074, -0.042114258, -0.0073509216, 0.0357666, -0.027664185, -0.025054932, -0.035125732, -0.062408447, 0.009536743, 0.030548096, -0.016555786, -0.011360168, 0.011024475, 0.017562866, 0.018112183, -0.01914978, -0.008552551, -0.019226074, 0.01902771, 0.009422302, 0.05291748, -0.006187439, -0.03967285, 0.006164551, 0.074645996, -0.0028038025, -0.031555176, 0.026123047, 0.013221741, -0.015235901, 0.009735107, -0.013587952, -0.022277832, 0.07116699, -0.025848389, -0.0032215118, 0.011489868, 0.0035305023, 0.00046133995, 0.04727173, 0.01701355, 0.040618896, -0.013954163, 0.00045990944, 0.016616821, -0.012680054, 0.008583069, -0.028121948, -0.014701843, -0.013076782, 0.003314972, -0.017868042, -0.012367249, 0.03463745, -0.0066566467, 0.024002075, 0.015335083, -0.02355957, 0.026123047, -0.009262085, 0.017974854, 0.0011663437, 0.054016113, 0.0021018982, -0.006023407, -0.022506714, -0.04272461, 0.013702393, 0.010246277, -0.02532959, 0.015823364, -0.04156494, 0.010856628, -0.01676941, 0.015464783, 0.011787415, 0.019897461, -0.020767212, -0.0115356445, 0.021606445, -0.013252258, -0.019317627, 0.015914917, -0.034576416, 0.034301758, -0.021652222, 0.009101868, -0.014160156, -0.072631836, -0.026809692, 0.026748657, 0.0033512115, 0.022918701, 0.016479492, -0.018814087, 0.008903503, 0.010910034, 0.007587433, 0.0385437, -0.036132812, 0.022598267, 0.021270752, -0.040893555, 0.03366089, -0.0007238388, 0.009963989, -0.0006637573, -0.0023288727, 0.021209717, 0.0027885437, -0.04031372, 0.014251709, 0.01838684, 0.019607544, -0.0003578663, 0.08862305, -0.015853882, 0.020690918, 0.004722595, -0.050231934, -0.03845215, -0.013999939, -0.04333496, 0.0005764961, -0.011581421, 0.021530151, -0.047302246, -0.00932312, -0.022705078, 0.008285522, -0.0006136894, -0.026870728, -0.040283203, -0.018188477, -0.0068092346, -0.0049552917, 0.02381897, 0.0020370483, 0.018814087, 0.011505127, -0.022384644, -0.005367279, -0.0010843277, 0.028839111, -0.048065186, 0.037384033, -0.009353638, -0.00044107437, -0.046722412, 0.057373047, 0.0345459, -0.025466919, 0.00077056885, 0.009140015, 0.004901886, 0.044952393, 0.030319214, -0.008239746, 0.0044822693, 0.007965088, -0.007926941, -0.03012085, 0.0037765503, 0.0061683655, 0.05255127, -0.017669678, -0.047668457, 0.03237915, -0.042297363, -0.033050537, 0.04837036, 0.008529663, -0.03378296, -0.04031372, -0.003162384, 0.03869629, -0.014678955, 0.019485474, 0.02330017, -0.006877899, 0.010879517, -0.024261475, -0.008483887, -0.016326904, -0.006324768, 0.010917664, -0.010040283, -0.033569336, -0.0060806274, -0.0096206665, -0.0063705444, -0.0035800934, 0.054840088, -0.03579712, 0.014060974, -0.04006958, 0.004878998, -0.03149414, -0.0012683868, 0.0592041, 0.03994751, 0.011802673, -0.057678223, -0.0029411316, -0.029769897, 0.06439209, 0.031036377, 0.003583908, -0.027038574, 0.017074585, 0.009101868, 0.027770996, 0.0010538101, 0.03543091, 0.014877319, -0.0027217865, 0.02571106, -0.028686523, 0.020950317, -0.0035972595, 0.074401855, -0.0041046143, -0.0135650635, -0.007381439, -0.020462036, 0.02456665, -0.087524414, -0.0625, -0.013710022, -0.033935547, 0.019622803, -0.0103302, -0.0025634766, -0.036712646, 0.030395508, 0.008766174, -0.008796692, 0.03665161, 0.06384277, 0.0072135925, 0.030349731, 0.008903503, 0.048461914, 0.0045547485, -0.033325195, 0.017120361, 0.0010738373, 0.026184082, 0.002040863, -0.050079346, 0.04827881, 0.0065231323, -0.027023315, -0.027420044, -0.0034427643, -0.029174805, -0.05078125, 0.03643799, -0.027709961, -0.046203613, 0.022033691, -0.0020446777, -0.014549255, 0.014968872, -0.015151978, -0.0030918121, 0.008964539, 0.040374756, -0.055389404, 0.0149383545, -0.010307312, 0.020507812, 0.077941895, 0.01348114, -0.008415222, -0.0140686035, 0.005882263, 0.028060913, 0.003019333, 0.014343262, 0.010917664, -0.012191772, 0.016525269, 0.012207031, 0.00028586388, -0.0048561096, -0.058502197, 0.0033130646, -0.024765015, -0.030563354, 0.03970337, -0.012145996, 0.009338379, -0.038879395, 0.0033092499, 0.020629883, -0.02507019, -0.05444336, -0.0065727234, 0.08502197, 0.015914917, 0.002319336, -0.0033683777, -0.007972717, 0.053344727, -0.12261963, 0.010284424, 0.013458252, 0.06100464, -0.011207581, 0.05038452, -0.049041748, 0.020690918, -0.012123108, -0.07537842, -0.008255005, -0.022705078, 0.013763428, -0.009941101, 0.022903442, 0.04196167, -0.008628845, 0.09729004, -0.053375244, -0.015541077, 0.058258057, -0.00982666, -0.08721924, -0.0121536255, -0.0017347336, -0.041015625, -0.045837402, -0.011947632, 0.02999878, -0.017227173, 0.0071907043, -0.03201294, 0.018051147, 0.024475098, 0.0010318756, -0.0034713745, 0.018112183, -0.00014555454, 0.009750366, 0.022659302, -0.011352539, 0.0025577545, -0.046173096, -0.011375427, 0.0043907166, 0.0048980713, 0.0234375, 0.028213501, -0.0056762695, 0.00699234, 0.045806885, -0.03326416, 0.0025081635, 0.05215454, -0.0056533813, 0.023101807, -0.008102417, 0.0040245056, -0.0011129379, -0.031829834, 0.03845215, -0.010116577, -0.023757935, -0.006214142, -0.0054016113, -0.014732361, 0.014564514, -0.054901123, -0.021621704, -0.015579224, 0.03338623, 0.012054443, 0.04144287, 0.031082153, 0.026519775, 0.054351807, -0.0027332306, 0.024780273, -0.0025119781, -0.013465881, -0.12036133, -0.0018949509, 0.035461426, 0.05328369, 0.056884766, -0.039794922, -0.115112305, 0.023773193, -0.014335632, -0.0073928833, -0.02746582, 0.01727295, -0.021133423, 0.016479492, -0.01979065, -0.040496826, -0.0069618225, -0.026245117, -0.0107803345, 0.049438477, -0.009918213, -0.046936035, 0.015350342, -0.05126953, -0.01008606, 0.0034008026, -0.02810669, 0.04727173, 0.019378662, 0.021240234, -0.06060791, -0.02029419, -0.014312744, -4.0352345e-05, 0.00042009354, 0.009712219, -0.029327393, -0.011360168, -0.0037708282, 0.04083252, 0.03086853, -0.025314331, 0.0029964447, -0.0680542, -0.08154297, -0.008369446, -0.09631348, -0.06390381, 0.009185791, 0.014411926, 0.0066986084, 0.007106781, -0.010314941, -0.02822876, 0.060913086, -0.00058603287, -0.024490356, 0.019317627, 0.012245178, 0.0031604767, -0.023635864, 0.018341064, -0.023101807, 0.011695862, 0.105529785, 0.031234741, -0.0038013458, -0.019088745, -0.0093688965, 0.037231445, -0.019332886, 0.048675537, 0.012062073, 0.0072631836, -0.0068359375, 0.011482239, -0.0105896, -0.01689148, 0.031677246, 0.0016994476, 0.031951904, 0.0057296753, 0.006374359, 0.049194336, 0.045928955, 0.05154419, -0.040222168, 0.025726318, -0.06323242, -0.015731812, -0.0031356812, -0.022750854, -0.03466797, 0.046905518, -6.592274e-05, -0.004470825, 0.07720947, 0.029037476, 0.033935547, -0.07330322, -0.011070251, 0.006603241, -0.008934021, -0.027618408, -0.00831604, -0.0256958, 0.007850647, 0.009597778, 0.014564514, 0.02166748, 0.0005340576, -0.015327454, -0.008399963, 0.02720642, -0.03805542, 0.019439697, 0.01259613, 0.033477783, 0.01576233, 0.032440186, -0.02658081, -0.059020996, -0.039489746, 0.014350891, -0.029785156, 0.043945312, -0.034088135, 0.05166626, 0.036499023, 0.054351807, 0.061309814, -0.030258179, 0.04135132, 0.035491943, 0.009841919, 0.059906006, 0.029434204, 0.015235901, 0.035369873, -0.03994751, -0.008117676, 0.021453857, 0.025817871, 0.0473938, 0.00034570694, 0.078308105, 0.011917114, -0.048828125, -0.034729004, 0.014389038, 0.09741211, 0.0541687, -0.038970947, 0.0041999817, 0.020736694, 0.028121948, 0.010536194, -0.03112793, 0.010375977, -0.008773804, 0.014205933, 0.039978027, -0.004196167, -0.009994507, 0.010765076, -0.0067100525, 0.05810547, -0.01637268, -0.022399902, 0.007583618, -0.00038146973, 0.006362915, -0.01058197, -0.01852417, -0.00083351135, 0.010231018, 0.004299164, -0.014228821, 0.018447876, -0.0064201355, 0.064941406, -0.012924194, 0.049804688, -0.015930176, 0.01979065, 0.043548584, -0.019729614, -0.0011501312, 0.00472641, -0.012779236, 0.031677246, -0.005012512, 0.0033893585, -0.022201538, 0.029632568, -0.0073890686, -0.015098572, 0.049072266, 0.06298828, -0.003414154, -0.014328003, 0.028137207, -0.03540039, -0.003921509, -0.04949951, -0.0020427704, -0.015487671, 0.045410156, -0.0042533875, 0.01864624, 0.060546875, 0.06402588, -0.017608643, -0.02911377, -0.019744873, -0.052093506, -0.0026626587, -0.0211792, 0.005973816, 0.013122559, -0.023086548, 0.0028820038, 0.028930664, -0.036010742, 0.014205933, 0.010215759, -0.0046539307, 0.004383087, 0.0008687973, 0.05065918, -0.010765076, 0.0032081604, -0.022064209, -0.04333496, 0.019119263, -0.029449463, -0.046783447, 0.032928467, -0.07165527, -0.03161621, -0.027572632, -0.011444092, -0.015449524, 0.042541504, -0.006855011, 0.0054512024, -0.0418396, 0.003332138, 0.0037937164, -0.011741638, 0.020980835, 0.0036697388, -0.027786255, 0.015029907, 0.0037956238, -0.0017242432, -0.010215759, 0.06665039, -0.009887695, 0.025939941, -0.056274414, 0.005050659, -0.049804688, 0.0039100647, 0.00554657, 0.015609741, 0.022003174, -0.011917114, 0.03744507, 0.003156662, -0.0018482208, 0.021453857]]\n"
     ]
    }
   ],
   "source": [
    "# testing\n",
    "test_text = chunk_data[0]['content']\n",
    "test_embeddings = embedding_model.embed_documents([test_text])\n",
    "print(test_embeddings)"
   ]
  },
  {
   "cell_type": "code",
   "execution_count": 9,
   "metadata": {},
   "outputs": [
    {
     "name": "stdout",
     "output_type": "stream",
     "text": [
      "Embeddings: 2531\n"
     ]
    }
   ],
   "source": [
    "# CAUTION: long (and expensive) task to generate embedding for all chunks on AWS Bedrock.\n",
    "texts = [chunk[\"content\"] for chunk in chunk_data] \n",
    "embeddings = embedding_model.embed_documents(texts)\n",
    "\n",
    "print(\"Embeddings:\", len(embeddings))"
   ]
  },
  {
   "cell_type": "markdown",
   "metadata": {},
   "source": [
    "#### Insert data into pinecone vector database"
   ]
  },
  {
   "cell_type": "code",
   "execution_count": 27,
   "metadata": {},
   "outputs": [
    {
     "data": {
      "text/plain": [
       "{}"
      ]
     },
     "execution_count": 27,
     "metadata": {},
     "output_type": "execute_result"
    }
   ],
   "source": [
    "# clean the database\n",
    "pc_index.delete(deleteAll=\"true\") "
   ]
  },
  {
   "cell_type": "code",
   "execution_count": 11,
   "metadata": {},
   "outputs": [],
   "source": [
    "# construct vector entries\n",
    "entries = []\n",
    "for idx, embedding in enumerate(embeddings):\n",
    "    entries.append({\"id\": chunk_data[idx]['id'], \n",
    "                    \"values\": embedding, \n",
    "                    \"metadata\": chunk_data[idx]['metadata']})"
   ]
  },
  {
   "cell_type": "code",
   "execution_count": 18,
   "metadata": {},
   "outputs": [
    {
     "name": "stdout",
     "output_type": "stream",
     "text": [
      "Entries: 2531\n",
      "Sample metadata: {'text': 'F2021L01119 0', 'doc_id': 'F2021L01119', 'chunk_index': 0}\n",
      "Sample metadata: {'text': 'F2021L01119 1', 'doc_id': 'F2021L01119', 'chunk_index': 1}\n"
     ]
    }
   ],
   "source": [
    "print(\"Entries:\", len(entries))\n",
    "print(\"Sample metadata:\", entries[0]['metadata'])\n",
    "print(\"Sample metadata:\", entries[1]['metadata'])"
   ]
  },
  {
   "cell_type": "code",
   "execution_count": 30,
   "metadata": {},
   "outputs": [
    {
     "name": "stdout",
     "output_type": "stream",
     "text": [
      "12 batches of 200 embeddings\n",
      "inserting  0 to 200\n",
      "inserting  200 to 400\n",
      "inserting  400 to 600\n",
      "inserting  600 to 800\n",
      "inserting  800 to 1000\n",
      "inserting  1000 to 1200\n",
      "inserting  1200 to 1400\n",
      "inserting  1400 to 1600\n",
      "inserting  1600 to 1800\n",
      "inserting  1800 to 2000\n",
      "inserting  2000 to 2200\n",
      "inserting  2400 to 2531\n"
     ]
    }
   ],
   "source": [
    "# upsert in batches due to size limit in Pinecone\n",
    "batch_size = 200\n",
    "batches = int(len(embeddings)/batch_size)\n",
    "print(batches, \"batches of\", batch_size, \"embeddings\")\n",
    "\n",
    "for b in range(batches):\n",
    "    start = (b) * batch_size\n",
    "    end = (b + 1) * batch_size\n",
    "    \n",
    "    if b == batches - 1: # the last batch\n",
    "        start = end\n",
    "        end = len(embeddings)\n",
    "    \n",
    "    print(\"inserting \", start, \"to\", end)\n",
    "    pc_index.upsert(entries[start:end])"
   ]
  },
  {
   "cell_type": "code",
   "execution_count": 33,
   "metadata": {},
   "outputs": [
    {
     "data": {
      "text/plain": [
       "{'dimension': 1024,\n",
       " 'index_fullness': 0.0,\n",
       " 'namespaces': {'': {'vector_count': 2331}},\n",
       " 'total_vector_count': 2331}"
      ]
     },
     "execution_count": 33,
     "metadata": {},
     "output_type": "execute_result"
    }
   ],
   "source": [
    "# Vector store complete\n",
    "pc_index.describe_index_stats()"
   ]
  },
  {
   "cell_type": "markdown",
   "metadata": {},
   "source": [
    "## QA query and answering"
   ]
  },
  {
   "cell_type": "markdown",
   "metadata": {},
   "source": [
    "### Set up vector db connection and LLM"
   ]
  },
  {
   "cell_type": "code",
   "execution_count": 49,
   "metadata": {},
   "outputs": [],
   "source": [
    "import boto3\n",
    "from langchain_community.embeddings import BedrockEmbeddings\n",
    "\n",
    "# Load embedding LLM\n",
    "bedrock_client = boto3.client(\"bedrock-runtime\",\n",
    "                              region_name=os.getenv(\"BEDROCK_REGION\"),\n",
    "                              aws_access_key_id=os.getenv(\"AWS_ACCESS_KEY_ID\"),\n",
    "                              aws_secret_access_key=os.getenv(\"AWS_SECRET_ACCESS_KEY\"))\n",
    "\n",
    "embedding_model = BedrockEmbeddings(model_id=\"cohere.embed-english-v3\", client=bedrock_client)"
   ]
  },
  {
   "cell_type": "code",
   "execution_count": 50,
   "metadata": {},
   "outputs": [],
   "source": [
    "from langchain.indexes.vectorstore import VectorStoreIndexWrapper\n",
    "from langchain.vectorstores import Pinecone\n",
    "from langchain_openai import OpenAI\n",
    "from IPython.display import Markdown, display\n",
    "\n",
    "index_name = os.getenv(\"PINECONE_INDEX_NAME\")\n",
    "\n",
    "# Fetch index to vector database\n",
    "vectorstore_pinecone = Pinecone.from_existing_index(\n",
    "    embedding=embedding_model,\n",
    "    index_name = index_name\n",
    ")\n",
    "\n",
    "# Retriever to the vector db \n",
    "# Each document averages about 2531 / 91 38.8 chunks. Set top k to 60 to get enough context\n",
    "# retriever=vectorstore_pinecone.as_retriever(search_type=\"similarity_score_threshold\", search_kwargs={\"k\": 200, 'score_threshold': 0.3})\n",
    "retriever=vectorstore_pinecone.as_retriever(search_type=\"similarity\", search_kwargs={\"k\": 200})\n",
    "\n",
    "# Decoder LLM for answer generation. Temperature set to 0 for consistent answer\n",
    "llm = OpenAI(openai_api_key=os.getenv('OPENAI_API_KEY'), temperature=0.0, max_tokens=1000)\n"
   ]
  },
  {
   "cell_type": "code",
   "execution_count": 51,
   "metadata": {},
   "outputs": [],
   "source": [
    "test_query = \"What is APRA?\""
   ]
  },
  {
   "cell_type": "markdown",
   "metadata": {},
   "source": [
    "### Pinecone query and retrieval "
   ]
  },
  {
   "cell_type": "code",
   "execution_count": 52,
   "metadata": {},
   "outputs": [
    {
     "name": "stdout",
     "output_type": "stream",
     "text": [
      "* [Similarity=0.470571] F2020L01541 2 [{'chunk_index': 2.0, 'doc_id': 'F2020L01541'}]\n",
      "* [Similarity=0.468603] F2020L01274 2 [{'chunk_index': 2.0, 'doc_id': 'F2020L01274'}]\n",
      "* [Similarity=0.458940] F2020L01274 3 [{'chunk_index': 3.0, 'doc_id': 'F2020L01274'}]\n",
      "* [Similarity=0.455779] F2021L01470 2 [{'chunk_index': 2.0, 'doc_id': 'F2021L01470'}]\n",
      "* [Similarity=0.448595] F2020L01541 3 [{'chunk_index': 3.0, 'doc_id': 'F2020L01541'}]\n"
     ]
    }
   ],
   "source": [
    "results = vectorstore_pinecone.similarity_search_with_score(query=test_query,k=200)\n",
    "for doc, score in results[:5]: # peeking at 5 of the chunks retrieved\n",
    "    print(f\"* [Similarity={score:3f}] {doc.page_content} [{doc.metadata}]\")"
   ]
  },
  {
   "cell_type": "code",
   "execution_count": 53,
   "metadata": {},
   "outputs": [
    {
     "data": {
      "text/markdown": [
       "<b>Top chunk content:</b><br>Financial Sector (Collection of Data) (reporting standard) determination No. 7 of 2020\n",
       "\n",
       "Reporting Standard ARS 920.4 Australian Government Arts Sector Show Starter Loan (SSL) Guarantee Scheme\n",
       "\n",
       "Financial Sector (Collection of Data) Act 2001\n",
       "\n",
       "I, Sean Carmody, delegate of APRA, under paragraph 13(1)(a) of the Financial Sector (Collection of Data) Act 2001 (the Act) determine Reporting Standard ARS 920.4 Australian Government Arts Sector Show Starter Loan (SSL) Guarantee Scheme, in the form set out in the Schedule, which applies to the financial sector entities to the extent provided in paragraph 3 of the reporting standard. \n",
       "\n",
       "Under section 15 of the Act, I declare that the reporting standard shall begin to apply to those financial sector entities, on 14 December 2020. \n",
       "\n",
       "This instrument commences on 14 December 2020.\n",
       "\n",
       "Dated: 4 December 2020\n",
       "\n",
       "[Signed]\n",
       "\n",
       "Sean Carmody\n",
       "\n",
       "Executive Director\n",
       "\n",
       "Cross-Industry Insights and Data Division\n",
       "\n",
       "Interpretation\n",
       "\n",
       "In this Determination:\n",
       "\n",
       "APRA means the Australian Prudential Regulation Authority.\n",
       "\n",
       "financial sector entity has the meaning given by section 5 of the Act. \n",
       "\n",
       "Schedule \n",
       "\n",
       "Reporting Standard ARS 920.4 Australian Government Arts Sector Show Starter Loan (SSL) Guarantee Scheme comprises the document commencing on the following page.\n",
       "\n",
       "December 2020\n",
       "\n",
       "\n",
       "\n",
       "Reporting Standard ARS 920.4 \n",
       "\n",
       "Australian Government Arts Sector Show Starter Loan (SSL) Guarantee Scheme\n",
       "\n",
       "Authority\n",
       "\n",
       "This Reporting Standard is made under section 13 of the Financial Sector (Collection of Data) Act 2001.\n",
       "\n",
       "Purpose\n",
       "\n",
       "Information collected by Reporting Form ARF 920.4 Australian Government Arts Sector SSL Guarantee Scheme (Portfolio Information) (ARF 920.4) and Reporting Form ARF 920.5 Australian Government Arts Sector SSL Guarantee Scheme (Loan Level Details) (ARF 920.5) is used for the purpose of enabling APRA to assist the Commonwealth Government administer the Australian Government SSL Guarantee Scheme.  This information may also be used by APRA for prudential purposes. \n",
       "\n",
       "Application"
      ],
      "text/plain": [
       "<IPython.core.display.Markdown object>"
      ]
     },
     "metadata": {},
     "output_type": "display_data"
    }
   ],
   "source": [
    "# examining top 1 retrieval chunk\n",
    "top_doc, _ = results[0]\n",
    "top_doc_id = top_doc.metadata['doc_id']\n",
    "top_doc_content = \"\"\n",
    "\n",
    "for chunk in chunk_data: \n",
    "    if chunk['metadata']['doc_id'] == top_doc_id:\n",
    "        top_doc_content = chunk['content']\n",
    "        break\n",
    "    \n",
    "\n",
    "display(Markdown(\"<b>Top chunk content:</b><br>\" + top_doc_content))\n",
    "    "
   ]
  },
  {
   "cell_type": "markdown",
   "metadata": {},
   "source": [
    "### QA prompt engineering with Pinecone vector store"
   ]
  },
  {
   "cell_type": "code",
   "execution_count": 54,
   "metadata": {},
   "outputs": [],
   "source": [
    "from langchain.chains import RetrievalQA\n",
    "from langchain.prompts import PromptTemplate\n",
    "\n",
    "prompt_template = \"\"\"\n",
    "You are an Australia APRA expert on banking regulations providing answers to customers.\n",
    "Based on the information retrieved from the vector store, please provide an answer. \n",
    "Give clear responses to the following question: \n",
    "{question}. \n",
    "Do not make up answers. If you don't have the answer say\n",
    "\"I don't have the information to answer this.\"\n",
    "\n",
    "{context}\n",
    "\n",
    "Question: {question}\n",
    "Answer:\"\"\"\n",
    "\n",
    "prompt = PromptTemplate(\n",
    "    template=prompt_template, input_variables=[\"context\", \"question\"]\n",
    ")\n",
    "\n",
    "qa = RetrievalQA.from_chain_type(\n",
    "    llm=llm,\n",
    "    chain_type=\"stuff\",\n",
    "    retriever=retriever,\n",
    "    return_source_documents=True,\n",
    "    chain_type_kwargs={\"prompt\": prompt}\n",
    ")\n"
   ]
  },
  {
   "cell_type": "code",
   "execution_count": 55,
   "metadata": {},
   "outputs": [
    {
     "data": {
      "text/markdown": [
       "<b>Question:</b>What is APRA?"
      ],
      "text/plain": [
       "<IPython.core.display.Markdown object>"
      ]
     },
     "metadata": {},
     "output_type": "display_data"
    },
    {
     "data": {
      "text/markdown": [
       "<b>Answer (Vectorstore):</b> APRA stands for the Australian Prudential Regulation Authority. It is the independent statutory authority that supervises and regulates banks, credit unions, insurance companies, and other financial institutions in Australia to ensure their stability and soundness."
      ],
      "text/plain": [
       "<IPython.core.display.Markdown object>"
      ]
     },
     "metadata": {},
     "output_type": "display_data"
    }
   ],
   "source": [
    "# display the results\n",
    "test_answer = qa({\"query\": test_query})\n",
    "display(Markdown(\"<b>Question:</b>\" + test_query))\n",
    "display(Markdown(\"<b>Answer (Vectorstore):</b>\" + test_answer['result']))"
   ]
  },
  {
   "cell_type": "code",
   "execution_count": 56,
   "metadata": {},
   "outputs": [
    {
     "data": {
      "text/markdown": [
       "<b>Question:</b>Why does a cat knead?"
      ],
      "text/plain": [
       "<IPython.core.display.Markdown object>"
      ]
     },
     "metadata": {},
     "output_type": "display_data"
    },
    {
     "data": {
      "text/markdown": [
       "<b>Answer (Vectorstore):</b> I don't have the information to answer this."
      ],
      "text/plain": [
       "<IPython.core.display.Markdown object>"
      ]
     },
     "metadata": {},
     "output_type": "display_data"
    }
   ],
   "source": [
    "test_query = \"Why does a cat knead?\"\n",
    "test_answer = qa({\"query\": test_query})\n",
    "display(Markdown(\"<b>Question:</b>\" + test_query))\n",
    "display(Markdown(\"<b>Answer (Vectorstore):</b>\" + test_answer['result']))"
   ]
  },
  {
   "cell_type": "code",
   "execution_count": 57,
   "metadata": {},
   "outputs": [
    {
     "data": {
      "text/markdown": [
       "<b>Question:</b>How do American bank protect lending fraud?"
      ],
      "text/plain": [
       "<IPython.core.display.Markdown object>"
      ]
     },
     "metadata": {},
     "output_type": "display_data"
    },
    {
     "data": {
      "text/markdown": [
       "<b>Answer (Vectorstore):</b> I don't have the information to answer this."
      ],
      "text/plain": [
       "<IPython.core.display.Markdown object>"
      ]
     },
     "metadata": {},
     "output_type": "display_data"
    }
   ],
   "source": [
    "test_query = \"How do American bank protect lending fraud?\"\n",
    "test_answer = qa({\"query\": test_query})\n",
    "display(Markdown(\"<b>Question:</b>\" + test_query))\n",
    "display(Markdown(\"<b>Answer (Vectorstore):</b>\" + test_answer['result']))"
   ]
  },
  {
   "cell_type": "markdown",
   "metadata": {},
   "source": [
    "### Compare answer to general promot without vector store"
   ]
  },
  {
   "cell_type": "code",
   "execution_count": 58,
   "metadata": {},
   "outputs": [
    {
     "data": {
      "text/markdown": [
       "<b>Question:</b>How do American bank protect lending fraud?"
      ],
      "text/plain": [
       "<IPython.core.display.Markdown object>"
      ]
     },
     "metadata": {},
     "output_type": "display_data"
    },
    {
     "data": {
      "text/markdown": [
       "<b>Answer (Vectorstore)</b>: I don't have the information to answer this."
      ],
      "text/plain": [
       "<IPython.core.display.Markdown object>"
      ]
     },
     "metadata": {},
     "output_type": "display_data"
    },
    {
     "data": {
      "text/markdown": [
       "<b>Answer (OpenAI):</b> American banks protect against lending fraud through various measures, such as implementing strict identity verification processes, conducting thorough credit checks, and utilizing advanced fraud detection technology. They also have internal controls and procedures in place to monitor and detect suspicious activity, as well as educating their employees on how to identify and prevent fraud. Additionally, banks may also have insurance policies in place to cover losses from fraudulent activities."
      ],
      "text/plain": [
       "<IPython.core.display.Markdown object>"
      ]
     },
     "metadata": {},
     "output_type": "display_data"
    }
   ],
   "source": [
    "\n",
    "prompt_template = \"\"\"\n",
    "You are an Australia APRA expert on banking regulations providing answers to customers.\n",
    "Give clear responses to the following question: \n",
    "{question}. \n",
    "Do not make up answers. If you don't have the answer say\n",
    "\"I don't have the information to answer this.\"\n",
    "\n",
    "{context}\n",
    "\n",
    "Question: {question}\n",
    "Answer:\"\"\"\n",
    "\n",
    "prompt = PromptTemplate.from_template(template=prompt_template)\n",
    "\n",
    "# format the prompt to add variable values\n",
    "prompt_formatted_str: str = prompt.format(\n",
    "    question=test_query,\n",
    "    context=None)\n",
    "\n",
    "# make a prediction\n",
    "prediction = llm.predict(prompt_formatted_str)\n",
    "\n",
    "display(Markdown(\"<b>Question:</b>\" + test_query))\n",
    "display(Markdown(\"<b>Answer (Vectorstore)</b>:\" + test_answer['result']))\n",
    "display(Markdown(\"<b>Answer (OpenAI):</b>\" + prediction))"
   ]
  },
  {
   "cell_type": "markdown",
   "metadata": {},
   "source": [
    "### Test and Evaluation\n",
    "Testing manually curated questions and answers."
   ]
  },
  {
   "cell_type": "code",
   "execution_count": 59,
   "metadata": {},
   "outputs": [
    {
     "name": "stdout",
     "output_type": "stream",
     "text": [
      "Detected encoding: ISO-8859-1\n"
     ]
    },
    {
     "data": {
      "text/html": [
       "<div>\n",
       "<style scoped>\n",
       "    .dataframe tbody tr th:only-of-type {\n",
       "        vertical-align: middle;\n",
       "    }\n",
       "\n",
       "    .dataframe tbody tr th {\n",
       "        vertical-align: top;\n",
       "    }\n",
       "\n",
       "    .dataframe thead th {\n",
       "        text-align: right;\n",
       "    }\n",
       "</style>\n",
       "<table border=\"1\" class=\"dataframe\">\n",
       "  <thead>\n",
       "    <tr style=\"text-align: right;\">\n",
       "      <th></th>\n",
       "      <th>#</th>\n",
       "      <th>Question</th>\n",
       "      <th>Answer</th>\n",
       "    </tr>\n",
       "  </thead>\n",
       "  <tbody>\n",
       "    <tr>\n",
       "      <th>0</th>\n",
       "      <td>1</td>\n",
       "      <td>What is the main purpose of the Basel III regu...</td>\n",
       "      <td>The Basel III capital reforms are internationa...</td>\n",
       "    </tr>\n",
       "    <tr>\n",
       "      <th>1</th>\n",
       "      <td>2</td>\n",
       "      <td>Can you explain the difference between an Aust...</td>\n",
       "      <td>An Authorised Deposit-taking Institutions (ADI...</td>\n",
       "    </tr>\n",
       "    <tr>\n",
       "      <th>2</th>\n",
       "      <td>3</td>\n",
       "      <td>How do Australian banks report their exposure ...</td>\n",
       "      <td>IRB banks must compare regulatory expected los...</td>\n",
       "    </tr>\n",
       "    <tr>\n",
       "      <th>3</th>\n",
       "      <td>4</td>\n",
       "      <td>What is the definition of a Systemically Impor...</td>\n",
       "      <td>The Ôtoo-big-to-failÕ problem refers to the fa...</td>\n",
       "    </tr>\n",
       "    <tr>\n",
       "      <th>4</th>\n",
       "      <td>5</td>\n",
       "      <td>How do Australian banks calculate their Basel ...</td>\n",
       "      <td>The capital adequacy ratio is calculated by ad...</td>\n",
       "    </tr>\n",
       "  </tbody>\n",
       "</table>\n",
       "</div>"
      ],
      "text/plain": [
       "   #                                           Question  \\\n",
       "0  1  What is the main purpose of the Basel III regu...   \n",
       "1  2  Can you explain the difference between an Aust...   \n",
       "2  3  How do Australian banks report their exposure ...   \n",
       "3  4  What is the definition of a Systemically Impor...   \n",
       "4  5  How do Australian banks calculate their Basel ...   \n",
       "\n",
       "                                              Answer  \n",
       "0  The Basel III capital reforms are internationa...  \n",
       "1  An Authorised Deposit-taking Institutions (ADI...  \n",
       "2  IRB banks must compare regulatory expected los...  \n",
       "3  The Ôtoo-big-to-failÕ problem refers to the fa...  \n",
       "4  The capital adequacy ratio is calculated by ad...  "
      ]
     },
     "execution_count": 59,
     "metadata": {},
     "output_type": "execute_result"
    }
   ],
   "source": [
    "import chardet\n",
    "import pandas as pd\n",
    "\n",
    "# Read the file in binary mode to detect encoding\n",
    "with open(\"./dataset/test.csv\", \"rb\") as f:\n",
    "    raw_data = f.read()\n",
    "    result = chardet.detect(raw_data)\n",
    "    encoding = result['encoding']\n",
    "    print(f\"Detected encoding: {encoding}\")\n",
    "    \n",
    "# load questions\n",
    "df = pd.read_csv(\"./dataset/test.csv\", encoding=encoding)\n",
    "\n",
    "df.head()"
   ]
  },
  {
   "cell_type": "code",
   "execution_count": 71,
   "metadata": {},
   "outputs": [
    {
     "name": "stdout",
     "output_type": "stream",
     "text": [
      "Number of answers: 67\n"
     ]
    }
   ],
   "source": [
    "# Use the QA Agent to get answers for the list of questions\n",
    "questions = df[\"Question\"]\n",
    "answers = []\n",
    "\n",
    "for q in questions:\n",
    "    answer = qa({\"query\": q})['result'] if result else \"\"\n",
    "    answers.append(answer)\n",
    "\n",
    "print(\"Number of answers:\", len(answers))"
   ]
  },
  {
   "cell_type": "code",
   "execution_count": 72,
   "metadata": {},
   "outputs": [],
   "source": [
    "# save the answers to csv\n",
    "df[\"RAG 3\"] = answers\n",
    "df.to_csv('./dataset/answers_rag3.csv')"
   ]
  },
  {
   "cell_type": "code",
   "execution_count": 73,
   "metadata": {},
   "outputs": [
    {
     "name": "stdout",
     "output_type": "stream",
     "text": [
      "1\n",
      "Question: What is the main purpose of the Basel III regulatory framework, as implemented in Australia?\n",
      "Answer:  The main purpose of the Basel III regulatory framework, as implemented in Australia, is to strengthen the resilience of the banking sector and promote financial stability by setting higher capital requirements, introducing liquidity standards, and improving risk management practices.\n",
      "\n",
      "2\n",
      "Question: Can you explain the difference between an Australian Deposit-Taking Institution (DTI) and a Non-Deposit Taking Institution (NDTI)?\n",
      "Answer:  An Australian Deposit-Taking Institution (DTI) is a financial institution that is authorized to accept deposits from customers and provide banking services, such as loans and credit cards. On the other hand, a Non-Deposit Taking Institution (NDTI) is a financial institution that is not authorized to accept deposits from customers, but can still provide other financial services such as investment management and insurance.\n",
      "\n",
      "3\n",
      "Question: How do Australian banks report their exposure to credit risk using the Internal Ratings-Based Approach (IRB)?\n",
      "Answer:  Australian banks report their exposure to credit risk using the Internal Ratings-Based Approach (IRB) by using a standardized set of risk categories and credit ratings to assess the creditworthiness of their borrowers. This approach allows banks to calculate their own risk-weighted assets and determine the amount of capital they need to hold to cover potential losses from credit risk.\n",
      "\n",
      "4\n",
      "Question: What is the definition of a Systemically Important Financial Institution (SIFI) under Australian prudential regulations?\n",
      "Answer:  I don't have the information to answer this.\n",
      "\n",
      "5\n",
      "Question: How do Australian banks calculate their Basel III capital requirements for Tier 1 and Tier 2 capital?\n",
      "Answer:  I don't have the information to answer this.\n",
      "\n",
      "6\n",
      "Question: Can you explain the concept of Liquidity Coverage Ratio (LCR) under Australian prudential regulations?\n",
      "Answer:  The Liquidity Coverage Ratio (LCR) is a regulatory requirement under Australian prudential regulations that requires banks to hold a sufficient amount of high-quality liquid assets to cover their short-term liquidity needs in times of financial stress. This ratio is calculated by dividing a bank's high-quality liquid assets by its total net cash outflows over a 30-day period. The purpose of the LCR is to ensure that banks have enough liquid assets to withstand potential liquidity shocks and maintain their operations. \n",
      "\n",
      "7\n",
      "Question: What are the key elements of a risk management framework under Australian banking regulations?\n",
      "Answer:  The key elements of a risk management framework under Australian banking regulations include identifying and assessing risks, implementing risk management strategies and controls, monitoring and reporting on risks, and regularly reviewing and updating the risk management framework. Other important elements may include establishing a risk appetite and tolerance, conducting stress tests and scenario analyses, and ensuring compliance with regulatory requirements.\n",
      "\n",
      "8\n",
      "Question: How do Australian banks report their capital adequacy requirements to APRA?\n",
      "Answer:  I don't have the information to answer this.\n",
      "\n",
      "9\n",
      "Question: Can you explain the concept of Operational Risk under Australian prudential regulations?\n",
      "Answer:  Operational risk refers to the potential losses that a financial institution may face due to inadequate or failed internal processes, people, and systems, or from external events. Under Australian prudential regulations, financial institutions are required to have robust risk management frameworks in place to identify, assess, and mitigate operational risks. This includes having effective internal controls, risk monitoring and reporting systems, and contingency plans in case of unexpected events. Failure to comply with these regulations can result in penalties and sanctions from the Australian Prudential Regulation Authority (APRA).\n",
      "\n",
      "10\n",
      "Question: What is the definition of an Integrated Disclosure Framework (IDF) under Australian banking regulations?\n",
      "Answer:  I don't have the information to answer this.\n",
      "\n",
      "11\n",
      "Question: How do Australian banks report their exposure to liquidity risk using the Liquidity Coverage Ratio (LCR)?\n",
      "Answer:  Australian banks report their exposure to liquidity risk using the Liquidity Coverage Ratio (LCR) by calculating and reporting their LCR on a monthly basis to the Australian Prudential Regulation Authority (APRA). This calculation takes into account the bank's high-quality liquid assets (HQLA) and its net cash outflows over a 30-day period, and the resulting ratio must be at least 100%. This information is then disclosed in the bank's financial statements and is also publicly available on APRA's website.\n",
      "\n",
      "12\n",
      "Question: Can you explain the concept of Credit Risk Management under Australian prudential regulations?\n",
      "Answer:  Credit risk management refers to the process of identifying, assessing, and controlling potential risks associated with lending money to borrowers. In Australia, prudential regulations require banks and other financial institutions to have robust credit risk management practices in place to ensure the safety and stability of the financial system. This includes setting appropriate risk limits, conducting thorough credit assessments, and regularly monitoring and reviewing credit portfolios. The goal of credit risk management is to minimize the likelihood of default and financial losses, while also promoting responsible lending practices.\n",
      "\n",
      "13\n",
      "Question: What are the key elements of a Capital Adequacy Framework under Australian banking regulations?\n",
      "Answer:  The key elements of a Capital Adequacy Framework under Australian banking regulations include risk-weighted assets, minimum capital requirements, capital buffers, and capital ratios.\n",
      "\n",
      "14\n",
      "Question: How do Australian banks calculate their risk-weighted assets (RWA) under Basel III?\n",
      "Answer:  Australian banks calculate their risk-weighted assets (RWA) under Basel III by assigning a risk weight to each asset based on its credit risk. This risk weight is determined by the type of asset and the credit rating of the borrower. The total RWA is then calculated by multiplying the risk weight by the value of the asset. This calculation is used to determine the minimum capital requirements for banks under Basel III regulations.\n",
      "\n",
      "15\n",
      "Question: Can you explain the concept of Systemic Risk under Australian prudential regulations?\n",
      "Answer:  Systemic risk refers to the risk of a widespread financial crisis or collapse of the financial system, caused by the failure of one or more financial institutions. Under Australian prudential regulations, systemic risk is managed through various measures such as stress testing, capital requirements, and risk management frameworks to ensure the stability and resilience of the financial system. The Australian Prudential Regulation Authority (APRA) closely monitors and assesses the potential systemic risks in the banking sector and takes necessary actions to mitigate them.\n",
      "\n",
      "16\n",
      "Question: Can you explain the concept of Disclosures for the identification of potential G-SIBs under Australian prudential regulations?\n",
      "Answer:  I don't have the information to answer this.\n",
      "\n",
      "17\n",
      "Question: Can you explain the concept of Liquidity Risk under Australian prudential regulations?\n",
      "Answer:  Liquidity risk refers to the potential for a bank or financial institution to be unable to meet its financial obligations due to a lack of available funds. Under Australian prudential regulations, banks are required to maintain a certain level of liquidity to ensure they can meet their financial obligations, such as customer withdrawals or loan repayments. This is to protect depositors and maintain stability in the financial system. Banks must also have contingency plans in place to manage liquidity risk in case of unexpected events.\n",
      "\n",
      "18\n",
      "Question: Who are High-Risk Customers?\n",
      "Answer:  I don't have the information to answer this.\n",
      "\n",
      "19\n",
      "Question: What is the meaning of credit risk mitigation?\n",
      "Answer:  Credit risk mitigation refers to the strategies and techniques used by banks and financial institutions to reduce the potential losses from default or non-payment by borrowers. This can include measures such as collateral requirements, credit insurance, and diversification of loan portfolios.\n",
      "\n",
      "20\n",
      "Question: Do Australian banks have to report their exposure to interest rate risk?\n",
      "Answer:  Yes, Australian banks are required to report their exposure to interest rate risk. This is mandated by the Australian Prudential Regulation Authority (APRA) under the Banking Act 1959.\n",
      "\n",
      "21\n",
      "Question: How do you calculate risk-weighted assets in RWA?\n",
      "Answer:  I don't have the information to answer this.\n",
      "\n",
      "22\n",
      "Question: What is an aps 310 audit?\n",
      "Answer:  An APS 310 audit is a type of audit conducted by the Australian Prudential Regulation Authority (APRA) to assess the compliance of banks with APS 310, which is a set of prudential standards for managing credit risk. This audit evaluates the effectiveness of a bank's risk management framework and its ability to identify, measure, monitor, and control credit risk.\n",
      "\n",
      "23\n",
      "Question: What is the audit and assurance policy statement?\n",
      "Answer:  I don't have the information to answer this.\n",
      "\n",
      "24\n",
      "Question: What is counterparty credit risk in derivatives?\n",
      "Answer:  Counterparty credit risk in derivatives refers to the risk that one party in a derivative contract may default on their obligations, resulting in financial losses for the other party. This risk is particularly relevant in over-the-counter (OTC) derivatives, where there is no central clearinghouse to guarantee the performance of the contract.\n",
      "\n",
      "25\n",
      "Question: What is concentration risk?\n",
      "Answer:  Concentration risk is the potential for loss due to a large exposure to a single borrower, counterparty, or group of related borrowers or counterparties. It is a type of financial risk that arises from having a significant portion of assets or liabilities concentrated in a particular sector, industry, or geographic region. This can make a bank vulnerable to unexpected events or changes in market conditions that affect that particular sector, industry, or region.\n",
      "\n",
      "26\n",
      "Question: What measures for the management of interest rate risk can be used by an Organisation?\n",
      "Answer:  Some measures that an organization can use for the management of interest rate risk include interest rate swaps, interest rate caps and floors, and interest rate futures contracts. They can also use asset-liability matching, duration matching, and interest rate risk models to manage their exposure to interest rate fluctuations. Additionally, they can implement policies and procedures to monitor and mitigate interest rate risk, such as setting limits on interest rate-sensitive assets and liabilities and regularly reviewing and adjusting their interest rate risk management strategies.\n",
      "\n",
      "27\n",
      "Question: How must banks assess and manage risks associated with outsourcing arrangements according to CPS 231?\n",
      "Answer:  Banks must assess and manage risks associated with outsourcing arrangements according to CPS 231 by conducting due diligence, establishing clear contractual arrangements, monitoring and reviewing the outsourcing arrangement, and having contingency plans in place. They must also ensure that the outsourcing arrangement does not compromise the bank's ability to comply with regulatory requirements and that the service provider has appropriate risk management and security measures in place. Additionally, banks must have a comprehensive outsourcing policy and regularly report on their outsourcing arrangements to the board.\n",
      "\n",
      "28\n",
      "Question: What are the requirements for business continuity planning under CPS 232, and how must banks demonstrate resilience to operational disruptions?\n",
      "Answer:  The requirements for business continuity planning under CPS 232 include developing and maintaining a business continuity plan, conducting regular testing and reviews of the plan, and ensuring that the plan is aligned with the bank's risk profile and operational capabilities. Banks must also have a designated business continuity management function and ensure that all staff are trained and aware of their roles and responsibilities in the event of an operational disruption. To demonstrate resilience to operational disruptions, banks must have a robust and comprehensive business continuity plan in place, regularly test and review the plan, and have the ability to quickly and effectively respond to and recover from disruptions. They must also have contingency plans in place for critical systems and processes, and regularly assess and monitor their operational risks.\n",
      "\n",
      "29\n",
      "Question: What are the obligations for banks under CPS 234 regarding the protection of information assets and managing cyber security risks?\n",
      "Answer:  The obligations for banks under CPS 234 include implementing measures to protect information assets and manage cyber security risks, conducting regular risk assessments, and having a robust incident response plan in place. They are also required to report any significant cyber security incidents to APRA and ensure that their third-party service providers comply with the CPS 234 requirements.\n",
      "\n",
      "30\n",
      "Question: What is the CPS 510 governance standard?\n",
      "Answer:  I don't have the information to answer this.\n",
      "\n",
      "31\n",
      "Question: What is a responsible person in APRA?\n",
      "Answer:  I don't have the information to answer this.\n",
      "\n",
      "32\n",
      "Question: How must banks structure their remuneration practices under CPS 510 to align with risk management objectives?\n",
      "Answer:  Banks must structure their remuneration practices under CPS 510 to align with risk management objectives by implementing a risk-based approach to remuneration, ensuring that remuneration policies and practices do not encourage excessive risk-taking, and aligning remuneration with long-term performance and risk outcomes. They must also have appropriate governance and oversight mechanisms in place to monitor and review their remuneration practices and ensure they are in line with risk management objectives.\n",
      "\n",
      "33\n",
      "Question: What is risk culture assessment?\n",
      "Answer:  Risk culture assessment is a process used by banks to evaluate and measure the effectiveness of their risk culture, which refers to the attitudes, behaviors, and values within an organization that influence how risks are identified, managed, and communicated. This assessment helps banks identify any gaps or weaknesses in their risk culture and make improvements to ensure a strong risk culture is embedded throughout the organization.\n",
      "\n",
      "34\n",
      "Question: What is CPS 230?\n",
      "Answer:  CPS 230 is a prudential standard issued by the Australian Prudential Regulation Authority (APRA) that sets out the requirements for risk management and governance for authorized deposit-taking institutions (ADIs). It aims to ensure that ADIs have robust risk management frameworks in place to identify, measure, monitor, and control risks.\n",
      "\n",
      "35\n",
      "Question: When should I first contact APRA\n",
      "Answer:  I don't have the information to answer this.\n",
      "\n",
      "36\n",
      "Question: If I am applying for an ARPA licence will I need any other tyoe of licence\n",
      "Answer:  I don't have the information to answer this.\n",
      "\n",
      "37\n",
      "Question: I want to register a company name with an APRA regulate restricted term. How do I do this?\n",
      "Answer:  To register a company name with an APRA regulated restricted term, you will need to follow the guidelines and procedures set by APRA. This may include obtaining approval from APRA and providing evidence that the use of the restricted term is necessary for your company's operations. It is recommended to consult with an APRA expert or legal advisor for specific instructions and assistance with the registration process.\n",
      "\n",
      "38\n",
      "Question: Can APRA provide further guidance beyond CPS and GPG220 Risk Management as to what should be included in the Risk Appetite Statement (RAS)?\n",
      "Answer:  I don't have the information to answer this.\n",
      "\n",
      "39\n",
      "Question: What is required in the external auditor's verification of minimum captial?\n",
      "Answer:  The external auditor is required to verify the minimum capital of a bank in order to ensure compliance with APRA regulations. This includes verifying the accuracy of the bank's financial statements and assessing the adequacy of the bank's capital reserves. The auditor must also review the bank's risk management practices and assess the bank's ability to withstand potential financial shocks. Additionally, the auditor must ensure that the bank is following all relevant APRA guidelines and regulations related to minimum capital requirements.\n",
      "\n",
      "40\n",
      "Question: What documents do I need for a Non-Operating Holding Company?\n",
      "Answer:  I don't have the information to answer this.\n",
      "\n",
      "41\n",
      "Question: Our business won't have a trading desk - do we need any policies covering market risks?\n",
      "Answer:  Yes, even if your business does not have a trading desk, it is still important to have policies in place to cover market risks. These policies can help mitigate potential risks and ensure compliance with APRA regulations.\n",
      "\n",
      "42\n",
      "Question: As a restricted ADI/ADI applicant, when do I need to provide information about compliance with the Bank Executive Accountability Regime (BEAR)?\n",
      "Answer:  According to the information retrieved from the vector store, as a restricted ADI/ADI applicant, you need to provide information about compliance with the Bank Executive Accountability Regime (BEAR) when you apply for a banking license. This information is required as part of the application process and must be provided before the license can be granted.\n",
      "\n",
      "43\n",
      "Question: How should securitisation  warehouse funding risks be addressed?\n",
      "Answer:  I don't have the information to answer this.\n",
      "\n",
      "44\n",
      "Question: Is there a minimum expectation in regard to operating captial at the point of licensing?\n",
      "Answer:  I don't have the information to answer this.\n",
      "\n",
      "45\n",
      "Question: Are Restricted ADIs required to conduct some elements of banking business during the restricted phase?\n",
      "Answer:  Yes, Restricted ADIs are required to conduct some elements of banking business during the restricted phase.\n",
      "\n",
      "46\n",
      "Question: Does my entity need to comply with all of the Prudential Standards?\n",
      "Answer:  I don't have the information to answer this.\n",
      "\n",
      "47\n",
      "Question: What is APRA's role in reviewing policies/documents?\n",
      "Answer:  APRA's role in reviewing policies/documents is to ensure that they comply with banking regulations and are in line with APRA's standards and guidelines. This includes reviewing policies and documents related to risk management, capital adequacy, and financial reporting. APRA also conducts regular reviews to assess the effectiveness of these policies and documents in promoting sound and prudent banking practices.\n",
      "\n",
      "48\n",
      "Question: What does APRA do?\n",
      "Answer:  APRA (Australian Prudential Regulation Authority) is responsible for regulating and supervising banks, credit unions, insurance companies, and other financial institutions in Australia. They aim to ensure the stability and soundness of the financial system and protect the interests of depositors, policyholders, and superannuation fund members. APRA also sets and enforces prudential standards and guidelines for these institutions to follow.\n",
      "\n",
      "49\n",
      "Question: How does APRA regulate bank lending safety?\n",
      "Answer:  APRA regulates bank lending safety through various measures such as setting capital requirements, conducting stress tests, and monitoring banks' risk management practices. They also have the power to intervene and take action if a bank is not meeting their regulatory requirements. Additionally, APRA regularly reviews and updates their prudential standards to ensure that banks are operating in a safe and sound manner.\n",
      "\n",
      "50\n",
      "Question: how does APRA regulate Consumer Protection?\n",
      "Answer:  APRA regulates consumer protection through various measures such as setting prudential standards, conducting on-site inspections, and enforcing compliance with regulations. They also work closely with other regulatory bodies and industry stakeholders to identify and address potential risks to consumers. Additionally, APRA conducts regular reviews and updates of their regulations to ensure they are effective in protecting consumers.\n",
      "\n",
      "51\n",
      "Question: Does the IRS audit my policy?\n",
      "Answer:  I don't have the information to answer this.\n",
      "\n",
      "52\n",
      "Question: Do I need to pay VAT for goods and services?\n",
      "Answer:  I don't have the information to answer this.\n",
      "\n",
      "53\n",
      "Question: How can I register to the Companies House\n",
      "Answer:  I don't have the information to answer this.\n",
      "\n",
      "54\n",
      "Question: Do American banks lend to people less than age 13?\n",
      "Answer:  No, based on the information provided, it appears that American banks do not lend to people less than age 13. The youngest age listed in the data is 5 years old, and the majority of ages listed are above 13. However, this answer may not be definitive as the data may not represent all American banks and their lending practices. \n",
      "\n",
      "55\n",
      "Question: What is the anti competitive law in America\n",
      "Answer:  I don't have the information to answer this.\n",
      "\n",
      "56\n",
      "Question: Will I need to pay tax if I live in Ireland?\n",
      "Answer:  I don't have the information to answer this.\n",
      "\n",
      "57\n",
      "Question: What are the regulations for parking fines?\n",
      "Answer:  I don't have the information to answer this.\n",
      "\n",
      "58\n",
      "Question: What are policies banking in America for Americans?\n",
      "Answer:  I don't have the information to answer this.\n",
      "\n",
      "59\n",
      "Question: Does APRA regulate banks in Italy? \n",
      "Answer:  I don't have the information to answer this.\n",
      "\n",
      "60\n",
      "Question: What are the lending protection in London?\n",
      "Answer:  I don't have the information to answer this.\n",
      "\n",
      "61\n",
      "Question: Does money grow on trees?\n",
      "Answer:  I don't have the information to answer this.\n",
      "\n",
      "62\n",
      "Question: Where are my keys?\n",
      "Answer:  I don't have the information to answer this.\n",
      "\n",
      "63\n",
      "Question: Where is the next petrol station?\n",
      "Answer:  I don't have the information to answer this.\n",
      "\n",
      "64\n",
      "Question: How do I make a good apple pie?\n",
      "Answer:  I don't have the information to answer this.\n",
      "\n",
      "65\n",
      "Question: How do I build Lego Star Wars?\n",
      "Answer:  I don't have the information to answer this.\n",
      "\n",
      "66\n",
      "Question: How many times did my dog bark at stragners?\n",
      "Answer:  I don't have the information to answer this.\n",
      "\n",
      "67\n",
      "Question: Can I grow onions in Autum?\n",
      "Answer:  I don't have the information to answer this.\n",
      "\n"
     ]
    }
   ],
   "source": [
    "# Examine the answers to the questions\n",
    "i=0\n",
    "for question, answer in zip(questions, answers):\n",
    "    i += 1\n",
    "    print(i)\n",
    "    print(f\"Question: {question}\")\n",
    "    print(f\"Answer: {answer}\")\n",
    "    print()"
   ]
  }
 ],
 "metadata": {
  "kernelspec": {
   "display_name": "base",
   "language": "python",
   "name": "python3"
  },
  "language_info": {
   "codemirror_mode": {
    "name": "ipython",
    "version": 3
   },
   "file_extension": ".py",
   "mimetype": "text/x-python",
   "name": "python",
   "nbconvert_exporter": "python",
   "pygments_lexer": "ipython3",
   "version": "3.9.13"
  }
 },
 "nbformat": 4,
 "nbformat_minor": 2
}
