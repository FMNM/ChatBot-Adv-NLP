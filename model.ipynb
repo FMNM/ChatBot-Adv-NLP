{
 "cells": [
  {
   "cell_type": "code",
   "execution_count": 145,
   "metadata": {},
   "outputs": [],
   "source": [
    "import os\n",
    "import json\n",
    "import nltk\n",
    "import re\n",
    "import logging\n",
    "from datasets import load_dataset\n",
    "from nltk.stem import WordNetLemmatizer\n",
    "from nltk.corpus import stopwords\n",
    "from langchain.vectorstores import FAISS\n",
    "from langchain.chains import RetrievalQA\n",
    "from langchain.llms.base import LLM\n",
    "from langchain.prompts import PromptTemplate\n",
    "from langchain.embeddings import HuggingFaceEmbeddings\n",
    "import google.generativeai as genai\n",
    "from google.oauth2 import service_account\n",
    "from pydantic import BaseModel, Field\n",
    "from rouge_score import rouge_scorer\n",
    "import sacrebleu"
   ]
  },
  {
   "cell_type": "code",
   "execution_count": 146,
   "metadata": {},
   "outputs": [],
   "source": [
    "# Set up logging\n",
    "logging.basicConfig(level=logging.INFO)\n",
    "logger = logging.getLogger(__name__)"
   ]
  },
  {
   "cell_type": "code",
   "execution_count": 147,
   "metadata": {},
   "outputs": [
    {
     "name": "stderr",
     "output_type": "stream",
     "text": [
      "[nltk_data] Downloading package punkt to\n",
      "[nltk_data]     C:\\Users\\farha\\AppData\\Roaming\\nltk_data...\n",
      "[nltk_data]   Package punkt is already up-to-date!\n",
      "[nltk_data] Downloading package wordnet to\n",
      "[nltk_data]     C:\\Users\\farha\\AppData\\Roaming\\nltk_data...\n",
      "[nltk_data]   Package wordnet is already up-to-date!\n",
      "[nltk_data] Downloading package stopwords to\n",
      "[nltk_data]     C:\\Users\\farha\\AppData\\Roaming\\nltk_data...\n",
      "[nltk_data]   Package stopwords is already up-to-date!\n"
     ]
    },
    {
     "data": {
      "text/plain": [
       "True"
      ]
     },
     "execution_count": 147,
     "metadata": {},
     "output_type": "execute_result"
    }
   ],
   "source": [
    "# Download required NLTK resources\n",
    "nltk.download(\"punkt\")\n",
    "nltk.download(\"wordnet\")\n",
    "nltk.download(\"stopwords\")"
   ]
  },
  {
   "cell_type": "code",
   "execution_count": 148,
   "metadata": {},
   "outputs": [],
   "source": [
    "# Path to the service account's JSON file\n",
    "service_account_path = \"adv-nlp-uts-faa7595a22eb.json\"\n",
    "\n",
    "# Create credentials using the service account JSON file\n",
    "try:\n",
    "    credentials = service_account.Credentials.from_service_account_file(service_account_path, scopes=[\"https://www.googleapis.com/auth/generative-language\"])\n",
    "except FileNotFoundError:\n",
    "    logger.error(f\"Service account file not found at {service_account_path}.\")\n",
    "    raise\n",
    "except Exception as e:\n",
    "    logger.error(f\"Error creating credentials from the service account file: {e}\")\n",
    "    raise\n",
    "\n",
    "# Configure the Gemini API client with the credentials\n",
    "genai.configure(credentials=credentials)"
   ]
  },
  {
   "cell_type": "code",
   "execution_count": 149,
   "metadata": {},
   "outputs": [],
   "source": [
    "# Initialize lemmatizer and stopwords\n",
    "lemmatizer = WordNetLemmatizer()\n",
    "stop_words = set(stopwords.words(\"english\"))"
   ]
  },
  {
   "cell_type": "code",
   "execution_count": 150,
   "metadata": {},
   "outputs": [],
   "source": [
    "# Define text preprocessing function with lemmatization\n",
    "def preprocess_text(text):\n",
    "    # 1. Strip whitespace\n",
    "    text = text.strip()\n",
    "\n",
    "    # 2. Tokenize the text\n",
    "    tokens = nltk.word_tokenize(text)\n",
    "\n",
    "    # 3. Remove stopwords and apply lemmatization\n",
    "    lemmatized_tokens = [lemmatizer.lemmatize(token.lower()) for token in tokens if token.lower() not in stop_words]\n",
    "\n",
    "    # 4. Join the tokens back into a string\n",
    "    preprocessed_text = \" \".join(lemmatized_tokens)\n",
    "\n",
    "    return preprocessed_text"
   ]
  },
  {
   "cell_type": "code",
   "execution_count": 151,
   "metadata": {},
   "outputs": [],
   "source": [
    "# Load the mental health conversations dataset\n",
    "# dataset = load_dataset(\"RafaelMPereira/HealthCareMagic-100k-Chat-Format-en\")\n",
    "dataset = load_dataset(\"Amod/mental_health_counseling_conversations\")"
   ]
  },
  {
   "cell_type": "code",
   "execution_count": 152,
   "metadata": {},
   "outputs": [],
   "source": [
    "# Combine 'Context' and 'Response' into 'text' field and preprocess\n",
    "def process_entry(entry):\n",
    "    combined_text = f\"Context: {entry['Context']}\\nResponse: {entry['Response']}\"\n",
    "    return {\"text\": preprocess_text(combined_text)}\n",
    "\n",
    "\n",
    "processed_data = [process_entry(entry) for entry in dataset[\"train\"]]"
   ]
  },
  {
   "cell_type": "code",
   "execution_count": 153,
   "metadata": {},
   "outputs": [],
   "source": [
    "# Split documents into chunks if necessary (e.g., max 512 tokens)\n",
    "def chunk_text(text, max_length=512):\n",
    "    tokens = nltk.word_tokenize(text)\n",
    "    chunks = [\" \".join(tokens[i : i + max_length]) for i in range(0, len(tokens), max_length)]\n",
    "    return chunks"
   ]
  },
  {
   "cell_type": "code",
   "execution_count": 154,
   "metadata": {},
   "outputs": [
    {
     "name": "stderr",
     "output_type": "stream",
     "text": [
      "INFO:__main__:Total number of documents after chunking: 3793\n"
     ]
    }
   ],
   "source": [
    "# Create a list of documents for embedding\n",
    "documents = []\n",
    "for item in processed_data:\n",
    "    chunks = chunk_text(item[\"text\"])\n",
    "    documents.extend(chunks)\n",
    "\n",
    "logger.info(f\"Total number of documents after chunking: {len(documents)}\")"
   ]
  },
  {
   "cell_type": "code",
   "execution_count": 155,
   "metadata": {},
   "outputs": [
    {
     "name": "stderr",
     "output_type": "stream",
     "text": [
      "INFO:sentence_transformers.SentenceTransformer:Use pytorch device_name: cuda\n",
      "INFO:sentence_transformers.SentenceTransformer:Load pretrained SentenceTransformer: all-MiniLM-L6-v2\n"
     ]
    }
   ],
   "source": [
    "# Initialize the embeddings model\n",
    "embedding_model_name = \"all-MiniLM-L6-v2\"\n",
    "embeddings = HuggingFaceEmbeddings(model_name=embedding_model_name)\n",
    "\n",
    "# Initialize FAISS vector store\n",
    "vector_store = FAISS.from_texts(documents, embeddings)\n",
    "\n",
    "# Save the vector store locally\n",
    "vector_store.save_local(\"faiss_mental_health_index\")\n",
    "\n",
    "# Load the vector store from disk (for future use)\n",
    "# vector_store = FAISS.load_local(\"faiss_mental_health_index\", embeddings)"
   ]
  },
  {
   "cell_type": "code",
   "execution_count": 156,
   "metadata": {},
   "outputs": [],
   "source": [
    "# Implement the Gemini LLM class\n",
    "class GeminiLLM(LLM, BaseModel):\n",
    "    model_name: str = Field(default=\"gemini-1.5-flash\")\n",
    "    temperature: float = Field(default=0.7)\n",
    "\n",
    "    @property\n",
    "    def _llm_type(self):\n",
    "        return \"gemini\"\n",
    "\n",
    "    def _call(self, prompt: str, stop: list[str] = None) -> str:\n",
    "        try:\n",
    "            # Initialize the model\n",
    "            model = genai.GenerativeModel(model_name=self.model_name)\n",
    "\n",
    "            # Generate content using the Gemini API\n",
    "            response = model.generate_content(\n",
    "                prompt,\n",
    "                # temperature=self.temperature,\n",
    "                # max_output_tokens=512  # The text prompt to generate content from  # Adjust token limit as needed\n",
    "            )\n",
    "\n",
    "            # Extract generated text from the response\n",
    "            generated_text = response.text\n",
    "\n",
    "            # Handle stop tokens if provided\n",
    "            if stop:\n",
    "                for token in stop:\n",
    "                    generated_text = generated_text.split(token)[0]\n",
    "\n",
    "            return generated_text.strip()\n",
    "\n",
    "        except Exception as e:\n",
    "            logger.error(f\"Gemini API error: {e}\")\n",
    "            return \"I'm sorry, but I couldn't process your request at this time.\"\n",
    "\n",
    "\n",
    "# Initialize the Gemini LLM client\n",
    "llm = GeminiLLM(model_name=\"gemini-1.5-flash\", temperature=0.7)\n",
    "\n",
    "# Define a prompt template\n",
    "prompt_template = PromptTemplate(\n",
    "    input_variables=[\"context\", \"question\"],\n",
    "    template=\"\"\"\n",
    "You are a helpful mental health assistant.\n",
    "\n",
    "Use the following context to answer the question.\n",
    "\n",
    "Context:\n",
    "{context}\n",
    "\n",
    "Question:\n",
    "{question}\n",
    "\n",
    "Answer:\"\"\",\n",
    ")"
   ]
  },
  {
   "cell_type": "code",
   "execution_count": 157,
   "metadata": {},
   "outputs": [],
   "source": [
    "# Create a RetrievalQA chain with the custom prompt\n",
    "qa_chain = RetrievalQA.from_chain_type(\n",
    "    llm=llm,\n",
    "    chain_type=\"stuff\",  # You can experiment with 'refine' or 'map_reduce'\n",
    "    retriever=vector_store.as_retriever(search_kwargs={\"k\": 5}),\n",
    "    chain_type_kwargs={\"prompt\": prompt_template},\n",
    "    return_source_documents=True,\n",
    ")"
   ]
  },
  {
   "cell_type": "code",
   "execution_count": 158,
   "metadata": {},
   "outputs": [],
   "source": [
    "# Function to handle user queries\n",
    "def answer_query(query):\n",
    "    try:\n",
    "        response = qa_chain({\"query\": query})\n",
    "        answer = response[\"result\"]\n",
    "        source_docs = response[\"source_documents\"]\n",
    "        print(\"Response:\")\n",
    "        print(answer)\n",
    "        print(\"\\nRelevant Source Documents:\")\n",
    "        for doc in source_docs:\n",
    "            print(doc.metadata.get(\"source\", \"Unknown Source\"))\n",
    "            print(doc.page_content)\n",
    "            print(\"-\" * 80)\n",
    "    except Exception as e:\n",
    "        logger.error(f\"Error during query processing: {e}\")"
   ]
  },
  {
   "cell_type": "code",
   "execution_count": 159,
   "metadata": {},
   "outputs": [
    {
     "name": "stdout",
     "output_type": "stream",
     "text": [
      "Response:\n",
      "Dealing with anxiety effectively requires a multi-pronged approach that combines self-help strategies with professional support. Here's what the provided context suggests:\n",
      "\n",
      "**1. Seek Professional Help:**\n",
      "\n",
      "* **Therapy:**  It's highly recommended to see a therapist specializing in anxiety disorders. They can help you identify underlying causes, develop personalized coping strategies, and guide you through exposure therapy.\n",
      "* **Finding the Right Therapist:** It's crucial to feel comfortable with your therapist as a trusting relationship is essential for effective treatment. \n",
      "\n",
      "**2. Mindfulness and Self-Care:**\n",
      "\n",
      "* **Daily Mindfulness Practice:**  Engage in activities like guided meditation, deep breathing exercises, or yoga to cultivate a sense of calmness and present-moment awareness.\n",
      "* **Positive Self-Talk:**  Challenge negative thoughts and replace them with more optimistic and reassuring self-statements.\n",
      "* **Exposure Therapy:**  Gradually confront anxiety-provoking situations under the guidance of a therapist. This helps desensitize you to triggers and builds confidence.\n",
      "\n",
      "**3. Embrace Acceptance:**\n",
      "\n",
      "* **Acceptance and Commitment Therapy (ACT):**  This approach encourages acceptance of difficult emotions, including anxiety. It emphasizes focusing on values and taking actions aligned with what matters most.\n",
      "\n",
      "**4. Practical Tools:**\n",
      "\n",
      "* **Distraction Techniques:** Engage your mind in activities like listening to audiobooks, counting backwards, or naming cities to shift your focus away from anxious thoughts.\n",
      "* **Sensory Regulation:**  Use cold packs or ice to help calm down and regulate your body's temperature.\n",
      "* **Soothing Self-Talk:**  Use phrases like \"I can handle this\" or \"I've been through this before\" to reassure yourself and manage fear.\n",
      "* **Diaphragmatic Breathing:**  Practice deep abdominal breathing regularly to calm your nervous system. \n",
      "\n",
      "**5. Healthy Lifestyle:**\n",
      "\n",
      "* **Exercise:** Regular physical activity can help manage anxiety and improve mood.\n",
      "* **Diet and Sleep:**  Maintain a balanced diet and get enough sleep to support overall well-being.\n",
      "\n",
      "Remember, anxiety is a common experience and seeking help is a sign of strength. With the right strategies and support, you can learn to manage your anxiety and live a fulfilling life.\n",
      "\n",
      "Relevant Source Documents:\n",
      "Unknown Source\n",
      "Context : I get so much anxiety , and I don ’ t know why . I feel like I can ’ t do anything by myself because I ’ m scared of the outcomes . Response : This is a very common question in my practice . Panic attacks typically emerge from an underlying issue ( ex . Depression , low self-esteem , fears ) . To decrease your anxiety symptoms it ’ s recommended to seek treatment with a therapist who specializes in working with anxiety disorders and most importantly one with whom you feel comfortable with.In my practice I educate clients about their anxiety and discuss building a framework with helpful tools for decreasing anxiety:1 . Starting a daily mindfulness practice . For example : listening to guided meditation ; engaging in deep breathing exercises ; yoga practice ; or other positive calming activities.2 . Understand your negative and positive thoughts . Many times we tend to focus on the potential for bad things to happen . Increase positive self-talk when feeling down or when anxious . For example : `` I do n't need to worry , I am calm and relaxed '' . 3 . Exposure to fearful or anxious situations . This can be accomplished under the care of a mental health professional . Many times we shy away from things that make us feel uncomfortable or insecure . This may led to an increase in isolating behaviors resulting in difficulty in performing things we were once able to do . For example : leaving the house ; presenting in front of others ; going to social events ; and having conversations with people . However , the more we expose ourselves and practice the use of our positive coping skills ( ex . deep breathing ) the chances of anxiety will decrease . I hope this was helpful . Keep in mind , a therapist can help with guiding you through self relaxation and improvement .\n",
      "--------------------------------------------------------------------------------\n",
      "Unknown Source\n",
      "Context : I get so much anxiety , and I don ’ t know why . I feel like I can ’ t do anything by myself because I ’ m scared of the outcomes . Response : This is a very common question in my practice . Panic attacks typically emerge from an underlying issue ( ex . Depression , low self-esteem , fears ) . To decrease your anxiety symptoms it ’ s recommended to seek treatment with a therapist who specializes in working with anxiety disorders and most importantly one with whom you feel comfortable with.In my practice I educate clients about their anxiety and discuss building a framework with helpful tools for decreasing anxiety:1 . Starting a daily mindfulness practice . For example : listening to guided meditation ; engaging in deep breathing exercises ; yoga practice ; or other positive calming activities.2 . Understand your negative and positive thoughts . Many times we tend to focus on the potential for bad things to happen . Increase positive self-talk when feeling down or when anxious . For example : `` I do n't need to worry , I am calm and relaxed '' . 3 . Exposure to fearful or anxious situations . This can be accomplished under the care of a mental health professional . Many times we shy away from things that make us feel uncomfortable or insecure . This may led to an increase in isolating behaviors resulting in difficulty in performing things we were once able to do . For example : leaving the house ; presenting in front of others ; going to social events ; and having conversations with people . However , the more we expose ourselves and practice the use of our positive coping skills ( ex . deep breathing ) the chances of anxiety will decrease . I hope this was helpful . Keep in mind , a therapist can help with guiding you through self relaxation and improvement .\n",
      "--------------------------------------------------------------------------------\n",
      "Unknown Source\n",
      "Context : I started having anxiety three months ago . I 'm new to having anxiety , and it 's making me depressed . Response : As a past sufferer of anxiety myself , I have learned that it is a natural part of life , it is a natural part of us , the longer we try to run from it the more it entangles us in its clutches , if we deny certain parts of ourselves we will become depressed or even oppressed , the only way to deal with anxiety is to embrace it and accept it , and in fighting the fight without fighting we will eventually win , I would encourage you to look into Acceptance and Commitment Therapy , your answer I think lies in that area of research . Hope this helps , C\n",
      "--------------------------------------------------------------------------------\n",
      "Unknown Source\n",
      "Context : I started having anxiety three months ago . I 'm new to having anxiety , and it 's making me depressed . Response : As a past sufferer of anxiety myself , I have learned that it is a natural part of life , it is a natural part of us , the longer we try to run from it the more it entangles us in its clutches , if we deny certain parts of ourselves we will become depressed or even oppressed , the only way to deal with anxiety is to embrace it and accept it , and in fighting the fight without fighting we will eventually win , I would encourage you to look into Acceptance and Commitment Therapy , your answer I think lies in that area of research . Hope this helps , C\n",
      "--------------------------------------------------------------------------------\n",
      "Unknown Source\n",
      "Context : I just took a job that requires me to travel far away from home . My family and I really need this job . People keep telling me I have `` anxiety '' and I 'm terrified of having an anxiety attack on the road . This is all new to me . What can I do ? Response : Anxiety or panic attacks can be very frightening . Here are a few `` tools '' you can use that will help in the short term : Keeping your mind occupied by listening to books on tape may help ; Counting backwards from 100 in 7 's ; Naming cities that begin with each letter of the alphabet ; Keeping some ice or an ice pack in a cooler beside you , which you may take out and hold in your hand or to your face ; Soothing self-talk such as `` This is uncomfortable , but I can handle it '' or `` I 've been through this before and can make it through again '' . I recommend that you seek out a Therapist to help you with some long-term solutions to the anxiety . Additionally , learning to breathe into the abdomen and practicing this daily is another long-term solution . Yoga and meditation would be great !\n",
      "--------------------------------------------------------------------------------\n"
     ]
    }
   ],
   "source": [
    "# Test the RAG system with a query\n",
    "query = \"How can someone deal with anxiety effectively?\"\n",
    "answer_query(query)"
   ]
  },
  {
   "cell_type": "code",
   "execution_count": null,
   "metadata": {},
   "outputs": [],
   "source": [
    "# Evaluation functions\n",
    "def evaluate_rouge(predicted, reference):\n",
    "    scorer = rouge_scorer.RougeScorer([\"rouge1\", \"rougeL\"], use_stemmer=True)\n",
    "    return scorer.score(reference, predicted)\n",
    "\n",
    "\n",
    "def evaluate_bleu(predicted, reference):\n",
    "    bleu = sacrebleu.corpus_bleu([predicted], [[reference]])\n",
    "    return bleu.score\n",
    "\n",
    "\n",
    "def evaluate_f1(predicted, reference):\n",
    "    predicted_tokens = nltk.word_tokenize(predicted)\n",
    "    reference_tokens = nltk.word_tokenize(reference)\n",
    "    common_tokens = set(predicted_tokens) & set(reference_tokens)\n",
    "\n",
    "    precision = len(common_tokens) / len(predicted_tokens) if predicted_tokens else 0\n",
    "    recall = len(common_tokens) / len(reference_tokens) if reference_tokens else 0\n",
    "\n",
    "    if precision + recall == 0:\n",
    "        return 0.0\n",
    "    return 2 * (precision * recall) / (precision + recall)\n",
    "\n",
    "\n",
    "def run_evaluation(file_path):\n",
    "    with open(file_path, \"r\") as f:\n",
    "        data = json.load(f)\n",
    "\n",
    "    rouge_scores, bleu_scores, f1_scores = [], [], []\n",
    "\n",
    "    for entry in data:\n",
    "        question = entry[\"question\"]\n",
    "        reference_answer = entry[\"answer\"]\n",
    "        predicted_answer = answer_query(question)\n",
    "\n",
    "        rouge = evaluate_rouge(predicted_answer, reference_answer)\n",
    "        bleu = evaluate_bleu(predicted_answer, reference_answer)\n",
    "        f1 = evaluate_f1(predicted_answer, reference_answer)\n",
    "\n",
    "        rouge_scores.append(rouge[\"rougeL\"].fmeasure)\n",
    "        bleu_scores.append(bleu)\n",
    "        f1_scores.append(f1)\n",
    "\n",
    "        print(f\"Q: {question}\")\n",
    "        print(f\"Predicted: {predicted_answer}\")\n",
    "        print(f\"Reference: {reference_answer}\")\n",
    "        print(f\"ROUGE-L: {rouge}\")\n",
    "        print(f\"BLEU: {bleu}\")\n",
    "        print(f\"F1: {f1}\")\n",
    "        print(\"-\" * 80)\n",
    "\n",
    "    print(\"\\n=== Evaluation Summary ===\")\n",
    "    print(f\"Average ROUGE-L: {sum(rouge_scores) / len(rouge_scores):.4f}\")\n",
    "    print(f\"Average BLEU: {sum(bleu_scores) / len(bleu_scores):.2f}\")\n",
    "    print(f\"Average F1: {sum(f1_scores) / len(f1_scores):.4f}\")"
   ]
  },
  {
   "cell_type": "code",
   "execution_count": null,
   "metadata": {},
   "outputs": [],
   "source": [
    "run_evaluation(\"questions_answers.json\")"
   ]
  }
 ],
 "metadata": {
  "kernelspec": {
   "display_name": "base",
   "language": "python",
   "name": "python3"
  },
  "language_info": {
   "codemirror_mode": {
    "name": "ipython",
    "version": 3
   },
   "file_extension": ".py",
   "mimetype": "text/x-python",
   "name": "python",
   "nbconvert_exporter": "python",
   "pygments_lexer": "ipython3",
   "version": "3.12.2"
  }
 },
 "nbformat": 4,
 "nbformat_minor": 2
}
