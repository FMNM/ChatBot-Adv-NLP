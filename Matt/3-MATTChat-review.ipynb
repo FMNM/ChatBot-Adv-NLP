{
 "cells": [
  {
   "cell_type": "code",
   "execution_count": 1,
   "metadata": {},
   "outputs": [],
   "source": [
    "import os\n",
    "from langchain import hub\n",
    "from langchain_core.output_parsers import StrOutputParser\n",
    "from langchain_core.runnables import RunnablePassthrough\n",
    "from langchain_ollama import OllamaLLM\n",
    "from langchain.vectorstores import FAISS\n",
    "from langchain_huggingface import HuggingFaceEmbeddings\n",
    "from langchain.document_loaders import DirectoryLoader, PyPDFLoader, CSVLoader\n",
    "from langchain.text_splitter import RecursiveCharacterTextSplitter\n",
    "from pathlib import Path"
   ]
  },
  {
   "cell_type": "code",
   "execution_count": 2,
   "metadata": {},
   "outputs": [],
   "source": [
    "# I've stored my LANGCHAIN_API_KEY definition in a separate file \n",
    "from langsmithkey import *"
   ]
  },
  {
   "cell_type": "code",
   "execution_count": 3,
   "metadata": {},
   "outputs": [
    {
     "name": "stdout",
     "output_type": "stream",
     "text": [
      "d:\\repos\\ChatBot-Adv-NLP\\Matt\n",
      "d:\\repos\\ChatBot-Adv-NLP\n",
      "d:\\repos\\ChatBot-Adv-NLP\\data\\vectorstore\\db_faiss\n",
      "d:\\repos\\ChatBot-Adv-NLP\\data\\apra_standards\\word\n"
     ]
    }
   ],
   "source": [
    "matt_path=Path(os.getcwd())\n",
    "root_path=matt_path.parents[0]\n",
    "db_path=root_path.joinpath(r'data\\vectorstore\\db_faiss')\n",
    "word_path=root_path.joinpath(r'data\\apra_standards\\word')\n",
    "print(matt_path)\n",
    "print(root_path)\n",
    "print(db_path)\n",
    "print(word_path)"
   ]
  },
  {
   "cell_type": "code",
   "execution_count": 4,
   "metadata": {},
   "outputs": [
    {
     "name": "stderr",
     "output_type": "stream",
     "text": [
      "c:\\ProgramData\\anaconda3\\envs\\chain\\lib\\site-packages\\sentence_transformers\\cross_encoder\\CrossEncoder.py:13: TqdmExperimentalWarning: Using `tqdm.autonotebook.tqdm` in notebook mode. Use `tqdm.tqdm` instead to force console mode (e.g. in jupyter console)\n",
      "  from tqdm.autonotebook import tqdm, trange\n"
     ]
    }
   ],
   "source": [
    "llm_model =\"llama3.2\"\n",
    "embedding_model='sentence-transformers/all-MiniLM-L6-v2'\n",
    "embeddings = HuggingFaceEmbeddings(model_name=embedding_model)\n",
    "\n",
    "# From https://api.python.langchain.com/en/latest/vectorstores/langchain_community.vectorstores.faiss.FAISS.html#langchain_community.vectorstores.faiss.FAISS.load_local\n",
    "#       allow_dangerous_deserialization (bool) \n",
    "#           whether to allow deserialization of the data which involves loading a pickle file. \n",
    "#           Pickle files can be modified by malicious actors to deliver a malicious payload \n",
    "#           that results in execution of arbitrary code on your machine.\n",
    "\n",
    "# As I had built this database from scratch, I have no concerns over the use of pickle files...\n",
    "vectorstore = FAISS.load_local(db_path, embeddings, allow_dangerous_deserialization=True)\n",
    "retriever = vectorstore.as_retriever()"
   ]
  },
  {
   "cell_type": "code",
   "execution_count": 5,
   "metadata": {},
   "outputs": [],
   "source": [
    "llm = OllamaLLM(model=\"llama3.2\")"
   ]
  },
  {
   "cell_type": "code",
   "execution_count": 6,
   "metadata": {},
   "outputs": [
    {
     "data": {
      "text/plain": [
       "\"Risk-weighted assets (RWA) refer to the amount of a bank's assets that are subject to specific capital requirements. RWA is calculated using standardized approaches or internal rating-based approaches and is used to determine an institution's capital adequacy. It includes securitisation exposures, operational risk, market risk, and counterparty credit risk.\""
      ]
     },
     "execution_count": 6,
     "metadata": {},
     "output_type": "execute_result"
    }
   ],
   "source": [
    "prompt = hub.pull(\"rlm/rag-prompt\")\n",
    "\n",
    "\n",
    "def format_docs(docs):\n",
    "    return \"\\n\\n\".join(doc.page_content for doc in docs)\n",
    "\n",
    "\n",
    "rag_chain = (\n",
    "    {\"context\": retriever | format_docs, \"question\": RunnablePassthrough()}\n",
    "    | prompt\n",
    "    | llm\n",
    "    | StrOutputParser()\n",
    ")\n",
    "\n",
    "rag_chain.invoke(\"What is RWA?\")"
   ]
  }
 ],
 "metadata": {
  "kernelspec": {
   "display_name": "chain",
   "language": "python",
   "name": "python3"
  },
  "language_info": {
   "codemirror_mode": {
    "name": "ipython",
    "version": 3
   },
   "file_extension": ".py",
   "mimetype": "text/x-python",
   "name": "python",
   "nbconvert_exporter": "python",
   "pygments_lexer": "ipython3",
   "version": "3.10.15"
  }
 },
 "nbformat": 4,
 "nbformat_minor": 2
}
