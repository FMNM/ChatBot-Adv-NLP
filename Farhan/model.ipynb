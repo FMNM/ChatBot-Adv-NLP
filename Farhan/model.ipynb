{
 "cells": [
  {
   "cell_type": "code",
   "execution_count": 1,
   "metadata": {},
   "outputs": [],
   "source": [
    "import os\n",
    "import nltk\n",
    "import logging\n",
    "from nltk.stem import WordNetLemmatizer\n",
    "from nltk.corpus import stopwords\n",
    "from langchain.vectorstores import FAISS\n",
    "from langchain.chains import RetrievalQA\n",
    "from langchain.llms.base import LLM\n",
    "from langchain.prompts import PromptTemplate\n",
    "from langchain.embeddings import HuggingFaceEmbeddings\n",
    "import google.generativeai as genai\n",
    "from google.oauth2 import service_account\n",
    "from pydantic import BaseModel, Field\n",
    "from rouge_score import rouge_scorer\n",
    "from collections import Counter\n",
    "import re\n",
    "import sacrebleu\n",
    "from collections import Counter\n",
    "from docx import Document as DocxDocument\n",
    "from tqdm.notebook import tqdm\n",
    "from langchain.docstore.document import Document as LangchainDocument\n",
    "from langchain.text_splitter import RecursiveCharacterTextSplitter\n",
    "import pandas as pd\n",
    "from bert_score import score\n",
    "from sentence_transformers import SentenceTransformer\n",
    "from sklearn.metrics.pairwise import cosine_similarity\n",
    "import numpy as np"
   ]
  },
  {
   "cell_type": "code",
   "execution_count": 2,
   "metadata": {},
   "outputs": [],
   "source": [
    "# Set up logging\n",
    "logging.basicConfig(level=logging.INFO)\n",
    "logger = logging.getLogger(__name__)"
   ]
  },
  {
   "cell_type": "code",
   "execution_count": 3,
   "metadata": {},
   "outputs": [
    {
     "name": "stderr",
     "output_type": "stream",
     "text": [
      "[nltk_data] Downloading package punkt to\n",
      "[nltk_data]     C:\\Users\\farha\\AppData\\Roaming\\nltk_data...\n",
      "[nltk_data]   Package punkt is already up-to-date!\n",
      "[nltk_data] Downloading package wordnet to\n",
      "[nltk_data]     C:\\Users\\farha\\AppData\\Roaming\\nltk_data...\n",
      "[nltk_data]   Package wordnet is already up-to-date!\n",
      "[nltk_data] Downloading package stopwords to\n",
      "[nltk_data]     C:\\Users\\farha\\AppData\\Roaming\\nltk_data...\n",
      "[nltk_data]   Package stopwords is already up-to-date!\n"
     ]
    },
    {
     "data": {
      "text/plain": [
       "True"
      ]
     },
     "execution_count": 3,
     "metadata": {},
     "output_type": "execute_result"
    }
   ],
   "source": [
    "# Download required NLTK resources\n",
    "nltk.download(\"punkt\")\n",
    "nltk.download(\"wordnet\")\n",
    "nltk.download(\"stopwords\")"
   ]
  },
  {
   "cell_type": "markdown",
   "metadata": {},
   "source": [
    "### Data Preprocessing"
   ]
  },
  {
   "cell_type": "code",
   "execution_count": 4,
   "metadata": {},
   "outputs": [],
   "source": [
    "# Initialize lemmatizer and stopwords\n",
    "lemmatizer = WordNetLemmatizer()\n",
    "stop_words = set(stopwords.words(\"english\"))"
   ]
  },
  {
   "cell_type": "code",
   "execution_count": 5,
   "metadata": {},
   "outputs": [],
   "source": [
    "# Define text preprocessing function with lemmatization\n",
    "def preprocess_text(text):\n",
    "    # 1. Strip whitespace\n",
    "    text = text.strip()\n",
    "\n",
    "    # 2. Remove special characters and numbers (optional, depending on requirements)\n",
    "    text = re.sub(r\"[^a-zA-Z\\s]\", \"\", text)\n",
    "\n",
    "    # 3. Tokenize the text\n",
    "    tokens = nltk.word_tokenize(text)\n",
    "\n",
    "    # 4. Remove stopwords and apply lemmatization\n",
    "    lemmatized_tokens = [lemmatizer.lemmatize(token.lower()) for token in tqdm(tokens, desc=\"Processing tokens\") if token.lower() not in stop_words]\n",
    "\n",
    "    # 5. Join the tokens back into a string\n",
    "    preprocessed_text = \" \".join(lemmatized_tokens)\n",
    "\n",
    "    return preprocessed_text"
   ]
  },
  {
   "cell_type": "code",
   "execution_count": 6,
   "metadata": {},
   "outputs": [],
   "source": [
    "# Read .docx files from 'dataset/word_standards' folder\n",
    "def read_docx_files(folder_path):\n",
    "    documents = []\n",
    "    for filename in tqdm(os.listdir(folder_path), desc=\"Reading .docx files\"):\n",
    "        if filename.endswith(\".docx\"):\n",
    "            file_path = os.path.join(folder_path, filename)\n",
    "            try:\n",
    "                docx_doc = DocxDocument(file_path)\n",
    "                full_text = []\n",
    "                for para in docx_doc.paragraphs:\n",
    "                    full_text.append(para.text)\n",
    "                text = \"\\n\".join(full_text)\n",
    "                # Create a LangChain Document object with text and metadata\n",
    "                langchain_doc = LangchainDocument(page_content=text, metadata={\"source\": filename})\n",
    "                documents.append(langchain_doc)\n",
    "            except Exception as e:\n",
    "                logger.error(f\"Error reading {file_path}: {e}\")\n",
    "    return documents"
   ]
  },
  {
   "cell_type": "code",
   "execution_count": 7,
   "metadata": {},
   "outputs": [
    {
     "data": {
      "application/vnd.jupyter.widget-view+json": {
       "model_id": "71982c61b3914de58cd5dbae338bbdd7",
       "version_major": 2,
       "version_minor": 0
      },
      "text/plain": [
       "Reading .docx files:   0%|          | 0/91 [00:00<?, ?it/s]"
      ]
     },
     "metadata": {},
     "output_type": "display_data"
    }
   ],
   "source": [
    "# Load and preprocess documents from the folder\n",
    "folder_path = \"../data/word_standards\"\n",
    "documents = read_docx_files(folder_path)"
   ]
  },
  {
   "cell_type": "code",
   "execution_count": 8,
   "metadata": {},
   "outputs": [
    {
     "data": {
      "application/vnd.jupyter.widget-view+json": {
       "model_id": "c0c652deff0f4f96b9c2e9fe264df712",
       "version_major": 2,
       "version_minor": 0
      },
      "text/plain": [
       "Processing tokens:   0%|          | 0/5660 [00:00<?, ?it/s]"
      ]
     },
     "metadata": {},
     "output_type": "display_data"
    },
    {
     "data": {
      "application/vnd.jupyter.widget-view+json": {
       "model_id": "d1f177eb0c5645fb90fe25488137ec54",
       "version_major": 2,
       "version_minor": 0
      },
      "text/plain": [
       "Processing tokens:   0%|          | 0/1495 [00:00<?, ?it/s]"
      ]
     },
     "metadata": {},
     "output_type": "display_data"
    },
    {
     "data": {
      "application/vnd.jupyter.widget-view+json": {
       "model_id": "0ed31d10793f44e98edecca65ebaa475",
       "version_major": 2,
       "version_minor": 0
      },
      "text/plain": [
       "Processing tokens:   0%|          | 0/2294 [00:00<?, ?it/s]"
      ]
     },
     "metadata": {},
     "output_type": "display_data"
    },
    {
     "data": {
      "application/vnd.jupyter.widget-view+json": {
       "model_id": "5112a928170c489fbd9f6038460a7088",
       "version_major": 2,
       "version_minor": 0
      },
      "text/plain": [
       "Processing tokens:   0%|          | 0/1500 [00:00<?, ?it/s]"
      ]
     },
     "metadata": {},
     "output_type": "display_data"
    },
    {
     "data": {
      "application/vnd.jupyter.widget-view+json": {
       "model_id": "12530493f8db40d59d7d12be9b2c6c20",
       "version_major": 2,
       "version_minor": 0
      },
      "text/plain": [
       "Processing tokens:   0%|          | 0/3281 [00:00<?, ?it/s]"
      ]
     },
     "metadata": {},
     "output_type": "display_data"
    },
    {
     "data": {
      "application/vnd.jupyter.widget-view+json": {
       "model_id": "7c61717374354013adc7f60688543db8",
       "version_major": 2,
       "version_minor": 0
      },
      "text/plain": [
       "Processing tokens:   0%|          | 0/2210 [00:00<?, ?it/s]"
      ]
     },
     "metadata": {},
     "output_type": "display_data"
    },
    {
     "data": {
      "application/vnd.jupyter.widget-view+json": {
       "model_id": "e81b30439a2f4845a6e8eeba497f36e9",
       "version_major": 2,
       "version_minor": 0
      },
      "text/plain": [
       "Processing tokens:   0%|          | 0/2094 [00:00<?, ?it/s]"
      ]
     },
     "metadata": {},
     "output_type": "display_data"
    },
    {
     "data": {
      "application/vnd.jupyter.widget-view+json": {
       "model_id": "a36489d96d574bd289648e977170db42",
       "version_major": 2,
       "version_minor": 0
      },
      "text/plain": [
       "Processing tokens:   0%|          | 0/4567 [00:00<?, ?it/s]"
      ]
     },
     "metadata": {},
     "output_type": "display_data"
    },
    {
     "data": {
      "application/vnd.jupyter.widget-view+json": {
       "model_id": "82e6de651dbb4626811ce8bdc10bfaf0",
       "version_major": 2,
       "version_minor": 0
      },
      "text/plain": [
       "Processing tokens:   0%|          | 0/5778 [00:00<?, ?it/s]"
      ]
     },
     "metadata": {},
     "output_type": "display_data"
    },
    {
     "data": {
      "application/vnd.jupyter.widget-view+json": {
       "model_id": "5bada15437d844079398badff5c56e09",
       "version_major": 2,
       "version_minor": 0
      },
      "text/plain": [
       "Processing tokens:   0%|          | 0/5287 [00:00<?, ?it/s]"
      ]
     },
     "metadata": {},
     "output_type": "display_data"
    },
    {
     "data": {
      "application/vnd.jupyter.widget-view+json": {
       "model_id": "45007ca346814628ab440fd4bcf6e101",
       "version_major": 2,
       "version_minor": 0
      },
      "text/plain": [
       "Processing tokens:   0%|          | 0/2395 [00:00<?, ?it/s]"
      ]
     },
     "metadata": {},
     "output_type": "display_data"
    },
    {
     "data": {
      "application/vnd.jupyter.widget-view+json": {
       "model_id": "80b9a7d3f7644e87a161e3bc34d3b6ca",
       "version_major": 2,
       "version_minor": 0
      },
      "text/plain": [
       "Processing tokens:   0%|          | 0/1981 [00:00<?, ?it/s]"
      ]
     },
     "metadata": {},
     "output_type": "display_data"
    },
    {
     "data": {
      "application/vnd.jupyter.widget-view+json": {
       "model_id": "8439366b850049a48f949c74f7c16b24",
       "version_major": 2,
       "version_minor": 0
      },
      "text/plain": [
       "Processing tokens:   0%|          | 0/1686 [00:00<?, ?it/s]"
      ]
     },
     "metadata": {},
     "output_type": "display_data"
    },
    {
     "data": {
      "application/vnd.jupyter.widget-view+json": {
       "model_id": "8c113dddb02d4793b82580050850e1d0",
       "version_major": 2,
       "version_minor": 0
      },
      "text/plain": [
       "Processing tokens:   0%|          | 0/3591 [00:00<?, ?it/s]"
      ]
     },
     "metadata": {},
     "output_type": "display_data"
    },
    {
     "data": {
      "application/vnd.jupyter.widget-view+json": {
       "model_id": "a5b12bc0972c4510a78b92950cafeff6",
       "version_major": 2,
       "version_minor": 0
      },
      "text/plain": [
       "Processing tokens:   0%|          | 0/2411 [00:00<?, ?it/s]"
      ]
     },
     "metadata": {},
     "output_type": "display_data"
    },
    {
     "data": {
      "application/vnd.jupyter.widget-view+json": {
       "model_id": "2e82d09e0a294a24a76031df50b6bb14",
       "version_major": 2,
       "version_minor": 0
      },
      "text/plain": [
       "Processing tokens:   0%|          | 0/2151 [00:00<?, ?it/s]"
      ]
     },
     "metadata": {},
     "output_type": "display_data"
    },
    {
     "data": {
      "application/vnd.jupyter.widget-view+json": {
       "model_id": "f923bf86268a400d902c04ecd9816202",
       "version_major": 2,
       "version_minor": 0
      },
      "text/plain": [
       "Processing tokens:   0%|          | 0/2390 [00:00<?, ?it/s]"
      ]
     },
     "metadata": {},
     "output_type": "display_data"
    },
    {
     "data": {
      "application/vnd.jupyter.widget-view+json": {
       "model_id": "1ca2191f733a45c7ae453a36236ac934",
       "version_major": 2,
       "version_minor": 0
      },
      "text/plain": [
       "Processing tokens:   0%|          | 0/2426 [00:00<?, ?it/s]"
      ]
     },
     "metadata": {},
     "output_type": "display_data"
    },
    {
     "data": {
      "application/vnd.jupyter.widget-view+json": {
       "model_id": "f02c37c8961a454b8918edec1625745c",
       "version_major": 2,
       "version_minor": 0
      },
      "text/plain": [
       "Processing tokens:   0%|          | 0/4136 [00:00<?, ?it/s]"
      ]
     },
     "metadata": {},
     "output_type": "display_data"
    },
    {
     "data": {
      "application/vnd.jupyter.widget-view+json": {
       "model_id": "a71f2c7957544600801fb10a364917a0",
       "version_major": 2,
       "version_minor": 0
      },
      "text/plain": [
       "Processing tokens:   0%|          | 0/2958 [00:00<?, ?it/s]"
      ]
     },
     "metadata": {},
     "output_type": "display_data"
    },
    {
     "data": {
      "application/vnd.jupyter.widget-view+json": {
       "model_id": "4a0c44b1d77d42b38edb96de220afd02",
       "version_major": 2,
       "version_minor": 0
      },
      "text/plain": [
       "Processing tokens:   0%|          | 0/2414 [00:00<?, ?it/s]"
      ]
     },
     "metadata": {},
     "output_type": "display_data"
    },
    {
     "data": {
      "application/vnd.jupyter.widget-view+json": {
       "model_id": "2b8d131e3ce242fabe44eb72a57a98d1",
       "version_major": 2,
       "version_minor": 0
      },
      "text/plain": [
       "Processing tokens:   0%|          | 0/4691 [00:00<?, ?it/s]"
      ]
     },
     "metadata": {},
     "output_type": "display_data"
    },
    {
     "data": {
      "application/vnd.jupyter.widget-view+json": {
       "model_id": "022a0d4e295f4be58c7512c91b2c5ec0",
       "version_major": 2,
       "version_minor": 0
      },
      "text/plain": [
       "Processing tokens:   0%|          | 0/1732 [00:00<?, ?it/s]"
      ]
     },
     "metadata": {},
     "output_type": "display_data"
    },
    {
     "data": {
      "application/vnd.jupyter.widget-view+json": {
       "model_id": "081650188d7349a08ff57a1fdff2ae83",
       "version_major": 2,
       "version_minor": 0
      },
      "text/plain": [
       "Processing tokens:   0%|          | 0/5873 [00:00<?, ?it/s]"
      ]
     },
     "metadata": {},
     "output_type": "display_data"
    },
    {
     "data": {
      "application/vnd.jupyter.widget-view+json": {
       "model_id": "73d4cdd0ba9449b3a66fa0176c91eea6",
       "version_major": 2,
       "version_minor": 0
      },
      "text/plain": [
       "Processing tokens:   0%|          | 0/2143 [00:00<?, ?it/s]"
      ]
     },
     "metadata": {},
     "output_type": "display_data"
    },
    {
     "data": {
      "application/vnd.jupyter.widget-view+json": {
       "model_id": "d0d8ee097f0d45098f14f57c198ce991",
       "version_major": 2,
       "version_minor": 0
      },
      "text/plain": [
       "Processing tokens:   0%|          | 0/1625 [00:00<?, ?it/s]"
      ]
     },
     "metadata": {},
     "output_type": "display_data"
    },
    {
     "data": {
      "application/vnd.jupyter.widget-view+json": {
       "model_id": "2474ba96ba66425782cfaacf4f9af25a",
       "version_major": 2,
       "version_minor": 0
      },
      "text/plain": [
       "Processing tokens:   0%|          | 0/4335 [00:00<?, ?it/s]"
      ]
     },
     "metadata": {},
     "output_type": "display_data"
    },
    {
     "data": {
      "application/vnd.jupyter.widget-view+json": {
       "model_id": "df75796f1a9347cd89ab3b4c23c715b0",
       "version_major": 2,
       "version_minor": 0
      },
      "text/plain": [
       "Processing tokens:   0%|          | 0/2313 [00:00<?, ?it/s]"
      ]
     },
     "metadata": {},
     "output_type": "display_data"
    },
    {
     "data": {
      "application/vnd.jupyter.widget-view+json": {
       "model_id": "75a4b4b48c7e465a8e559581391f9cb4",
       "version_major": 2,
       "version_minor": 0
      },
      "text/plain": [
       "Processing tokens:   0%|          | 0/11415 [00:00<?, ?it/s]"
      ]
     },
     "metadata": {},
     "output_type": "display_data"
    },
    {
     "data": {
      "application/vnd.jupyter.widget-view+json": {
       "model_id": "1de2e80255114e19a4f45b86fd9c069a",
       "version_major": 2,
       "version_minor": 0
      },
      "text/plain": [
       "Processing tokens:   0%|          | 0/13090 [00:00<?, ?it/s]"
      ]
     },
     "metadata": {},
     "output_type": "display_data"
    },
    {
     "data": {
      "application/vnd.jupyter.widget-view+json": {
       "model_id": "c186612d8921426e8508d97146f0fdbb",
       "version_major": 2,
       "version_minor": 0
      },
      "text/plain": [
       "Processing tokens:   0%|          | 0/2792 [00:00<?, ?it/s]"
      ]
     },
     "metadata": {},
     "output_type": "display_data"
    },
    {
     "data": {
      "application/vnd.jupyter.widget-view+json": {
       "model_id": "484c77915beb4becaa0986df9661533c",
       "version_major": 2,
       "version_minor": 0
      },
      "text/plain": [
       "Processing tokens:   0%|          | 0/1475 [00:00<?, ?it/s]"
      ]
     },
     "metadata": {},
     "output_type": "display_data"
    },
    {
     "data": {
      "application/vnd.jupyter.widget-view+json": {
       "model_id": "69f7df1b8e0f4979a099a5b01ee480d2",
       "version_major": 2,
       "version_minor": 0
      },
      "text/plain": [
       "Processing tokens:   0%|          | 0/1469 [00:00<?, ?it/s]"
      ]
     },
     "metadata": {},
     "output_type": "display_data"
    },
    {
     "data": {
      "application/vnd.jupyter.widget-view+json": {
       "model_id": "9b4d7da5d01c44daa1a9e1b648386c7e",
       "version_major": 2,
       "version_minor": 0
      },
      "text/plain": [
       "Processing tokens:   0%|          | 0/1390 [00:00<?, ?it/s]"
      ]
     },
     "metadata": {},
     "output_type": "display_data"
    },
    {
     "data": {
      "application/vnd.jupyter.widget-view+json": {
       "model_id": "02fe9f6c378c41e0aa594b23dde34cbd",
       "version_major": 2,
       "version_minor": 0
      },
      "text/plain": [
       "Processing tokens:   0%|          | 0/3035 [00:00<?, ?it/s]"
      ]
     },
     "metadata": {},
     "output_type": "display_data"
    },
    {
     "data": {
      "application/vnd.jupyter.widget-view+json": {
       "model_id": "cbd0d0b1cf2445ab874d96a3164d7755",
       "version_major": 2,
       "version_minor": 0
      },
      "text/plain": [
       "Processing tokens:   0%|          | 0/3170 [00:00<?, ?it/s]"
      ]
     },
     "metadata": {},
     "output_type": "display_data"
    },
    {
     "data": {
      "application/vnd.jupyter.widget-view+json": {
       "model_id": "f02cb81475af41c5a6329bc76936f1e0",
       "version_major": 2,
       "version_minor": 0
      },
      "text/plain": [
       "Processing tokens:   0%|          | 0/4989 [00:00<?, ?it/s]"
      ]
     },
     "metadata": {},
     "output_type": "display_data"
    },
    {
     "data": {
      "application/vnd.jupyter.widget-view+json": {
       "model_id": "662d93d2f0d04e5aafdaf52d08163280",
       "version_major": 2,
       "version_minor": 0
      },
      "text/plain": [
       "Processing tokens:   0%|          | 0/1801 [00:00<?, ?it/s]"
      ]
     },
     "metadata": {},
     "output_type": "display_data"
    },
    {
     "data": {
      "application/vnd.jupyter.widget-view+json": {
       "model_id": "6df710d66d4e4bc8a54ddfed8ac69e1a",
       "version_major": 2,
       "version_minor": 0
      },
      "text/plain": [
       "Processing tokens:   0%|          | 0/2859 [00:00<?, ?it/s]"
      ]
     },
     "metadata": {},
     "output_type": "display_data"
    },
    {
     "data": {
      "application/vnd.jupyter.widget-view+json": {
       "model_id": "39bc9d48ca2f453aaafd55d03af54c50",
       "version_major": 2,
       "version_minor": 0
      },
      "text/plain": [
       "Processing tokens:   0%|          | 0/1616 [00:00<?, ?it/s]"
      ]
     },
     "metadata": {},
     "output_type": "display_data"
    },
    {
     "data": {
      "application/vnd.jupyter.widget-view+json": {
       "model_id": "92e4ada7ee294d18964d2cd05f01d0da",
       "version_major": 2,
       "version_minor": 0
      },
      "text/plain": [
       "Processing tokens:   0%|          | 0/3074 [00:00<?, ?it/s]"
      ]
     },
     "metadata": {},
     "output_type": "display_data"
    },
    {
     "data": {
      "application/vnd.jupyter.widget-view+json": {
       "model_id": "b188017b3d224eaa80acfda1f4575687",
       "version_major": 2,
       "version_minor": 0
      },
      "text/plain": [
       "Processing tokens:   0%|          | 0/3097 [00:00<?, ?it/s]"
      ]
     },
     "metadata": {},
     "output_type": "display_data"
    },
    {
     "data": {
      "application/vnd.jupyter.widget-view+json": {
       "model_id": "5648215c570a4215ab4f04d65d5b0a62",
       "version_major": 2,
       "version_minor": 0
      },
      "text/plain": [
       "Processing tokens:   0%|          | 0/2606 [00:00<?, ?it/s]"
      ]
     },
     "metadata": {},
     "output_type": "display_data"
    },
    {
     "data": {
      "application/vnd.jupyter.widget-view+json": {
       "model_id": "863c0446739a4e7f968d7b6b8d3d4536",
       "version_major": 2,
       "version_minor": 0
      },
      "text/plain": [
       "Processing tokens:   0%|          | 0/1730 [00:00<?, ?it/s]"
      ]
     },
     "metadata": {},
     "output_type": "display_data"
    },
    {
     "data": {
      "application/vnd.jupyter.widget-view+json": {
       "model_id": "14d678184b2546998d37b168bf5c0210",
       "version_major": 2,
       "version_minor": 0
      },
      "text/plain": [
       "Processing tokens:   0%|          | 0/2163 [00:00<?, ?it/s]"
      ]
     },
     "metadata": {},
     "output_type": "display_data"
    },
    {
     "data": {
      "application/vnd.jupyter.widget-view+json": {
       "model_id": "a311f45c21aa4e34824a519aa888d1ec",
       "version_major": 2,
       "version_minor": 0
      },
      "text/plain": [
       "Processing tokens:   0%|          | 0/4040 [00:00<?, ?it/s]"
      ]
     },
     "metadata": {},
     "output_type": "display_data"
    },
    {
     "data": {
      "application/vnd.jupyter.widget-view+json": {
       "model_id": "d1b039e89df54729bc953db501334306",
       "version_major": 2,
       "version_minor": 0
      },
      "text/plain": [
       "Processing tokens:   0%|          | 0/1623 [00:00<?, ?it/s]"
      ]
     },
     "metadata": {},
     "output_type": "display_data"
    },
    {
     "data": {
      "application/vnd.jupyter.widget-view+json": {
       "model_id": "3f3d2d4b244342d5abff7188955ec031",
       "version_major": 2,
       "version_minor": 0
      },
      "text/plain": [
       "Processing tokens:   0%|          | 0/1728 [00:00<?, ?it/s]"
      ]
     },
     "metadata": {},
     "output_type": "display_data"
    },
    {
     "data": {
      "application/vnd.jupyter.widget-view+json": {
       "model_id": "77a6dd74fb354aefbeaa490c4ec9fa81",
       "version_major": 2,
       "version_minor": 0
      },
      "text/plain": [
       "Processing tokens:   0%|          | 0/1868 [00:00<?, ?it/s]"
      ]
     },
     "metadata": {},
     "output_type": "display_data"
    },
    {
     "data": {
      "application/vnd.jupyter.widget-view+json": {
       "model_id": "4a1a6c2953944a91bd9514a7ce29ae8e",
       "version_major": 2,
       "version_minor": 0
      },
      "text/plain": [
       "Processing tokens:   0%|          | 0/4897 [00:00<?, ?it/s]"
      ]
     },
     "metadata": {},
     "output_type": "display_data"
    },
    {
     "data": {
      "application/vnd.jupyter.widget-view+json": {
       "model_id": "c933d622b4f340e38dd59cb984a3eee6",
       "version_major": 2,
       "version_minor": 0
      },
      "text/plain": [
       "Processing tokens:   0%|          | 0/1952 [00:00<?, ?it/s]"
      ]
     },
     "metadata": {},
     "output_type": "display_data"
    },
    {
     "data": {
      "application/vnd.jupyter.widget-view+json": {
       "model_id": "e4cc62ada7444dc29967e34a31cd80e0",
       "version_major": 2,
       "version_minor": 0
      },
      "text/plain": [
       "Processing tokens:   0%|          | 0/4528 [00:00<?, ?it/s]"
      ]
     },
     "metadata": {},
     "output_type": "display_data"
    },
    {
     "data": {
      "application/vnd.jupyter.widget-view+json": {
       "model_id": "b4838dd47ccf465ea255d55ba1d1800e",
       "version_major": 2,
       "version_minor": 0
      },
      "text/plain": [
       "Processing tokens:   0%|          | 0/1692 [00:00<?, ?it/s]"
      ]
     },
     "metadata": {},
     "output_type": "display_data"
    },
    {
     "data": {
      "application/vnd.jupyter.widget-view+json": {
       "model_id": "7f1a95cbe10c495293b3c704a379447e",
       "version_major": 2,
       "version_minor": 0
      },
      "text/plain": [
       "Processing tokens:   0%|          | 0/2763 [00:00<?, ?it/s]"
      ]
     },
     "metadata": {},
     "output_type": "display_data"
    },
    {
     "data": {
      "application/vnd.jupyter.widget-view+json": {
       "model_id": "ba38373a9f9f4e01b59122af2bb14287",
       "version_major": 2,
       "version_minor": 0
      },
      "text/plain": [
       "Processing tokens:   0%|          | 0/3139 [00:00<?, ?it/s]"
      ]
     },
     "metadata": {},
     "output_type": "display_data"
    },
    {
     "data": {
      "application/vnd.jupyter.widget-view+json": {
       "model_id": "e1380e5487ba40278016600a3e90de40",
       "version_major": 2,
       "version_minor": 0
      },
      "text/plain": [
       "Processing tokens:   0%|          | 0/1585 [00:00<?, ?it/s]"
      ]
     },
     "metadata": {},
     "output_type": "display_data"
    },
    {
     "data": {
      "application/vnd.jupyter.widget-view+json": {
       "model_id": "12c657d4488e4b16a9396d01ae056181",
       "version_major": 2,
       "version_minor": 0
      },
      "text/plain": [
       "Processing tokens:   0%|          | 0/1921 [00:00<?, ?it/s]"
      ]
     },
     "metadata": {},
     "output_type": "display_data"
    },
    {
     "data": {
      "application/vnd.jupyter.widget-view+json": {
       "model_id": "1b236a2208e84d3e888af30103d4d47a",
       "version_major": 2,
       "version_minor": 0
      },
      "text/plain": [
       "Processing tokens:   0%|          | 0/2893 [00:00<?, ?it/s]"
      ]
     },
     "metadata": {},
     "output_type": "display_data"
    },
    {
     "data": {
      "application/vnd.jupyter.widget-view+json": {
       "model_id": "dd4743b57c3b47dd9a5d1398338b06e2",
       "version_major": 2,
       "version_minor": 0
      },
      "text/plain": [
       "Processing tokens:   0%|          | 0/2848 [00:00<?, ?it/s]"
      ]
     },
     "metadata": {},
     "output_type": "display_data"
    },
    {
     "data": {
      "application/vnd.jupyter.widget-view+json": {
       "model_id": "4d51936c281645a39e30e0b256b160c9",
       "version_major": 2,
       "version_minor": 0
      },
      "text/plain": [
       "Processing tokens:   0%|          | 0/1925 [00:00<?, ?it/s]"
      ]
     },
     "metadata": {},
     "output_type": "display_data"
    },
    {
     "data": {
      "application/vnd.jupyter.widget-view+json": {
       "model_id": "073ccd86aca04ba589684992b5f1abb8",
       "version_major": 2,
       "version_minor": 0
      },
      "text/plain": [
       "Processing tokens:   0%|          | 0/3549 [00:00<?, ?it/s]"
      ]
     },
     "metadata": {},
     "output_type": "display_data"
    },
    {
     "data": {
      "application/vnd.jupyter.widget-view+json": {
       "model_id": "54c61f62a54a4e6196e884c15590c391",
       "version_major": 2,
       "version_minor": 0
      },
      "text/plain": [
       "Processing tokens:   0%|          | 0/21832 [00:00<?, ?it/s]"
      ]
     },
     "metadata": {},
     "output_type": "display_data"
    },
    {
     "data": {
      "application/vnd.jupyter.widget-view+json": {
       "model_id": "763b0d12e29246929d122a4247f38875",
       "version_major": 2,
       "version_minor": 0
      },
      "text/plain": [
       "Processing tokens:   0%|          | 0/1566 [00:00<?, ?it/s]"
      ]
     },
     "metadata": {},
     "output_type": "display_data"
    },
    {
     "data": {
      "application/vnd.jupyter.widget-view+json": {
       "model_id": "0379cba2398a45169ac56fc8fcc5bd78",
       "version_major": 2,
       "version_minor": 0
      },
      "text/plain": [
       "Processing tokens:   0%|          | 0/19434 [00:00<?, ?it/s]"
      ]
     },
     "metadata": {},
     "output_type": "display_data"
    },
    {
     "data": {
      "application/vnd.jupyter.widget-view+json": {
       "model_id": "f02c77db10bd4820962bed43e0fccd2b",
       "version_major": 2,
       "version_minor": 0
      },
      "text/plain": [
       "Processing tokens:   0%|          | 0/2652 [00:00<?, ?it/s]"
      ]
     },
     "metadata": {},
     "output_type": "display_data"
    },
    {
     "data": {
      "application/vnd.jupyter.widget-view+json": {
       "model_id": "8d4a128560e94efe83e3bcda107f043e",
       "version_major": 2,
       "version_minor": 0
      },
      "text/plain": [
       "Processing tokens:   0%|          | 0/2863 [00:00<?, ?it/s]"
      ]
     },
     "metadata": {},
     "output_type": "display_data"
    },
    {
     "data": {
      "application/vnd.jupyter.widget-view+json": {
       "model_id": "2894538790ba40838bd10ed256fecf5b",
       "version_major": 2,
       "version_minor": 0
      },
      "text/plain": [
       "Processing tokens:   0%|          | 0/10037 [00:00<?, ?it/s]"
      ]
     },
     "metadata": {},
     "output_type": "display_data"
    },
    {
     "data": {
      "application/vnd.jupyter.widget-view+json": {
       "model_id": "b12167147d9c4174a5b7f62da723a9ef",
       "version_major": 2,
       "version_minor": 0
      },
      "text/plain": [
       "Processing tokens:   0%|          | 0/5124 [00:00<?, ?it/s]"
      ]
     },
     "metadata": {},
     "output_type": "display_data"
    },
    {
     "data": {
      "application/vnd.jupyter.widget-view+json": {
       "model_id": "9fb4def3136148df952450b49ec97943",
       "version_major": 2,
       "version_minor": 0
      },
      "text/plain": [
       "Processing tokens:   0%|          | 0/7576 [00:00<?, ?it/s]"
      ]
     },
     "metadata": {},
     "output_type": "display_data"
    },
    {
     "data": {
      "application/vnd.jupyter.widget-view+json": {
       "model_id": "88a79df645c340a1b7677734655735f1",
       "version_major": 2,
       "version_minor": 0
      },
      "text/plain": [
       "Processing tokens:   0%|          | 0/7670 [00:00<?, ?it/s]"
      ]
     },
     "metadata": {},
     "output_type": "display_data"
    },
    {
     "data": {
      "application/vnd.jupyter.widget-view+json": {
       "model_id": "44bb8d59645041a5bf3150f62a99d499",
       "version_major": 2,
       "version_minor": 0
      },
      "text/plain": [
       "Processing tokens:   0%|          | 0/12289 [00:00<?, ?it/s]"
      ]
     },
     "metadata": {},
     "output_type": "display_data"
    },
    {
     "data": {
      "application/vnd.jupyter.widget-view+json": {
       "model_id": "f1a8fc2674394433a13721ab077704ba",
       "version_major": 2,
       "version_minor": 0
      },
      "text/plain": [
       "Processing tokens:   0%|          | 0/4759 [00:00<?, ?it/s]"
      ]
     },
     "metadata": {},
     "output_type": "display_data"
    },
    {
     "data": {
      "application/vnd.jupyter.widget-view+json": {
       "model_id": "2f8a1167d2a849748025946b80128e3c",
       "version_major": 2,
       "version_minor": 0
      },
      "text/plain": [
       "Processing tokens:   0%|          | 0/10748 [00:00<?, ?it/s]"
      ]
     },
     "metadata": {},
     "output_type": "display_data"
    },
    {
     "data": {
      "application/vnd.jupyter.widget-view+json": {
       "model_id": "4cfc909e19da4a47a782b93e9f506519",
       "version_major": 2,
       "version_minor": 0
      },
      "text/plain": [
       "Processing tokens:   0%|          | 0/4217 [00:00<?, ?it/s]"
      ]
     },
     "metadata": {},
     "output_type": "display_data"
    },
    {
     "data": {
      "application/vnd.jupyter.widget-view+json": {
       "model_id": "04c103618f9f4646b23dc4316edebcf5",
       "version_major": 2,
       "version_minor": 0
      },
      "text/plain": [
       "Processing tokens:   0%|          | 0/4355 [00:00<?, ?it/s]"
      ]
     },
     "metadata": {},
     "output_type": "display_data"
    },
    {
     "data": {
      "application/vnd.jupyter.widget-view+json": {
       "model_id": "b97be0a169c843ff821a51e8fe4f93e2",
       "version_major": 2,
       "version_minor": 0
      },
      "text/plain": [
       "Processing tokens:   0%|          | 0/2685 [00:00<?, ?it/s]"
      ]
     },
     "metadata": {},
     "output_type": "display_data"
    },
    {
     "data": {
      "application/vnd.jupyter.widget-view+json": {
       "model_id": "28ad5ac3d1334f1f9b731250764d7b98",
       "version_major": 2,
       "version_minor": 0
      },
      "text/plain": [
       "Processing tokens:   0%|          | 0/2580 [00:00<?, ?it/s]"
      ]
     },
     "metadata": {},
     "output_type": "display_data"
    },
    {
     "data": {
      "application/vnd.jupyter.widget-view+json": {
       "model_id": "fa998a22951843bab66bb75297c2efaa",
       "version_major": 2,
       "version_minor": 0
      },
      "text/plain": [
       "Processing tokens:   0%|          | 0/4090 [00:00<?, ?it/s]"
      ]
     },
     "metadata": {},
     "output_type": "display_data"
    },
    {
     "data": {
      "application/vnd.jupyter.widget-view+json": {
       "model_id": "0da277f3779248b4a6c532a469c28f1a",
       "version_major": 2,
       "version_minor": 0
      },
      "text/plain": [
       "Processing tokens:   0%|          | 0/2285 [00:00<?, ?it/s]"
      ]
     },
     "metadata": {},
     "output_type": "display_data"
    },
    {
     "data": {
      "application/vnd.jupyter.widget-view+json": {
       "model_id": "29ab5ac163fd4885bee271a7da7bde3a",
       "version_major": 2,
       "version_minor": 0
      },
      "text/plain": [
       "Processing tokens:   0%|          | 0/8357 [00:00<?, ?it/s]"
      ]
     },
     "metadata": {},
     "output_type": "display_data"
    },
    {
     "data": {
      "application/vnd.jupyter.widget-view+json": {
       "model_id": "be5fef0ee9844daf902979fd934e1fc0",
       "version_major": 2,
       "version_minor": 0
      },
      "text/plain": [
       "Processing tokens:   0%|          | 0/1753 [00:00<?, ?it/s]"
      ]
     },
     "metadata": {},
     "output_type": "display_data"
    },
    {
     "data": {
      "application/vnd.jupyter.widget-view+json": {
       "model_id": "ce3cca48bbc84dc8b4f6a960aefb2483",
       "version_major": 2,
       "version_minor": 0
      },
      "text/plain": [
       "Processing tokens:   0%|          | 0/5253 [00:00<?, ?it/s]"
      ]
     },
     "metadata": {},
     "output_type": "display_data"
    },
    {
     "data": {
      "application/vnd.jupyter.widget-view+json": {
       "model_id": "5aabbb0994ba40a3a4586ed4f86e539e",
       "version_major": 2,
       "version_minor": 0
      },
      "text/plain": [
       "Processing tokens:   0%|          | 0/3824 [00:00<?, ?it/s]"
      ]
     },
     "metadata": {},
     "output_type": "display_data"
    },
    {
     "data": {
      "application/vnd.jupyter.widget-view+json": {
       "model_id": "52b3c10bb9c54861a71bb7857bc8afc4",
       "version_major": 2,
       "version_minor": 0
      },
      "text/plain": [
       "Processing tokens:   0%|          | 0/6877 [00:00<?, ?it/s]"
      ]
     },
     "metadata": {},
     "output_type": "display_data"
    },
    {
     "data": {
      "application/vnd.jupyter.widget-view+json": {
       "model_id": "d27a69be123243fa93e3acc972b32c4d",
       "version_major": 2,
       "version_minor": 0
      },
      "text/plain": [
       "Processing tokens:   0%|          | 0/2009 [00:00<?, ?it/s]"
      ]
     },
     "metadata": {},
     "output_type": "display_data"
    },
    {
     "data": {
      "application/vnd.jupyter.widget-view+json": {
       "model_id": "fe61a2891cc04e82a42ec7886a14c66c",
       "version_major": 2,
       "version_minor": 0
      },
      "text/plain": [
       "Processing tokens:   0%|          | 0/1956 [00:00<?, ?it/s]"
      ]
     },
     "metadata": {},
     "output_type": "display_data"
    },
    {
     "data": {
      "application/vnd.jupyter.widget-view+json": {
       "model_id": "d2d954223fd34615880ad95b72eb3870",
       "version_major": 2,
       "version_minor": 0
      },
      "text/plain": [
       "Processing tokens:   0%|          | 0/4008 [00:00<?, ?it/s]"
      ]
     },
     "metadata": {},
     "output_type": "display_data"
    },
    {
     "data": {
      "application/vnd.jupyter.widget-view+json": {
       "model_id": "d98a9bd5efc84b12ae9a3cc619fc3f6c",
       "version_major": 2,
       "version_minor": 0
      },
      "text/plain": [
       "Processing tokens:   0%|          | 0/2729 [00:00<?, ?it/s]"
      ]
     },
     "metadata": {},
     "output_type": "display_data"
    },
    {
     "data": {
      "application/vnd.jupyter.widget-view+json": {
       "model_id": "8aa0c6576d6c47c895b47fae0999b6a3",
       "version_major": 2,
       "version_minor": 0
      },
      "text/plain": [
       "Processing tokens:   0%|          | 0/6939 [00:00<?, ?it/s]"
      ]
     },
     "metadata": {},
     "output_type": "display_data"
    },
    {
     "data": {
      "application/vnd.jupyter.widget-view+json": {
       "model_id": "51464a5460a04e09a9bf076db7e3475e",
       "version_major": 2,
       "version_minor": 0
      },
      "text/plain": [
       "Processing tokens:   0%|          | 0/11245 [00:00<?, ?it/s]"
      ]
     },
     "metadata": {},
     "output_type": "display_data"
    },
    {
     "data": {
      "application/vnd.jupyter.widget-view+json": {
       "model_id": "3e93b2c6238343f495d7c7e7489d4fbe",
       "version_major": 2,
       "version_minor": 0
      },
      "text/plain": [
       "Processing tokens:   0%|          | 0/15170 [00:00<?, ?it/s]"
      ]
     },
     "metadata": {},
     "output_type": "display_data"
    }
   ],
   "source": [
    "# Preprocess the text in each document\n",
    "for doc in documents:\n",
    "    doc.page_content = preprocess_text(doc.page_content)"
   ]
  },
  {
   "cell_type": "markdown",
   "metadata": {},
   "source": [
    "### Saving to Vector database"
   ]
  },
  {
   "cell_type": "code",
   "execution_count": 9,
   "metadata": {},
   "outputs": [],
   "source": [
    "# Initialize the text splitter with overlap\n",
    "text_splitter = RecursiveCharacterTextSplitter(\n",
    "    chunk_size=3000,\n",
    "    chunk_overlap=600,\n",
    "    separators=[\"\\n\\n\", \"\\n\", \" \", \"\", \"\\t\", \"\\r\\n\", \"\\r\", \"\\v\", \"\\f\", \"\\u0085\", \"\\u2028\", \"\\u2029\"]\n",
    ")"
   ]
  },
  {
   "cell_type": "code",
   "execution_count": 10,
   "metadata": {},
   "outputs": [
    {
     "name": "stderr",
     "output_type": "stream",
     "text": [
      "INFO:__main__:Total number of documents after splitting: 792\n"
     ]
    }
   ],
   "source": [
    "# Split the documents into chunks\n",
    "split_docs = text_splitter.split_documents(documents)\n",
    "\n",
    "logger.info(f\"Total number of documents after splitting: {len(split_docs)}\")"
   ]
  },
  {
   "cell_type": "code",
   "execution_count": 11,
   "metadata": {},
   "outputs": [
    {
     "name": "stderr",
     "output_type": "stream",
     "text": [
      "C:\\Users\\farha\\AppData\\Local\\Temp\\ipykernel_29628\\2581478539.py:3: LangChainDeprecationWarning: The class `HuggingFaceEmbeddings` was deprecated in LangChain 0.2.2 and will be removed in 1.0. An updated version of the class exists in the :class:`~langchain-huggingface package and should be used instead. To use it run `pip install -U :class:`~langchain-huggingface` and import as `from :class:`~langchain_huggingface import HuggingFaceEmbeddings``.\n",
      "  embeddings = HuggingFaceEmbeddings(model_name=embedding_model_name)\n",
      "INFO:sentence_transformers.SentenceTransformer:Use pytorch device_name: cuda\n",
      "INFO:sentence_transformers.SentenceTransformer:Load pretrained SentenceTransformer: all-MiniLM-L6-v2\n",
      "c:\\Users\\farha\\miniconda3\\Lib\\site-packages\\transformers\\models\\bert\\modeling_bert.py:440: UserWarning: 1Torch was not compiled with flash attention. (Triggered internally at C:\\cb\\pytorch_1000000000000\\work\\aten\\src\\ATen\\native\\transformers\\cuda\\sdp_utils.cpp:555.)\n",
      "  attn_output = torch.nn.functional.scaled_dot_product_attention(\n",
      "INFO:faiss.loader:Loading faiss with AVX2 support.\n",
      "INFO:faiss.loader:Could not load library with AVX2 support due to:\n",
      "ModuleNotFoundError(\"No module named 'faiss.swigfaiss_avx2'\")\n",
      "INFO:faiss.loader:Loading faiss.\n",
      "INFO:faiss.loader:Successfully loaded faiss.\n"
     ]
    }
   ],
   "source": [
    "# Initialize the embeddings model\n",
    "embedding_model_name = \"all-MiniLM-L6-v2\"\n",
    "embeddings = HuggingFaceEmbeddings(model_name=embedding_model_name)\n",
    "\n",
    "# Initialize FAISS vector store\n",
    "vector_store = FAISS.from_documents(split_docs, embeddings)\n",
    "\n",
    "# Save the vector store locally\n",
    "vector_store.save_local(\"faiss_index\")\n",
    "\n",
    "# # To load the vector store from disk\n",
    "# vector_store = FAISS.load_local(\"faiss_index\", embeddings)"
   ]
  },
  {
   "cell_type": "markdown",
   "metadata": {},
   "source": [
    "### Gemini API configuration"
   ]
  },
  {
   "cell_type": "code",
   "execution_count": 12,
   "metadata": {},
   "outputs": [],
   "source": [
    "# Path to the service account's JSON file\n",
    "service_account_path = \"adv-nlp-uts-faa7595a22eb.json\"\n",
    "\n",
    "# Create credentials using the service account JSON file\n",
    "try:\n",
    "    credentials = service_account.Credentials.from_service_account_file(service_account_path, scopes=[\"https://www.googleapis.com/auth/generative-language\"])\n",
    "except FileNotFoundError:\n",
    "    logger.error(f\"Service account file not found at {service_account_path}.\")\n",
    "    raise\n",
    "except Exception as e:\n",
    "    logger.error(f\"Error creating credentials from the service account file: {e}\")\n",
    "    raise\n",
    "\n",
    "# Configure the Gemini API client with the credentials\n",
    "genai.configure(credentials=credentials)"
   ]
  },
  {
   "cell_type": "markdown",
   "metadata": {},
   "source": [
    "### Configuring Gemini-1.5-Flash as serving LLM client"
   ]
  },
  {
   "cell_type": "code",
   "execution_count": 13,
   "metadata": {},
   "outputs": [],
   "source": [
    "# Implement the Gemini LLM class\n",
    "class GeminiLLM(LLM, BaseModel):\n",
    "    model_name: str = Field(default=\"gemini-1.5-flash\")\n",
    "    temperature: float = Field(default=0.7)\n",
    "\n",
    "    @property\n",
    "    def _llm_type(self):\n",
    "        return \"gemini\"\n",
    "\n",
    "    def _call(self, prompt: str, stop: list[str] = None) -> str:\n",
    "        try:\n",
    "            # Initialize the model\n",
    "            model = genai.GenerativeModel(model_name=self.model_name)\n",
    "\n",
    "            # Generate content using the Gemini API\n",
    "            response = model.generate_content(\n",
    "                prompt,\n",
    "                # temperature=self.temperature,\n",
    "                # max_output_tokens=512  # Adjust token limit as needed\n",
    "            )\n",
    "\n",
    "            # Extract generated text from the response\n",
    "            generated_text = response.text\n",
    "\n",
    "            # Handle stop tokens if provided\n",
    "            if stop:\n",
    "                for token in stop:\n",
    "                    generated_text = generated_text.split(token)[0]\n",
    "\n",
    "            return generated_text.strip()\n",
    "\n",
    "        except Exception as e:\n",
    "            logger.error(f\"Gemini API error: {e}\")\n",
    "            return \"I'm sorry, but I couldn't process your request at this time.\""
   ]
  },
  {
   "cell_type": "code",
   "execution_count": 14,
   "metadata": {},
   "outputs": [],
   "source": [
    "# Initialize the Gemini LLM client\n",
    "llm = GeminiLLM(model_name=\"gemini-1.5-flash\", temperature=0.7)\n",
    "\n",
    "# Define a prompt template\n",
    "prompt_template = PromptTemplate(\n",
    "    input_variables=[\"context\", \"question\"],\n",
    "    template=\"\"\"\n",
    "You are an AI assistant with professional expertise in financial regulations and banking statistics, particularly knowledgeable about Australian APRA guidelines.\n",
    "Based on the provided context, please answer the following question in a clear, well detailed, and informative manner. \n",
    "Ensure your response directly addresses the query.\n",
    "If you are unable to answer the question based on the context, answer with \"I don't have information about....\"\n",
    "\n",
    "Context:\n",
    "{context}\n",
    "\n",
    "Question:\n",
    "{question}\n",
    "\n",
    "Answer:\n",
    "\"\"\",\n",
    ")"
   ]
  },
  {
   "cell_type": "markdown",
   "metadata": {},
   "source": [
    "### Configuring the RAG agent"
   ]
  },
  {
   "cell_type": "code",
   "execution_count": 15,
   "metadata": {},
   "outputs": [],
   "source": [
    "# Create a RetrievalQA chain with the custom prompt\n",
    "qa_chain = RetrievalQA.from_chain_type(\n",
    "    llm=llm,\n",
    "    chain_type=\"stuff\",  # You can experiment with 'refine' or 'map_reduce'\n",
    "    retriever=vector_store.as_retriever(search_kwargs={\"k\": 100}),\n",
    "    chain_type_kwargs={\"prompt\": prompt_template},\n",
    "    return_source_documents=True,\n",
    ")"
   ]
  },
  {
   "cell_type": "code",
   "execution_count": 16,
   "metadata": {},
   "outputs": [],
   "source": [
    "# Function to handle user queries\n",
    "def answer_query(query):\n",
    "    try:\n",
    "        response = qa_chain({\"query\": query})\n",
    "        answer = response[\"result\"]\n",
    "        return answer\n",
    "    except Exception as e:\n",
    "        logger.error(f\"Error during query processing: {e}\")"
   ]
  },
  {
   "cell_type": "code",
   "execution_count": 17,
   "metadata": {},
   "outputs": [],
   "source": [
    "# # Function to handle user queries\n",
    "# def answer_query(query):\n",
    "#     try:\n",
    "#         response = qa_chain({\"query\": query})\n",
    "#         answer = response[\"result\"]\n",
    "#         # source_docs = response[\"source_documents\"]\n",
    "#         # print(\"Response:\")\n",
    "#         # print(answer)\n",
    "#         # print(\"\\nRelevant Source Documents:\")\n",
    "#         # for doc in source_docs:\n",
    "#         #     print(f\"Source: {doc.metadata.get('source', 'Unknown Source')}\")\n",
    "#         #     print(doc.page_content)\n",
    "#         #     print(\"-\" * 80)\n",
    "#         return answer\n",
    "#     except Exception as e:\n",
    "#         logger.error(f\"Error during query processing: {e}\")"
   ]
  },
  {
   "cell_type": "markdown",
   "metadata": {},
   "source": [
    "##### Testing the RAG agent"
   ]
  },
  {
   "cell_type": "code",
   "execution_count": 18,
   "metadata": {},
   "outputs": [],
   "source": [
    "# # Test the RAG system with a query\n",
    "# query = \"What is RWA?\"\n",
    "# # query = \"What is the quality control on International Banking Statistics Balance Sheet Items?\"\n",
    "# # query = \"What are the key elements in the definition of Effective Maturity?\"\n",
    "# answer_query(query)"
   ]
  },
  {
   "cell_type": "markdown",
   "metadata": {},
   "source": [
    "### Evaluation of RAG Agent"
   ]
  },
  {
   "cell_type": "code",
   "execution_count": 19,
   "metadata": {},
   "outputs": [],
   "source": [
    "csv_path = \"../data/question-answers.csv\"\n",
    "try:\n",
    "    # Load the CSV file with a specified encoding\n",
    "    data = pd.read_csv(csv_path, encoding=\"utf-8\")\n",
    "except UnicodeDecodeError:\n",
    "    # If utf-8 fails, try a different encoding\n",
    "    data = pd.read_csv(csv_path, encoding=\"ISO-8859-1\")"
   ]
  },
  {
   "cell_type": "code",
   "execution_count": 20,
   "metadata": {},
   "outputs": [
    {
     "name": "stderr",
     "output_type": "stream",
     "text": [
      "INFO:sentence_transformers.SentenceTransformer:Use pytorch device_name: cuda\n",
      "INFO:sentence_transformers.SentenceTransformer:Load pretrained SentenceTransformer: all-MiniLM-L6-v2\n"
     ]
    }
   ],
   "source": [
    "def evaluate_rouge(predicted, reference):\n",
    "    if predicted is None:\n",
    "        predicted = \"\"\n",
    "    if reference is None:\n",
    "        reference = \"\"\n",
    "    scorer = rouge_scorer.RougeScorer([\"rouge1\", \"rougeL\"], use_stemmer=True)\n",
    "    return scorer.score(reference, predicted)\n",
    "\n",
    "\n",
    "def evaluate_bleu(predicted, reference):\n",
    "    if predicted is None:\n",
    "        predicted = \"\"\n",
    "    if reference is None:\n",
    "        reference = \"\"\n",
    "    bleu = sacrebleu.corpus_bleu([predicted], [[reference]])\n",
    "    return bleu.score\n",
    "\n",
    "\n",
    "def evaluate_f1(predicted, reference):\n",
    "    if predicted is None:\n",
    "        predicted = \"\"\n",
    "    if reference is None:\n",
    "        reference = \"\"\n",
    "    predicted_tokens = nltk.word_tokenize(preprocess_text(predicted))\n",
    "    reference_tokens = nltk.word_tokenize(preprocess_text(reference))\n",
    "    predicted_counts = Counter(predicted_tokens)\n",
    "    reference_counts = Counter(reference_tokens)\n",
    "\n",
    "    common_tokens = sum((predicted_counts & reference_counts).values())\n",
    "\n",
    "    precision = common_tokens / sum(predicted_counts.values()) if predicted_counts else 0\n",
    "    recall = common_tokens / sum(reference_counts.values()) if reference_counts else 0\n",
    "\n",
    "    if precision + recall == 0:\n",
    "        return 0.0\n",
    "    return 2 * (precision * recall) / (precision + recall)\n",
    "\n",
    "\n",
    "def evaluate_bert_score(predicted, reference):\n",
    "    if predicted is None:\n",
    "        predicted = \"\"\n",
    "    if reference is None:\n",
    "        reference = \"\"\n",
    "    P, R, F1 = score([predicted], [reference], lang=\"en\", verbose=False)\n",
    "    return F1.mean().item()\n",
    "\n",
    "\n",
    "# Initialize SentenceTransformer for embedding similarity\n",
    "sentence_model = SentenceTransformer(\"all-MiniLM-L6-v2\")\n",
    "\n",
    "\n",
    "def evaluate_embedding_similarity(predicted, reference):\n",
    "    if predicted is None:\n",
    "        predicted = \"\"\n",
    "    if reference is None:\n",
    "        reference = \"\"\n",
    "    predicted_embedding = sentence_model.encode(predicted)\n",
    "    reference_embedding = sentence_model.encode(reference)\n",
    "    similarity = cosine_similarity([predicted_embedding], [reference_embedding])[0][0]\n",
    "    return similarity\n",
    "\n",
    "\n",
    "def evaluate_hybrid(predicted, reference):\n",
    "    rouge = evaluate_rouge(predicted, reference)\n",
    "    rouge_score = rouge[\"rougeL\"].fmeasure\n",
    "\n",
    "    bleu_score = evaluate_bleu(predicted, reference)\n",
    "    f1_score = evaluate_f1(predicted, reference)\n",
    "    bert_score = evaluate_bert_score(predicted, reference)\n",
    "    embedding_similarity = evaluate_embedding_similarity(predicted, reference)\n",
    "\n",
    "    # Define a weighted hybrid score\n",
    "    hybrid_score = (0.2 * rouge_score) + (0.2 * bleu_score) + (0.2 * f1_score) + (0.2 * bert_score) + (0.2 * embedding_similarity)\n",
    "    return hybrid_score"
   ]
  },
  {
   "cell_type": "code",
   "execution_count": 21,
   "metadata": {},
   "outputs": [],
   "source": [
    "# Add a new column for predicted answers\n",
    "data[\"RAG 1\"] = \"\"\n",
    "\n",
    "# Initialize list to hold the predicted answers\n",
    "predicted_answers = []\n",
    "\n",
    "# Initialize lists to hold metric scores\n",
    "rouge_scores, bleu_scores, f1_scores, bert_scores, embedding_similarities = [], [], [], [], []"
   ]
  },
  {
   "cell_type": "code",
   "execution_count": 22,
   "metadata": {},
   "outputs": [
    {
     "data": {
      "application/vnd.jupyter.widget-view+json": {
       "model_id": "a60a62c3f0bc46849c2a2a83b9b2cd7e",
       "version_major": 2,
       "version_minor": 0
      },
      "text/plain": [
       "Processing questions:   0%|          | 0/80 [00:00<?, ?it/s]"
      ]
     },
     "metadata": {},
     "output_type": "display_data"
    },
    {
     "name": "stderr",
     "output_type": "stream",
     "text": [
      "C:\\Users\\farha\\AppData\\Local\\Temp\\ipykernel_29628\\3558265379.py:4: LangChainDeprecationWarning: The method `Chain.__call__` was deprecated in langchain 0.1.0 and will be removed in 1.0. Use :meth:`~invoke` instead.\n",
      "  response = qa_chain({\"query\": query})\n",
      "INFO:absl:Using default tokenizer.\n"
     ]
    },
    {
     "data": {
      "application/vnd.jupyter.widget-view+json": {
       "model_id": "22b9c83860734b22a129a8662ba9a55e",
       "version_major": 2,
       "version_minor": 0
      },
      "text/plain": [
       "Processing tokens:   0%|          | 0/32 [00:00<?, ?it/s]"
      ]
     },
     "metadata": {},
     "output_type": "display_data"
    },
    {
     "data": {
      "application/vnd.jupyter.widget-view+json": {
       "model_id": "2f326ae9e0434ad7a59b70c4cd1af3f9",
       "version_major": 2,
       "version_minor": 0
      },
      "text/plain": [
       "Processing tokens:   0%|          | 0/57 [00:00<?, ?it/s]"
      ]
     },
     "metadata": {},
     "output_type": "display_data"
    },
    {
     "name": "stderr",
     "output_type": "stream",
     "text": [
      "Some weights of RobertaModel were not initialized from the model checkpoint at roberta-large and are newly initialized: ['roberta.pooler.dense.bias', 'roberta.pooler.dense.weight']\n",
      "You should probably TRAIN this model on a down-stream task to be able to use it for predictions and inference.\n"
     ]
    },
    {
     "data": {
      "application/vnd.jupyter.widget-view+json": {
       "model_id": "ec3ecfc8ee4f43c88f11e8d7e533c66e",
       "version_major": 2,
       "version_minor": 0
      },
      "text/plain": [
       "Batches:   0%|          | 0/1 [00:00<?, ?it/s]"
      ]
     },
     "metadata": {},
     "output_type": "display_data"
    },
    {
     "data": {
      "application/vnd.jupyter.widget-view+json": {
       "model_id": "3f0b0a4934ee46d7a728a1160fda7d21",
       "version_major": 2,
       "version_minor": 0
      },
      "text/plain": [
       "Batches:   0%|          | 0/1 [00:00<?, ?it/s]"
      ]
     },
     "metadata": {},
     "output_type": "display_data"
    },
    {
     "name": "stderr",
     "output_type": "stream",
     "text": [
      "INFO:absl:Using default tokenizer.\n"
     ]
    },
    {
     "data": {
      "application/vnd.jupyter.widget-view+json": {
       "model_id": "8c1d959e7580430d933edd338a7e9228",
       "version_major": 2,
       "version_minor": 0
      },
      "text/plain": [
       "Processing tokens:   0%|          | 0/41 [00:00<?, ?it/s]"
      ]
     },
     "metadata": {},
     "output_type": "display_data"
    },
    {
     "data": {
      "application/vnd.jupyter.widget-view+json": {
       "model_id": "974720d065f34a338ce119019abf3bc9",
       "version_major": 2,
       "version_minor": 0
      },
      "text/plain": [
       "Processing tokens:   0%|          | 0/156 [00:00<?, ?it/s]"
      ]
     },
     "metadata": {},
     "output_type": "display_data"
    },
    {
     "name": "stderr",
     "output_type": "stream",
     "text": [
      "Some weights of RobertaModel were not initialized from the model checkpoint at roberta-large and are newly initialized: ['roberta.pooler.dense.bias', 'roberta.pooler.dense.weight']\n",
      "You should probably TRAIN this model on a down-stream task to be able to use it for predictions and inference.\n"
     ]
    },
    {
     "data": {
      "application/vnd.jupyter.widget-view+json": {
       "model_id": "5e59f27bca0f437391d29648192bec62",
       "version_major": 2,
       "version_minor": 0
      },
      "text/plain": [
       "Batches:   0%|          | 0/1 [00:00<?, ?it/s]"
      ]
     },
     "metadata": {},
     "output_type": "display_data"
    },
    {
     "data": {
      "application/vnd.jupyter.widget-view+json": {
       "model_id": "026c4d4b1532482880d25f1f222c6234",
       "version_major": 2,
       "version_minor": 0
      },
      "text/plain": [
       "Batches:   0%|          | 0/1 [00:00<?, ?it/s]"
      ]
     },
     "metadata": {},
     "output_type": "display_data"
    },
    {
     "name": "stderr",
     "output_type": "stream",
     "text": [
      "INFO:absl:Using default tokenizer.\n"
     ]
    },
    {
     "data": {
      "application/vnd.jupyter.widget-view+json": {
       "model_id": "f9b42e1cf013445a8036f4d32b57f7c0",
       "version_major": 2,
       "version_minor": 0
      },
      "text/plain": [
       "Processing tokens:   0%|          | 0/271 [00:00<?, ?it/s]"
      ]
     },
     "metadata": {},
     "output_type": "display_data"
    },
    {
     "data": {
      "application/vnd.jupyter.widget-view+json": {
       "model_id": "080723b2d8904c6cb0f76548d35f3255",
       "version_major": 2,
       "version_minor": 0
      },
      "text/plain": [
       "Processing tokens:   0%|          | 0/43 [00:00<?, ?it/s]"
      ]
     },
     "metadata": {},
     "output_type": "display_data"
    },
    {
     "name": "stderr",
     "output_type": "stream",
     "text": [
      "Some weights of RobertaModel were not initialized from the model checkpoint at roberta-large and are newly initialized: ['roberta.pooler.dense.bias', 'roberta.pooler.dense.weight']\n",
      "You should probably TRAIN this model on a down-stream task to be able to use it for predictions and inference.\n"
     ]
    },
    {
     "data": {
      "application/vnd.jupyter.widget-view+json": {
       "model_id": "b4cfc30f412e4342878c8464c706a058",
       "version_major": 2,
       "version_minor": 0
      },
      "text/plain": [
       "Batches:   0%|          | 0/1 [00:00<?, ?it/s]"
      ]
     },
     "metadata": {},
     "output_type": "display_data"
    },
    {
     "data": {
      "application/vnd.jupyter.widget-view+json": {
       "model_id": "c6bb72cf932949ab9ba6d8b0bacc3285",
       "version_major": 2,
       "version_minor": 0
      },
      "text/plain": [
       "Batches:   0%|          | 0/1 [00:00<?, ?it/s]"
      ]
     },
     "metadata": {},
     "output_type": "display_data"
    },
    {
     "name": "stderr",
     "output_type": "stream",
     "text": [
      "INFO:absl:Using default tokenizer.\n"
     ]
    },
    {
     "data": {
      "application/vnd.jupyter.widget-view+json": {
       "model_id": "8fdd9c730cb543178175003b95fcbd4e",
       "version_major": 2,
       "version_minor": 0
      },
      "text/plain": [
       "Processing tokens:   0%|          | 0/18 [00:00<?, ?it/s]"
      ]
     },
     "metadata": {},
     "output_type": "display_data"
    },
    {
     "data": {
      "application/vnd.jupyter.widget-view+json": {
       "model_id": "326a62c9ff454cac8cc4255496c32f76",
       "version_major": 2,
       "version_minor": 0
      },
      "text/plain": [
       "Processing tokens:   0%|          | 0/45 [00:00<?, ?it/s]"
      ]
     },
     "metadata": {},
     "output_type": "display_data"
    },
    {
     "name": "stderr",
     "output_type": "stream",
     "text": [
      "Some weights of RobertaModel were not initialized from the model checkpoint at roberta-large and are newly initialized: ['roberta.pooler.dense.bias', 'roberta.pooler.dense.weight']\n",
      "You should probably TRAIN this model on a down-stream task to be able to use it for predictions and inference.\n"
     ]
    },
    {
     "data": {
      "application/vnd.jupyter.widget-view+json": {
       "model_id": "bf2eb426db0a48218fa78a3d68028467",
       "version_major": 2,
       "version_minor": 0
      },
      "text/plain": [
       "Batches:   0%|          | 0/1 [00:00<?, ?it/s]"
      ]
     },
     "metadata": {},
     "output_type": "display_data"
    },
    {
     "data": {
      "application/vnd.jupyter.widget-view+json": {
       "model_id": "1cd78df50a234751b283470acb14a664",
       "version_major": 2,
       "version_minor": 0
      },
      "text/plain": [
       "Batches:   0%|          | 0/1 [00:00<?, ?it/s]"
      ]
     },
     "metadata": {},
     "output_type": "display_data"
    },
    {
     "name": "stderr",
     "output_type": "stream",
     "text": [
      "INFO:absl:Using default tokenizer.\n"
     ]
    },
    {
     "data": {
      "application/vnd.jupyter.widget-view+json": {
       "model_id": "8f62853d079845438e18b9d90606922e",
       "version_major": 2,
       "version_minor": 0
      },
      "text/plain": [
       "Processing tokens:   0%|          | 0/22 [00:00<?, ?it/s]"
      ]
     },
     "metadata": {},
     "output_type": "display_data"
    },
    {
     "data": {
      "application/vnd.jupyter.widget-view+json": {
       "model_id": "431b8faaff15490594e76f9b70e9b5cc",
       "version_major": 2,
       "version_minor": 0
      },
      "text/plain": [
       "Processing tokens:   0%|          | 0/119 [00:00<?, ?it/s]"
      ]
     },
     "metadata": {},
     "output_type": "display_data"
    },
    {
     "name": "stderr",
     "output_type": "stream",
     "text": [
      "Some weights of RobertaModel were not initialized from the model checkpoint at roberta-large and are newly initialized: ['roberta.pooler.dense.bias', 'roberta.pooler.dense.weight']\n",
      "You should probably TRAIN this model on a down-stream task to be able to use it for predictions and inference.\n"
     ]
    },
    {
     "data": {
      "application/vnd.jupyter.widget-view+json": {
       "model_id": "2d5c0fe46fd544ea80198dcfb19fab36",
       "version_major": 2,
       "version_minor": 0
      },
      "text/plain": [
       "Batches:   0%|          | 0/1 [00:00<?, ?it/s]"
      ]
     },
     "metadata": {},
     "output_type": "display_data"
    },
    {
     "data": {
      "application/vnd.jupyter.widget-view+json": {
       "model_id": "b55990a4524a407288bda58ebb4893d9",
       "version_major": 2,
       "version_minor": 0
      },
      "text/plain": [
       "Batches:   0%|          | 0/1 [00:00<?, ?it/s]"
      ]
     },
     "metadata": {},
     "output_type": "display_data"
    },
    {
     "name": "stderr",
     "output_type": "stream",
     "text": [
      "INFO:absl:Using default tokenizer.\n"
     ]
    },
    {
     "data": {
      "application/vnd.jupyter.widget-view+json": {
       "model_id": "9c350078d1674d99b4b2a2308a4c2eab",
       "version_major": 2,
       "version_minor": 0
      },
      "text/plain": [
       "Processing tokens:   0%|          | 0/480 [00:00<?, ?it/s]"
      ]
     },
     "metadata": {},
     "output_type": "display_data"
    },
    {
     "data": {
      "application/vnd.jupyter.widget-view+json": {
       "model_id": "140804b128c6471bb94bc48f78f2b3ad",
       "version_major": 2,
       "version_minor": 0
      },
      "text/plain": [
       "Processing tokens:   0%|          | 0/47 [00:00<?, ?it/s]"
      ]
     },
     "metadata": {},
     "output_type": "display_data"
    },
    {
     "name": "stderr",
     "output_type": "stream",
     "text": [
      "Some weights of RobertaModel were not initialized from the model checkpoint at roberta-large and are newly initialized: ['roberta.pooler.dense.bias', 'roberta.pooler.dense.weight']\n",
      "You should probably TRAIN this model on a down-stream task to be able to use it for predictions and inference.\n"
     ]
    },
    {
     "data": {
      "application/vnd.jupyter.widget-view+json": {
       "model_id": "76f9df1d7cae44728a8f1e0dc5e659c8",
       "version_major": 2,
       "version_minor": 0
      },
      "text/plain": [
       "Batches:   0%|          | 0/1 [00:00<?, ?it/s]"
      ]
     },
     "metadata": {},
     "output_type": "display_data"
    },
    {
     "data": {
      "application/vnd.jupyter.widget-view+json": {
       "model_id": "2540ec2b51674201bd8a95179df17b87",
       "version_major": 2,
       "version_minor": 0
      },
      "text/plain": [
       "Batches:   0%|          | 0/1 [00:00<?, ?it/s]"
      ]
     },
     "metadata": {},
     "output_type": "display_data"
    },
    {
     "name": "stderr",
     "output_type": "stream",
     "text": [
      "INFO:absl:Using default tokenizer.\n"
     ]
    },
    {
     "data": {
      "application/vnd.jupyter.widget-view+json": {
       "model_id": "f9fc6c109a754e219bd44408eb0b2d2f",
       "version_major": 2,
       "version_minor": 0
      },
      "text/plain": [
       "Processing tokens:   0%|          | 0/375 [00:00<?, ?it/s]"
      ]
     },
     "metadata": {},
     "output_type": "display_data"
    },
    {
     "data": {
      "application/vnd.jupyter.widget-view+json": {
       "model_id": "a4cc7108235d4796b18eb13e851fe26f",
       "version_major": 2,
       "version_minor": 0
      },
      "text/plain": [
       "Processing tokens:   0%|          | 0/218 [00:00<?, ?it/s]"
      ]
     },
     "metadata": {},
     "output_type": "display_data"
    },
    {
     "name": "stderr",
     "output_type": "stream",
     "text": [
      "Some weights of RobertaModel were not initialized from the model checkpoint at roberta-large and are newly initialized: ['roberta.pooler.dense.bias', 'roberta.pooler.dense.weight']\n",
      "You should probably TRAIN this model on a down-stream task to be able to use it for predictions and inference.\n"
     ]
    },
    {
     "data": {
      "application/vnd.jupyter.widget-view+json": {
       "model_id": "8a4412709c2746a1bc63e47a4075bcc2",
       "version_major": 2,
       "version_minor": 0
      },
      "text/plain": [
       "Batches:   0%|          | 0/1 [00:00<?, ?it/s]"
      ]
     },
     "metadata": {},
     "output_type": "display_data"
    },
    {
     "data": {
      "application/vnd.jupyter.widget-view+json": {
       "model_id": "cc496cbeac694b739b2875bf880812ca",
       "version_major": 2,
       "version_minor": 0
      },
      "text/plain": [
       "Batches:   0%|          | 0/1 [00:00<?, ?it/s]"
      ]
     },
     "metadata": {},
     "output_type": "display_data"
    },
    {
     "name": "stderr",
     "output_type": "stream",
     "text": [
      "INFO:absl:Using default tokenizer.\n"
     ]
    },
    {
     "data": {
      "application/vnd.jupyter.widget-view+json": {
       "model_id": "e6ffb9f0696844968612c1c021a09009",
       "version_major": 2,
       "version_minor": 0
      },
      "text/plain": [
       "Processing tokens:   0%|          | 0/402 [00:00<?, ?it/s]"
      ]
     },
     "metadata": {},
     "output_type": "display_data"
    },
    {
     "data": {
      "application/vnd.jupyter.widget-view+json": {
       "model_id": "2ee897afe11f4fec8d2ba611dc8ea9ba",
       "version_major": 2,
       "version_minor": 0
      },
      "text/plain": [
       "Processing tokens:   0%|          | 0/279 [00:00<?, ?it/s]"
      ]
     },
     "metadata": {},
     "output_type": "display_data"
    },
    {
     "name": "stderr",
     "output_type": "stream",
     "text": [
      "Some weights of RobertaModel were not initialized from the model checkpoint at roberta-large and are newly initialized: ['roberta.pooler.dense.bias', 'roberta.pooler.dense.weight']\n",
      "You should probably TRAIN this model on a down-stream task to be able to use it for predictions and inference.\n"
     ]
    },
    {
     "data": {
      "application/vnd.jupyter.widget-view+json": {
       "model_id": "396d16c1f0054a88b6ff1a5a1252ded4",
       "version_major": 2,
       "version_minor": 0
      },
      "text/plain": [
       "Batches:   0%|          | 0/1 [00:00<?, ?it/s]"
      ]
     },
     "metadata": {},
     "output_type": "display_data"
    },
    {
     "data": {
      "application/vnd.jupyter.widget-view+json": {
       "model_id": "700576c8e9bf43979fdc7789ca84bf0b",
       "version_major": 2,
       "version_minor": 0
      },
      "text/plain": [
       "Batches:   0%|          | 0/1 [00:00<?, ?it/s]"
      ]
     },
     "metadata": {},
     "output_type": "display_data"
    },
    {
     "name": "stderr",
     "output_type": "stream",
     "text": [
      "INFO:absl:Using default tokenizer.\n"
     ]
    },
    {
     "data": {
      "application/vnd.jupyter.widget-view+json": {
       "model_id": "4fbd202edd394dbab05abfe179cf9b70",
       "version_major": 2,
       "version_minor": 0
      },
      "text/plain": [
       "Processing tokens:   0%|          | 0/323 [00:00<?, ?it/s]"
      ]
     },
     "metadata": {},
     "output_type": "display_data"
    },
    {
     "data": {
      "application/vnd.jupyter.widget-view+json": {
       "model_id": "affe5e26ed344e30ab4585a0c49a644f",
       "version_major": 2,
       "version_minor": 0
      },
      "text/plain": [
       "Processing tokens:   0%|          | 0/27 [00:00<?, ?it/s]"
      ]
     },
     "metadata": {},
     "output_type": "display_data"
    },
    {
     "name": "stderr",
     "output_type": "stream",
     "text": [
      "Some weights of RobertaModel were not initialized from the model checkpoint at roberta-large and are newly initialized: ['roberta.pooler.dense.bias', 'roberta.pooler.dense.weight']\n",
      "You should probably TRAIN this model on a down-stream task to be able to use it for predictions and inference.\n"
     ]
    },
    {
     "data": {
      "application/vnd.jupyter.widget-view+json": {
       "model_id": "da3745cac051464cad6b4bce1679b8b2",
       "version_major": 2,
       "version_minor": 0
      },
      "text/plain": [
       "Batches:   0%|          | 0/1 [00:00<?, ?it/s]"
      ]
     },
     "metadata": {},
     "output_type": "display_data"
    },
    {
     "data": {
      "application/vnd.jupyter.widget-view+json": {
       "model_id": "cd7f24ccd4904d3989f1ec705d649f86",
       "version_major": 2,
       "version_minor": 0
      },
      "text/plain": [
       "Batches:   0%|          | 0/1 [00:00<?, ?it/s]"
      ]
     },
     "metadata": {},
     "output_type": "display_data"
    },
    {
     "name": "stderr",
     "output_type": "stream",
     "text": [
      "INFO:absl:Using default tokenizer.\n"
     ]
    },
    {
     "data": {
      "application/vnd.jupyter.widget-view+json": {
       "model_id": "734b0554a0aa49e796d370c07a5c41c4",
       "version_major": 2,
       "version_minor": 0
      },
      "text/plain": [
       "Processing tokens:   0%|          | 0/14 [00:00<?, ?it/s]"
      ]
     },
     "metadata": {},
     "output_type": "display_data"
    },
    {
     "data": {
      "application/vnd.jupyter.widget-view+json": {
       "model_id": "e1c25496f67b480d8dfa1768ac1f5086",
       "version_major": 2,
       "version_minor": 0
      },
      "text/plain": [
       "Processing tokens:   0%|          | 0/82 [00:00<?, ?it/s]"
      ]
     },
     "metadata": {},
     "output_type": "display_data"
    },
    {
     "name": "stderr",
     "output_type": "stream",
     "text": [
      "Some weights of RobertaModel were not initialized from the model checkpoint at roberta-large and are newly initialized: ['roberta.pooler.dense.bias', 'roberta.pooler.dense.weight']\n",
      "You should probably TRAIN this model on a down-stream task to be able to use it for predictions and inference.\n"
     ]
    },
    {
     "data": {
      "application/vnd.jupyter.widget-view+json": {
       "model_id": "550abec20c46400f910cd6bf245451e5",
       "version_major": 2,
       "version_minor": 0
      },
      "text/plain": [
       "Batches:   0%|          | 0/1 [00:00<?, ?it/s]"
      ]
     },
     "metadata": {},
     "output_type": "display_data"
    },
    {
     "data": {
      "application/vnd.jupyter.widget-view+json": {
       "model_id": "749af3f7ab8b4a3cbfcd31a5a3e281ec",
       "version_major": 2,
       "version_minor": 0
      },
      "text/plain": [
       "Batches:   0%|          | 0/1 [00:00<?, ?it/s]"
      ]
     },
     "metadata": {},
     "output_type": "display_data"
    },
    {
     "name": "stderr",
     "output_type": "stream",
     "text": [
      "INFO:absl:Using default tokenizer.\n"
     ]
    },
    {
     "data": {
      "application/vnd.jupyter.widget-view+json": {
       "model_id": "92d4b215e88248ea8ab13d7de20694ce",
       "version_major": 2,
       "version_minor": 0
      },
      "text/plain": [
       "Processing tokens:   0%|          | 0/395 [00:00<?, ?it/s]"
      ]
     },
     "metadata": {},
     "output_type": "display_data"
    },
    {
     "data": {
      "application/vnd.jupyter.widget-view+json": {
       "model_id": "eefc1902b9c04c51889d9d81cd77cda4",
       "version_major": 2,
       "version_minor": 0
      },
      "text/plain": [
       "Processing tokens:   0%|          | 0/332 [00:00<?, ?it/s]"
      ]
     },
     "metadata": {},
     "output_type": "display_data"
    },
    {
     "name": "stderr",
     "output_type": "stream",
     "text": [
      "Some weights of RobertaModel were not initialized from the model checkpoint at roberta-large and are newly initialized: ['roberta.pooler.dense.bias', 'roberta.pooler.dense.weight']\n",
      "You should probably TRAIN this model on a down-stream task to be able to use it for predictions and inference.\n"
     ]
    },
    {
     "data": {
      "application/vnd.jupyter.widget-view+json": {
       "model_id": "04f36eb630a54951bee2f9f1f83afe36",
       "version_major": 2,
       "version_minor": 0
      },
      "text/plain": [
       "Batches:   0%|          | 0/1 [00:00<?, ?it/s]"
      ]
     },
     "metadata": {},
     "output_type": "display_data"
    },
    {
     "data": {
      "application/vnd.jupyter.widget-view+json": {
       "model_id": "d3f170f76bdd46f59ee2a4cb5eb76588",
       "version_major": 2,
       "version_minor": 0
      },
      "text/plain": [
       "Batches:   0%|          | 0/1 [00:00<?, ?it/s]"
      ]
     },
     "metadata": {},
     "output_type": "display_data"
    },
    {
     "name": "stderr",
     "output_type": "stream",
     "text": [
      "INFO:absl:Using default tokenizer.\n"
     ]
    },
    {
     "data": {
      "application/vnd.jupyter.widget-view+json": {
       "model_id": "7ad1b65b058c40e7b811da7bf4e4324d",
       "version_major": 2,
       "version_minor": 0
      },
      "text/plain": [
       "Processing tokens:   0%|          | 0/441 [00:00<?, ?it/s]"
      ]
     },
     "metadata": {},
     "output_type": "display_data"
    },
    {
     "data": {
      "application/vnd.jupyter.widget-view+json": {
       "model_id": "0fcf7bf5370249cbb8637ce7e5e8b9d1",
       "version_major": 2,
       "version_minor": 0
      },
      "text/plain": [
       "Processing tokens:   0%|          | 0/42 [00:00<?, ?it/s]"
      ]
     },
     "metadata": {},
     "output_type": "display_data"
    },
    {
     "name": "stderr",
     "output_type": "stream",
     "text": [
      "Some weights of RobertaModel were not initialized from the model checkpoint at roberta-large and are newly initialized: ['roberta.pooler.dense.bias', 'roberta.pooler.dense.weight']\n",
      "You should probably TRAIN this model on a down-stream task to be able to use it for predictions and inference.\n"
     ]
    },
    {
     "data": {
      "application/vnd.jupyter.widget-view+json": {
       "model_id": "fe1344f651804780ba3faaa4dcb1ea18",
       "version_major": 2,
       "version_minor": 0
      },
      "text/plain": [
       "Batches:   0%|          | 0/1 [00:00<?, ?it/s]"
      ]
     },
     "metadata": {},
     "output_type": "display_data"
    },
    {
     "data": {
      "application/vnd.jupyter.widget-view+json": {
       "model_id": "f4b447c82cac4a418c76e42a7b580f29",
       "version_major": 2,
       "version_minor": 0
      },
      "text/plain": [
       "Batches:   0%|          | 0/1 [00:00<?, ?it/s]"
      ]
     },
     "metadata": {},
     "output_type": "display_data"
    },
    {
     "name": "stderr",
     "output_type": "stream",
     "text": [
      "INFO:absl:Using default tokenizer.\n"
     ]
    },
    {
     "data": {
      "application/vnd.jupyter.widget-view+json": {
       "model_id": "ed2935d160a4451e9886997797c2e09b",
       "version_major": 2,
       "version_minor": 0
      },
      "text/plain": [
       "Processing tokens:   0%|          | 0/356 [00:00<?, ?it/s]"
      ]
     },
     "metadata": {},
     "output_type": "display_data"
    },
    {
     "data": {
      "application/vnd.jupyter.widget-view+json": {
       "model_id": "db26b3204934400491c7222d356f6b95",
       "version_major": 2,
       "version_minor": 0
      },
      "text/plain": [
       "Processing tokens:   0%|          | 0/427 [00:00<?, ?it/s]"
      ]
     },
     "metadata": {},
     "output_type": "display_data"
    },
    {
     "name": "stderr",
     "output_type": "stream",
     "text": [
      "Some weights of RobertaModel were not initialized from the model checkpoint at roberta-large and are newly initialized: ['roberta.pooler.dense.bias', 'roberta.pooler.dense.weight']\n",
      "You should probably TRAIN this model on a down-stream task to be able to use it for predictions and inference.\n"
     ]
    },
    {
     "data": {
      "application/vnd.jupyter.widget-view+json": {
       "model_id": "23bdde6b740e4e2d89fcaeb19b41857c",
       "version_major": 2,
       "version_minor": 0
      },
      "text/plain": [
       "Batches:   0%|          | 0/1 [00:00<?, ?it/s]"
      ]
     },
     "metadata": {},
     "output_type": "display_data"
    },
    {
     "data": {
      "application/vnd.jupyter.widget-view+json": {
       "model_id": "e1089c8e23784324b2fc271d33bf03ea",
       "version_major": 2,
       "version_minor": 0
      },
      "text/plain": [
       "Batches:   0%|          | 0/1 [00:00<?, ?it/s]"
      ]
     },
     "metadata": {},
     "output_type": "display_data"
    },
    {
     "name": "stderr",
     "output_type": "stream",
     "text": [
      "INFO:absl:Using default tokenizer.\n"
     ]
    },
    {
     "data": {
      "application/vnd.jupyter.widget-view+json": {
       "model_id": "cc4a3e76d9a24c7e8ec8646cee3db1ab",
       "version_major": 2,
       "version_minor": 0
      },
      "text/plain": [
       "Processing tokens:   0%|          | 0/37 [00:00<?, ?it/s]"
      ]
     },
     "metadata": {},
     "output_type": "display_data"
    },
    {
     "data": {
      "application/vnd.jupyter.widget-view+json": {
       "model_id": "b5422756e6c04492b39992c967f4ed12",
       "version_major": 2,
       "version_minor": 0
      },
      "text/plain": [
       "Processing tokens:   0%|          | 0/43 [00:00<?, ?it/s]"
      ]
     },
     "metadata": {},
     "output_type": "display_data"
    },
    {
     "name": "stderr",
     "output_type": "stream",
     "text": [
      "Some weights of RobertaModel were not initialized from the model checkpoint at roberta-large and are newly initialized: ['roberta.pooler.dense.bias', 'roberta.pooler.dense.weight']\n",
      "You should probably TRAIN this model on a down-stream task to be able to use it for predictions and inference.\n"
     ]
    },
    {
     "data": {
      "application/vnd.jupyter.widget-view+json": {
       "model_id": "bf7f11957ad84ca09d0c0ce222cf5082",
       "version_major": 2,
       "version_minor": 0
      },
      "text/plain": [
       "Batches:   0%|          | 0/1 [00:00<?, ?it/s]"
      ]
     },
     "metadata": {},
     "output_type": "display_data"
    },
    {
     "data": {
      "application/vnd.jupyter.widget-view+json": {
       "model_id": "ddb03e855266476faf2e994901587770",
       "version_major": 2,
       "version_minor": 0
      },
      "text/plain": [
       "Batches:   0%|          | 0/1 [00:00<?, ?it/s]"
      ]
     },
     "metadata": {},
     "output_type": "display_data"
    },
    {
     "name": "stderr",
     "output_type": "stream",
     "text": [
      "INFO:absl:Using default tokenizer.\n"
     ]
    },
    {
     "data": {
      "application/vnd.jupyter.widget-view+json": {
       "model_id": "bb263007d0a24fa89b2b1fcad3bcb14a",
       "version_major": 2,
       "version_minor": 0
      },
      "text/plain": [
       "Processing tokens:   0%|          | 0/18 [00:00<?, ?it/s]"
      ]
     },
     "metadata": {},
     "output_type": "display_data"
    },
    {
     "data": {
      "application/vnd.jupyter.widget-view+json": {
       "model_id": "ac178d35f7094ef58a626c3cab650e84",
       "version_major": 2,
       "version_minor": 0
      },
      "text/plain": [
       "Processing tokens:   0%|          | 0/22 [00:00<?, ?it/s]"
      ]
     },
     "metadata": {},
     "output_type": "display_data"
    },
    {
     "name": "stderr",
     "output_type": "stream",
     "text": [
      "Some weights of RobertaModel were not initialized from the model checkpoint at roberta-large and are newly initialized: ['roberta.pooler.dense.bias', 'roberta.pooler.dense.weight']\n",
      "You should probably TRAIN this model on a down-stream task to be able to use it for predictions and inference.\n"
     ]
    },
    {
     "data": {
      "application/vnd.jupyter.widget-view+json": {
       "model_id": "25917ec05d7e4769a30a4daabfe1edc8",
       "version_major": 2,
       "version_minor": 0
      },
      "text/plain": [
       "Batches:   0%|          | 0/1 [00:00<?, ?it/s]"
      ]
     },
     "metadata": {},
     "output_type": "display_data"
    },
    {
     "data": {
      "application/vnd.jupyter.widget-view+json": {
       "model_id": "eb949f0b27ad4ff282ddf9875482153c",
       "version_major": 2,
       "version_minor": 0
      },
      "text/plain": [
       "Batches:   0%|          | 0/1 [00:00<?, ?it/s]"
      ]
     },
     "metadata": {},
     "output_type": "display_data"
    },
    {
     "name": "stderr",
     "output_type": "stream",
     "text": [
      "INFO:absl:Using default tokenizer.\n"
     ]
    },
    {
     "data": {
      "application/vnd.jupyter.widget-view+json": {
       "model_id": "c01d7022d40441398916123ac75452ee",
       "version_major": 2,
       "version_minor": 0
      },
      "text/plain": [
       "Processing tokens:   0%|          | 0/113 [00:00<?, ?it/s]"
      ]
     },
     "metadata": {},
     "output_type": "display_data"
    },
    {
     "data": {
      "application/vnd.jupyter.widget-view+json": {
       "model_id": "eb8c56dc28f249cf83c1580b79774e06",
       "version_major": 2,
       "version_minor": 0
      },
      "text/plain": [
       "Processing tokens:   0%|          | 0/33 [00:00<?, ?it/s]"
      ]
     },
     "metadata": {},
     "output_type": "display_data"
    },
    {
     "name": "stderr",
     "output_type": "stream",
     "text": [
      "Some weights of RobertaModel were not initialized from the model checkpoint at roberta-large and are newly initialized: ['roberta.pooler.dense.bias', 'roberta.pooler.dense.weight']\n",
      "You should probably TRAIN this model on a down-stream task to be able to use it for predictions and inference.\n"
     ]
    },
    {
     "data": {
      "application/vnd.jupyter.widget-view+json": {
       "model_id": "5241bbf46d3644578022601d75525d84",
       "version_major": 2,
       "version_minor": 0
      },
      "text/plain": [
       "Batches:   0%|          | 0/1 [00:00<?, ?it/s]"
      ]
     },
     "metadata": {},
     "output_type": "display_data"
    },
    {
     "data": {
      "application/vnd.jupyter.widget-view+json": {
       "model_id": "590d3045d7ed481ba27ba1d6932301fc",
       "version_major": 2,
       "version_minor": 0
      },
      "text/plain": [
       "Batches:   0%|          | 0/1 [00:00<?, ?it/s]"
      ]
     },
     "metadata": {},
     "output_type": "display_data"
    },
    {
     "name": "stderr",
     "output_type": "stream",
     "text": [
      "INFO:absl:Using default tokenizer.\n"
     ]
    },
    {
     "data": {
      "application/vnd.jupyter.widget-view+json": {
       "model_id": "201a887109634a5ea3115900b5eb4261",
       "version_major": 2,
       "version_minor": 0
      },
      "text/plain": [
       "Processing tokens:   0%|          | 0/491 [00:00<?, ?it/s]"
      ]
     },
     "metadata": {},
     "output_type": "display_data"
    },
    {
     "data": {
      "application/vnd.jupyter.widget-view+json": {
       "model_id": "1b991b0ef677441da1feb2df61a37c60",
       "version_major": 2,
       "version_minor": 0
      },
      "text/plain": [
       "Processing tokens:   0%|          | 0/34 [00:00<?, ?it/s]"
      ]
     },
     "metadata": {},
     "output_type": "display_data"
    },
    {
     "name": "stderr",
     "output_type": "stream",
     "text": [
      "Some weights of RobertaModel were not initialized from the model checkpoint at roberta-large and are newly initialized: ['roberta.pooler.dense.bias', 'roberta.pooler.dense.weight']\n",
      "You should probably TRAIN this model on a down-stream task to be able to use it for predictions and inference.\n"
     ]
    },
    {
     "data": {
      "application/vnd.jupyter.widget-view+json": {
       "model_id": "e3e301a931e6472aa7e485f2d7ed7670",
       "version_major": 2,
       "version_minor": 0
      },
      "text/plain": [
       "Batches:   0%|          | 0/1 [00:00<?, ?it/s]"
      ]
     },
     "metadata": {},
     "output_type": "display_data"
    },
    {
     "data": {
      "application/vnd.jupyter.widget-view+json": {
       "model_id": "b1492dce7f594ffea7b996767b00d8ff",
       "version_major": 2,
       "version_minor": 0
      },
      "text/plain": [
       "Batches:   0%|          | 0/1 [00:00<?, ?it/s]"
      ]
     },
     "metadata": {},
     "output_type": "display_data"
    },
    {
     "name": "stderr",
     "output_type": "stream",
     "text": [
      "INFO:absl:Using default tokenizer.\n"
     ]
    },
    {
     "data": {
      "application/vnd.jupyter.widget-view+json": {
       "model_id": "b5b73b398113404e9ab633b19619ae84",
       "version_major": 2,
       "version_minor": 0
      },
      "text/plain": [
       "Processing tokens:   0%|          | 0/25 [00:00<?, ?it/s]"
      ]
     },
     "metadata": {},
     "output_type": "display_data"
    },
    {
     "data": {
      "application/vnd.jupyter.widget-view+json": {
       "model_id": "52869111579347b2bcb249a8414b76ec",
       "version_major": 2,
       "version_minor": 0
      },
      "text/plain": [
       "Processing tokens:   0%|          | 0/78 [00:00<?, ?it/s]"
      ]
     },
     "metadata": {},
     "output_type": "display_data"
    },
    {
     "name": "stderr",
     "output_type": "stream",
     "text": [
      "Some weights of RobertaModel were not initialized from the model checkpoint at roberta-large and are newly initialized: ['roberta.pooler.dense.bias', 'roberta.pooler.dense.weight']\n",
      "You should probably TRAIN this model on a down-stream task to be able to use it for predictions and inference.\n"
     ]
    },
    {
     "data": {
      "application/vnd.jupyter.widget-view+json": {
       "model_id": "ae04119897d8454aa5b8d41570d27675",
       "version_major": 2,
       "version_minor": 0
      },
      "text/plain": [
       "Batches:   0%|          | 0/1 [00:00<?, ?it/s]"
      ]
     },
     "metadata": {},
     "output_type": "display_data"
    },
    {
     "data": {
      "application/vnd.jupyter.widget-view+json": {
       "model_id": "0f7534a58c4749549e68d5e4d6206f8d",
       "version_major": 2,
       "version_minor": 0
      },
      "text/plain": [
       "Batches:   0%|          | 0/1 [00:00<?, ?it/s]"
      ]
     },
     "metadata": {},
     "output_type": "display_data"
    },
    {
     "name": "stderr",
     "output_type": "stream",
     "text": [
      "INFO:absl:Using default tokenizer.\n"
     ]
    },
    {
     "data": {
      "application/vnd.jupyter.widget-view+json": {
       "model_id": "f9617c9490ac4a06b40a85dc4f91135a",
       "version_major": 2,
       "version_minor": 0
      },
      "text/plain": [
       "Processing tokens:   0%|          | 0/93 [00:00<?, ?it/s]"
      ]
     },
     "metadata": {},
     "output_type": "display_data"
    },
    {
     "data": {
      "application/vnd.jupyter.widget-view+json": {
       "model_id": "ade5f71453e74b3eaf0049c98184c8f8",
       "version_major": 2,
       "version_minor": 0
      },
      "text/plain": [
       "Processing tokens:   0%|          | 0/38 [00:00<?, ?it/s]"
      ]
     },
     "metadata": {},
     "output_type": "display_data"
    },
    {
     "name": "stderr",
     "output_type": "stream",
     "text": [
      "Some weights of RobertaModel were not initialized from the model checkpoint at roberta-large and are newly initialized: ['roberta.pooler.dense.bias', 'roberta.pooler.dense.weight']\n",
      "You should probably TRAIN this model on a down-stream task to be able to use it for predictions and inference.\n"
     ]
    },
    {
     "data": {
      "application/vnd.jupyter.widget-view+json": {
       "model_id": "0cd58082c42c4c36b5c7545e60d4f986",
       "version_major": 2,
       "version_minor": 0
      },
      "text/plain": [
       "Batches:   0%|          | 0/1 [00:00<?, ?it/s]"
      ]
     },
     "metadata": {},
     "output_type": "display_data"
    },
    {
     "data": {
      "application/vnd.jupyter.widget-view+json": {
       "model_id": "ac00cb3a4d884f7caae1724c20bb0724",
       "version_major": 2,
       "version_minor": 0
      },
      "text/plain": [
       "Batches:   0%|          | 0/1 [00:00<?, ?it/s]"
      ]
     },
     "metadata": {},
     "output_type": "display_data"
    },
    {
     "name": "stderr",
     "output_type": "stream",
     "text": [
      "INFO:absl:Using default tokenizer.\n"
     ]
    },
    {
     "data": {
      "application/vnd.jupyter.widget-view+json": {
       "model_id": "aa2e76b8cda744a18ba7fba8ba53581c",
       "version_major": 2,
       "version_minor": 0
      },
      "text/plain": [
       "Processing tokens:   0%|          | 0/61 [00:00<?, ?it/s]"
      ]
     },
     "metadata": {},
     "output_type": "display_data"
    },
    {
     "data": {
      "application/vnd.jupyter.widget-view+json": {
       "model_id": "7422989983824e8da806b2e2dbd50a2f",
       "version_major": 2,
       "version_minor": 0
      },
      "text/plain": [
       "Processing tokens:   0%|          | 0/47 [00:00<?, ?it/s]"
      ]
     },
     "metadata": {},
     "output_type": "display_data"
    },
    {
     "name": "stderr",
     "output_type": "stream",
     "text": [
      "Some weights of RobertaModel were not initialized from the model checkpoint at roberta-large and are newly initialized: ['roberta.pooler.dense.bias', 'roberta.pooler.dense.weight']\n",
      "You should probably TRAIN this model on a down-stream task to be able to use it for predictions and inference.\n"
     ]
    },
    {
     "data": {
      "application/vnd.jupyter.widget-view+json": {
       "model_id": "cb72540c263443f6a1abb784b2722e2b",
       "version_major": 2,
       "version_minor": 0
      },
      "text/plain": [
       "Batches:   0%|          | 0/1 [00:00<?, ?it/s]"
      ]
     },
     "metadata": {},
     "output_type": "display_data"
    },
    {
     "data": {
      "application/vnd.jupyter.widget-view+json": {
       "model_id": "e4d18ae00a4a46148a15c99af8c6e88f",
       "version_major": 2,
       "version_minor": 0
      },
      "text/plain": [
       "Batches:   0%|          | 0/1 [00:00<?, ?it/s]"
      ]
     },
     "metadata": {},
     "output_type": "display_data"
    },
    {
     "name": "stderr",
     "output_type": "stream",
     "text": [
      "INFO:absl:Using default tokenizer.\n"
     ]
    },
    {
     "data": {
      "application/vnd.jupyter.widget-view+json": {
       "model_id": "56f643768f514df6807c3f10132eecff",
       "version_major": 2,
       "version_minor": 0
      },
      "text/plain": [
       "Processing tokens:   0%|          | 0/292 [00:00<?, ?it/s]"
      ]
     },
     "metadata": {},
     "output_type": "display_data"
    },
    {
     "data": {
      "application/vnd.jupyter.widget-view+json": {
       "model_id": "c1903a51120a442eba9c0fb2cf211aa5",
       "version_major": 2,
       "version_minor": 0
      },
      "text/plain": [
       "Processing tokens:   0%|          | 0/43 [00:00<?, ?it/s]"
      ]
     },
     "metadata": {},
     "output_type": "display_data"
    },
    {
     "name": "stderr",
     "output_type": "stream",
     "text": [
      "Some weights of RobertaModel were not initialized from the model checkpoint at roberta-large and are newly initialized: ['roberta.pooler.dense.bias', 'roberta.pooler.dense.weight']\n",
      "You should probably TRAIN this model on a down-stream task to be able to use it for predictions and inference.\n"
     ]
    },
    {
     "data": {
      "application/vnd.jupyter.widget-view+json": {
       "model_id": "dd875df11f344f679475cca7570b44f7",
       "version_major": 2,
       "version_minor": 0
      },
      "text/plain": [
       "Batches:   0%|          | 0/1 [00:00<?, ?it/s]"
      ]
     },
     "metadata": {},
     "output_type": "display_data"
    },
    {
     "data": {
      "application/vnd.jupyter.widget-view+json": {
       "model_id": "f02be837fc5a4ad2abb6c6f74fa532d9",
       "version_major": 2,
       "version_minor": 0
      },
      "text/plain": [
       "Batches:   0%|          | 0/1 [00:00<?, ?it/s]"
      ]
     },
     "metadata": {},
     "output_type": "display_data"
    },
    {
     "name": "stderr",
     "output_type": "stream",
     "text": [
      "INFO:absl:Using default tokenizer.\n"
     ]
    },
    {
     "data": {
      "application/vnd.jupyter.widget-view+json": {
       "model_id": "be28c9d460024441b106872b54bcf291",
       "version_major": 2,
       "version_minor": 0
      },
      "text/plain": [
       "Processing tokens:   0%|          | 0/10 [00:00<?, ?it/s]"
      ]
     },
     "metadata": {},
     "output_type": "display_data"
    },
    {
     "data": {
      "application/vnd.jupyter.widget-view+json": {
       "model_id": "1773b4a172b3451b8fa420dd352145e2",
       "version_major": 2,
       "version_minor": 0
      },
      "text/plain": [
       "Processing tokens:   0%|          | 0/29 [00:00<?, ?it/s]"
      ]
     },
     "metadata": {},
     "output_type": "display_data"
    },
    {
     "name": "stderr",
     "output_type": "stream",
     "text": [
      "Some weights of RobertaModel were not initialized from the model checkpoint at roberta-large and are newly initialized: ['roberta.pooler.dense.bias', 'roberta.pooler.dense.weight']\n",
      "You should probably TRAIN this model on a down-stream task to be able to use it for predictions and inference.\n"
     ]
    },
    {
     "data": {
      "application/vnd.jupyter.widget-view+json": {
       "model_id": "04db00357f374d918650058b450178f8",
       "version_major": 2,
       "version_minor": 0
      },
      "text/plain": [
       "Batches:   0%|          | 0/1 [00:00<?, ?it/s]"
      ]
     },
     "metadata": {},
     "output_type": "display_data"
    },
    {
     "data": {
      "application/vnd.jupyter.widget-view+json": {
       "model_id": "8edb77e2d54e484293cdc9bcf6b45467",
       "version_major": 2,
       "version_minor": 0
      },
      "text/plain": [
       "Batches:   0%|          | 0/1 [00:00<?, ?it/s]"
      ]
     },
     "metadata": {},
     "output_type": "display_data"
    },
    {
     "name": "stderr",
     "output_type": "stream",
     "text": [
      "INFO:absl:Using default tokenizer.\n"
     ]
    },
    {
     "data": {
      "application/vnd.jupyter.widget-view+json": {
       "model_id": "997794fe64c243a08a34dd1aa65f1d04",
       "version_major": 2,
       "version_minor": 0
      },
      "text/plain": [
       "Processing tokens:   0%|          | 0/11 [00:00<?, ?it/s]"
      ]
     },
     "metadata": {},
     "output_type": "display_data"
    },
    {
     "data": {
      "application/vnd.jupyter.widget-view+json": {
       "model_id": "790133aa6ba74e399701875c814c4e9b",
       "version_major": 2,
       "version_minor": 0
      },
      "text/plain": [
       "Processing tokens:   0%|          | 0/35 [00:00<?, ?it/s]"
      ]
     },
     "metadata": {},
     "output_type": "display_data"
    },
    {
     "name": "stderr",
     "output_type": "stream",
     "text": [
      "Some weights of RobertaModel were not initialized from the model checkpoint at roberta-large and are newly initialized: ['roberta.pooler.dense.bias', 'roberta.pooler.dense.weight']\n",
      "You should probably TRAIN this model on a down-stream task to be able to use it for predictions and inference.\n"
     ]
    },
    {
     "data": {
      "application/vnd.jupyter.widget-view+json": {
       "model_id": "424f8b02e2d84b91830891264ed10498",
       "version_major": 2,
       "version_minor": 0
      },
      "text/plain": [
       "Batches:   0%|          | 0/1 [00:00<?, ?it/s]"
      ]
     },
     "metadata": {},
     "output_type": "display_data"
    },
    {
     "data": {
      "application/vnd.jupyter.widget-view+json": {
       "model_id": "97bb0c26799e4adaabe290d53ad74eff",
       "version_major": 2,
       "version_minor": 0
      },
      "text/plain": [
       "Batches:   0%|          | 0/1 [00:00<?, ?it/s]"
      ]
     },
     "metadata": {},
     "output_type": "display_data"
    },
    {
     "name": "stderr",
     "output_type": "stream",
     "text": [
      "INFO:absl:Using default tokenizer.\n"
     ]
    },
    {
     "data": {
      "application/vnd.jupyter.widget-view+json": {
       "model_id": "a1a4a12009cf47a08ea9a6ffac684ace",
       "version_major": 2,
       "version_minor": 0
      },
      "text/plain": [
       "Processing tokens:   0%|          | 0/77 [00:00<?, ?it/s]"
      ]
     },
     "metadata": {},
     "output_type": "display_data"
    },
    {
     "data": {
      "application/vnd.jupyter.widget-view+json": {
       "model_id": "3931938c7bf2469eb1decf9033113620",
       "version_major": 2,
       "version_minor": 0
      },
      "text/plain": [
       "Processing tokens:   0%|          | 0/22 [00:00<?, ?it/s]"
      ]
     },
     "metadata": {},
     "output_type": "display_data"
    },
    {
     "name": "stderr",
     "output_type": "stream",
     "text": [
      "Some weights of RobertaModel were not initialized from the model checkpoint at roberta-large and are newly initialized: ['roberta.pooler.dense.bias', 'roberta.pooler.dense.weight']\n",
      "You should probably TRAIN this model on a down-stream task to be able to use it for predictions and inference.\n"
     ]
    },
    {
     "data": {
      "application/vnd.jupyter.widget-view+json": {
       "model_id": "dca6ee7ba1b1463683ba7662c736696a",
       "version_major": 2,
       "version_minor": 0
      },
      "text/plain": [
       "Batches:   0%|          | 0/1 [00:00<?, ?it/s]"
      ]
     },
     "metadata": {},
     "output_type": "display_data"
    },
    {
     "data": {
      "application/vnd.jupyter.widget-view+json": {
       "model_id": "b4d3c1bfe7b54eeebced790937225fb9",
       "version_major": 2,
       "version_minor": 0
      },
      "text/plain": [
       "Batches:   0%|          | 0/1 [00:00<?, ?it/s]"
      ]
     },
     "metadata": {},
     "output_type": "display_data"
    },
    {
     "name": "stderr",
     "output_type": "stream",
     "text": [
      "INFO:absl:Using default tokenizer.\n"
     ]
    },
    {
     "data": {
      "application/vnd.jupyter.widget-view+json": {
       "model_id": "175b337ce89349f6a348acadae037ba7",
       "version_major": 2,
       "version_minor": 0
      },
      "text/plain": [
       "Processing tokens:   0%|          | 0/32 [00:00<?, ?it/s]"
      ]
     },
     "metadata": {},
     "output_type": "display_data"
    },
    {
     "data": {
      "application/vnd.jupyter.widget-view+json": {
       "model_id": "fd76114832bb4726a4d2ec13ed436cb3",
       "version_major": 2,
       "version_minor": 0
      },
      "text/plain": [
       "Processing tokens:   0%|          | 0/48 [00:00<?, ?it/s]"
      ]
     },
     "metadata": {},
     "output_type": "display_data"
    },
    {
     "name": "stderr",
     "output_type": "stream",
     "text": [
      "Some weights of RobertaModel were not initialized from the model checkpoint at roberta-large and are newly initialized: ['roberta.pooler.dense.bias', 'roberta.pooler.dense.weight']\n",
      "You should probably TRAIN this model on a down-stream task to be able to use it for predictions and inference.\n"
     ]
    },
    {
     "data": {
      "application/vnd.jupyter.widget-view+json": {
       "model_id": "38054d90cdb8493286006ebd8a64c1aa",
       "version_major": 2,
       "version_minor": 0
      },
      "text/plain": [
       "Batches:   0%|          | 0/1 [00:00<?, ?it/s]"
      ]
     },
     "metadata": {},
     "output_type": "display_data"
    },
    {
     "data": {
      "application/vnd.jupyter.widget-view+json": {
       "model_id": "7de7a5295b974b0bb03d8206c3e238e8",
       "version_major": 2,
       "version_minor": 0
      },
      "text/plain": [
       "Batches:   0%|          | 0/1 [00:00<?, ?it/s]"
      ]
     },
     "metadata": {},
     "output_type": "display_data"
    },
    {
     "name": "stderr",
     "output_type": "stream",
     "text": [
      "INFO:absl:Using default tokenizer.\n"
     ]
    },
    {
     "data": {
      "application/vnd.jupyter.widget-view+json": {
       "model_id": "12a035794acb4ff5879298c2962d711d",
       "version_major": 2,
       "version_minor": 0
      },
      "text/plain": [
       "Processing tokens:   0%|          | 0/255 [00:00<?, ?it/s]"
      ]
     },
     "metadata": {},
     "output_type": "display_data"
    },
    {
     "data": {
      "application/vnd.jupyter.widget-view+json": {
       "model_id": "e0ee8c59f98f421b8b5c44b47fbb6f4b",
       "version_major": 2,
       "version_minor": 0
      },
      "text/plain": [
       "Processing tokens:   0%|          | 0/34 [00:00<?, ?it/s]"
      ]
     },
     "metadata": {},
     "output_type": "display_data"
    },
    {
     "name": "stderr",
     "output_type": "stream",
     "text": [
      "Some weights of RobertaModel were not initialized from the model checkpoint at roberta-large and are newly initialized: ['roberta.pooler.dense.bias', 'roberta.pooler.dense.weight']\n",
      "You should probably TRAIN this model on a down-stream task to be able to use it for predictions and inference.\n"
     ]
    },
    {
     "data": {
      "application/vnd.jupyter.widget-view+json": {
       "model_id": "5fc75df45d704cf5b490f80182902e9f",
       "version_major": 2,
       "version_minor": 0
      },
      "text/plain": [
       "Batches:   0%|          | 0/1 [00:00<?, ?it/s]"
      ]
     },
     "metadata": {},
     "output_type": "display_data"
    },
    {
     "data": {
      "application/vnd.jupyter.widget-view+json": {
       "model_id": "2d1da14efa37409ea0d300431b935667",
       "version_major": 2,
       "version_minor": 0
      },
      "text/plain": [
       "Batches:   0%|          | 0/1 [00:00<?, ?it/s]"
      ]
     },
     "metadata": {},
     "output_type": "display_data"
    },
    {
     "name": "stderr",
     "output_type": "stream",
     "text": [
      "INFO:absl:Using default tokenizer.\n"
     ]
    },
    {
     "data": {
      "application/vnd.jupyter.widget-view+json": {
       "model_id": "4289baae2b554b748d35326529f9753e",
       "version_major": 2,
       "version_minor": 0
      },
      "text/plain": [
       "Processing tokens:   0%|          | 0/418 [00:00<?, ?it/s]"
      ]
     },
     "metadata": {},
     "output_type": "display_data"
    },
    {
     "data": {
      "application/vnd.jupyter.widget-view+json": {
       "model_id": "745e773a624c4614bc42a6de85132bfa",
       "version_major": 2,
       "version_minor": 0
      },
      "text/plain": [
       "Processing tokens:   0%|          | 0/44 [00:00<?, ?it/s]"
      ]
     },
     "metadata": {},
     "output_type": "display_data"
    },
    {
     "name": "stderr",
     "output_type": "stream",
     "text": [
      "Some weights of RobertaModel were not initialized from the model checkpoint at roberta-large and are newly initialized: ['roberta.pooler.dense.bias', 'roberta.pooler.dense.weight']\n",
      "You should probably TRAIN this model on a down-stream task to be able to use it for predictions and inference.\n"
     ]
    },
    {
     "data": {
      "application/vnd.jupyter.widget-view+json": {
       "model_id": "471d92ee2ad9438898ee826fe71419a7",
       "version_major": 2,
       "version_minor": 0
      },
      "text/plain": [
       "Batches:   0%|          | 0/1 [00:00<?, ?it/s]"
      ]
     },
     "metadata": {},
     "output_type": "display_data"
    },
    {
     "data": {
      "application/vnd.jupyter.widget-view+json": {
       "model_id": "d8b55c7ec80c4709a8f82523d185153f",
       "version_major": 2,
       "version_minor": 0
      },
      "text/plain": [
       "Batches:   0%|          | 0/1 [00:00<?, ?it/s]"
      ]
     },
     "metadata": {},
     "output_type": "display_data"
    },
    {
     "name": "stderr",
     "output_type": "stream",
     "text": [
      "INFO:absl:Using default tokenizer.\n"
     ]
    },
    {
     "data": {
      "application/vnd.jupyter.widget-view+json": {
       "model_id": "f8e379d7045342d5b854c768bffec87d",
       "version_major": 2,
       "version_minor": 0
      },
      "text/plain": [
       "Processing tokens:   0%|          | 0/574 [00:00<?, ?it/s]"
      ]
     },
     "metadata": {},
     "output_type": "display_data"
    },
    {
     "data": {
      "application/vnd.jupyter.widget-view+json": {
       "model_id": "b337f92b107f4778ab8d3f66ebdc7afb",
       "version_major": 2,
       "version_minor": 0
      },
      "text/plain": [
       "Processing tokens:   0%|          | 0/28 [00:00<?, ?it/s]"
      ]
     },
     "metadata": {},
     "output_type": "display_data"
    },
    {
     "name": "stderr",
     "output_type": "stream",
     "text": [
      "Some weights of RobertaModel were not initialized from the model checkpoint at roberta-large and are newly initialized: ['roberta.pooler.dense.bias', 'roberta.pooler.dense.weight']\n",
      "You should probably TRAIN this model on a down-stream task to be able to use it for predictions and inference.\n"
     ]
    },
    {
     "data": {
      "application/vnd.jupyter.widget-view+json": {
       "model_id": "31a93ffbbf6d48119dd8f0f822e4ab05",
       "version_major": 2,
       "version_minor": 0
      },
      "text/plain": [
       "Batches:   0%|          | 0/1 [00:00<?, ?it/s]"
      ]
     },
     "metadata": {},
     "output_type": "display_data"
    },
    {
     "data": {
      "application/vnd.jupyter.widget-view+json": {
       "model_id": "cfb2e0fab86f4ae6a80c256500c01d2a",
       "version_major": 2,
       "version_minor": 0
      },
      "text/plain": [
       "Batches:   0%|          | 0/1 [00:00<?, ?it/s]"
      ]
     },
     "metadata": {},
     "output_type": "display_data"
    },
    {
     "name": "stderr",
     "output_type": "stream",
     "text": [
      "INFO:absl:Using default tokenizer.\n"
     ]
    },
    {
     "data": {
      "application/vnd.jupyter.widget-view+json": {
       "model_id": "bb8232f215634b12ab5702635223e2ee",
       "version_major": 2,
       "version_minor": 0
      },
      "text/plain": [
       "Processing tokens:   0%|          | 0/484 [00:00<?, ?it/s]"
      ]
     },
     "metadata": {},
     "output_type": "display_data"
    },
    {
     "data": {
      "application/vnd.jupyter.widget-view+json": {
       "model_id": "36d5c8135c884bff95b9bd6fc3780aa9",
       "version_major": 2,
       "version_minor": 0
      },
      "text/plain": [
       "Processing tokens:   0%|          | 0/39 [00:00<?, ?it/s]"
      ]
     },
     "metadata": {},
     "output_type": "display_data"
    },
    {
     "name": "stderr",
     "output_type": "stream",
     "text": [
      "Some weights of RobertaModel were not initialized from the model checkpoint at roberta-large and are newly initialized: ['roberta.pooler.dense.bias', 'roberta.pooler.dense.weight']\n",
      "You should probably TRAIN this model on a down-stream task to be able to use it for predictions and inference.\n"
     ]
    },
    {
     "data": {
      "application/vnd.jupyter.widget-view+json": {
       "model_id": "f058903c5ad34734a2259fc48f3663c5",
       "version_major": 2,
       "version_minor": 0
      },
      "text/plain": [
       "Batches:   0%|          | 0/1 [00:00<?, ?it/s]"
      ]
     },
     "metadata": {},
     "output_type": "display_data"
    },
    {
     "data": {
      "application/vnd.jupyter.widget-view+json": {
       "model_id": "c60597bd90dc4991b2e65b3e3d53108d",
       "version_major": 2,
       "version_minor": 0
      },
      "text/plain": [
       "Batches:   0%|          | 0/1 [00:00<?, ?it/s]"
      ]
     },
     "metadata": {},
     "output_type": "display_data"
    },
    {
     "name": "stderr",
     "output_type": "stream",
     "text": [
      "INFO:absl:Using default tokenizer.\n"
     ]
    },
    {
     "data": {
      "application/vnd.jupyter.widget-view+json": {
       "model_id": "a53ec042e62b43ce8ab0784f396a14c8",
       "version_major": 2,
       "version_minor": 0
      },
      "text/plain": [
       "Processing tokens:   0%|          | 0/8 [00:00<?, ?it/s]"
      ]
     },
     "metadata": {},
     "output_type": "display_data"
    },
    {
     "data": {
      "application/vnd.jupyter.widget-view+json": {
       "model_id": "9b12edbbfdb34c9abd5bb4879550a446",
       "version_major": 2,
       "version_minor": 0
      },
      "text/plain": [
       "Processing tokens:   0%|          | 0/43 [00:00<?, ?it/s]"
      ]
     },
     "metadata": {},
     "output_type": "display_data"
    },
    {
     "name": "stderr",
     "output_type": "stream",
     "text": [
      "Some weights of RobertaModel were not initialized from the model checkpoint at roberta-large and are newly initialized: ['roberta.pooler.dense.bias', 'roberta.pooler.dense.weight']\n",
      "You should probably TRAIN this model on a down-stream task to be able to use it for predictions and inference.\n"
     ]
    },
    {
     "data": {
      "application/vnd.jupyter.widget-view+json": {
       "model_id": "81b9c8a0308849dfa33d4c59ca2fca3d",
       "version_major": 2,
       "version_minor": 0
      },
      "text/plain": [
       "Batches:   0%|          | 0/1 [00:00<?, ?it/s]"
      ]
     },
     "metadata": {},
     "output_type": "display_data"
    },
    {
     "data": {
      "application/vnd.jupyter.widget-view+json": {
       "model_id": "b8bb1ca818144cf79d226da43992dd87",
       "version_major": 2,
       "version_minor": 0
      },
      "text/plain": [
       "Batches:   0%|          | 0/1 [00:00<?, ?it/s]"
      ]
     },
     "metadata": {},
     "output_type": "display_data"
    },
    {
     "name": "stderr",
     "output_type": "stream",
     "text": [
      "INFO:absl:Using default tokenizer.\n"
     ]
    },
    {
     "data": {
      "application/vnd.jupyter.widget-view+json": {
       "model_id": "bfcdb687c9c4436a90033a382f7c3437",
       "version_major": 2,
       "version_minor": 0
      },
      "text/plain": [
       "Processing tokens:   0%|          | 0/154 [00:00<?, ?it/s]"
      ]
     },
     "metadata": {},
     "output_type": "display_data"
    },
    {
     "data": {
      "application/vnd.jupyter.widget-view+json": {
       "model_id": "0971413c3e0a43ed85e0b4ca8134cf30",
       "version_major": 2,
       "version_minor": 0
      },
      "text/plain": [
       "Processing tokens:   0%|          | 0/41 [00:00<?, ?it/s]"
      ]
     },
     "metadata": {},
     "output_type": "display_data"
    },
    {
     "name": "stderr",
     "output_type": "stream",
     "text": [
      "Some weights of RobertaModel were not initialized from the model checkpoint at roberta-large and are newly initialized: ['roberta.pooler.dense.bias', 'roberta.pooler.dense.weight']\n",
      "You should probably TRAIN this model on a down-stream task to be able to use it for predictions and inference.\n"
     ]
    },
    {
     "data": {
      "application/vnd.jupyter.widget-view+json": {
       "model_id": "9534b639a9034d19b4af251429638f98",
       "version_major": 2,
       "version_minor": 0
      },
      "text/plain": [
       "Batches:   0%|          | 0/1 [00:00<?, ?it/s]"
      ]
     },
     "metadata": {},
     "output_type": "display_data"
    },
    {
     "data": {
      "application/vnd.jupyter.widget-view+json": {
       "model_id": "ea75ccd555c94e5f859cab63a22e772d",
       "version_major": 2,
       "version_minor": 0
      },
      "text/plain": [
       "Batches:   0%|          | 0/1 [00:00<?, ?it/s]"
      ]
     },
     "metadata": {},
     "output_type": "display_data"
    },
    {
     "name": "stderr",
     "output_type": "stream",
     "text": [
      "INFO:absl:Using default tokenizer.\n"
     ]
    },
    {
     "data": {
      "application/vnd.jupyter.widget-view+json": {
       "model_id": "fe87c807ada445ebb0aa344f59075716",
       "version_major": 2,
       "version_minor": 0
      },
      "text/plain": [
       "Processing tokens:   0%|          | 0/326 [00:00<?, ?it/s]"
      ]
     },
     "metadata": {},
     "output_type": "display_data"
    },
    {
     "data": {
      "application/vnd.jupyter.widget-view+json": {
       "model_id": "e10b2e376ec84a6a8918abef45332304",
       "version_major": 2,
       "version_minor": 0
      },
      "text/plain": [
       "Processing tokens:   0%|          | 0/40 [00:00<?, ?it/s]"
      ]
     },
     "metadata": {},
     "output_type": "display_data"
    },
    {
     "name": "stderr",
     "output_type": "stream",
     "text": [
      "Some weights of RobertaModel were not initialized from the model checkpoint at roberta-large and are newly initialized: ['roberta.pooler.dense.bias', 'roberta.pooler.dense.weight']\n",
      "You should probably TRAIN this model on a down-stream task to be able to use it for predictions and inference.\n"
     ]
    },
    {
     "data": {
      "application/vnd.jupyter.widget-view+json": {
       "model_id": "b465bca52bce4988a48df12477b30e3d",
       "version_major": 2,
       "version_minor": 0
      },
      "text/plain": [
       "Batches:   0%|          | 0/1 [00:00<?, ?it/s]"
      ]
     },
     "metadata": {},
     "output_type": "display_data"
    },
    {
     "data": {
      "application/vnd.jupyter.widget-view+json": {
       "model_id": "3d9ccb2361ef48d38b50772dd22bff76",
       "version_major": 2,
       "version_minor": 0
      },
      "text/plain": [
       "Batches:   0%|          | 0/1 [00:00<?, ?it/s]"
      ]
     },
     "metadata": {},
     "output_type": "display_data"
    },
    {
     "name": "stderr",
     "output_type": "stream",
     "text": [
      "INFO:absl:Using default tokenizer.\n"
     ]
    },
    {
     "data": {
      "application/vnd.jupyter.widget-view+json": {
       "model_id": "270ad92f004044f397dd02d9b380e760",
       "version_major": 2,
       "version_minor": 0
      },
      "text/plain": [
       "Processing tokens:   0%|          | 0/114 [00:00<?, ?it/s]"
      ]
     },
     "metadata": {},
     "output_type": "display_data"
    },
    {
     "data": {
      "application/vnd.jupyter.widget-view+json": {
       "model_id": "700c3cb85291406da01dc619db43468c",
       "version_major": 2,
       "version_minor": 0
      },
      "text/plain": [
       "Processing tokens:   0%|          | 0/35 [00:00<?, ?it/s]"
      ]
     },
     "metadata": {},
     "output_type": "display_data"
    },
    {
     "name": "stderr",
     "output_type": "stream",
     "text": [
      "Some weights of RobertaModel were not initialized from the model checkpoint at roberta-large and are newly initialized: ['roberta.pooler.dense.bias', 'roberta.pooler.dense.weight']\n",
      "You should probably TRAIN this model on a down-stream task to be able to use it for predictions and inference.\n"
     ]
    },
    {
     "data": {
      "application/vnd.jupyter.widget-view+json": {
       "model_id": "97671f4e79d24a76bc44d83b32ef10ff",
       "version_major": 2,
       "version_minor": 0
      },
      "text/plain": [
       "Batches:   0%|          | 0/1 [00:00<?, ?it/s]"
      ]
     },
     "metadata": {},
     "output_type": "display_data"
    },
    {
     "data": {
      "application/vnd.jupyter.widget-view+json": {
       "model_id": "ba89e3c6dd9c4c46a192510527064dbf",
       "version_major": 2,
       "version_minor": 0
      },
      "text/plain": [
       "Batches:   0%|          | 0/1 [00:00<?, ?it/s]"
      ]
     },
     "metadata": {},
     "output_type": "display_data"
    },
    {
     "name": "stderr",
     "output_type": "stream",
     "text": [
      "INFO:absl:Using default tokenizer.\n"
     ]
    },
    {
     "data": {
      "application/vnd.jupyter.widget-view+json": {
       "model_id": "54e452ae07494d678083c1a56a86014d",
       "version_major": 2,
       "version_minor": 0
      },
      "text/plain": [
       "Processing tokens:   0%|          | 0/13 [00:00<?, ?it/s]"
      ]
     },
     "metadata": {},
     "output_type": "display_data"
    },
    {
     "data": {
      "application/vnd.jupyter.widget-view+json": {
       "model_id": "645fa544c48a49608bb3d1daaaab476b",
       "version_major": 2,
       "version_minor": 0
      },
      "text/plain": [
       "Processing tokens:   0%|          | 0/37 [00:00<?, ?it/s]"
      ]
     },
     "metadata": {},
     "output_type": "display_data"
    },
    {
     "name": "stderr",
     "output_type": "stream",
     "text": [
      "Some weights of RobertaModel were not initialized from the model checkpoint at roberta-large and are newly initialized: ['roberta.pooler.dense.bias', 'roberta.pooler.dense.weight']\n",
      "You should probably TRAIN this model on a down-stream task to be able to use it for predictions and inference.\n"
     ]
    },
    {
     "data": {
      "application/vnd.jupyter.widget-view+json": {
       "model_id": "bc27a53b10f946028465d6072e6128b3",
       "version_major": 2,
       "version_minor": 0
      },
      "text/plain": [
       "Batches:   0%|          | 0/1 [00:00<?, ?it/s]"
      ]
     },
     "metadata": {},
     "output_type": "display_data"
    },
    {
     "data": {
      "application/vnd.jupyter.widget-view+json": {
       "model_id": "21924a81e9c948ac8b614679d597749e",
       "version_major": 2,
       "version_minor": 0
      },
      "text/plain": [
       "Batches:   0%|          | 0/1 [00:00<?, ?it/s]"
      ]
     },
     "metadata": {},
     "output_type": "display_data"
    },
    {
     "name": "stderr",
     "output_type": "stream",
     "text": [
      "INFO:absl:Using default tokenizer.\n"
     ]
    },
    {
     "data": {
      "application/vnd.jupyter.widget-view+json": {
       "model_id": "dfca3ea3251b41d8ab7ffc535b5677de",
       "version_major": 2,
       "version_minor": 0
      },
      "text/plain": [
       "Processing tokens:   0%|          | 0/11 [00:00<?, ?it/s]"
      ]
     },
     "metadata": {},
     "output_type": "display_data"
    },
    {
     "data": {
      "application/vnd.jupyter.widget-view+json": {
       "model_id": "8e3047a811e14401a92ba926def79239",
       "version_major": 2,
       "version_minor": 0
      },
      "text/plain": [
       "Processing tokens:   0%|          | 0/87 [00:00<?, ?it/s]"
      ]
     },
     "metadata": {},
     "output_type": "display_data"
    },
    {
     "name": "stderr",
     "output_type": "stream",
     "text": [
      "Some weights of RobertaModel were not initialized from the model checkpoint at roberta-large and are newly initialized: ['roberta.pooler.dense.bias', 'roberta.pooler.dense.weight']\n",
      "You should probably TRAIN this model on a down-stream task to be able to use it for predictions and inference.\n"
     ]
    },
    {
     "data": {
      "application/vnd.jupyter.widget-view+json": {
       "model_id": "98bf6ae6b0f94930ad06ab1efd9e55ef",
       "version_major": 2,
       "version_minor": 0
      },
      "text/plain": [
       "Batches:   0%|          | 0/1 [00:00<?, ?it/s]"
      ]
     },
     "metadata": {},
     "output_type": "display_data"
    },
    {
     "data": {
      "application/vnd.jupyter.widget-view+json": {
       "model_id": "9cc97946ad8c41da897736607579c1c9",
       "version_major": 2,
       "version_minor": 0
      },
      "text/plain": [
       "Batches:   0%|          | 0/1 [00:00<?, ?it/s]"
      ]
     },
     "metadata": {},
     "output_type": "display_data"
    },
    {
     "name": "stderr",
     "output_type": "stream",
     "text": [
      "INFO:absl:Using default tokenizer.\n"
     ]
    },
    {
     "data": {
      "application/vnd.jupyter.widget-view+json": {
       "model_id": "1c76985f5d9d41b7bb3c66f53ffcf066",
       "version_major": 2,
       "version_minor": 0
      },
      "text/plain": [
       "Processing tokens:   0%|          | 0/10 [00:00<?, ?it/s]"
      ]
     },
     "metadata": {},
     "output_type": "display_data"
    },
    {
     "data": {
      "application/vnd.jupyter.widget-view+json": {
       "model_id": "2fdeaacedfd54da4b12800c141e656a5",
       "version_major": 2,
       "version_minor": 0
      },
      "text/plain": [
       "Processing tokens:   0%|          | 0/39 [00:00<?, ?it/s]"
      ]
     },
     "metadata": {},
     "output_type": "display_data"
    },
    {
     "name": "stderr",
     "output_type": "stream",
     "text": [
      "Some weights of RobertaModel were not initialized from the model checkpoint at roberta-large and are newly initialized: ['roberta.pooler.dense.bias', 'roberta.pooler.dense.weight']\n",
      "You should probably TRAIN this model on a down-stream task to be able to use it for predictions and inference.\n"
     ]
    },
    {
     "data": {
      "application/vnd.jupyter.widget-view+json": {
       "model_id": "66f1effb88804279b89088a77d78a08b",
       "version_major": 2,
       "version_minor": 0
      },
      "text/plain": [
       "Batches:   0%|          | 0/1 [00:00<?, ?it/s]"
      ]
     },
     "metadata": {},
     "output_type": "display_data"
    },
    {
     "data": {
      "application/vnd.jupyter.widget-view+json": {
       "model_id": "a68f54a2d1544fba94b2906c4bb3c242",
       "version_major": 2,
       "version_minor": 0
      },
      "text/plain": [
       "Batches:   0%|          | 0/1 [00:00<?, ?it/s]"
      ]
     },
     "metadata": {},
     "output_type": "display_data"
    },
    {
     "name": "stderr",
     "output_type": "stream",
     "text": [
      "INFO:absl:Using default tokenizer.\n"
     ]
    },
    {
     "data": {
      "application/vnd.jupyter.widget-view+json": {
       "model_id": "d06d763e26c04daa953d2211ef66fb16",
       "version_major": 2,
       "version_minor": 0
      },
      "text/plain": [
       "Processing tokens:   0%|          | 0/15 [00:00<?, ?it/s]"
      ]
     },
     "metadata": {},
     "output_type": "display_data"
    },
    {
     "data": {
      "application/vnd.jupyter.widget-view+json": {
       "model_id": "d4d1542aafa14ac2b59275bb3e8d86e6",
       "version_major": 2,
       "version_minor": 0
      },
      "text/plain": [
       "Processing tokens:   0%|          | 0/229 [00:00<?, ?it/s]"
      ]
     },
     "metadata": {},
     "output_type": "display_data"
    },
    {
     "name": "stderr",
     "output_type": "stream",
     "text": [
      "Some weights of RobertaModel were not initialized from the model checkpoint at roberta-large and are newly initialized: ['roberta.pooler.dense.bias', 'roberta.pooler.dense.weight']\n",
      "You should probably TRAIN this model on a down-stream task to be able to use it for predictions and inference.\n"
     ]
    },
    {
     "data": {
      "application/vnd.jupyter.widget-view+json": {
       "model_id": "9adf320b56b9490cb3df89313ee6a757",
       "version_major": 2,
       "version_minor": 0
      },
      "text/plain": [
       "Batches:   0%|          | 0/1 [00:00<?, ?it/s]"
      ]
     },
     "metadata": {},
     "output_type": "display_data"
    },
    {
     "data": {
      "application/vnd.jupyter.widget-view+json": {
       "model_id": "2e2bfc2414d74288a05cb63229e83807",
       "version_major": 2,
       "version_minor": 0
      },
      "text/plain": [
       "Batches:   0%|          | 0/1 [00:00<?, ?it/s]"
      ]
     },
     "metadata": {},
     "output_type": "display_data"
    },
    {
     "name": "stderr",
     "output_type": "stream",
     "text": [
      "INFO:absl:Using default tokenizer.\n"
     ]
    },
    {
     "data": {
      "application/vnd.jupyter.widget-view+json": {
       "model_id": "42ddf123fa3f4a2899abc64eba927c64",
       "version_major": 2,
       "version_minor": 0
      },
      "text/plain": [
       "Processing tokens:   0%|          | 0/50 [00:00<?, ?it/s]"
      ]
     },
     "metadata": {},
     "output_type": "display_data"
    },
    {
     "data": {
      "application/vnd.jupyter.widget-view+json": {
       "model_id": "ae00c1674e704b7788ee7835efa0b0c2",
       "version_major": 2,
       "version_minor": 0
      },
      "text/plain": [
       "Processing tokens:   0%|          | 0/494 [00:00<?, ?it/s]"
      ]
     },
     "metadata": {},
     "output_type": "display_data"
    },
    {
     "name": "stderr",
     "output_type": "stream",
     "text": [
      "Some weights of RobertaModel were not initialized from the model checkpoint at roberta-large and are newly initialized: ['roberta.pooler.dense.bias', 'roberta.pooler.dense.weight']\n",
      "You should probably TRAIN this model on a down-stream task to be able to use it for predictions and inference.\n"
     ]
    },
    {
     "data": {
      "application/vnd.jupyter.widget-view+json": {
       "model_id": "3f512f315f5445edb56e0b5f95a45f69",
       "version_major": 2,
       "version_minor": 0
      },
      "text/plain": [
       "Batches:   0%|          | 0/1 [00:00<?, ?it/s]"
      ]
     },
     "metadata": {},
     "output_type": "display_data"
    },
    {
     "data": {
      "application/vnd.jupyter.widget-view+json": {
       "model_id": "0bffa65bc3c141298ff0a04bb802eb4f",
       "version_major": 2,
       "version_minor": 0
      },
      "text/plain": [
       "Batches:   0%|          | 0/1 [00:00<?, ?it/s]"
      ]
     },
     "metadata": {},
     "output_type": "display_data"
    },
    {
     "name": "stderr",
     "output_type": "stream",
     "text": [
      "INFO:absl:Using default tokenizer.\n"
     ]
    },
    {
     "data": {
      "application/vnd.jupyter.widget-view+json": {
       "model_id": "25f10693f16a431b995d1fe13ee33fda",
       "version_major": 2,
       "version_minor": 0
      },
      "text/plain": [
       "Processing tokens:   0%|          | 0/16 [00:00<?, ?it/s]"
      ]
     },
     "metadata": {},
     "output_type": "display_data"
    },
    {
     "data": {
      "application/vnd.jupyter.widget-view+json": {
       "model_id": "9a53400024e34fd08cc9e3416a6f24a4",
       "version_major": 2,
       "version_minor": 0
      },
      "text/plain": [
       "Processing tokens:   0%|          | 0/134 [00:00<?, ?it/s]"
      ]
     },
     "metadata": {},
     "output_type": "display_data"
    },
    {
     "name": "stderr",
     "output_type": "stream",
     "text": [
      "Some weights of RobertaModel were not initialized from the model checkpoint at roberta-large and are newly initialized: ['roberta.pooler.dense.bias', 'roberta.pooler.dense.weight']\n",
      "You should probably TRAIN this model on a down-stream task to be able to use it for predictions and inference.\n"
     ]
    },
    {
     "data": {
      "application/vnd.jupyter.widget-view+json": {
       "model_id": "bf1cebd83c3143be91fcbfc33e09548f",
       "version_major": 2,
       "version_minor": 0
      },
      "text/plain": [
       "Batches:   0%|          | 0/1 [00:00<?, ?it/s]"
      ]
     },
     "metadata": {},
     "output_type": "display_data"
    },
    {
     "data": {
      "application/vnd.jupyter.widget-view+json": {
       "model_id": "07ebe923dad3471397a5cabe127dade0",
       "version_major": 2,
       "version_minor": 0
      },
      "text/plain": [
       "Batches:   0%|          | 0/1 [00:00<?, ?it/s]"
      ]
     },
     "metadata": {},
     "output_type": "display_data"
    },
    {
     "name": "stderr",
     "output_type": "stream",
     "text": [
      "INFO:absl:Using default tokenizer.\n"
     ]
    },
    {
     "data": {
      "application/vnd.jupyter.widget-view+json": {
       "model_id": "98c983be50a44e7ab63c0e7dc14d5192",
       "version_major": 2,
       "version_minor": 0
      },
      "text/plain": [
       "Processing tokens:   0%|          | 0/30 [00:00<?, ?it/s]"
      ]
     },
     "metadata": {},
     "output_type": "display_data"
    },
    {
     "data": {
      "application/vnd.jupyter.widget-view+json": {
       "model_id": "d1dbfb1c77874a56b40584d510b2b286",
       "version_major": 2,
       "version_minor": 0
      },
      "text/plain": [
       "Processing tokens:   0%|          | 0/75 [00:00<?, ?it/s]"
      ]
     },
     "metadata": {},
     "output_type": "display_data"
    },
    {
     "name": "stderr",
     "output_type": "stream",
     "text": [
      "Some weights of RobertaModel were not initialized from the model checkpoint at roberta-large and are newly initialized: ['roberta.pooler.dense.bias', 'roberta.pooler.dense.weight']\n",
      "You should probably TRAIN this model on a down-stream task to be able to use it for predictions and inference.\n"
     ]
    },
    {
     "data": {
      "application/vnd.jupyter.widget-view+json": {
       "model_id": "f99e111e4cb94bd3be44927568047590",
       "version_major": 2,
       "version_minor": 0
      },
      "text/plain": [
       "Batches:   0%|          | 0/1 [00:00<?, ?it/s]"
      ]
     },
     "metadata": {},
     "output_type": "display_data"
    },
    {
     "data": {
      "application/vnd.jupyter.widget-view+json": {
       "model_id": "7725552437554abba2be8c785ac38046",
       "version_major": 2,
       "version_minor": 0
      },
      "text/plain": [
       "Batches:   0%|          | 0/1 [00:00<?, ?it/s]"
      ]
     },
     "metadata": {},
     "output_type": "display_data"
    },
    {
     "name": "stderr",
     "output_type": "stream",
     "text": [
      "INFO:absl:Using default tokenizer.\n"
     ]
    },
    {
     "data": {
      "application/vnd.jupyter.widget-view+json": {
       "model_id": "e6342a95f1804d3686e43cfc591036f7",
       "version_major": 2,
       "version_minor": 0
      },
      "text/plain": [
       "Processing tokens:   0%|          | 0/225 [00:00<?, ?it/s]"
      ]
     },
     "metadata": {},
     "output_type": "display_data"
    },
    {
     "data": {
      "application/vnd.jupyter.widget-view+json": {
       "model_id": "b8dacde8c07642fbb0bf09223ab14108",
       "version_major": 2,
       "version_minor": 0
      },
      "text/plain": [
       "Processing tokens:   0%|          | 0/45 [00:00<?, ?it/s]"
      ]
     },
     "metadata": {},
     "output_type": "display_data"
    },
    {
     "name": "stderr",
     "output_type": "stream",
     "text": [
      "Some weights of RobertaModel were not initialized from the model checkpoint at roberta-large and are newly initialized: ['roberta.pooler.dense.bias', 'roberta.pooler.dense.weight']\n",
      "You should probably TRAIN this model on a down-stream task to be able to use it for predictions and inference.\n"
     ]
    },
    {
     "data": {
      "application/vnd.jupyter.widget-view+json": {
       "model_id": "a8c6e4314bdc4a5e88008b67e562727f",
       "version_major": 2,
       "version_minor": 0
      },
      "text/plain": [
       "Batches:   0%|          | 0/1 [00:00<?, ?it/s]"
      ]
     },
     "metadata": {},
     "output_type": "display_data"
    },
    {
     "data": {
      "application/vnd.jupyter.widget-view+json": {
       "model_id": "3ad022fbb83a437aad006543e9434654",
       "version_major": 2,
       "version_minor": 0
      },
      "text/plain": [
       "Batches:   0%|          | 0/1 [00:00<?, ?it/s]"
      ]
     },
     "metadata": {},
     "output_type": "display_data"
    },
    {
     "name": "stderr",
     "output_type": "stream",
     "text": [
      "INFO:absl:Using default tokenizer.\n"
     ]
    },
    {
     "data": {
      "application/vnd.jupyter.widget-view+json": {
       "model_id": "29ef3fb79e254719bd2fbc3a96bf9a47",
       "version_major": 2,
       "version_minor": 0
      },
      "text/plain": [
       "Processing tokens:   0%|          | 0/15 [00:00<?, ?it/s]"
      ]
     },
     "metadata": {},
     "output_type": "display_data"
    },
    {
     "data": {
      "application/vnd.jupyter.widget-view+json": {
       "model_id": "62c771eedb8d413ca298c0b2285fe115",
       "version_major": 2,
       "version_minor": 0
      },
      "text/plain": [
       "Processing tokens:   0%|          | 0/62 [00:00<?, ?it/s]"
      ]
     },
     "metadata": {},
     "output_type": "display_data"
    },
    {
     "name": "stderr",
     "output_type": "stream",
     "text": [
      "Some weights of RobertaModel were not initialized from the model checkpoint at roberta-large and are newly initialized: ['roberta.pooler.dense.bias', 'roberta.pooler.dense.weight']\n",
      "You should probably TRAIN this model on a down-stream task to be able to use it for predictions and inference.\n"
     ]
    },
    {
     "data": {
      "application/vnd.jupyter.widget-view+json": {
       "model_id": "f641b51c9edb48a29c86b7a890aab3c8",
       "version_major": 2,
       "version_minor": 0
      },
      "text/plain": [
       "Batches:   0%|          | 0/1 [00:00<?, ?it/s]"
      ]
     },
     "metadata": {},
     "output_type": "display_data"
    },
    {
     "data": {
      "application/vnd.jupyter.widget-view+json": {
       "model_id": "5aee738496734a3d8b2d8dfe3497b1c5",
       "version_major": 2,
       "version_minor": 0
      },
      "text/plain": [
       "Batches:   0%|          | 0/1 [00:00<?, ?it/s]"
      ]
     },
     "metadata": {},
     "output_type": "display_data"
    },
    {
     "name": "stderr",
     "output_type": "stream",
     "text": [
      "INFO:absl:Using default tokenizer.\n"
     ]
    },
    {
     "data": {
      "application/vnd.jupyter.widget-view+json": {
       "model_id": "0c069e5f512448b79d43d9fb1529e83f",
       "version_major": 2,
       "version_minor": 0
      },
      "text/plain": [
       "Processing tokens:   0%|          | 0/13 [00:00<?, ?it/s]"
      ]
     },
     "metadata": {},
     "output_type": "display_data"
    },
    {
     "data": {
      "application/vnd.jupyter.widget-view+json": {
       "model_id": "12902b098215489aa24b13d3196eba4d",
       "version_major": 2,
       "version_minor": 0
      },
      "text/plain": [
       "Processing tokens:   0%|          | 0/174 [00:00<?, ?it/s]"
      ]
     },
     "metadata": {},
     "output_type": "display_data"
    },
    {
     "name": "stderr",
     "output_type": "stream",
     "text": [
      "Some weights of RobertaModel were not initialized from the model checkpoint at roberta-large and are newly initialized: ['roberta.pooler.dense.bias', 'roberta.pooler.dense.weight']\n",
      "You should probably TRAIN this model on a down-stream task to be able to use it for predictions and inference.\n"
     ]
    },
    {
     "data": {
      "application/vnd.jupyter.widget-view+json": {
       "model_id": "a5eb62cd13cd4c22bcb519540cb587c0",
       "version_major": 2,
       "version_minor": 0
      },
      "text/plain": [
       "Batches:   0%|          | 0/1 [00:00<?, ?it/s]"
      ]
     },
     "metadata": {},
     "output_type": "display_data"
    },
    {
     "data": {
      "application/vnd.jupyter.widget-view+json": {
       "model_id": "9498cbdc00ab4fa1b7733dc55a4ab804",
       "version_major": 2,
       "version_minor": 0
      },
      "text/plain": [
       "Batches:   0%|          | 0/1 [00:00<?, ?it/s]"
      ]
     },
     "metadata": {},
     "output_type": "display_data"
    },
    {
     "name": "stderr",
     "output_type": "stream",
     "text": [
      "INFO:absl:Using default tokenizer.\n"
     ]
    },
    {
     "data": {
      "application/vnd.jupyter.widget-view+json": {
       "model_id": "13515c6793f441419217bb85945fdd0f",
       "version_major": 2,
       "version_minor": 0
      },
      "text/plain": [
       "Processing tokens:   0%|          | 0/18 [00:00<?, ?it/s]"
      ]
     },
     "metadata": {},
     "output_type": "display_data"
    },
    {
     "data": {
      "application/vnd.jupyter.widget-view+json": {
       "model_id": "2867b36114f3496589dbd27014ec6015",
       "version_major": 2,
       "version_minor": 0
      },
      "text/plain": [
       "Processing tokens:   0%|          | 0/99 [00:00<?, ?it/s]"
      ]
     },
     "metadata": {},
     "output_type": "display_data"
    },
    {
     "name": "stderr",
     "output_type": "stream",
     "text": [
      "Some weights of RobertaModel were not initialized from the model checkpoint at roberta-large and are newly initialized: ['roberta.pooler.dense.bias', 'roberta.pooler.dense.weight']\n",
      "You should probably TRAIN this model on a down-stream task to be able to use it for predictions and inference.\n"
     ]
    },
    {
     "data": {
      "application/vnd.jupyter.widget-view+json": {
       "model_id": "4814b8bb07034d659f176d3dc545e8e9",
       "version_major": 2,
       "version_minor": 0
      },
      "text/plain": [
       "Batches:   0%|          | 0/1 [00:00<?, ?it/s]"
      ]
     },
     "metadata": {},
     "output_type": "display_data"
    },
    {
     "data": {
      "application/vnd.jupyter.widget-view+json": {
       "model_id": "6adfbb9070b6465882e74f8804299b91",
       "version_major": 2,
       "version_minor": 0
      },
      "text/plain": [
       "Batches:   0%|          | 0/1 [00:00<?, ?it/s]"
      ]
     },
     "metadata": {},
     "output_type": "display_data"
    },
    {
     "name": "stderr",
     "output_type": "stream",
     "text": [
      "INFO:absl:Using default tokenizer.\n"
     ]
    },
    {
     "data": {
      "application/vnd.jupyter.widget-view+json": {
       "model_id": "ef50f88daaee4b438a29dbd691c3f8c9",
       "version_major": 2,
       "version_minor": 0
      },
      "text/plain": [
       "Processing tokens:   0%|          | 0/45 [00:00<?, ?it/s]"
      ]
     },
     "metadata": {},
     "output_type": "display_data"
    },
    {
     "data": {
      "application/vnd.jupyter.widget-view+json": {
       "model_id": "2fcdae889ba3449181799ae6b318c937",
       "version_major": 2,
       "version_minor": 0
      },
      "text/plain": [
       "Processing tokens:   0%|          | 0/144 [00:00<?, ?it/s]"
      ]
     },
     "metadata": {},
     "output_type": "display_data"
    },
    {
     "name": "stderr",
     "output_type": "stream",
     "text": [
      "Some weights of RobertaModel were not initialized from the model checkpoint at roberta-large and are newly initialized: ['roberta.pooler.dense.bias', 'roberta.pooler.dense.weight']\n",
      "You should probably TRAIN this model on a down-stream task to be able to use it for predictions and inference.\n"
     ]
    },
    {
     "data": {
      "application/vnd.jupyter.widget-view+json": {
       "model_id": "4b3840a90bad4becb0e79be575f45284",
       "version_major": 2,
       "version_minor": 0
      },
      "text/plain": [
       "Batches:   0%|          | 0/1 [00:00<?, ?it/s]"
      ]
     },
     "metadata": {},
     "output_type": "display_data"
    },
    {
     "data": {
      "application/vnd.jupyter.widget-view+json": {
       "model_id": "15f82038c87449f2bd000d3d3945e517",
       "version_major": 2,
       "version_minor": 0
      },
      "text/plain": [
       "Batches:   0%|          | 0/1 [00:00<?, ?it/s]"
      ]
     },
     "metadata": {},
     "output_type": "display_data"
    },
    {
     "name": "stderr",
     "output_type": "stream",
     "text": [
      "INFO:absl:Using default tokenizer.\n"
     ]
    },
    {
     "data": {
      "application/vnd.jupyter.widget-view+json": {
       "model_id": "53616f5cfbe14286803c971723c908ca",
       "version_major": 2,
       "version_minor": 0
      },
      "text/plain": [
       "Processing tokens:   0%|          | 0/23 [00:00<?, ?it/s]"
      ]
     },
     "metadata": {},
     "output_type": "display_data"
    },
    {
     "data": {
      "application/vnd.jupyter.widget-view+json": {
       "model_id": "90fd526fcecd45729a2397fe98189ba2",
       "version_major": 2,
       "version_minor": 0
      },
      "text/plain": [
       "Processing tokens:   0%|          | 0/246 [00:00<?, ?it/s]"
      ]
     },
     "metadata": {},
     "output_type": "display_data"
    },
    {
     "name": "stderr",
     "output_type": "stream",
     "text": [
      "Some weights of RobertaModel were not initialized from the model checkpoint at roberta-large and are newly initialized: ['roberta.pooler.dense.bias', 'roberta.pooler.dense.weight']\n",
      "You should probably TRAIN this model on a down-stream task to be able to use it for predictions and inference.\n"
     ]
    },
    {
     "data": {
      "application/vnd.jupyter.widget-view+json": {
       "model_id": "6883967f80614168b4f501d8b07bb454",
       "version_major": 2,
       "version_minor": 0
      },
      "text/plain": [
       "Batches:   0%|          | 0/1 [00:00<?, ?it/s]"
      ]
     },
     "metadata": {},
     "output_type": "display_data"
    },
    {
     "data": {
      "application/vnd.jupyter.widget-view+json": {
       "model_id": "fd80b975db464aa5be32296388df0b06",
       "version_major": 2,
       "version_minor": 0
      },
      "text/plain": [
       "Batches:   0%|          | 0/1 [00:00<?, ?it/s]"
      ]
     },
     "metadata": {},
     "output_type": "display_data"
    },
    {
     "name": "stderr",
     "output_type": "stream",
     "text": [
      "INFO:absl:Using default tokenizer.\n"
     ]
    },
    {
     "data": {
      "application/vnd.jupyter.widget-view+json": {
       "model_id": "074e47b22cab4b5087dc0640223ee18a",
       "version_major": 2,
       "version_minor": 0
      },
      "text/plain": [
       "Processing tokens:   0%|          | 0/280 [00:00<?, ?it/s]"
      ]
     },
     "metadata": {},
     "output_type": "display_data"
    },
    {
     "data": {
      "application/vnd.jupyter.widget-view+json": {
       "model_id": "bf55e100ccc64b32b62c8e84b9fade1d",
       "version_major": 2,
       "version_minor": 0
      },
      "text/plain": [
       "Processing tokens:   0%|          | 0/80 [00:00<?, ?it/s]"
      ]
     },
     "metadata": {},
     "output_type": "display_data"
    },
    {
     "name": "stderr",
     "output_type": "stream",
     "text": [
      "Some weights of RobertaModel were not initialized from the model checkpoint at roberta-large and are newly initialized: ['roberta.pooler.dense.bias', 'roberta.pooler.dense.weight']\n",
      "You should probably TRAIN this model on a down-stream task to be able to use it for predictions and inference.\n"
     ]
    },
    {
     "data": {
      "application/vnd.jupyter.widget-view+json": {
       "model_id": "aea8895629774db6bf06138dd9d723ca",
       "version_major": 2,
       "version_minor": 0
      },
      "text/plain": [
       "Batches:   0%|          | 0/1 [00:00<?, ?it/s]"
      ]
     },
     "metadata": {},
     "output_type": "display_data"
    },
    {
     "data": {
      "application/vnd.jupyter.widget-view+json": {
       "model_id": "d1b1b0646e1b4eee9e3d967dd84fe40a",
       "version_major": 2,
       "version_minor": 0
      },
      "text/plain": [
       "Batches:   0%|          | 0/1 [00:00<?, ?it/s]"
      ]
     },
     "metadata": {},
     "output_type": "display_data"
    },
    {
     "name": "stderr",
     "output_type": "stream",
     "text": [
      "INFO:absl:Using default tokenizer.\n"
     ]
    },
    {
     "data": {
      "application/vnd.jupyter.widget-view+json": {
       "model_id": "f028add0864c464aaf2ecb109c30dbec",
       "version_major": 2,
       "version_minor": 0
      },
      "text/plain": [
       "Processing tokens:   0%|          | 0/60 [00:00<?, ?it/s]"
      ]
     },
     "metadata": {},
     "output_type": "display_data"
    },
    {
     "data": {
      "application/vnd.jupyter.widget-view+json": {
       "model_id": "96fe90406f6845059cf615da2bc5f22f",
       "version_major": 2,
       "version_minor": 0
      },
      "text/plain": [
       "Processing tokens:   0%|          | 0/54 [00:00<?, ?it/s]"
      ]
     },
     "metadata": {},
     "output_type": "display_data"
    },
    {
     "name": "stderr",
     "output_type": "stream",
     "text": [
      "Some weights of RobertaModel were not initialized from the model checkpoint at roberta-large and are newly initialized: ['roberta.pooler.dense.bias', 'roberta.pooler.dense.weight']\n",
      "You should probably TRAIN this model on a down-stream task to be able to use it for predictions and inference.\n"
     ]
    },
    {
     "data": {
      "application/vnd.jupyter.widget-view+json": {
       "model_id": "6216cb39006a428eb0d04befefa9ce6e",
       "version_major": 2,
       "version_minor": 0
      },
      "text/plain": [
       "Batches:   0%|          | 0/1 [00:00<?, ?it/s]"
      ]
     },
     "metadata": {},
     "output_type": "display_data"
    },
    {
     "data": {
      "application/vnd.jupyter.widget-view+json": {
       "model_id": "bc082f59a6ac4514942e7da54ca4423e",
       "version_major": 2,
       "version_minor": 0
      },
      "text/plain": [
       "Batches:   0%|          | 0/1 [00:00<?, ?it/s]"
      ]
     },
     "metadata": {},
     "output_type": "display_data"
    },
    {
     "name": "stderr",
     "output_type": "stream",
     "text": [
      "INFO:absl:Using default tokenizer.\n"
     ]
    },
    {
     "data": {
      "application/vnd.jupyter.widget-view+json": {
       "model_id": "c53ba954e3ab49a6bb4cbea0ae95d840",
       "version_major": 2,
       "version_minor": 0
      },
      "text/plain": [
       "Processing tokens:   0%|          | 0/298 [00:00<?, ?it/s]"
      ]
     },
     "metadata": {},
     "output_type": "display_data"
    },
    {
     "data": {
      "application/vnd.jupyter.widget-view+json": {
       "model_id": "b280b6b56c0a4410b6c04b60d94e2667",
       "version_major": 2,
       "version_minor": 0
      },
      "text/plain": [
       "Processing tokens:   0%|          | 0/41 [00:00<?, ?it/s]"
      ]
     },
     "metadata": {},
     "output_type": "display_data"
    },
    {
     "name": "stderr",
     "output_type": "stream",
     "text": [
      "Some weights of RobertaModel were not initialized from the model checkpoint at roberta-large and are newly initialized: ['roberta.pooler.dense.bias', 'roberta.pooler.dense.weight']\n",
      "You should probably TRAIN this model on a down-stream task to be able to use it for predictions and inference.\n"
     ]
    },
    {
     "data": {
      "application/vnd.jupyter.widget-view+json": {
       "model_id": "04a85522508a451c890ef83f01e7e276",
       "version_major": 2,
       "version_minor": 0
      },
      "text/plain": [
       "Batches:   0%|          | 0/1 [00:00<?, ?it/s]"
      ]
     },
     "metadata": {},
     "output_type": "display_data"
    },
    {
     "data": {
      "application/vnd.jupyter.widget-view+json": {
       "model_id": "0c97d535fda549c5a96bec38305ad695",
       "version_major": 2,
       "version_minor": 0
      },
      "text/plain": [
       "Batches:   0%|          | 0/1 [00:00<?, ?it/s]"
      ]
     },
     "metadata": {},
     "output_type": "display_data"
    },
    {
     "name": "stderr",
     "output_type": "stream",
     "text": [
      "INFO:absl:Using default tokenizer.\n"
     ]
    },
    {
     "data": {
      "application/vnd.jupyter.widget-view+json": {
       "model_id": "468abdd006b543ba86e2d62d2cd51664",
       "version_major": 2,
       "version_minor": 0
      },
      "text/plain": [
       "Processing tokens:   0%|          | 0/29 [00:00<?, ?it/s]"
      ]
     },
     "metadata": {},
     "output_type": "display_data"
    },
    {
     "data": {
      "application/vnd.jupyter.widget-view+json": {
       "model_id": "8236e0dda9084205af58cd376afdf023",
       "version_major": 2,
       "version_minor": 0
      },
      "text/plain": [
       "Processing tokens:   0%|          | 0/37 [00:00<?, ?it/s]"
      ]
     },
     "metadata": {},
     "output_type": "display_data"
    },
    {
     "name": "stderr",
     "output_type": "stream",
     "text": [
      "Some weights of RobertaModel were not initialized from the model checkpoint at roberta-large and are newly initialized: ['roberta.pooler.dense.bias', 'roberta.pooler.dense.weight']\n",
      "You should probably TRAIN this model on a down-stream task to be able to use it for predictions and inference.\n"
     ]
    },
    {
     "data": {
      "application/vnd.jupyter.widget-view+json": {
       "model_id": "f98e4fd1ef974e21948a48301f965ad8",
       "version_major": 2,
       "version_minor": 0
      },
      "text/plain": [
       "Batches:   0%|          | 0/1 [00:00<?, ?it/s]"
      ]
     },
     "metadata": {},
     "output_type": "display_data"
    },
    {
     "data": {
      "application/vnd.jupyter.widget-view+json": {
       "model_id": "61d29412f6af4fb3aa106d23204d79f0",
       "version_major": 2,
       "version_minor": 0
      },
      "text/plain": [
       "Batches:   0%|          | 0/1 [00:00<?, ?it/s]"
      ]
     },
     "metadata": {},
     "output_type": "display_data"
    },
    {
     "name": "stderr",
     "output_type": "stream",
     "text": [
      "INFO:absl:Using default tokenizer.\n"
     ]
    },
    {
     "data": {
      "application/vnd.jupyter.widget-view+json": {
       "model_id": "f4b3e65de2a44b0499e20af2865ac5f5",
       "version_major": 2,
       "version_minor": 0
      },
      "text/plain": [
       "Processing tokens:   0%|          | 0/9 [00:00<?, ?it/s]"
      ]
     },
     "metadata": {},
     "output_type": "display_data"
    },
    {
     "data": {
      "application/vnd.jupyter.widget-view+json": {
       "model_id": "28e3591e933b4d188d15ef3c879d9112",
       "version_major": 2,
       "version_minor": 0
      },
      "text/plain": [
       "Processing tokens:   0%|          | 0/8 [00:00<?, ?it/s]"
      ]
     },
     "metadata": {},
     "output_type": "display_data"
    },
    {
     "name": "stderr",
     "output_type": "stream",
     "text": [
      "Some weights of RobertaModel were not initialized from the model checkpoint at roberta-large and are newly initialized: ['roberta.pooler.dense.bias', 'roberta.pooler.dense.weight']\n",
      "You should probably TRAIN this model on a down-stream task to be able to use it for predictions and inference.\n"
     ]
    },
    {
     "data": {
      "application/vnd.jupyter.widget-view+json": {
       "model_id": "bde35797be944fc9aaaed92e1f66cbc8",
       "version_major": 2,
       "version_minor": 0
      },
      "text/plain": [
       "Batches:   0%|          | 0/1 [00:00<?, ?it/s]"
      ]
     },
     "metadata": {},
     "output_type": "display_data"
    },
    {
     "data": {
      "application/vnd.jupyter.widget-view+json": {
       "model_id": "2ec73569512249d5abf8123972689c45",
       "version_major": 2,
       "version_minor": 0
      },
      "text/plain": [
       "Batches:   0%|          | 0/1 [00:00<?, ?it/s]"
      ]
     },
     "metadata": {},
     "output_type": "display_data"
    },
    {
     "name": "stderr",
     "output_type": "stream",
     "text": [
      "INFO:absl:Using default tokenizer.\n"
     ]
    },
    {
     "data": {
      "application/vnd.jupyter.widget-view+json": {
       "model_id": "53fea306452648819bb17319a6ce6c5a",
       "version_major": 2,
       "version_minor": 0
      },
      "text/plain": [
       "Processing tokens:   0%|          | 0/17 [00:00<?, ?it/s]"
      ]
     },
     "metadata": {},
     "output_type": "display_data"
    },
    {
     "data": {
      "application/vnd.jupyter.widget-view+json": {
       "model_id": "4424fa75141b47dd938d56b2e766c33a",
       "version_major": 2,
       "version_minor": 0
      },
      "text/plain": [
       "Processing tokens:   0%|          | 0/8 [00:00<?, ?it/s]"
      ]
     },
     "metadata": {},
     "output_type": "display_data"
    },
    {
     "name": "stderr",
     "output_type": "stream",
     "text": [
      "Some weights of RobertaModel were not initialized from the model checkpoint at roberta-large and are newly initialized: ['roberta.pooler.dense.bias', 'roberta.pooler.dense.weight']\n",
      "You should probably TRAIN this model on a down-stream task to be able to use it for predictions and inference.\n"
     ]
    },
    {
     "data": {
      "application/vnd.jupyter.widget-view+json": {
       "model_id": "256efe9252dc4aa29698b5be33323d44",
       "version_major": 2,
       "version_minor": 0
      },
      "text/plain": [
       "Batches:   0%|          | 0/1 [00:00<?, ?it/s]"
      ]
     },
     "metadata": {},
     "output_type": "display_data"
    },
    {
     "data": {
      "application/vnd.jupyter.widget-view+json": {
       "model_id": "71341117972e4dc5bdc8f983f306a749",
       "version_major": 2,
       "version_minor": 0
      },
      "text/plain": [
       "Batches:   0%|          | 0/1 [00:00<?, ?it/s]"
      ]
     },
     "metadata": {},
     "output_type": "display_data"
    },
    {
     "name": "stderr",
     "output_type": "stream",
     "text": [
      "INFO:absl:Using default tokenizer.\n"
     ]
    },
    {
     "data": {
      "application/vnd.jupyter.widget-view+json": {
       "model_id": "f6acbe3c73ab4e3fac2e226ec09b069c",
       "version_major": 2,
       "version_minor": 0
      },
      "text/plain": [
       "Processing tokens:   0%|          | 0/23 [00:00<?, ?it/s]"
      ]
     },
     "metadata": {},
     "output_type": "display_data"
    },
    {
     "data": {
      "application/vnd.jupyter.widget-view+json": {
       "model_id": "a34f99f66cc840abb2e81978541be738",
       "version_major": 2,
       "version_minor": 0
      },
      "text/plain": [
       "Processing tokens:   0%|          | 0/8 [00:00<?, ?it/s]"
      ]
     },
     "metadata": {},
     "output_type": "display_data"
    },
    {
     "name": "stderr",
     "output_type": "stream",
     "text": [
      "Some weights of RobertaModel were not initialized from the model checkpoint at roberta-large and are newly initialized: ['roberta.pooler.dense.bias', 'roberta.pooler.dense.weight']\n",
      "You should probably TRAIN this model on a down-stream task to be able to use it for predictions and inference.\n"
     ]
    },
    {
     "data": {
      "application/vnd.jupyter.widget-view+json": {
       "model_id": "ca1a1be1257c4588b42587812e32a912",
       "version_major": 2,
       "version_minor": 0
      },
      "text/plain": [
       "Batches:   0%|          | 0/1 [00:00<?, ?it/s]"
      ]
     },
     "metadata": {},
     "output_type": "display_data"
    },
    {
     "data": {
      "application/vnd.jupyter.widget-view+json": {
       "model_id": "06184e53a58f47169ebac36c94f115cc",
       "version_major": 2,
       "version_minor": 0
      },
      "text/plain": [
       "Batches:   0%|          | 0/1 [00:00<?, ?it/s]"
      ]
     },
     "metadata": {},
     "output_type": "display_data"
    },
    {
     "name": "stderr",
     "output_type": "stream",
     "text": [
      "INFO:absl:Using default tokenizer.\n"
     ]
    },
    {
     "data": {
      "application/vnd.jupyter.widget-view+json": {
       "model_id": "c6d647eca62c475d855a7090afc06d45",
       "version_major": 2,
       "version_minor": 0
      },
      "text/plain": [
       "Processing tokens:   0%|          | 0/8 [00:00<?, ?it/s]"
      ]
     },
     "metadata": {},
     "output_type": "display_data"
    },
    {
     "data": {
      "application/vnd.jupyter.widget-view+json": {
       "model_id": "a5377028040a4a989e5b01f85fb8828c",
       "version_major": 2,
       "version_minor": 0
      },
      "text/plain": [
       "Processing tokens:   0%|          | 0/8 [00:00<?, ?it/s]"
      ]
     },
     "metadata": {},
     "output_type": "display_data"
    },
    {
     "name": "stderr",
     "output_type": "stream",
     "text": [
      "Some weights of RobertaModel were not initialized from the model checkpoint at roberta-large and are newly initialized: ['roberta.pooler.dense.bias', 'roberta.pooler.dense.weight']\n",
      "You should probably TRAIN this model on a down-stream task to be able to use it for predictions and inference.\n"
     ]
    },
    {
     "data": {
      "application/vnd.jupyter.widget-view+json": {
       "model_id": "604726b2867f466aab90a60fce22fbae",
       "version_major": 2,
       "version_minor": 0
      },
      "text/plain": [
       "Batches:   0%|          | 0/1 [00:00<?, ?it/s]"
      ]
     },
     "metadata": {},
     "output_type": "display_data"
    },
    {
     "data": {
      "application/vnd.jupyter.widget-view+json": {
       "model_id": "f47d6c032c324fa38597556ab221df29",
       "version_major": 2,
       "version_minor": 0
      },
      "text/plain": [
       "Batches:   0%|          | 0/1 [00:00<?, ?it/s]"
      ]
     },
     "metadata": {},
     "output_type": "display_data"
    },
    {
     "name": "stderr",
     "output_type": "stream",
     "text": [
      "INFO:absl:Using default tokenizer.\n"
     ]
    },
    {
     "data": {
      "application/vnd.jupyter.widget-view+json": {
       "model_id": "4a909f8ca6ab4b5bb17168262e2dae69",
       "version_major": 2,
       "version_minor": 0
      },
      "text/plain": [
       "Processing tokens:   0%|          | 0/10 [00:00<?, ?it/s]"
      ]
     },
     "metadata": {},
     "output_type": "display_data"
    },
    {
     "data": {
      "application/vnd.jupyter.widget-view+json": {
       "model_id": "3e9f398abe764c8c9de990322ee9ac77",
       "version_major": 2,
       "version_minor": 0
      },
      "text/plain": [
       "Processing tokens:   0%|          | 0/8 [00:00<?, ?it/s]"
      ]
     },
     "metadata": {},
     "output_type": "display_data"
    },
    {
     "name": "stderr",
     "output_type": "stream",
     "text": [
      "Some weights of RobertaModel were not initialized from the model checkpoint at roberta-large and are newly initialized: ['roberta.pooler.dense.bias', 'roberta.pooler.dense.weight']\n",
      "You should probably TRAIN this model on a down-stream task to be able to use it for predictions and inference.\n"
     ]
    },
    {
     "data": {
      "application/vnd.jupyter.widget-view+json": {
       "model_id": "4ac1d0f2746f4cb7897b5e07ed4c0165",
       "version_major": 2,
       "version_minor": 0
      },
      "text/plain": [
       "Batches:   0%|          | 0/1 [00:00<?, ?it/s]"
      ]
     },
     "metadata": {},
     "output_type": "display_data"
    },
    {
     "data": {
      "application/vnd.jupyter.widget-view+json": {
       "model_id": "a91ddd3f7fad49cb8ebcd868432eca21",
       "version_major": 2,
       "version_minor": 0
      },
      "text/plain": [
       "Batches:   0%|          | 0/1 [00:00<?, ?it/s]"
      ]
     },
     "metadata": {},
     "output_type": "display_data"
    },
    {
     "name": "stderr",
     "output_type": "stream",
     "text": [
      "INFO:absl:Using default tokenizer.\n"
     ]
    },
    {
     "data": {
      "application/vnd.jupyter.widget-view+json": {
       "model_id": "e05b4fcd161f4fb6bb04790cd4c32793",
       "version_major": 2,
       "version_minor": 0
      },
      "text/plain": [
       "Processing tokens:   0%|          | 0/9 [00:00<?, ?it/s]"
      ]
     },
     "metadata": {},
     "output_type": "display_data"
    },
    {
     "data": {
      "application/vnd.jupyter.widget-view+json": {
       "model_id": "d3417b3258d54d4f86370d8251eea07f",
       "version_major": 2,
       "version_minor": 0
      },
      "text/plain": [
       "Processing tokens:   0%|          | 0/8 [00:00<?, ?it/s]"
      ]
     },
     "metadata": {},
     "output_type": "display_data"
    },
    {
     "name": "stderr",
     "output_type": "stream",
     "text": [
      "Some weights of RobertaModel were not initialized from the model checkpoint at roberta-large and are newly initialized: ['roberta.pooler.dense.bias', 'roberta.pooler.dense.weight']\n",
      "You should probably TRAIN this model on a down-stream task to be able to use it for predictions and inference.\n"
     ]
    },
    {
     "data": {
      "application/vnd.jupyter.widget-view+json": {
       "model_id": "f9bc2d6b8cb14f5598f75810efd21b63",
       "version_major": 2,
       "version_minor": 0
      },
      "text/plain": [
       "Batches:   0%|          | 0/1 [00:00<?, ?it/s]"
      ]
     },
     "metadata": {},
     "output_type": "display_data"
    },
    {
     "data": {
      "application/vnd.jupyter.widget-view+json": {
       "model_id": "4364fb905f4a455c953b7991143cff61",
       "version_major": 2,
       "version_minor": 0
      },
      "text/plain": [
       "Batches:   0%|          | 0/1 [00:00<?, ?it/s]"
      ]
     },
     "metadata": {},
     "output_type": "display_data"
    },
    {
     "name": "stderr",
     "output_type": "stream",
     "text": [
      "INFO:absl:Using default tokenizer.\n"
     ]
    },
    {
     "data": {
      "application/vnd.jupyter.widget-view+json": {
       "model_id": "3a6a8aa76b65403a9fa64811aca98869",
       "version_major": 2,
       "version_minor": 0
      },
      "text/plain": [
       "Processing tokens:   0%|          | 0/7 [00:00<?, ?it/s]"
      ]
     },
     "metadata": {},
     "output_type": "display_data"
    },
    {
     "data": {
      "application/vnd.jupyter.widget-view+json": {
       "model_id": "e6c08a6a9df04d11b7a8a637c03c71b7",
       "version_major": 2,
       "version_minor": 0
      },
      "text/plain": [
       "Processing tokens:   0%|          | 0/8 [00:00<?, ?it/s]"
      ]
     },
     "metadata": {},
     "output_type": "display_data"
    },
    {
     "name": "stderr",
     "output_type": "stream",
     "text": [
      "Some weights of RobertaModel were not initialized from the model checkpoint at roberta-large and are newly initialized: ['roberta.pooler.dense.bias', 'roberta.pooler.dense.weight']\n",
      "You should probably TRAIN this model on a down-stream task to be able to use it for predictions and inference.\n"
     ]
    },
    {
     "data": {
      "application/vnd.jupyter.widget-view+json": {
       "model_id": "dfb7fb3227994a3ebc0254ea36f4ea2a",
       "version_major": 2,
       "version_minor": 0
      },
      "text/plain": [
       "Batches:   0%|          | 0/1 [00:00<?, ?it/s]"
      ]
     },
     "metadata": {},
     "output_type": "display_data"
    },
    {
     "data": {
      "application/vnd.jupyter.widget-view+json": {
       "model_id": "1656f761c57c416ca2e9d0ef10a78d7a",
       "version_major": 2,
       "version_minor": 0
      },
      "text/plain": [
       "Batches:   0%|          | 0/1 [00:00<?, ?it/s]"
      ]
     },
     "metadata": {},
     "output_type": "display_data"
    },
    {
     "name": "stderr",
     "output_type": "stream",
     "text": [
      "INFO:absl:Using default tokenizer.\n"
     ]
    },
    {
     "data": {
      "application/vnd.jupyter.widget-view+json": {
       "model_id": "a46ce0b9ef494513bcc0dc8798776d85",
       "version_major": 2,
       "version_minor": 0
      },
      "text/plain": [
       "Processing tokens:   0%|          | 0/22 [00:00<?, ?it/s]"
      ]
     },
     "metadata": {},
     "output_type": "display_data"
    },
    {
     "data": {
      "application/vnd.jupyter.widget-view+json": {
       "model_id": "fb7a78daf4dd408ab1f0cfbea9aa92b0",
       "version_major": 2,
       "version_minor": 0
      },
      "text/plain": [
       "Processing tokens:   0%|          | 0/8 [00:00<?, ?it/s]"
      ]
     },
     "metadata": {},
     "output_type": "display_data"
    },
    {
     "name": "stderr",
     "output_type": "stream",
     "text": [
      "Some weights of RobertaModel were not initialized from the model checkpoint at roberta-large and are newly initialized: ['roberta.pooler.dense.bias', 'roberta.pooler.dense.weight']\n",
      "You should probably TRAIN this model on a down-stream task to be able to use it for predictions and inference.\n"
     ]
    },
    {
     "data": {
      "application/vnd.jupyter.widget-view+json": {
       "model_id": "82ebd0f584154247838a4e77a02281ec",
       "version_major": 2,
       "version_minor": 0
      },
      "text/plain": [
       "Batches:   0%|          | 0/1 [00:00<?, ?it/s]"
      ]
     },
     "metadata": {},
     "output_type": "display_data"
    },
    {
     "data": {
      "application/vnd.jupyter.widget-view+json": {
       "model_id": "204b92aa6c1d455687dad17581317b0a",
       "version_major": 2,
       "version_minor": 0
      },
      "text/plain": [
       "Batches:   0%|          | 0/1 [00:00<?, ?it/s]"
      ]
     },
     "metadata": {},
     "output_type": "display_data"
    },
    {
     "name": "stderr",
     "output_type": "stream",
     "text": [
      "INFO:absl:Using default tokenizer.\n"
     ]
    },
    {
     "data": {
      "application/vnd.jupyter.widget-view+json": {
       "model_id": "f99c66577ef842b1bc06fa3366d515ea",
       "version_major": 2,
       "version_minor": 0
      },
      "text/plain": [
       "Processing tokens:   0%|          | 0/11 [00:00<?, ?it/s]"
      ]
     },
     "metadata": {},
     "output_type": "display_data"
    },
    {
     "data": {
      "application/vnd.jupyter.widget-view+json": {
       "model_id": "9d4d9edf83f74553a9f921637e677d29",
       "version_major": 2,
       "version_minor": 0
      },
      "text/plain": [
       "Processing tokens:   0%|          | 0/8 [00:00<?, ?it/s]"
      ]
     },
     "metadata": {},
     "output_type": "display_data"
    },
    {
     "name": "stderr",
     "output_type": "stream",
     "text": [
      "Some weights of RobertaModel were not initialized from the model checkpoint at roberta-large and are newly initialized: ['roberta.pooler.dense.bias', 'roberta.pooler.dense.weight']\n",
      "You should probably TRAIN this model on a down-stream task to be able to use it for predictions and inference.\n"
     ]
    },
    {
     "data": {
      "application/vnd.jupyter.widget-view+json": {
       "model_id": "3bbc025476064e2c933c69594328f549",
       "version_major": 2,
       "version_minor": 0
      },
      "text/plain": [
       "Batches:   0%|          | 0/1 [00:00<?, ?it/s]"
      ]
     },
     "metadata": {},
     "output_type": "display_data"
    },
    {
     "data": {
      "application/vnd.jupyter.widget-view+json": {
       "model_id": "0e134d77d03244f6b6f0696674c522e8",
       "version_major": 2,
       "version_minor": 0
      },
      "text/plain": [
       "Batches:   0%|          | 0/1 [00:00<?, ?it/s]"
      ]
     },
     "metadata": {},
     "output_type": "display_data"
    },
    {
     "name": "stderr",
     "output_type": "stream",
     "text": [
      "INFO:absl:Using default tokenizer.\n"
     ]
    },
    {
     "data": {
      "application/vnd.jupyter.widget-view+json": {
       "model_id": "103a36d1837549229f5a6a0463c4ff02",
       "version_major": 2,
       "version_minor": 0
      },
      "text/plain": [
       "Processing tokens:   0%|          | 0/9 [00:00<?, ?it/s]"
      ]
     },
     "metadata": {},
     "output_type": "display_data"
    },
    {
     "data": {
      "application/vnd.jupyter.widget-view+json": {
       "model_id": "ab0583b188f4494d80b26e464863d4bd",
       "version_major": 2,
       "version_minor": 0
      },
      "text/plain": [
       "Processing tokens:   0%|          | 0/8 [00:00<?, ?it/s]"
      ]
     },
     "metadata": {},
     "output_type": "display_data"
    },
    {
     "name": "stderr",
     "output_type": "stream",
     "text": [
      "Some weights of RobertaModel were not initialized from the model checkpoint at roberta-large and are newly initialized: ['roberta.pooler.dense.bias', 'roberta.pooler.dense.weight']\n",
      "You should probably TRAIN this model on a down-stream task to be able to use it for predictions and inference.\n"
     ]
    },
    {
     "data": {
      "application/vnd.jupyter.widget-view+json": {
       "model_id": "c43a9d694e814969a8cf02221d6da9b9",
       "version_major": 2,
       "version_minor": 0
      },
      "text/plain": [
       "Batches:   0%|          | 0/1 [00:00<?, ?it/s]"
      ]
     },
     "metadata": {},
     "output_type": "display_data"
    },
    {
     "data": {
      "application/vnd.jupyter.widget-view+json": {
       "model_id": "342bc829c9b14b3290b675c99a4ef078",
       "version_major": 2,
       "version_minor": 0
      },
      "text/plain": [
       "Batches:   0%|          | 0/1 [00:00<?, ?it/s]"
      ]
     },
     "metadata": {},
     "output_type": "display_data"
    },
    {
     "name": "stderr",
     "output_type": "stream",
     "text": [
      "INFO:absl:Using default tokenizer.\n"
     ]
    },
    {
     "data": {
      "application/vnd.jupyter.widget-view+json": {
       "model_id": "e1485c4520f04e60930711d532119c65",
       "version_major": 2,
       "version_minor": 0
      },
      "text/plain": [
       "Processing tokens:   0%|          | 0/10 [00:00<?, ?it/s]"
      ]
     },
     "metadata": {},
     "output_type": "display_data"
    },
    {
     "data": {
      "application/vnd.jupyter.widget-view+json": {
       "model_id": "ecd8b1f9a2ed418bad04a6e48be20b6d",
       "version_major": 2,
       "version_minor": 0
      },
      "text/plain": [
       "Processing tokens:   0%|          | 0/8 [00:00<?, ?it/s]"
      ]
     },
     "metadata": {},
     "output_type": "display_data"
    },
    {
     "name": "stderr",
     "output_type": "stream",
     "text": [
      "Some weights of RobertaModel were not initialized from the model checkpoint at roberta-large and are newly initialized: ['roberta.pooler.dense.bias', 'roberta.pooler.dense.weight']\n",
      "You should probably TRAIN this model on a down-stream task to be able to use it for predictions and inference.\n"
     ]
    },
    {
     "data": {
      "application/vnd.jupyter.widget-view+json": {
       "model_id": "b06b60de02914d1980c6a337c058fa57",
       "version_major": 2,
       "version_minor": 0
      },
      "text/plain": [
       "Batches:   0%|          | 0/1 [00:00<?, ?it/s]"
      ]
     },
     "metadata": {},
     "output_type": "display_data"
    },
    {
     "data": {
      "application/vnd.jupyter.widget-view+json": {
       "model_id": "f73e024cc41f4127b709e5ffb671fa98",
       "version_major": 2,
       "version_minor": 0
      },
      "text/plain": [
       "Batches:   0%|          | 0/1 [00:00<?, ?it/s]"
      ]
     },
     "metadata": {},
     "output_type": "display_data"
    },
    {
     "name": "stderr",
     "output_type": "stream",
     "text": [
      "INFO:absl:Using default tokenizer.\n"
     ]
    },
    {
     "data": {
      "application/vnd.jupyter.widget-view+json": {
       "model_id": "73e0bdfe60db4dbc96ceda1e304f654e",
       "version_major": 2,
       "version_minor": 0
      },
      "text/plain": [
       "Processing tokens:   0%|          | 0/9 [00:00<?, ?it/s]"
      ]
     },
     "metadata": {},
     "output_type": "display_data"
    },
    {
     "data": {
      "application/vnd.jupyter.widget-view+json": {
       "model_id": "da97b558d7344f97a584f97fcba795d1",
       "version_major": 2,
       "version_minor": 0
      },
      "text/plain": [
       "Processing tokens:   0%|          | 0/8 [00:00<?, ?it/s]"
      ]
     },
     "metadata": {},
     "output_type": "display_data"
    },
    {
     "name": "stderr",
     "output_type": "stream",
     "text": [
      "Some weights of RobertaModel were not initialized from the model checkpoint at roberta-large and are newly initialized: ['roberta.pooler.dense.bias', 'roberta.pooler.dense.weight']\n",
      "You should probably TRAIN this model on a down-stream task to be able to use it for predictions and inference.\n"
     ]
    },
    {
     "data": {
      "application/vnd.jupyter.widget-view+json": {
       "model_id": "6344d4ff59584d9ea3ce75b45f572044",
       "version_major": 2,
       "version_minor": 0
      },
      "text/plain": [
       "Batches:   0%|          | 0/1 [00:00<?, ?it/s]"
      ]
     },
     "metadata": {},
     "output_type": "display_data"
    },
    {
     "data": {
      "application/vnd.jupyter.widget-view+json": {
       "model_id": "66394326e99d46d0a57e1140834d70f6",
       "version_major": 2,
       "version_minor": 0
      },
      "text/plain": [
       "Batches:   0%|          | 0/1 [00:00<?, ?it/s]"
      ]
     },
     "metadata": {},
     "output_type": "display_data"
    },
    {
     "name": "stderr",
     "output_type": "stream",
     "text": [
      "INFO:absl:Using default tokenizer.\n"
     ]
    },
    {
     "data": {
      "application/vnd.jupyter.widget-view+json": {
       "model_id": "45bf7e01d9494803baef909e12f0c336",
       "version_major": 2,
       "version_minor": 0
      },
      "text/plain": [
       "Processing tokens:   0%|          | 0/10 [00:00<?, ?it/s]"
      ]
     },
     "metadata": {},
     "output_type": "display_data"
    },
    {
     "data": {
      "application/vnd.jupyter.widget-view+json": {
       "model_id": "b58e7e369f824825906d5793521f587a",
       "version_major": 2,
       "version_minor": 0
      },
      "text/plain": [
       "Processing tokens:   0%|          | 0/8 [00:00<?, ?it/s]"
      ]
     },
     "metadata": {},
     "output_type": "display_data"
    },
    {
     "name": "stderr",
     "output_type": "stream",
     "text": [
      "Some weights of RobertaModel were not initialized from the model checkpoint at roberta-large and are newly initialized: ['roberta.pooler.dense.bias', 'roberta.pooler.dense.weight']\n",
      "You should probably TRAIN this model on a down-stream task to be able to use it for predictions and inference.\n"
     ]
    },
    {
     "data": {
      "application/vnd.jupyter.widget-view+json": {
       "model_id": "5153cae6b4f24013887449fa7d7d8af1",
       "version_major": 2,
       "version_minor": 0
      },
      "text/plain": [
       "Batches:   0%|          | 0/1 [00:00<?, ?it/s]"
      ]
     },
     "metadata": {},
     "output_type": "display_data"
    },
    {
     "data": {
      "application/vnd.jupyter.widget-view+json": {
       "model_id": "c9a2b3afa18f413db38a351c05d70679",
       "version_major": 2,
       "version_minor": 0
      },
      "text/plain": [
       "Batches:   0%|          | 0/1 [00:00<?, ?it/s]"
      ]
     },
     "metadata": {},
     "output_type": "display_data"
    },
    {
     "name": "stderr",
     "output_type": "stream",
     "text": [
      "INFO:absl:Using default tokenizer.\n"
     ]
    },
    {
     "data": {
      "application/vnd.jupyter.widget-view+json": {
       "model_id": "4c01c57e33a1400c9bda434f76d16568",
       "version_major": 2,
       "version_minor": 0
      },
      "text/plain": [
       "Processing tokens:   0%|          | 0/28 [00:00<?, ?it/s]"
      ]
     },
     "metadata": {},
     "output_type": "display_data"
    },
    {
     "data": {
      "application/vnd.jupyter.widget-view+json": {
       "model_id": "faf98b427ebc478082de70134df85c10",
       "version_major": 2,
       "version_minor": 0
      },
      "text/plain": [
       "Processing tokens:   0%|          | 0/8 [00:00<?, ?it/s]"
      ]
     },
     "metadata": {},
     "output_type": "display_data"
    },
    {
     "name": "stderr",
     "output_type": "stream",
     "text": [
      "Some weights of RobertaModel were not initialized from the model checkpoint at roberta-large and are newly initialized: ['roberta.pooler.dense.bias', 'roberta.pooler.dense.weight']\n",
      "You should probably TRAIN this model on a down-stream task to be able to use it for predictions and inference.\n"
     ]
    },
    {
     "data": {
      "application/vnd.jupyter.widget-view+json": {
       "model_id": "6da426d9073944c791dc1dbda0ed0aaa",
       "version_major": 2,
       "version_minor": 0
      },
      "text/plain": [
       "Batches:   0%|          | 0/1 [00:00<?, ?it/s]"
      ]
     },
     "metadata": {},
     "output_type": "display_data"
    },
    {
     "data": {
      "application/vnd.jupyter.widget-view+json": {
       "model_id": "69c2ea7469134c12987a0758554e4a0a",
       "version_major": 2,
       "version_minor": 0
      },
      "text/plain": [
       "Batches:   0%|          | 0/1 [00:00<?, ?it/s]"
      ]
     },
     "metadata": {},
     "output_type": "display_data"
    },
    {
     "name": "stderr",
     "output_type": "stream",
     "text": [
      "INFO:absl:Using default tokenizer.\n"
     ]
    },
    {
     "data": {
      "application/vnd.jupyter.widget-view+json": {
       "model_id": "2cdb400befda45088741e3a3a2b4dd05",
       "version_major": 2,
       "version_minor": 0
      },
      "text/plain": [
       "Processing tokens:   0%|          | 0/9 [00:00<?, ?it/s]"
      ]
     },
     "metadata": {},
     "output_type": "display_data"
    },
    {
     "data": {
      "application/vnd.jupyter.widget-view+json": {
       "model_id": "dfef270509064b98adcad0265c8c46f7",
       "version_major": 2,
       "version_minor": 0
      },
      "text/plain": [
       "Processing tokens:   0%|          | 0/8 [00:00<?, ?it/s]"
      ]
     },
     "metadata": {},
     "output_type": "display_data"
    },
    {
     "name": "stderr",
     "output_type": "stream",
     "text": [
      "Some weights of RobertaModel were not initialized from the model checkpoint at roberta-large and are newly initialized: ['roberta.pooler.dense.bias', 'roberta.pooler.dense.weight']\n",
      "You should probably TRAIN this model on a down-stream task to be able to use it for predictions and inference.\n"
     ]
    },
    {
     "data": {
      "application/vnd.jupyter.widget-view+json": {
       "model_id": "9c64cfc01d8b42c6bb789cf365c45124",
       "version_major": 2,
       "version_minor": 0
      },
      "text/plain": [
       "Batches:   0%|          | 0/1 [00:00<?, ?it/s]"
      ]
     },
     "metadata": {},
     "output_type": "display_data"
    },
    {
     "data": {
      "application/vnd.jupyter.widget-view+json": {
       "model_id": "595d4834876f4a92b6bcc776a33dca1d",
       "version_major": 2,
       "version_minor": 0
      },
      "text/plain": [
       "Batches:   0%|          | 0/1 [00:00<?, ?it/s]"
      ]
     },
     "metadata": {},
     "output_type": "display_data"
    },
    {
     "name": "stderr",
     "output_type": "stream",
     "text": [
      "INFO:absl:Using default tokenizer.\n"
     ]
    },
    {
     "data": {
      "application/vnd.jupyter.widget-view+json": {
       "model_id": "e27017a3bb334cea8c12f153d54ed745",
       "version_major": 2,
       "version_minor": 0
      },
      "text/plain": [
       "Processing tokens:   0%|          | 0/13 [00:00<?, ?it/s]"
      ]
     },
     "metadata": {},
     "output_type": "display_data"
    },
    {
     "data": {
      "application/vnd.jupyter.widget-view+json": {
       "model_id": "4ee26d097d8c4cd8b8d6f6833540a63d",
       "version_major": 2,
       "version_minor": 0
      },
      "text/plain": [
       "Processing tokens:   0%|          | 0/8 [00:00<?, ?it/s]"
      ]
     },
     "metadata": {},
     "output_type": "display_data"
    },
    {
     "name": "stderr",
     "output_type": "stream",
     "text": [
      "Some weights of RobertaModel were not initialized from the model checkpoint at roberta-large and are newly initialized: ['roberta.pooler.dense.bias', 'roberta.pooler.dense.weight']\n",
      "You should probably TRAIN this model on a down-stream task to be able to use it for predictions and inference.\n"
     ]
    },
    {
     "data": {
      "application/vnd.jupyter.widget-view+json": {
       "model_id": "8b1a54a7b47e490590f59f7d929cc02e",
       "version_major": 2,
       "version_minor": 0
      },
      "text/plain": [
       "Batches:   0%|          | 0/1 [00:00<?, ?it/s]"
      ]
     },
     "metadata": {},
     "output_type": "display_data"
    },
    {
     "data": {
      "application/vnd.jupyter.widget-view+json": {
       "model_id": "800f8a66ecea489d94fc07107cd54058",
       "version_major": 2,
       "version_minor": 0
      },
      "text/plain": [
       "Batches:   0%|          | 0/1 [00:00<?, ?it/s]"
      ]
     },
     "metadata": {},
     "output_type": "display_data"
    },
    {
     "name": "stderr",
     "output_type": "stream",
     "text": [
      "INFO:absl:Using default tokenizer.\n"
     ]
    },
    {
     "data": {
      "application/vnd.jupyter.widget-view+json": {
       "model_id": "8d1518607c4d42869dd7d8aad467f695",
       "version_major": 2,
       "version_minor": 0
      },
      "text/plain": [
       "Processing tokens:   0%|          | 0/7 [00:00<?, ?it/s]"
      ]
     },
     "metadata": {},
     "output_type": "display_data"
    },
    {
     "data": {
      "application/vnd.jupyter.widget-view+json": {
       "model_id": "3a5c1dbbef4743668f187b0c048d5e9b",
       "version_major": 2,
       "version_minor": 0
      },
      "text/plain": [
       "Processing tokens:   0%|          | 0/8 [00:00<?, ?it/s]"
      ]
     },
     "metadata": {},
     "output_type": "display_data"
    },
    {
     "name": "stderr",
     "output_type": "stream",
     "text": [
      "Some weights of RobertaModel were not initialized from the model checkpoint at roberta-large and are newly initialized: ['roberta.pooler.dense.bias', 'roberta.pooler.dense.weight']\n",
      "You should probably TRAIN this model on a down-stream task to be able to use it for predictions and inference.\n"
     ]
    },
    {
     "data": {
      "application/vnd.jupyter.widget-view+json": {
       "model_id": "b36984f32e1347d39265cb9197e18165",
       "version_major": 2,
       "version_minor": 0
      },
      "text/plain": [
       "Batches:   0%|          | 0/1 [00:00<?, ?it/s]"
      ]
     },
     "metadata": {},
     "output_type": "display_data"
    },
    {
     "data": {
      "application/vnd.jupyter.widget-view+json": {
       "model_id": "c8a692679f4f48349962f1f60db71f79",
       "version_major": 2,
       "version_minor": 0
      },
      "text/plain": [
       "Batches:   0%|          | 0/1 [00:00<?, ?it/s]"
      ]
     },
     "metadata": {},
     "output_type": "display_data"
    },
    {
     "name": "stderr",
     "output_type": "stream",
     "text": [
      "INFO:absl:Using default tokenizer.\n"
     ]
    },
    {
     "data": {
      "application/vnd.jupyter.widget-view+json": {
       "model_id": "7876562d0db944ccb5648c6323dd1632",
       "version_major": 2,
       "version_minor": 0
      },
      "text/plain": [
       "Processing tokens:   0%|          | 0/218 [00:00<?, ?it/s]"
      ]
     },
     "metadata": {},
     "output_type": "display_data"
    },
    {
     "data": {
      "application/vnd.jupyter.widget-view+json": {
       "model_id": "da99f4e5cf41485ba322616297afd8a4",
       "version_major": 2,
       "version_minor": 0
      },
      "text/plain": [
       "Processing tokens:   0%|          | 0/35 [00:00<?, ?it/s]"
      ]
     },
     "metadata": {},
     "output_type": "display_data"
    },
    {
     "name": "stderr",
     "output_type": "stream",
     "text": [
      "Some weights of RobertaModel were not initialized from the model checkpoint at roberta-large and are newly initialized: ['roberta.pooler.dense.bias', 'roberta.pooler.dense.weight']\n",
      "You should probably TRAIN this model on a down-stream task to be able to use it for predictions and inference.\n"
     ]
    },
    {
     "data": {
      "application/vnd.jupyter.widget-view+json": {
       "model_id": "8ec0d018bdc44f1d868298fc5667232a",
       "version_major": 2,
       "version_minor": 0
      },
      "text/plain": [
       "Batches:   0%|          | 0/1 [00:00<?, ?it/s]"
      ]
     },
     "metadata": {},
     "output_type": "display_data"
    },
    {
     "data": {
      "application/vnd.jupyter.widget-view+json": {
       "model_id": "89b6c5874d8d412bb9b7e80e55d1a144",
       "version_major": 2,
       "version_minor": 0
      },
      "text/plain": [
       "Batches:   0%|          | 0/1 [00:00<?, ?it/s]"
      ]
     },
     "metadata": {},
     "output_type": "display_data"
    },
    {
     "name": "stderr",
     "output_type": "stream",
     "text": [
      "INFO:absl:Using default tokenizer.\n"
     ]
    },
    {
     "data": {
      "application/vnd.jupyter.widget-view+json": {
       "model_id": "6167aba74ae548fa93f4d1e8ff104a52",
       "version_major": 2,
       "version_minor": 0
      },
      "text/plain": [
       "Processing tokens:   0%|          | 0/316 [00:00<?, ?it/s]"
      ]
     },
     "metadata": {},
     "output_type": "display_data"
    },
    {
     "data": {
      "application/vnd.jupyter.widget-view+json": {
       "model_id": "f4b0c277fbec46a1aea370755381c028",
       "version_major": 2,
       "version_minor": 0
      },
      "text/plain": [
       "Processing tokens:   0%|          | 0/47 [00:00<?, ?it/s]"
      ]
     },
     "metadata": {},
     "output_type": "display_data"
    },
    {
     "name": "stderr",
     "output_type": "stream",
     "text": [
      "Some weights of RobertaModel were not initialized from the model checkpoint at roberta-large and are newly initialized: ['roberta.pooler.dense.bias', 'roberta.pooler.dense.weight']\n",
      "You should probably TRAIN this model on a down-stream task to be able to use it for predictions and inference.\n"
     ]
    },
    {
     "data": {
      "application/vnd.jupyter.widget-view+json": {
       "model_id": "207589e9e09b441aa5188d6cdee6180e",
       "version_major": 2,
       "version_minor": 0
      },
      "text/plain": [
       "Batches:   0%|          | 0/1 [00:00<?, ?it/s]"
      ]
     },
     "metadata": {},
     "output_type": "display_data"
    },
    {
     "data": {
      "application/vnd.jupyter.widget-view+json": {
       "model_id": "19cdb1ad399047b8a521b589248c6910",
       "version_major": 2,
       "version_minor": 0
      },
      "text/plain": [
       "Batches:   0%|          | 0/1 [00:00<?, ?it/s]"
      ]
     },
     "metadata": {},
     "output_type": "display_data"
    },
    {
     "name": "stderr",
     "output_type": "stream",
     "text": [
      "INFO:absl:Using default tokenizer.\n"
     ]
    },
    {
     "data": {
      "application/vnd.jupyter.widget-view+json": {
       "model_id": "80741bf1ffaa42e394fbfc6c59b7f152",
       "version_major": 2,
       "version_minor": 0
      },
      "text/plain": [
       "Processing tokens:   0%|          | 0/16 [00:00<?, ?it/s]"
      ]
     },
     "metadata": {},
     "output_type": "display_data"
    },
    {
     "data": {
      "application/vnd.jupyter.widget-view+json": {
       "model_id": "affcdd06a20446c3a772b68deb0370b6",
       "version_major": 2,
       "version_minor": 0
      },
      "text/plain": [
       "Processing tokens:   0%|          | 0/8 [00:00<?, ?it/s]"
      ]
     },
     "metadata": {},
     "output_type": "display_data"
    },
    {
     "name": "stderr",
     "output_type": "stream",
     "text": [
      "Some weights of RobertaModel were not initialized from the model checkpoint at roberta-large and are newly initialized: ['roberta.pooler.dense.bias', 'roberta.pooler.dense.weight']\n",
      "You should probably TRAIN this model on a down-stream task to be able to use it for predictions and inference.\n"
     ]
    },
    {
     "data": {
      "application/vnd.jupyter.widget-view+json": {
       "model_id": "069c6749b9594302a8cf294b5007c41f",
       "version_major": 2,
       "version_minor": 0
      },
      "text/plain": [
       "Batches:   0%|          | 0/1 [00:00<?, ?it/s]"
      ]
     },
     "metadata": {},
     "output_type": "display_data"
    },
    {
     "data": {
      "application/vnd.jupyter.widget-view+json": {
       "model_id": "38b06823e0d14e6caa382f702546b577",
       "version_major": 2,
       "version_minor": 0
      },
      "text/plain": [
       "Batches:   0%|          | 0/1 [00:00<?, ?it/s]"
      ]
     },
     "metadata": {},
     "output_type": "display_data"
    },
    {
     "name": "stderr",
     "output_type": "stream",
     "text": [
      "INFO:absl:Using default tokenizer.\n"
     ]
    },
    {
     "data": {
      "application/vnd.jupyter.widget-view+json": {
       "model_id": "9ef850b9a1f14cb1ab925e9e39122ba4",
       "version_major": 2,
       "version_minor": 0
      },
      "text/plain": [
       "Processing tokens:   0%|          | 0/12 [00:00<?, ?it/s]"
      ]
     },
     "metadata": {},
     "output_type": "display_data"
    },
    {
     "data": {
      "application/vnd.jupyter.widget-view+json": {
       "model_id": "d6fdb341b74c4a4dbde2f96eab2b42aa",
       "version_major": 2,
       "version_minor": 0
      },
      "text/plain": [
       "Processing tokens:   0%|          | 0/45 [00:00<?, ?it/s]"
      ]
     },
     "metadata": {},
     "output_type": "display_data"
    },
    {
     "name": "stderr",
     "output_type": "stream",
     "text": [
      "Some weights of RobertaModel were not initialized from the model checkpoint at roberta-large and are newly initialized: ['roberta.pooler.dense.bias', 'roberta.pooler.dense.weight']\n",
      "You should probably TRAIN this model on a down-stream task to be able to use it for predictions and inference.\n"
     ]
    },
    {
     "data": {
      "application/vnd.jupyter.widget-view+json": {
       "model_id": "19339d789cb348d9ad53b83793b44f6a",
       "version_major": 2,
       "version_minor": 0
      },
      "text/plain": [
       "Batches:   0%|          | 0/1 [00:00<?, ?it/s]"
      ]
     },
     "metadata": {},
     "output_type": "display_data"
    },
    {
     "data": {
      "application/vnd.jupyter.widget-view+json": {
       "model_id": "bac318f1995e4695b633fe8c4aac7f69",
       "version_major": 2,
       "version_minor": 0
      },
      "text/plain": [
       "Batches:   0%|          | 0/1 [00:00<?, ?it/s]"
      ]
     },
     "metadata": {},
     "output_type": "display_data"
    },
    {
     "name": "stderr",
     "output_type": "stream",
     "text": [
      "INFO:absl:Using default tokenizer.\n"
     ]
    },
    {
     "data": {
      "application/vnd.jupyter.widget-view+json": {
       "model_id": "502090e993d7443f971c0fd4dfba2de3",
       "version_major": 2,
       "version_minor": 0
      },
      "text/plain": [
       "Processing tokens:   0%|          | 0/70 [00:00<?, ?it/s]"
      ]
     },
     "metadata": {},
     "output_type": "display_data"
    },
    {
     "data": {
      "application/vnd.jupyter.widget-view+json": {
       "model_id": "731a7696a5d540438da84a9959926b2e",
       "version_major": 2,
       "version_minor": 0
      },
      "text/plain": [
       "Processing tokens:   0%|          | 0/39 [00:00<?, ?it/s]"
      ]
     },
     "metadata": {},
     "output_type": "display_data"
    },
    {
     "name": "stderr",
     "output_type": "stream",
     "text": [
      "Some weights of RobertaModel were not initialized from the model checkpoint at roberta-large and are newly initialized: ['roberta.pooler.dense.bias', 'roberta.pooler.dense.weight']\n",
      "You should probably TRAIN this model on a down-stream task to be able to use it for predictions and inference.\n"
     ]
    },
    {
     "data": {
      "application/vnd.jupyter.widget-view+json": {
       "model_id": "f4ce11a81bf9418cb678ce7d6c90b3eb",
       "version_major": 2,
       "version_minor": 0
      },
      "text/plain": [
       "Batches:   0%|          | 0/1 [00:00<?, ?it/s]"
      ]
     },
     "metadata": {},
     "output_type": "display_data"
    },
    {
     "data": {
      "application/vnd.jupyter.widget-view+json": {
       "model_id": "f41eafcd02154ffc8f837be73c32f07a",
       "version_major": 2,
       "version_minor": 0
      },
      "text/plain": [
       "Batches:   0%|          | 0/1 [00:00<?, ?it/s]"
      ]
     },
     "metadata": {},
     "output_type": "display_data"
    },
    {
     "name": "stderr",
     "output_type": "stream",
     "text": [
      "INFO:absl:Using default tokenizer.\n"
     ]
    },
    {
     "data": {
      "application/vnd.jupyter.widget-view+json": {
       "model_id": "02672a5d9d77427881d2c6dad1942d68",
       "version_major": 2,
       "version_minor": 0
      },
      "text/plain": [
       "Processing tokens:   0%|          | 0/6 [00:00<?, ?it/s]"
      ]
     },
     "metadata": {},
     "output_type": "display_data"
    },
    {
     "data": {
      "application/vnd.jupyter.widget-view+json": {
       "model_id": "0f77c4cd666949b998e68cdbed1e9044",
       "version_major": 2,
       "version_minor": 0
      },
      "text/plain": [
       "Processing tokens:   0%|          | 0/8 [00:00<?, ?it/s]"
      ]
     },
     "metadata": {},
     "output_type": "display_data"
    },
    {
     "name": "stderr",
     "output_type": "stream",
     "text": [
      "Some weights of RobertaModel were not initialized from the model checkpoint at roberta-large and are newly initialized: ['roberta.pooler.dense.bias', 'roberta.pooler.dense.weight']\n",
      "You should probably TRAIN this model on a down-stream task to be able to use it for predictions and inference.\n"
     ]
    },
    {
     "data": {
      "application/vnd.jupyter.widget-view+json": {
       "model_id": "48cc052ac4a74c0fb0fade5cdd40dfc9",
       "version_major": 2,
       "version_minor": 0
      },
      "text/plain": [
       "Batches:   0%|          | 0/1 [00:00<?, ?it/s]"
      ]
     },
     "metadata": {},
     "output_type": "display_data"
    },
    {
     "data": {
      "application/vnd.jupyter.widget-view+json": {
       "model_id": "dd076b7a996144c88e2c00e6eeffa1c7",
       "version_major": 2,
       "version_minor": 0
      },
      "text/plain": [
       "Batches:   0%|          | 0/1 [00:00<?, ?it/s]"
      ]
     },
     "metadata": {},
     "output_type": "display_data"
    },
    {
     "name": "stderr",
     "output_type": "stream",
     "text": [
      "INFO:absl:Using default tokenizer.\n"
     ]
    },
    {
     "data": {
      "application/vnd.jupyter.widget-view+json": {
       "model_id": "2a644b18ede84157b46c61bf80fba8b2",
       "version_major": 2,
       "version_minor": 0
      },
      "text/plain": [
       "Processing tokens:   0%|          | 0/11 [00:00<?, ?it/s]"
      ]
     },
     "metadata": {},
     "output_type": "display_data"
    },
    {
     "data": {
      "application/vnd.jupyter.widget-view+json": {
       "model_id": "593fce51b88b4537a9c3648df485401b",
       "version_major": 2,
       "version_minor": 0
      },
      "text/plain": [
       "Processing tokens:   0%|          | 0/8 [00:00<?, ?it/s]"
      ]
     },
     "metadata": {},
     "output_type": "display_data"
    },
    {
     "name": "stderr",
     "output_type": "stream",
     "text": [
      "Some weights of RobertaModel were not initialized from the model checkpoint at roberta-large and are newly initialized: ['roberta.pooler.dense.bias', 'roberta.pooler.dense.weight']\n",
      "You should probably TRAIN this model on a down-stream task to be able to use it for predictions and inference.\n"
     ]
    },
    {
     "data": {
      "application/vnd.jupyter.widget-view+json": {
       "model_id": "abec2fd46c044fc8956eb45d5355f1a3",
       "version_major": 2,
       "version_minor": 0
      },
      "text/plain": [
       "Batches:   0%|          | 0/1 [00:00<?, ?it/s]"
      ]
     },
     "metadata": {},
     "output_type": "display_data"
    },
    {
     "data": {
      "application/vnd.jupyter.widget-view+json": {
       "model_id": "c256b20aded342aaab002a45eecd18d8",
       "version_major": 2,
       "version_minor": 0
      },
      "text/plain": [
       "Batches:   0%|          | 0/1 [00:00<?, ?it/s]"
      ]
     },
     "metadata": {},
     "output_type": "display_data"
    },
    {
     "name": "stderr",
     "output_type": "stream",
     "text": [
      "INFO:absl:Using default tokenizer.\n"
     ]
    },
    {
     "data": {
      "application/vnd.jupyter.widget-view+json": {
       "model_id": "3c943567871045f7b11414a235b16e23",
       "version_major": 2,
       "version_minor": 0
      },
      "text/plain": [
       "Processing tokens:   0%|          | 0/13 [00:00<?, ?it/s]"
      ]
     },
     "metadata": {},
     "output_type": "display_data"
    },
    {
     "data": {
      "application/vnd.jupyter.widget-view+json": {
       "model_id": "918dafe0c1194032a985eef16273973e",
       "version_major": 2,
       "version_minor": 0
      },
      "text/plain": [
       "Processing tokens:   0%|          | 0/8 [00:00<?, ?it/s]"
      ]
     },
     "metadata": {},
     "output_type": "display_data"
    },
    {
     "name": "stderr",
     "output_type": "stream",
     "text": [
      "Some weights of RobertaModel were not initialized from the model checkpoint at roberta-large and are newly initialized: ['roberta.pooler.dense.bias', 'roberta.pooler.dense.weight']\n",
      "You should probably TRAIN this model on a down-stream task to be able to use it for predictions and inference.\n"
     ]
    },
    {
     "data": {
      "application/vnd.jupyter.widget-view+json": {
       "model_id": "01757062572a470fa1f012d2753f351f",
       "version_major": 2,
       "version_minor": 0
      },
      "text/plain": [
       "Batches:   0%|          | 0/1 [00:00<?, ?it/s]"
      ]
     },
     "metadata": {},
     "output_type": "display_data"
    },
    {
     "data": {
      "application/vnd.jupyter.widget-view+json": {
       "model_id": "aa029d2e0d244680ab88e9897b118410",
       "version_major": 2,
       "version_minor": 0
      },
      "text/plain": [
       "Batches:   0%|          | 0/1 [00:00<?, ?it/s]"
      ]
     },
     "metadata": {},
     "output_type": "display_data"
    },
    {
     "name": "stderr",
     "output_type": "stream",
     "text": [
      "INFO:absl:Using default tokenizer.\n"
     ]
    },
    {
     "data": {
      "application/vnd.jupyter.widget-view+json": {
       "model_id": "7cddf9c01f8e47ae917a7a6f1a66d533",
       "version_major": 2,
       "version_minor": 0
      },
      "text/plain": [
       "Processing tokens:   0%|          | 0/272 [00:00<?, ?it/s]"
      ]
     },
     "metadata": {},
     "output_type": "display_data"
    },
    {
     "data": {
      "application/vnd.jupyter.widget-view+json": {
       "model_id": "e7fbf344a4a843fa96baa78473d4fc89",
       "version_major": 2,
       "version_minor": 0
      },
      "text/plain": [
       "Processing tokens:   0%|          | 0/260 [00:00<?, ?it/s]"
      ]
     },
     "metadata": {},
     "output_type": "display_data"
    },
    {
     "name": "stderr",
     "output_type": "stream",
     "text": [
      "Some weights of RobertaModel were not initialized from the model checkpoint at roberta-large and are newly initialized: ['roberta.pooler.dense.bias', 'roberta.pooler.dense.weight']\n",
      "You should probably TRAIN this model on a down-stream task to be able to use it for predictions and inference.\n"
     ]
    },
    {
     "data": {
      "application/vnd.jupyter.widget-view+json": {
       "model_id": "d23c796059254830aacf0b6592d22461",
       "version_major": 2,
       "version_minor": 0
      },
      "text/plain": [
       "Batches:   0%|          | 0/1 [00:00<?, ?it/s]"
      ]
     },
     "metadata": {},
     "output_type": "display_data"
    },
    {
     "data": {
      "application/vnd.jupyter.widget-view+json": {
       "model_id": "5034d7c4cbaf4a09ae95a128fbc3e74f",
       "version_major": 2,
       "version_minor": 0
      },
      "text/plain": [
       "Batches:   0%|          | 0/1 [00:00<?, ?it/s]"
      ]
     },
     "metadata": {},
     "output_type": "display_data"
    },
    {
     "name": "stderr",
     "output_type": "stream",
     "text": [
      "INFO:absl:Using default tokenizer.\n"
     ]
    },
    {
     "data": {
      "application/vnd.jupyter.widget-view+json": {
       "model_id": "3fb89051236a4cdc9b324f54f4acc826",
       "version_major": 2,
       "version_minor": 0
      },
      "text/plain": [
       "Processing tokens:   0%|          | 0/89 [00:00<?, ?it/s]"
      ]
     },
     "metadata": {},
     "output_type": "display_data"
    },
    {
     "data": {
      "application/vnd.jupyter.widget-view+json": {
       "model_id": "8857d377c17e4cd5bf224eaf101d4e42",
       "version_major": 2,
       "version_minor": 0
      },
      "text/plain": [
       "Processing tokens:   0%|          | 0/33 [00:00<?, ?it/s]"
      ]
     },
     "metadata": {},
     "output_type": "display_data"
    },
    {
     "name": "stderr",
     "output_type": "stream",
     "text": [
      "Some weights of RobertaModel were not initialized from the model checkpoint at roberta-large and are newly initialized: ['roberta.pooler.dense.bias', 'roberta.pooler.dense.weight']\n",
      "You should probably TRAIN this model on a down-stream task to be able to use it for predictions and inference.\n"
     ]
    },
    {
     "data": {
      "application/vnd.jupyter.widget-view+json": {
       "model_id": "f0dcafc3debf42919f8680e3403edd0e",
       "version_major": 2,
       "version_minor": 0
      },
      "text/plain": [
       "Batches:   0%|          | 0/1 [00:00<?, ?it/s]"
      ]
     },
     "metadata": {},
     "output_type": "display_data"
    },
    {
     "data": {
      "application/vnd.jupyter.widget-view+json": {
       "model_id": "4d8a6507f0a2487692232658ef0f2d8d",
       "version_major": 2,
       "version_minor": 0
      },
      "text/plain": [
       "Batches:   0%|          | 0/1 [00:00<?, ?it/s]"
      ]
     },
     "metadata": {},
     "output_type": "display_data"
    },
    {
     "name": "stderr",
     "output_type": "stream",
     "text": [
      "INFO:absl:Using default tokenizer.\n"
     ]
    },
    {
     "data": {
      "application/vnd.jupyter.widget-view+json": {
       "model_id": "27b92f4211fb47b1a4b5b736ac83240f",
       "version_major": 2,
       "version_minor": 0
      },
      "text/plain": [
       "Processing tokens:   0%|          | 0/42 [00:00<?, ?it/s]"
      ]
     },
     "metadata": {},
     "output_type": "display_data"
    },
    {
     "data": {
      "application/vnd.jupyter.widget-view+json": {
       "model_id": "e9c20550dfe747bcb24783e66c859dfc",
       "version_major": 2,
       "version_minor": 0
      },
      "text/plain": [
       "Processing tokens:   0%|          | 0/32 [00:00<?, ?it/s]"
      ]
     },
     "metadata": {},
     "output_type": "display_data"
    },
    {
     "name": "stderr",
     "output_type": "stream",
     "text": [
      "Some weights of RobertaModel were not initialized from the model checkpoint at roberta-large and are newly initialized: ['roberta.pooler.dense.bias', 'roberta.pooler.dense.weight']\n",
      "You should probably TRAIN this model on a down-stream task to be able to use it for predictions and inference.\n"
     ]
    },
    {
     "data": {
      "application/vnd.jupyter.widget-view+json": {
       "model_id": "97a01947a2fe4b0a9cd1d4ccbd07d6df",
       "version_major": 2,
       "version_minor": 0
      },
      "text/plain": [
       "Batches:   0%|          | 0/1 [00:00<?, ?it/s]"
      ]
     },
     "metadata": {},
     "output_type": "display_data"
    },
    {
     "data": {
      "application/vnd.jupyter.widget-view+json": {
       "model_id": "33e4ef69503646ea892a0921441f723e",
       "version_major": 2,
       "version_minor": 0
      },
      "text/plain": [
       "Batches:   0%|          | 0/1 [00:00<?, ?it/s]"
      ]
     },
     "metadata": {},
     "output_type": "display_data"
    },
    {
     "name": "stderr",
     "output_type": "stream",
     "text": [
      "INFO:absl:Using default tokenizer.\n"
     ]
    },
    {
     "data": {
      "application/vnd.jupyter.widget-view+json": {
       "model_id": "4aafdee612a24290a50afa804ef85426",
       "version_major": 2,
       "version_minor": 0
      },
      "text/plain": [
       "Processing tokens:   0%|          | 0/18 [00:00<?, ?it/s]"
      ]
     },
     "metadata": {},
     "output_type": "display_data"
    },
    {
     "data": {
      "application/vnd.jupyter.widget-view+json": {
       "model_id": "a0a28df364be40daa8c76858fc7d98d4",
       "version_major": 2,
       "version_minor": 0
      },
      "text/plain": [
       "Processing tokens:   0%|          | 0/8 [00:00<?, ?it/s]"
      ]
     },
     "metadata": {},
     "output_type": "display_data"
    },
    {
     "name": "stderr",
     "output_type": "stream",
     "text": [
      "Some weights of RobertaModel were not initialized from the model checkpoint at roberta-large and are newly initialized: ['roberta.pooler.dense.bias', 'roberta.pooler.dense.weight']\n",
      "You should probably TRAIN this model on a down-stream task to be able to use it for predictions and inference.\n"
     ]
    },
    {
     "data": {
      "application/vnd.jupyter.widget-view+json": {
       "model_id": "7587a937cc8d48bdbb85c11b3130832b",
       "version_major": 2,
       "version_minor": 0
      },
      "text/plain": [
       "Batches:   0%|          | 0/1 [00:00<?, ?it/s]"
      ]
     },
     "metadata": {},
     "output_type": "display_data"
    },
    {
     "data": {
      "application/vnd.jupyter.widget-view+json": {
       "model_id": "124861abf76e4c019f90ad8aaedd9e02",
       "version_major": 2,
       "version_minor": 0
      },
      "text/plain": [
       "Batches:   0%|          | 0/1 [00:00<?, ?it/s]"
      ]
     },
     "metadata": {},
     "output_type": "display_data"
    },
    {
     "name": "stderr",
     "output_type": "stream",
     "text": [
      "INFO:absl:Using default tokenizer.\n"
     ]
    },
    {
     "data": {
      "application/vnd.jupyter.widget-view+json": {
       "model_id": "d97b0cac52244365912a72a60d6c12c1",
       "version_major": 2,
       "version_minor": 0
      },
      "text/plain": [
       "Processing tokens:   0%|          | 0/39 [00:00<?, ?it/s]"
      ]
     },
     "metadata": {},
     "output_type": "display_data"
    },
    {
     "data": {
      "application/vnd.jupyter.widget-view+json": {
       "model_id": "8d10902d3fd142929d06644fc219d16a",
       "version_major": 2,
       "version_minor": 0
      },
      "text/plain": [
       "Processing tokens:   0%|          | 0/36 [00:00<?, ?it/s]"
      ]
     },
     "metadata": {},
     "output_type": "display_data"
    },
    {
     "name": "stderr",
     "output_type": "stream",
     "text": [
      "Some weights of RobertaModel were not initialized from the model checkpoint at roberta-large and are newly initialized: ['roberta.pooler.dense.bias', 'roberta.pooler.dense.weight']\n",
      "You should probably TRAIN this model on a down-stream task to be able to use it for predictions and inference.\n"
     ]
    },
    {
     "data": {
      "application/vnd.jupyter.widget-view+json": {
       "model_id": "a8f79752abbf416684af4f9ae82a65ea",
       "version_major": 2,
       "version_minor": 0
      },
      "text/plain": [
       "Batches:   0%|          | 0/1 [00:00<?, ?it/s]"
      ]
     },
     "metadata": {},
     "output_type": "display_data"
    },
    {
     "data": {
      "application/vnd.jupyter.widget-view+json": {
       "model_id": "a4c1500809984089b8ca2405fa4fd6b2",
       "version_major": 2,
       "version_minor": 0
      },
      "text/plain": [
       "Batches:   0%|          | 0/1 [00:00<?, ?it/s]"
      ]
     },
     "metadata": {},
     "output_type": "display_data"
    }
   ],
   "source": [
    "# First pass to collect metric values and determine min and max for normalization\n",
    "for index, row in tqdm(data.iterrows(), total=len(data), desc=\"Processing questions\", leave=False):\n",
    "    question = row[\"Question\"]\n",
    "    reference_answer = row[\"Answer\"]\n",
    "    predicted_answer = answer_query(question)\n",
    "    predicted_answers.append(predicted_answer)\n",
    "\n",
    "    # Evaluate the metrics\n",
    "    rouge = evaluate_rouge(predicted_answer, reference_answer)\n",
    "    bleu = evaluate_bleu(predicted_answer, reference_answer)\n",
    "    f1 = evaluate_f1(predicted_answer, reference_answer)\n",
    "    bert_score = evaluate_bert_score(predicted_answer, reference_answer)\n",
    "    embedding_similarity = evaluate_embedding_similarity(predicted_answer, reference_answer)\n",
    "\n",
    "    # Update min and max values for each metric\n",
    "    rouge_scores.append(rouge[\"rougeL\"].fmeasure)\n",
    "    bleu_scores.append(bleu)\n",
    "    f1_scores.append(f1)\n",
    "    bert_scores.append(bert_score)\n",
    "    embedding_similarities.append(embedding_similarity)"
   ]
  },
  {
   "cell_type": "code",
   "execution_count": 23,
   "metadata": {},
   "outputs": [],
   "source": [
    "# Perform min-max normalization for each metric\n",
    "def min_max_normalize(values):\n",
    "    min_val, max_val = min(values), max(values)\n",
    "    return [(val - min_val) / (max_val - min_val) if max_val != min_val else 0.5 for val in values]\n",
    "\n",
    "\n",
    "rouge_scores_normalized = min_max_normalize(rouge_scores)\n",
    "bleu_scores_normalized = min_max_normalize(bleu_scores)\n",
    "f1_scores_normalized = min_max_normalize(f1_scores)\n",
    "bert_scores_normalized = min_max_normalize(bert_scores)\n",
    "embedding_similarities_normalized = min_max_normalize(embedding_similarities)"
   ]
  },
  {
   "cell_type": "code",
   "execution_count": 24,
   "metadata": {},
   "outputs": [],
   "source": [
    "hybrid_scores = [\n",
    "    (0.2 * rouge) + (0.2 * bleu) + (0.2 * f1) + (0.2 * bert) + (0.2 * embedding)\n",
    "    for rouge, bleu, f1, bert, embedding in zip(\n",
    "        rouge_scores_normalized, bleu_scores_normalized, f1_scores_normalized, bert_scores_normalized, embedding_similarities_normalized\n",
    "    )\n",
    "]"
   ]
  },
  {
   "cell_type": "code",
   "execution_count": 25,
   "metadata": {},
   "outputs": [
    {
     "name": "stdout",
     "output_type": "stream",
     "text": [
      "[Processing question 1]:\n",
      "\n",
      "ROUGE-L: 0.1797752808988764\n",
      "BLEU: 4.429078935197404\n",
      "F1: 0.2545454545454545\n",
      "BERT Score: 0.869399905204773\n",
      "Embedding Similarity: 0.7339451313018799\n",
      "Hybrid Score: 0.43890744814352534\n",
      "--------------------------------------------------------------------------------\n",
      "[Processing question 2]:\n",
      "\n",
      "ROUGE-L: 0.18269230769230768\n",
      "BLEU: 0.332584821468322\n",
      "F1: 0.2095238095238095\n",
      "BERT Score: 0.8366906642913818\n",
      "Embedding Similarity: 0.6116490364074707\n",
      "Hybrid Score: 0.31272268586339136\n",
      "--------------------------------------------------------------------------------\n",
      "[Processing question 3]:\n",
      "\n",
      "ROUGE-L: 0.10526315789473684\n",
      "BLEU: 0.5495915670435931\n",
      "F1: 0.0737327188940092\n",
      "BERT Score: 0.815432608127594\n",
      "Embedding Similarity: 0.557623565196991\n",
      "Hybrid Score: 0.20511961411155882\n",
      "--------------------------------------------------------------------------------\n",
      "[Processing question 4]:\n",
      "\n",
      "ROUGE-L: 0.2352941176470588\n",
      "BLEU: 0.6192869128422068\n",
      "F1: 0.21621621621621623\n",
      "BERT Score: 0.8714306950569153\n",
      "Embedding Similarity: 0.5294125080108643\n",
      "Hybrid Score: 0.36537832611106386\n",
      "--------------------------------------------------------------------------------\n",
      "[Processing question 5]:\n",
      "\n",
      "ROUGE-L: 0.15286624203821655\n",
      "BLEU: 0.05598083657038648\n",
      "F1: 0.20224719101123598\n",
      "BERT Score: 0.8543903827667236\n",
      "Embedding Similarity: 0.6251827478408813\n",
      "Hybrid Score: 0.32577300843795126\n",
      "--------------------------------------------------------------------------------\n",
      "[Processing question 6]:\n",
      "\n",
      "ROUGE-L: 0.07971014492753623\n",
      "BLEU: 0.7586556808525243\n",
      "F1: 0.08474576271186442\n",
      "BERT Score: 0.8312376737594604\n",
      "Embedding Similarity: 0.6844534873962402\n",
      "Hybrid Score: 0.25333996026380545\n",
      "--------------------------------------------------------------------------------\n",
      "[Processing question 7]:\n",
      "\n",
      "ROUGE-L: 0.20367278797996663\n",
      "BLEU: 2.779113160944251\n",
      "F1: 0.3168831168831168\n",
      "BERT Score: 0.8274111747741699\n",
      "Embedding Similarity: 0.6569414138793945\n",
      "Hybrid Score: 0.3729560883750088\n",
      "--------------------------------------------------------------------------------\n",
      "[Processing question 8]:\n",
      "\n",
      "ROUGE-L: 0.21499292786421498\n",
      "BLEU: 7.000915003946877\n",
      "F1: 0.4501061571125265\n",
      "BERT Score: 0.8438878059387207\n",
      "Embedding Similarity: 0.8465852737426758\n",
      "Hybrid Score: 0.524388441005022\n",
      "--------------------------------------------------------------------------------\n",
      "[Processing question 9]:\n",
      "\n",
      "ROUGE-L: 0.11830985915492957\n",
      "BLEU: 3.011413039651399\n",
      "F1: 0.11336032388663969\n",
      "BERT Score: 0.8306019902229309\n",
      "Embedding Similarity: 0.7057198882102966\n",
      "Hybrid Score: 0.3007353064732552\n",
      "--------------------------------------------------------------------------------\n",
      "[Processing question 10]:\n",
      "\n",
      "ROUGE-L: 0.0808080808080808\n",
      "BLEU: 0.07400331062822811\n",
      "F1: 0.13793103448275862\n",
      "BERT Score: 0.8398346900939941\n",
      "Embedding Similarity: 0.39656156301498413\n",
      "Hybrid Score: 0.20855257317071407\n",
      "--------------------------------------------------------------------------------\n",
      "[Processing question 11]:\n",
      "\n",
      "ROUGE-L: 0.28157894736842104\n",
      "BLEU: 13.969240966910968\n",
      "F1: 0.47950819672131145\n",
      "BERT Score: 0.8727807998657227\n",
      "Embedding Similarity: 0.7886554002761841\n",
      "Hybrid Score: 0.6500475375411913\n",
      "--------------------------------------------------------------------------------\n",
      "[Processing question 12]:\n",
      "\n",
      "ROUGE-L: 0.0682730923694779\n",
      "BLEU: 0.25345540816457013\n",
      "F1: 0.056338028169014086\n",
      "BERT Score: 0.8165199756622314\n",
      "Embedding Similarity: 0.41982319951057434\n",
      "Hybrid Score: 0.15403591279855822\n",
      "--------------------------------------------------------------------------------\n",
      "[Processing question 13]:\n",
      "\n",
      "ROUGE-L: 0.20715166461159065\n",
      "BLEU: 12.068196010490427\n",
      "F1: 0.4542124542124542\n",
      "BERT Score: 0.8644687533378601\n",
      "Embedding Similarity: 0.8745168447494507\n",
      "Hybrid Score: 0.6069685480068066\n",
      "--------------------------------------------------------------------------------\n",
      "[Processing question 14]:\n",
      "\n",
      "ROUGE-L: 0.23809523809523808\n",
      "BLEU: 2.819027078440179\n",
      "F1: 0.2553191489361702\n",
      "BERT Score: 0.8575659394264221\n",
      "Embedding Similarity: 0.5504542589187622\n",
      "Hybrid Score: 0.3844760929516209\n",
      "--------------------------------------------------------------------------------\n",
      "[Processing question 15]:\n",
      "\n",
      "ROUGE-L: 0.1951219512195122\n",
      "BLEU: 2.452552641442349\n",
      "F1: 0.17391304347826086\n",
      "BERT Score: 0.8421645760536194\n",
      "Embedding Similarity: 0.6172125935554504\n",
      "Hybrid Score: 0.33560525625819376\n",
      "--------------------------------------------------------------------------------\n",
      "[Processing question 16]:\n",
      "\n",
      "ROUGE-L: 0.14666666666666667\n",
      "BLEU: 6.0401451519369305\n",
      "F1: 0.1758241758241758\n",
      "BERT Score: 0.851033627986908\n",
      "Embedding Similarity: 0.6453158855438232\n",
      "Hybrid Score: 0.37299664936431437\n",
      "--------------------------------------------------------------------------------\n",
      "[Processing question 17]:\n",
      "\n",
      "ROUGE-L: 0.05223880597014926\n",
      "BLEU: 0.9426957306090253\n",
      "F1: 0.04481792717086835\n",
      "BERT Score: 0.8176125884056091\n",
      "Embedding Similarity: 0.6468275785446167\n",
      "Hybrid Score: 0.2058156822821871\n",
      "--------------------------------------------------------------------------------\n",
      "[Processing question 18]:\n",
      "\n",
      "ROUGE-L: 0.11214953271028037\n",
      "BLEU: 0.29199936938683746\n",
      "F1: 0.15384615384615385\n",
      "BERT Score: 0.8408629894256592\n",
      "Embedding Similarity: 0.619853138923645\n",
      "Hybrid Score: 0.2792938949791823\n",
      "--------------------------------------------------------------------------------\n",
      "[Processing question 19]:\n",
      "\n",
      "ROUGE-L: 0.183206106870229\n",
      "BLEU: 3.7391225595952133\n",
      "F1: 0.20689655172413793\n",
      "BERT Score: 0.8546881675720215\n",
      "Embedding Similarity: 0.8793612718582153\n",
      "Hybrid Score: 0.43211782572119006\n",
      "--------------------------------------------------------------------------------\n",
      "[Processing question 20]:\n",
      "\n",
      "ROUGE-L: 0.2545454545454545\n",
      "BLEU: 3.5512749631406533\n",
      "F1: 0.30985915492957744\n",
      "BERT Score: 0.8599998354911804\n",
      "Embedding Similarity: 0.75600266456604\n",
      "Hybrid Score: 0.46451305851714975\n",
      "--------------------------------------------------------------------------------\n",
      "[Processing question 21]:\n",
      "\n",
      "ROUGE-L: 0.12672176308539945\n",
      "BLEU: 0.38590327019990356\n",
      "F1: 0.13973799126637554\n",
      "BERT Score: 0.8198347091674805\n",
      "Embedding Similarity: 0.7204917669296265\n",
      "Hybrid Score: 0.2746132511773579\n",
      "--------------------------------------------------------------------------------\n",
      "[Processing question 22]:\n",
      "\n",
      "ROUGE-L: 0.09090909090909091\n",
      "BLEU: 1.3025318854087258\n",
      "F1: 0.08695652173913043\n",
      "BERT Score: 0.8479052186012268\n",
      "Embedding Similarity: 0.6505264043807983\n",
      "Hybrid Score: 0.2786771713045194\n",
      "--------------------------------------------------------------------------------\n",
      "[Processing question 23]:\n",
      "\n",
      "ROUGE-L: 0.21276595744680848\n",
      "BLEU: 0.46442127141151457\n",
      "F1: 0.39999999999999997\n",
      "BERT Score: 0.8577187061309814\n",
      "Embedding Similarity: 0.5474929809570312\n",
      "Hybrid Score: 0.39618917857096936\n",
      "--------------------------------------------------------------------------------\n",
      "[Processing question 24]:\n",
      "\n",
      "ROUGE-L: 0.22222222222222224\n",
      "BLEU: 4.1112690478889915\n",
      "F1: 0.392156862745098\n",
      "BERT Score: 0.9073175191879272\n",
      "Embedding Similarity: 0.9412117600440979\n",
      "Hybrid Score: 0.5931014474162364\n",
      "--------------------------------------------------------------------------------\n",
      "[Processing question 25]:\n",
      "\n",
      "ROUGE-L: 0.27499999999999997\n",
      "BLEU: 4.987836950162212\n",
      "F1: 0.3913043478260869\n",
      "BERT Score: 0.8909294009208679\n",
      "Embedding Similarity: 0.8712548017501831\n",
      "Hybrid Score: 0.5799889115397032\n",
      "--------------------------------------------------------------------------------\n",
      "[Processing question 26]:\n",
      "\n",
      "ROUGE-L: 0.108843537414966\n",
      "BLEU: 1.1483486415068203\n",
      "F1: 0.10471204188481674\n",
      "BERT Score: 0.8345068097114563\n",
      "Embedding Similarity: 0.5254139304161072\n",
      "Hybrid Score: 0.2407983341953217\n",
      "--------------------------------------------------------------------------------\n",
      "[Processing question 27]:\n",
      "\n",
      "ROUGE-L: 0.07933194154488517\n",
      "BLEU: 0.5493479278946689\n",
      "F1: 0.13333333333333333\n",
      "BERT Score: 0.8303355574607849\n",
      "Embedding Similarity: 0.8264001607894897\n",
      "Hybrid Score: 0.29738439829203367\n",
      "--------------------------------------------------------------------------------\n",
      "[Processing question 28]:\n",
      "\n",
      "ROUGE-L: 0.05510534846029174\n",
      "BLEU: 0.2311418966102527\n",
      "F1: 0.06746987951807229\n",
      "BERT Score: 0.815205454826355\n",
      "Embedding Similarity: 0.6920764446258545\n",
      "Hybrid Score: 0.21386026705123834\n",
      "--------------------------------------------------------------------------------\n",
      "[Processing question 29]:\n",
      "\n",
      "ROUGE-L: 0.11567164179104476\n",
      "BLEU: 2.5839476518628346\n",
      "F1: 0.12138728323699423\n",
      "BERT Score: 0.8415445685386658\n",
      "Embedding Similarity: 0.7688997983932495\n",
      "Hybrid Score: 0.32820050115456656\n",
      "--------------------------------------------------------------------------------\n",
      "[Processing question 30]:\n",
      "\n",
      "ROUGE-L: 0.11320754716981132\n",
      "BLEU: 0.1327526927312144\n",
      "F1: 0.13333333333333333\n",
      "BERT Score: 0.8405513167381287\n",
      "Embedding Similarity: 0.521223783493042\n",
      "Hybrid Score: 0.24869436112080723\n",
      "--------------------------------------------------------------------------------\n",
      "[Processing question 31]:\n",
      "\n",
      "ROUGE-L: 0.12\n",
      "BLEU: 1.5809147266168269\n",
      "F1: 0.06896551724137931\n",
      "BERT Score: 0.8256980180740356\n",
      "Embedding Similarity: 0.7102680206298828\n",
      "Hybrid Score: 0.268429726941937\n",
      "--------------------------------------------------------------------------------\n",
      "[Processing question 32]:\n",
      "\n",
      "ROUGE-L: 0.10994764397905758\n",
      "BLEU: 0.5098497271505619\n",
      "F1: 0.11155378486055777\n",
      "BERT Score: 0.8191947937011719\n",
      "Embedding Similarity: 0.6761335730552673\n",
      "Hybrid Score: 0.2504357274547995\n",
      "--------------------------------------------------------------------------------\n",
      "[Processing question 33]:\n",
      "\n",
      "ROUGE-L: 0.11688311688311687\n",
      "BLEU: 0.9868214957808723\n",
      "F1: 0.12500000000000003\n",
      "BERT Score: 0.8317165970802307\n",
      "Embedding Similarity: 0.810126781463623\n",
      "Hybrid Score: 0.31009173184298644\n",
      "--------------------------------------------------------------------------------\n",
      "[Processing question 34]:\n",
      "\n",
      "ROUGE-L: 0.10909090909090907\n",
      "BLEU: 1.14536342483021\n",
      "F1: 0.06896551724137931\n",
      "BERT Score: 0.8465991020202637\n",
      "Embedding Similarity: 0.720882773399353\n",
      "Hybrid Score: 0.2924434171359463\n",
      "--------------------------------------------------------------------------------\n",
      "[Processing question 35]:\n",
      "\n",
      "ROUGE-L: 0.0606060606060606\n",
      "BLEU: 0.011780414049218743\n",
      "F1: 0.0425531914893617\n",
      "BERT Score: 0.8528109788894653\n",
      "Embedding Similarity: 0.6221376657485962\n",
      "Hybrid Score: 0.24296808932105382\n",
      "--------------------------------------------------------------------------------\n",
      "[Processing question 36]:\n",
      "\n",
      "ROUGE-L: 0.04\n",
      "BLEU: 0.24301276163481303\n",
      "F1: 0.0\n",
      "BERT Score: 0.8597962260246277\n",
      "Embedding Similarity: 0.4594852924346924\n",
      "Hybrid Score: 0.1975481797379449\n",
      "--------------------------------------------------------------------------------\n",
      "[Processing question 37]:\n",
      "\n",
      "ROUGE-L: 0.072\n",
      "BLEU: 5.9896027598308256e-06\n",
      "F1: 0.07352941176470588\n",
      "BERT Score: 0.7826379537582397\n",
      "Embedding Similarity: 0.7547627091407776\n",
      "Hybrid Score: 0.1878563081025478\n",
      "--------------------------------------------------------------------------------\n",
      "[Processing question 38]:\n",
      "\n",
      "ROUGE-L: 0.08243727598566308\n",
      "BLEU: 0.0005169978332395447\n",
      "F1: 0.13768115942028986\n",
      "BERT Score: 0.8049453496932983\n",
      "Embedding Similarity: 0.6505545377731323\n",
      "Hybrid Score: 0.2179810371045067\n",
      "--------------------------------------------------------------------------------\n",
      "[Processing question 39]:\n",
      "\n",
      "ROUGE-L: 0.09210526315789475\n",
      "BLEU: 0.005142742163231988\n",
      "F1: 0.11764705882352941\n",
      "BERT Score: 0.8393080830574036\n",
      "Embedding Similarity: 0.5642725229263306\n",
      "Hybrid Score: 0.2437690370937629\n",
      "--------------------------------------------------------------------------------\n",
      "[Processing question 40]:\n",
      "\n",
      "ROUGE-L: 0.11009174311926606\n",
      "BLEU: 0.5027649628554963\n",
      "F1: 0.03773584905660378\n",
      "BERT Score: 0.8322104215621948\n",
      "Embedding Similarity: 0.3685162663459778\n",
      "Hybrid Score: 0.17537282512139268\n",
      "--------------------------------------------------------------------------------\n",
      "[Processing question 41]:\n",
      "\n",
      "ROUGE-L: 0.1090909090909091\n",
      "BLEU: 0.6170160896589384\n",
      "F1: 0.12790697674418605\n",
      "BERT Score: 0.832251250743866\n",
      "Embedding Similarity: 0.5090775489807129\n",
      "Hybrid Score: 0.23578785595817578\n",
      "--------------------------------------------------------------------------------\n",
      "[Processing question 42]:\n",
      "\n",
      "ROUGE-L: 0.09876543209876544\n",
      "BLEU: 0.1689889603130207\n",
      "F1: 0.13043478260869568\n",
      "BERT Score: 0.8380823731422424\n",
      "Embedding Similarity: 0.46510475873947144\n",
      "Hybrid Score: 0.2267577562307963\n",
      "--------------------------------------------------------------------------------\n",
      "[Processing question 43]:\n",
      "\n",
      "ROUGE-L: 0.04123711340206186\n",
      "BLEU: 2.4147984777885737e-05\n",
      "F1: 0.07547169811320754\n",
      "BERT Score: 0.8324657678604126\n",
      "Embedding Similarity: 0.4713943600654602\n",
      "Hybrid Score: 0.18252260047386204\n",
      "--------------------------------------------------------------------------------\n",
      "[Processing question 44]:\n",
      "\n",
      "ROUGE-L: 0.11666666666666667\n",
      "BLEU: 0.05946096656403385\n",
      "F1: 0.1142857142857143\n",
      "BERT Score: 0.8433628678321838\n",
      "Embedding Similarity: 0.4683989882469177\n",
      "Hybrid Score: 0.23518898555056278\n",
      "--------------------------------------------------------------------------------\n",
      "[Processing question 45]:\n",
      "\n",
      "ROUGE-L: 0.19791666666666666\n",
      "BLEU: 2.144473749613919\n",
      "F1: 0.16822429906542055\n",
      "BERT Score: 0.8504831790924072\n",
      "Embedding Similarity: 0.7991558313369751\n",
      "Hybrid Score: 0.38576407739086305\n",
      "--------------------------------------------------------------------------------\n",
      "[Processing question 46]:\n",
      "\n",
      "ROUGE-L: 0.06569343065693431\n",
      "BLEU: 0.005771094711093793\n",
      "F1: 0.06015037593984963\n",
      "BERT Score: 0.828238308429718\n",
      "Embedding Similarity: 0.5842570066452026\n",
      "Hybrid Score: 0.20652284205316485\n",
      "--------------------------------------------------------------------------------\n",
      "[Processing question 47]:\n",
      "\n",
      "ROUGE-L: 0.14054054054054055\n",
      "BLEU: 1.1590501868889649\n",
      "F1: 0.16593886462882093\n",
      "BERT Score: 0.8325549364089966\n",
      "Embedding Similarity: 0.7903145551681519\n",
      "Hybrid Score: 0.32870474467071303\n",
      "--------------------------------------------------------------------------------\n",
      "[Processing question 48]:\n",
      "\n",
      "ROUGE-L: 0.40350877192982454\n",
      "BLEU: 8.450171100173524\n",
      "F1: 0.46341463414634143\n",
      "BERT Score: 0.9037222862243652\n",
      "Embedding Similarity: 0.9496816992759705\n",
      "Hybrid Score: 0.7149254938387073\n",
      "--------------------------------------------------------------------------------\n",
      "[Processing question 49]:\n",
      "\n",
      "ROUGE-L: 0.0753623188405797\n",
      "BLEU: 0.1950201192152424\n",
      "F1: 0.07725321888412018\n",
      "BERT Score: 0.8282854557037354\n",
      "Embedding Similarity: 0.7059140801429749\n",
      "Hybrid Score: 0.24501449648846224\n",
      "--------------------------------------------------------------------------------\n",
      "[Processing question 50]:\n",
      "\n",
      "ROUGE-L: 0.11267605633802817\n",
      "BLEU: 2.1071856448714734\n",
      "F1: 0.0\n",
      "BERT Score: 0.84433513879776\n",
      "Embedding Similarity: 0.6731617450714111\n",
      "Hybrid Score: 0.2679524048404339\n",
      "--------------------------------------------------------------------------------\n",
      "[Processing question 51]:\n",
      "\n",
      "ROUGE-L: 0.5263157894736842\n",
      "BLEU: 18.575057999133595\n",
      "F1: 0.5\n",
      "BERT Score: 0.9163441061973572\n",
      "Embedding Similarity: 0.24093309044837952\n",
      "Hybrid Score: 0.7185449887998672\n",
      "--------------------------------------------------------------------------------\n",
      "[Processing question 52]:\n",
      "\n",
      "ROUGE-L: 0.3703703703703704\n",
      "BLEU: 8.562365224473284\n",
      "F1: 0.28571428571428575\n",
      "BERT Score: 0.8951056599617004\n",
      "Embedding Similarity: 0.1525234878063202\n",
      "Hybrid Score: 0.45459704418184604\n",
      "--------------------------------------------------------------------------------\n",
      "[Processing question 53]:\n",
      "\n",
      "ROUGE-L: 0.36363636363636365\n",
      "BLEU: 6.929454830889541\n",
      "F1: 0.25\n",
      "BERT Score: 0.8868263959884644\n",
      "Embedding Similarity: 0.130525141954422\n",
      "Hybrid Score: 0.4091708554976671\n",
      "--------------------------------------------------------------------------------\n",
      "[Processing question 54]:\n",
      "\n",
      "ROUGE-L: 0.5555555555555556\n",
      "BLEU: 20.164945583740657\n",
      "F1: 0.5\n",
      "BERT Score: 0.9199166297912598\n",
      "Embedding Similarity: 0.24390478432178497\n",
      "Hybrid Score: 0.7494986794604176\n",
      "--------------------------------------------------------------------------------\n",
      "[Processing question 55]:\n",
      "\n",
      "ROUGE-L: 0.4761904761904762\n",
      "BLEU: 16.59038701421971\n",
      "F1: 0.5\n",
      "BERT Score: 0.9173529148101807\n",
      "Embedding Similarity: 0.28172528743743896\n",
      "Hybrid Score: 0.6932608390219933\n",
      "--------------------------------------------------------------------------------\n",
      "[Processing question 56]:\n",
      "\n",
      "ROUGE-L: 0.5263157894736842\n",
      "BLEU: 17.747405280050266\n",
      "F1: 0.5\n",
      "BERT Score: 0.9147264957427979\n",
      "Embedding Similarity: 0.15031476318836212\n",
      "Hybrid Score: 0.6873478581342009\n",
      "--------------------------------------------------------------------------------\n",
      "[Processing question 57]:\n",
      "\n",
      "ROUGE-L: 0.5882352941176471\n",
      "BLEU: 20.612390921238415\n",
      "F1: 0.5714285714285715\n",
      "BERT Score: 0.9184763431549072\n",
      "Embedding Similarity: 0.27585506439208984\n",
      "Hybrid Score: 0.7917567242976501\n",
      "--------------------------------------------------------------------------------\n",
      "[Processing question 58]:\n",
      "\n",
      "ROUGE-L: 0.3125\n",
      "BLEU: 6.65422126355551\n",
      "F1: 0.23529411764705882\n",
      "BERT Score: 0.8820234537124634\n",
      "Embedding Similarity: 0.0861133486032486\n",
      "Hybrid Score: 0.3675843978742719\n",
      "--------------------------------------------------------------------------------\n",
      "[Processing question 59]:\n",
      "\n",
      "ROUGE-L: 0.4761904761904762\n",
      "BLEU: 14.323145079400492\n",
      "F1: 0.4\n",
      "BERT Score: 0.9030697345733643\n",
      "Embedding Similarity: 0.15997350215911865\n",
      "Hybrid Score: 0.5932085839857436\n",
      "--------------------------------------------------------------------------------\n",
      "[Processing question 60]:\n",
      "\n",
      "ROUGE-L: 0.5263157894736842\n",
      "BLEU: 17.747405280050266\n",
      "F1: 0.5\n",
      "BERT Score: 0.9124830961227417\n",
      "Embedding Similarity: 0.2552050054073334\n",
      "Hybrid Score: 0.7084782656890827\n",
      "--------------------------------------------------------------------------------\n",
      "[Processing question 61]:\n",
      "\n",
      "ROUGE-L: 0.5\n",
      "BLEU: 15.851165692617155\n",
      "F1: 0.4444444444444444\n",
      "BERT Score: 0.9121528267860413\n",
      "Embedding Similarity: 0.19194066524505615\n",
      "Hybrid Score: 0.6495282606949362\n",
      "--------------------------------------------------------------------------------\n",
      "[Processing question 62]:\n",
      "\n",
      "ROUGE-L: 0.5263157894736842\n",
      "BLEU: 17.747405280050266\n",
      "F1: 0.6666666666666666\n",
      "BERT Score: 0.9053229093551636\n",
      "Embedding Similarity: 0.27458667755126953\n",
      "Hybrid Score: 0.7528753444072571\n",
      "--------------------------------------------------------------------------------\n",
      "[Processing question 63]:\n",
      "\n",
      "ROUGE-L: 0.5\n",
      "BLEU: 16.59038701421971\n",
      "F1: 0.5\n",
      "BERT Score: 0.9207778573036194\n",
      "Embedding Similarity: 0.17613640427589417\n",
      "Hybrid Score: 0.6817739172902824\n",
      "--------------------------------------------------------------------------------\n",
      "[Processing question 64]:\n",
      "\n",
      "ROUGE-L: 0.31578947368421056\n",
      "BLEU: 5.30918756028263\n",
      "F1: 0.21052631578947367\n",
      "BERT Score: 0.8728082776069641\n",
      "Embedding Similarity: 0.13147541880607605\n",
      "Hybrid Score: 0.34590872190935623\n",
      "--------------------------------------------------------------------------------\n",
      "[Processing question 65]:\n",
      "\n",
      "ROUGE-L: 0.5263157894736842\n",
      "BLEU: 17.747405280050266\n",
      "F1: 0.4444444444444444\n",
      "BERT Score: 0.9070455431938171\n",
      "Embedding Similarity: 0.10558880865573883\n",
      "Hybrid Score: 0.649497150869104\n",
      "--------------------------------------------------------------------------------\n",
      "[Processing question 66]:\n",
      "\n",
      "ROUGE-L: 0.43478260869565216\n",
      "BLEU: 12.011055432195764\n",
      "F1: 0.4\n",
      "BERT Score: 0.903180718421936\n",
      "Embedding Similarity: 0.10939093679189682\n",
      "Hybrid Score: 0.5453399921254777\n",
      "--------------------------------------------------------------------------------\n",
      "[Processing question 67]:\n",
      "\n",
      "ROUGE-L: 0.5882352941176471\n",
      "BLEU: 20.612390921238415\n",
      "F1: 0.5714285714285715\n",
      "BERT Score: 0.9245409965515137\n",
      "Embedding Similarity: 0.15421241521835327\n",
      "Hybrid Score: 0.7721322308037474\n",
      "--------------------------------------------------------------------------------\n",
      "[Processing question 68]:\n",
      "\n",
      "ROUGE-L: 0.1176470588235294\n",
      "BLEU: 0.5534598536592592\n",
      "F1: 0.11049723756906078\n",
      "BERT Score: 0.8247495889663696\n",
      "Embedding Similarity: 0.8005528450012207\n",
      "Hybrid Score: 0.28981305122677886\n",
      "--------------------------------------------------------------------------------\n",
      "[Processing question 69]:\n",
      "\n",
      "ROUGE-L: 0.10666666666666667\n",
      "BLEU: 0.9338062133002352\n",
      "F1: 0.10212765957446808\n",
      "BERT Score: 0.8260068297386169\n",
      "Embedding Similarity: 0.7050034999847412\n",
      "Hybrid Score: 0.26683557400331476\n",
      "--------------------------------------------------------------------------------\n",
      "[Processing question 70]:\n",
      "\n",
      "ROUGE-L: 0.3846153846153846\n",
      "BLEU: 10.123734869668828\n",
      "F1: 0.3333333333333333\n",
      "BERT Score: 0.8933264017105103\n",
      "Embedding Similarity: 0.22957977652549744\n",
      "Hybrid Score: 0.504051701471219\n",
      "--------------------------------------------------------------------------------\n",
      "[Processing question 71]:\n",
      "\n",
      "ROUGE-L: 0.09677419354838708\n",
      "BLEU: 0.6590051608914277\n",
      "F1: 0.10526315789473685\n",
      "BERT Score: 0.8174471259117126\n",
      "Embedding Similarity: 0.45482924580574036\n",
      "Hybrid Score: 0.19175730736434263\n",
      "--------------------------------------------------------------------------------\n",
      "[Processing question 72]:\n",
      "\n",
      "ROUGE-L: 0.14545454545454545\n",
      "BLEU: 1.8681014522157204\n",
      "F1: 0.2058823529411765\n",
      "BERT Score: 0.868910014629364\n",
      "Embedding Similarity: 0.689599871635437\n",
      "Hybrid Score: 0.37707578675262243\n",
      "--------------------------------------------------------------------------------\n",
      "[Processing question 73]:\n",
      "\n",
      "ROUGE-L: 0.6250000000000001\n",
      "BLEU: 20.873176328735713\n",
      "F1: 0.6666666666666666\n",
      "BERT Score: 0.9092914462089539\n",
      "Embedding Similarity: 0.25285789370536804\n",
      "Hybrid Score: 0.8171246510058264\n",
      "--------------------------------------------------------------------------------\n",
      "[Processing question 74]:\n",
      "\n",
      "ROUGE-L: 0.4761904761904762\n",
      "BLEU: 14.323145079400492\n",
      "F1: 0.4\n",
      "BERT Score: 0.9005033373832703\n",
      "Embedding Similarity: 0.22609694302082062\n",
      "Hybrid Score: 0.6049054741260151\n",
      "--------------------------------------------------------------------------------\n",
      "[Processing question 75]:\n",
      "\n",
      "ROUGE-L: 0.43478260869565216\n",
      "BLEU: 12.011055432195764\n",
      "F1: 0.36363636363636365\n",
      "BERT Score: 0.8991183042526245\n",
      "Embedding Similarity: 0.2194177806377411\n",
      "Hybrid Score: 0.5541871900774903\n",
      "--------------------------------------------------------------------------------\n",
      "[Processing question 76]:\n",
      "\n",
      "ROUGE-L: 0.16058394160583941\n",
      "BLEU: 1.5612316487769855\n",
      "F1: 0.1741741741741742\n",
      "BERT Score: 0.8264997005462646\n",
      "Embedding Similarity: 0.7763140201568604\n",
      "Hybrid Score: 0.33010454647981446\n",
      "--------------------------------------------------------------------------------\n",
      "[Processing question 77]:\n",
      "\n",
      "ROUGE-L: 0.27272727272727276\n",
      "BLEU: 2.841621475546398\n",
      "F1: 0.3116883116883116\n",
      "BERT Score: 0.8655990958213806\n",
      "Embedding Similarity: 0.522942304611206\n",
      "Hybrid Score: 0.41839369245146457\n",
      "--------------------------------------------------------------------------------\n",
      "[Processing question 78]:\n",
      "\n",
      "ROUGE-L: 0.20512820512820512\n",
      "BLEU: 1.382212405645661\n",
      "F1: 0.1818181818181818\n",
      "BERT Score: 0.8679046034812927\n",
      "Embedding Similarity: 0.6014765501022339\n",
      "Hybrid Score: 0.3637759954096532\n",
      "--------------------------------------------------------------------------------\n",
      "[Processing question 79]:\n",
      "\n",
      "ROUGE-L: 0.42857142857142855\n",
      "BLEU: 9.313775329024091\n",
      "F1: 0.3333333333333333\n",
      "BERT Score: 0.888800323009491\n",
      "Embedding Similarity: 0.19629399478435516\n",
      "Hybrid Score: 0.497230627597926\n",
      "--------------------------------------------------------------------------------\n",
      "[Processing question 80]:\n",
      "\n",
      "ROUGE-L: 0.225\n",
      "BLEU: 6.233797721624643\n",
      "F1: 0.16326530612244897\n",
      "BERT Score: 0.8521062731742859\n",
      "Embedding Similarity: 0.6797006726264954\n",
      "Hybrid Score: 0.4073403509116639\n",
      "--------------------------------------------------------------------------------\n"
     ]
    }
   ],
   "source": [
    "# Print each result\n",
    "for index in range(len(data)):\n",
    "    data.at[index, \"RAG 1\"] = predicted_answers[index]\n",
    "    \n",
    "    print(f\"[Processing question {index + 1}]:\\n\")\n",
    "    print(f\"ROUGE-L: {rouge_scores[index]}\")\n",
    "    print(f\"BLEU: {bleu_scores[index]}\")\n",
    "    print(f\"F1: {f1_scores[index]}\")\n",
    "    print(f\"BERT Score: {bert_scores[index]}\")\n",
    "    print(f\"Embedding Similarity: {embedding_similarities[index]}\")\n",
    "    print(f\"Hybrid Score: {hybrid_scores[index]}\")\n",
    "    print(\"-\" * 80)\n",
    "\n",
    "# Save the DataFrame with predictions and hybrid scores to a new CSV file\n",
    "data.to_csv(\"../data/answers_rag1.csv\", index=False)"
   ]
  },
  {
   "cell_type": "code",
   "execution_count": 26,
   "metadata": {},
   "outputs": [
    {
     "name": "stdout",
     "output_type": "stream",
     "text": [
      "=== Evaluation Summary ===\n",
      "Average ROUGE-L: 0.2345\n",
      "Average BLEU: 5.47\n",
      "Average F1: 0.2430\n",
      "Average BERT Score: 0.8596\n",
      "Average Embedding Similarity: 0.5305\n",
      "Average Hybrid Score: 0.4032\n"
     ]
    }
   ],
   "source": [
    "# Save the evaluation metrics to a CSV file\n",
    "evaluation_metrics = {\n",
    "    \"ROUGE-L\": rouge_scores,\n",
    "    \"BLEU\": bleu_scores,\n",
    "    \"F1\": f1_scores,\n",
    "    \"BERT Score\": bert_scores,\n",
    "    \"Embedding Similarity\": embedding_similarities,\n",
    "    \"Hybrid Score\": hybrid_scores\n",
    "}\n",
    "evaluation_df = pd.DataFrame(evaluation_metrics)\n",
    "\n",
    "evaluation_df.to_csv(\"../data/rag1_evaluation_metrics.csv\", index=False)\n",
    "\n",
    "# Print evaluation summary\n",
    "print(\"=== Evaluation Summary ===\")\n",
    "print(f\"Average ROUGE-L: {sum(rouge_scores) / len(rouge_scores):.4f}\")\n",
    "print(f\"Average BLEU: {sum(bleu_scores) / len(bleu_scores):.2f}\")\n",
    "print(f\"Average F1: {sum(f1_scores) / len(f1_scores):.4f}\")\n",
    "print(f\"Average BERT Score: {sum(bert_scores) / len(bert_scores):.4f}\")\n",
    "print(f\"Average Embedding Similarity: {sum(embedding_similarities) / len(embedding_similarities):.4f}\")\n",
    "print(f\"Average Hybrid Score: {sum(hybrid_scores) / len(hybrid_scores):.4f}\")"
   ]
  }
 ],
 "metadata": {
  "kernelspec": {
   "display_name": "base",
   "language": "python",
   "name": "python3"
  },
  "language_info": {
   "codemirror_mode": {
    "name": "ipython",
    "version": 3
   },
   "file_extension": ".py",
   "mimetype": "text/x-python",
   "name": "python",
   "nbconvert_exporter": "python",
   "pygments_lexer": "ipython3",
   "version": "3.12.2"
  }
 },
 "nbformat": 4,
 "nbformat_minor": 2
}
