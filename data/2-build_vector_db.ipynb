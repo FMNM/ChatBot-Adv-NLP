{
 "cells": [
  {
   "cell_type": "code",
   "execution_count": 25,
   "metadata": {},
   "outputs": [],
   "source": [
    "import copy\n",
    "import nltk\n",
    "import os\n",
    "import re\n",
    "from pathlib import Path\n",
    "from langchain.vectorstores import FAISS\n",
    "from langchain_huggingface import HuggingFaceEmbeddings\n",
    "from langchain.document_loaders import DirectoryLoader, PyPDFLoader, CSVLoader\n",
    "from langchain.text_splitter import RecursiveCharacterTextSplitter\n",
    "from nltk.stem import WordNetLemmatizer\n",
    "from nltk.corpus import stopwords"
   ]
  },
  {
   "cell_type": "code",
   "execution_count": 2,
   "metadata": {},
   "outputs": [],
   "source": [
    "embedding_model='sentence-transformers/all-MiniLM-L6-v2'\n",
    "llm_model =\"llama3.2\"\n",
    "\n",
    "root_path=Path(os.getcwd())\n",
    "# pdf_path=root_path.joinpath('apra_standards\\pdf')\n",
    "word_path=root_path.joinpath('apra_standards\\word')\n",
    "db_path=root_path.joinpath('vectorstore\\db_faiss')\n",
    "\n",
    "Path(db_path).mkdir(parents=True, exist_ok=True)"
   ]
  },
  {
   "cell_type": "code",
   "execution_count": 5,
   "metadata": {},
   "outputs": [
    {
     "name": "stderr",
     "output_type": "stream",
     "text": [
      "[nltk_data] Downloading package punkt to\n",
      "[nltk_data]     C:\\Users\\crowl\\AppData\\Roaming\\nltk_data...\n",
      "[nltk_data]   Package punkt is already up-to-date!\n",
      "[nltk_data] Downloading package wordnet to\n",
      "[nltk_data]     C:\\Users\\crowl\\AppData\\Roaming\\nltk_data...\n",
      "[nltk_data]   Package wordnet is already up-to-date!\n",
      "[nltk_data] Downloading package stopwords to\n",
      "[nltk_data]     C:\\Users\\crowl\\AppData\\Roaming\\nltk_data...\n",
      "[nltk_data]   Package stopwords is already up-to-date!\n"
     ]
    }
   ],
   "source": [
    "# Download required NLTK resources\n",
    "nltk.download(\"punkt\")\n",
    "nltk.download(\"wordnet\")\n",
    "nltk.download(\"stopwords\")\n",
    "\n",
    "# Define the embedding model\n",
    "embeddings = HuggingFaceEmbeddings(model_name=embedding_model)"
   ]
  },
  {
   "cell_type": "code",
   "execution_count": 12,
   "metadata": {},
   "outputs": [],
   "source": [
    "# Initialize lemmatizer and stopwords\n",
    "lemmatizer = WordNetLemmatizer()\n",
    "stop_words = set(stopwords.words(\"english\"))"
   ]
  },
  {
   "cell_type": "code",
   "execution_count": 21,
   "metadata": {},
   "outputs": [],
   "source": [
    "# Define text preprocessing function with lemmatization\n",
    "def preprocess_text(text):\n",
    "    # 1. Strip whitespace\n",
    "    text = text.strip()\n",
    "\n",
    "    # 2. Replace No. with number, this is to fix issue with stopwords step\n",
    "    text = re.sub('/No/.','number')\n",
    "\n",
    "    # 3. Tokenize the text\n",
    "    tokens = nltk.word_tokenize(text)\n",
    "\n",
    "    # 4. Remove stopwords and apply lemmatization\n",
    "    lemmatized_tokens = [lemmatizer.lemmatize(token.lower()) for token in tokens if token.lower() not in stop_words]\n",
    "\n",
    "    # 5. Join the tokens back into a string\n",
    "    preprocessed_text = \" \".join(lemmatized_tokens)\n",
    "\n",
    "    return preprocessed_text\n",
    "\n",
    "# Function to preprocess the page_content of each document in a list of Document objects\n",
    "def preprocess_documents(documents):\n",
    "    for doc in documents:\n",
    "        # Apply the preprocessing to the page_content of each document\n",
    "        doc.page_content = preprocess_text(doc.page_content)\n",
    "    return documents"
   ]
  },
  {
   "cell_type": "code",
   "execution_count": null,
   "metadata": {},
   "outputs": [],
   "source": [
    "def prepare_and_split_docs(directory,apply_preprocessing=False):\n",
    "    # Load the documents\n",
    "    loaders = [\n",
    "        DirectoryLoader(directory, glob=\"**/*.pdf\", show_progress=True, loader_cls=PyPDFLoader),\n",
    "        DirectoryLoader(directory, glob=\"**/*.docx\", show_progress=True),\n",
    "        DirectoryLoader(directory, glob=\"**/*.csv\", loader_cls=CSVLoader)\n",
    "    ]\n",
    "\n",
    "    documents = []\n",
    "    for loader in loaders:\n",
    "        data = loader.load()\n",
    "        documents.extend(data)\n",
    "\n",
    "    if apply_preprocessing==True:\n",
    "        documents = preprocess_documents(documents)\n",
    "\n",
    "    # Initialize a text splitter\n",
    "    splitter = RecursiveCharacterTextSplitter.from_tiktoken_encoder(\n",
    "        chunk_size=512,  # Use the smaller chunk size here to avoid repeating splitting logic\n",
    "        chunk_overlap=256,\n",
    "        disallowed_special=(),\n",
    "        separators=[\"\\n\\n\", \"\\n\", \" \"]\n",
    "    )\n",
    "\n",
    "    # Split the documents and keep metadata\n",
    "    split_docs = splitter.split_documents(documents)\n",
    "\n",
    "    print(f\"Documents are split into {len(split_docs)} passages\")\n",
    "    return split_docs\n",
    "\n",
    "\n",
    "def ingest_into_vectordb(split_docs, db_path, force_rebuild=False):\n",
    "    \"\"\"\n",
    "    Ingest documents into the vector database, and rebuild it if it doesn't exist\n",
    "    or if force_rebuild is set to True.\n",
    "    \"\"\"\n",
    "    # Check if the FAISS database already exists\n",
    "    db_exists = os.path.exists(db_path)\n",
    "    \n",
    "    # Rebuild if force_rebuild is True or the database doesn't exist\n",
    "    if not db_exists or force_rebuild:\n",
    "        print(\"Building/rebuilding the vector database...\")\n",
    "        db = FAISS.from_documents(split_docs, embeddings)\n",
    "        db.save_local(db_path)\n",
    "        print(\"Documents are inserted into FAISS vectorstore.\")\n",
    "    else:\n",
    "        print(\"Vector database already exists, skipping rebuild.\")\n",
    "        db = FAISS.load_local(db_path, embeddings)\n",
    "    \n",
    "    return db\n"
   ]
  },
  {
   "cell_type": "code",
   "execution_count": null,
   "metadata": {},
   "outputs": [],
   "source": [
    "split_docs = prepare_and_split_docs(word_path)"
   ]
  },
  {
   "cell_type": "code",
   "execution_count": null,
   "metadata": {},
   "outputs": [],
   "source": [
    "# Set force_rebuild=True to rebuild or leave it as False to only build if the vector DB doesn't exist\n",
    "db = ingest_into_vectordb(split_docs, db_path, force_rebuild=False)"
   ]
  }
 ],
 "metadata": {
  "kernelspec": {
   "display_name": "chain",
   "language": "python",
   "name": "python3"
  },
  "language_info": {
   "codemirror_mode": {
    "name": "ipython",
    "version": 3
   },
   "file_extension": ".py",
   "mimetype": "text/x-python",
   "name": "python",
   "nbconvert_exporter": "python",
   "pygments_lexer": "ipython3",
   "version": "3.10.15"
  }
 },
 "nbformat": 4,
 "nbformat_minor": 2
}
