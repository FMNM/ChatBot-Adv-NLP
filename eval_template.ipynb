{
 "cells": [
  {
   "cell_type": "code",
   "execution_count": 1,
   "metadata": {},
   "outputs": [],
   "source": [
    "import os\n",
    "import nltk\n",
    "import logging\n",
    "from nltk.stem import WordNetLemmatizer\n",
    "from nltk.corpus import stopwords\n",
    "from langchain.vectorstores import FAISS\n",
    "from langchain.chains import RetrievalQA\n",
    "from langchain.llms.base import LLM\n",
    "from langchain.prompts import PromptTemplate\n",
    "from langchain.embeddings import HuggingFaceEmbeddings\n",
    "import google.generativeai as genai\n",
    "from google.oauth2 import service_account\n",
    "from pydantic import BaseModel, Field\n",
    "from rouge_score import rouge_scorer\n",
    "from collections import Counter\n",
    "import re\n",
    "import sacrebleu\n",
    "from collections import Counter\n",
    "from docx import Document as DocxDocument\n",
    "from tqdm.notebook import tqdm\n",
    "from langchain.docstore.document import Document as LangchainDocument\n",
    "from langchain.text_splitter import RecursiveCharacterTextSplitter\n",
    "import pandas as pd\n",
    "from bert_score import score\n",
    "from sentence_transformers import SentenceTransformer\n",
    "from sklearn.metrics.pairwise import cosine_similarity\n",
    "import numpy as np"
   ]
  },
  {
   "cell_type": "code",
   "execution_count": 2,
   "metadata": {},
   "outputs": [
    {
     "name": "stderr",
     "output_type": "stream",
     "text": [
      "[nltk_data] Downloading package punkt to\n",
      "[nltk_data]     C:\\Users\\farha\\AppData\\Roaming\\nltk_data...\n",
      "[nltk_data]   Package punkt is already up-to-date!\n",
      "[nltk_data] Downloading package wordnet to\n",
      "[nltk_data]     C:\\Users\\farha\\AppData\\Roaming\\nltk_data...\n",
      "[nltk_data]   Package wordnet is already up-to-date!\n",
      "[nltk_data] Downloading package stopwords to\n",
      "[nltk_data]     C:\\Users\\farha\\AppData\\Roaming\\nltk_data...\n",
      "[nltk_data]   Package stopwords is already up-to-date!\n"
     ]
    },
    {
     "data": {
      "text/plain": [
       "True"
      ]
     },
     "execution_count": 2,
     "metadata": {},
     "output_type": "execute_result"
    }
   ],
   "source": [
    "# Download required NLTK resources\n",
    "nltk.download(\"punkt\")\n",
    "nltk.download(\"wordnet\")\n",
    "nltk.download(\"stopwords\")"
   ]
  },
  {
   "cell_type": "code",
   "execution_count": 3,
   "metadata": {},
   "outputs": [],
   "source": [
    "# csv_path = \"data/answers_rag1.csv\"\n",
    "# csv_path = \"data/answers_rag2.csv\"\n",
    "csv_path = \"data/answers_rag3.csv\"\n",
    "\n",
    "rag_number = re.findall(r'\\d+', csv_path)[0]"
   ]
  },
  {
   "cell_type": "code",
   "execution_count": 4,
   "metadata": {},
   "outputs": [],
   "source": [
    "try:\n",
    "    # Load the CSV file with a specified encoding\n",
    "    data = pd.read_csv(csv_path, encoding=\"utf-8\")\n",
    "except UnicodeDecodeError:\n",
    "    # If utf-8 fails, try a different encoding\n",
    "    data = pd.read_csv(csv_path, encoding=\"ISO-8859-1\")"
   ]
  },
  {
   "cell_type": "code",
   "execution_count": 5,
   "metadata": {},
   "outputs": [],
   "source": [
    "# Initialize lemmatizer and stopwords\n",
    "lemmatizer = WordNetLemmatizer()\n",
    "stop_words = set(stopwords.words(\"english\")\n",
    "                 )\n",
    "# Define text preprocessing function with lemmatization\n",
    "def preprocess_text(text):\n",
    "    # 1. Strip whitespace\n",
    "    text = text.strip()\n",
    "\n",
    "    # 2. Remove special characters and numbers (optional, depending on requirements)\n",
    "    text = re.sub(r\"[^a-zA-Z\\s]\", \"\", text)\n",
    "\n",
    "    # 3. Tokenize the text\n",
    "    tokens = nltk.word_tokenize(text)\n",
    "\n",
    "    # 4. Remove stopwords and apply lemmatization\n",
    "    lemmatized_tokens = [lemmatizer.lemmatize(token.lower()) for token in tqdm(tokens, desc=\"Processing tokens\") if token.lower() not in stop_words]\n",
    "\n",
    "    # 5. Join the tokens back into a string\n",
    "    preprocessed_text = \" \".join(lemmatized_tokens)\n",
    "\n",
    "    return preprocessed_text\n",
    "\n",
    "def evaluate_rouge(predicted, reference):\n",
    "    if predicted is None:\n",
    "        predicted = \"\"\n",
    "    if reference is None:\n",
    "        reference = \"\"\n",
    "    scorer = rouge_scorer.RougeScorer([\"rouge1\", \"rougeL\"], use_stemmer=True)\n",
    "    return scorer.score(reference, predicted)\n",
    "\n",
    "\n",
    "def evaluate_bleu(predicted, reference):\n",
    "    if predicted is None:\n",
    "        predicted = \"\"\n",
    "    if reference is None:\n",
    "        reference = \"\"\n",
    "    bleu = sacrebleu.corpus_bleu([predicted], [[reference]])\n",
    "    return bleu.score\n",
    "\n",
    "\n",
    "def evaluate_f1(predicted, reference):\n",
    "    if predicted is None:\n",
    "        predicted = \"\"\n",
    "    if reference is None:\n",
    "        reference = \"\"\n",
    "    predicted_tokens = nltk.word_tokenize(preprocess_text(predicted))\n",
    "    reference_tokens = nltk.word_tokenize(preprocess_text(reference))\n",
    "    predicted_counts = Counter(predicted_tokens)\n",
    "    reference_counts = Counter(reference_tokens)\n",
    "\n",
    "    common_tokens = sum((predicted_counts & reference_counts).values())\n",
    "\n",
    "    precision = common_tokens / sum(predicted_counts.values()) if predicted_counts else 0\n",
    "    recall = common_tokens / sum(reference_counts.values()) if reference_counts else 0\n",
    "\n",
    "    if precision + recall == 0:\n",
    "        return 0.0\n",
    "    return 2 * (precision * recall) / (precision + recall)\n",
    "\n",
    "\n",
    "def evaluate_bert_score(predicted, reference):\n",
    "    if predicted is None:\n",
    "        predicted = \"\"\n",
    "    if reference is None:\n",
    "        reference = \"\"\n",
    "    P, R, F1 = score([predicted], [reference], lang=\"en\", verbose=False)\n",
    "    return F1.mean().item()\n",
    "\n",
    "\n",
    "# Initialize SentenceTransformer for embedding similarity\n",
    "sentence_model = SentenceTransformer(\"all-MiniLM-L6-v2\")\n",
    "\n",
    "def evaluate_embedding_similarity(predicted, reference):\n",
    "    if predicted is None:\n",
    "        predicted = \"\"\n",
    "    if reference is None:\n",
    "        reference = \"\"\n",
    "    predicted_embedding = sentence_model.encode(predicted)\n",
    "    reference_embedding = sentence_model.encode(reference)\n",
    "    similarity = cosine_similarity([predicted_embedding], [reference_embedding])[0][0]\n",
    "    return similarity"
   ]
  },
  {
   "cell_type": "code",
   "execution_count": 6,
   "metadata": {},
   "outputs": [],
   "source": [
    "# Initialize lists to hold metric scores\n",
    "rouge_scores, bleu_scores, f1_scores, bert_scores, embedding_similarities = [], [], [], [], []"
   ]
  },
  {
   "cell_type": "code",
   "execution_count": 7,
   "metadata": {},
   "outputs": [
    {
     "data": {
      "application/vnd.jupyter.widget-view+json": {
       "model_id": "7ec88efecf524082a13a61bf9da7a65a",
       "version_major": 2,
       "version_minor": 0
      },
      "text/plain": [
       "Processing questions:   0%|          | 0/80 [00:00<?, ?it/s]"
      ]
     },
     "metadata": {},
     "output_type": "display_data"
    },
    {
     "data": {
      "application/vnd.jupyter.widget-view+json": {
       "model_id": "aaf50f45039c45d9946d0ac3cbd9fc24",
       "version_major": 2,
       "version_minor": 0
      },
      "text/plain": [
       "Processing tokens:   0%|          | 0/39 [00:00<?, ?it/s]"
      ]
     },
     "metadata": {},
     "output_type": "display_data"
    },
    {
     "data": {
      "application/vnd.jupyter.widget-view+json": {
       "model_id": "7a4e1c7d6d7847e2a6f53c8789046206",
       "version_major": 2,
       "version_minor": 0
      },
      "text/plain": [
       "Processing tokens:   0%|          | 0/57 [00:00<?, ?it/s]"
      ]
     },
     "metadata": {},
     "output_type": "display_data"
    },
    {
     "name": "stderr",
     "output_type": "stream",
     "text": [
      "Some weights of RobertaModel were not initialized from the model checkpoint at roberta-large and are newly initialized: ['roberta.pooler.dense.bias', 'roberta.pooler.dense.weight']\n",
      "You should probably TRAIN this model on a down-stream task to be able to use it for predictions and inference.\n",
      "c:\\Users\\farha\\miniconda3\\Lib\\site-packages\\transformers\\models\\roberta\\modeling_roberta.py:370: UserWarning: 1Torch was not compiled with flash attention. (Triggered internally at C:\\cb\\pytorch_1000000000000\\work\\aten\\src\\ATen\\native\\transformers\\cuda\\sdp_utils.cpp:555.)\n",
      "  attn_output = torch.nn.functional.scaled_dot_product_attention(\n"
     ]
    },
    {
     "data": {
      "application/vnd.jupyter.widget-view+json": {
       "model_id": "20fd1828671d473fb1942060ff9d3800",
       "version_major": 2,
       "version_minor": 0
      },
      "text/plain": [
       "Processing tokens:   0%|          | 0/62 [00:00<?, ?it/s]"
      ]
     },
     "metadata": {},
     "output_type": "display_data"
    },
    {
     "data": {
      "application/vnd.jupyter.widget-view+json": {
       "model_id": "36d027cfbc2446b8b5ccd6c6b0e4a5d0",
       "version_major": 2,
       "version_minor": 0
      },
      "text/plain": [
       "Processing tokens:   0%|          | 0/156 [00:00<?, ?it/s]"
      ]
     },
     "metadata": {},
     "output_type": "display_data"
    },
    {
     "name": "stderr",
     "output_type": "stream",
     "text": [
      "Some weights of RobertaModel were not initialized from the model checkpoint at roberta-large and are newly initialized: ['roberta.pooler.dense.bias', 'roberta.pooler.dense.weight']\n",
      "You should probably TRAIN this model on a down-stream task to be able to use it for predictions and inference.\n"
     ]
    },
    {
     "data": {
      "application/vnd.jupyter.widget-view+json": {
       "model_id": "a082692930574f319a45a86936aad99c",
       "version_major": 2,
       "version_minor": 0
      },
      "text/plain": [
       "Processing tokens:   0%|          | 0/59 [00:00<?, ?it/s]"
      ]
     },
     "metadata": {},
     "output_type": "display_data"
    },
    {
     "data": {
      "application/vnd.jupyter.widget-view+json": {
       "model_id": "4c17eb1b132e46f094a99a1850b7820b",
       "version_major": 2,
       "version_minor": 0
      },
      "text/plain": [
       "Processing tokens:   0%|          | 0/43 [00:00<?, ?it/s]"
      ]
     },
     "metadata": {},
     "output_type": "display_data"
    },
    {
     "name": "stderr",
     "output_type": "stream",
     "text": [
      "Some weights of RobertaModel were not initialized from the model checkpoint at roberta-large and are newly initialized: ['roberta.pooler.dense.bias', 'roberta.pooler.dense.weight']\n",
      "You should probably TRAIN this model on a down-stream task to be able to use it for predictions and inference.\n"
     ]
    },
    {
     "data": {
      "application/vnd.jupyter.widget-view+json": {
       "model_id": "a757d96577ae4bdaa2fd1a59759590f2",
       "version_major": 2,
       "version_minor": 0
      },
      "text/plain": [
       "Processing tokens:   0%|          | 0/8 [00:00<?, ?it/s]"
      ]
     },
     "metadata": {},
     "output_type": "display_data"
    },
    {
     "data": {
      "application/vnd.jupyter.widget-view+json": {
       "model_id": "130f71a3ebe442f69f99daf7febbc616",
       "version_major": 2,
       "version_minor": 0
      },
      "text/plain": [
       "Processing tokens:   0%|          | 0/45 [00:00<?, ?it/s]"
      ]
     },
     "metadata": {},
     "output_type": "display_data"
    },
    {
     "name": "stderr",
     "output_type": "stream",
     "text": [
      "Some weights of RobertaModel were not initialized from the model checkpoint at roberta-large and are newly initialized: ['roberta.pooler.dense.bias', 'roberta.pooler.dense.weight']\n",
      "You should probably TRAIN this model on a down-stream task to be able to use it for predictions and inference.\n"
     ]
    },
    {
     "data": {
      "application/vnd.jupyter.widget-view+json": {
       "model_id": "89878c7144624339bde62e10267688d4",
       "version_major": 2,
       "version_minor": 0
      },
      "text/plain": [
       "Processing tokens:   0%|          | 0/67 [00:00<?, ?it/s]"
      ]
     },
     "metadata": {},
     "output_type": "display_data"
    },
    {
     "data": {
      "application/vnd.jupyter.widget-view+json": {
       "model_id": "39f255ff4d1a4f3f9bd773d0908e1c79",
       "version_major": 2,
       "version_minor": 0
      },
      "text/plain": [
       "Processing tokens:   0%|          | 0/119 [00:00<?, ?it/s]"
      ]
     },
     "metadata": {},
     "output_type": "display_data"
    },
    {
     "name": "stderr",
     "output_type": "stream",
     "text": [
      "Some weights of RobertaModel were not initialized from the model checkpoint at roberta-large and are newly initialized: ['roberta.pooler.dense.bias', 'roberta.pooler.dense.weight']\n",
      "You should probably TRAIN this model on a down-stream task to be able to use it for predictions and inference.\n"
     ]
    },
    {
     "data": {
      "application/vnd.jupyter.widget-view+json": {
       "model_id": "f6ffe3dc39a543e488629c95e51fc33e",
       "version_major": 2,
       "version_minor": 0
      },
      "text/plain": [
       "Processing tokens:   0%|          | 0/80 [00:00<?, ?it/s]"
      ]
     },
     "metadata": {},
     "output_type": "display_data"
    },
    {
     "data": {
      "application/vnd.jupyter.widget-view+json": {
       "model_id": "6ef559f5d073477ba25881dc055c6991",
       "version_major": 2,
       "version_minor": 0
      },
      "text/plain": [
       "Processing tokens:   0%|          | 0/47 [00:00<?, ?it/s]"
      ]
     },
     "metadata": {},
     "output_type": "display_data"
    },
    {
     "name": "stderr",
     "output_type": "stream",
     "text": [
      "Some weights of RobertaModel were not initialized from the model checkpoint at roberta-large and are newly initialized: ['roberta.pooler.dense.bias', 'roberta.pooler.dense.weight']\n",
      "You should probably TRAIN this model on a down-stream task to be able to use it for predictions and inference.\n"
     ]
    },
    {
     "data": {
      "application/vnd.jupyter.widget-view+json": {
       "model_id": "a6b6a37f14fd49f3b069f6e42650b988",
       "version_major": 2,
       "version_minor": 0
      },
      "text/plain": [
       "Processing tokens:   0%|          | 0/60 [00:00<?, ?it/s]"
      ]
     },
     "metadata": {},
     "output_type": "display_data"
    },
    {
     "data": {
      "application/vnd.jupyter.widget-view+json": {
       "model_id": "2f924f3205954505a6ec451395aa4363",
       "version_major": 2,
       "version_minor": 0
      },
      "text/plain": [
       "Processing tokens:   0%|          | 0/214 [00:00<?, ?it/s]"
      ]
     },
     "metadata": {},
     "output_type": "display_data"
    },
    {
     "name": "stderr",
     "output_type": "stream",
     "text": [
      "Some weights of RobertaModel were not initialized from the model checkpoint at roberta-large and are newly initialized: ['roberta.pooler.dense.bias', 'roberta.pooler.dense.weight']\n",
      "You should probably TRAIN this model on a down-stream task to be able to use it for predictions and inference.\n"
     ]
    },
    {
     "data": {
      "application/vnd.jupyter.widget-view+json": {
       "model_id": "80170e365fb842db97fb9a54b110bdd5",
       "version_major": 2,
       "version_minor": 0
      },
      "text/plain": [
       "Processing tokens:   0%|          | 0/8 [00:00<?, ?it/s]"
      ]
     },
     "metadata": {},
     "output_type": "display_data"
    },
    {
     "data": {
      "application/vnd.jupyter.widget-view+json": {
       "model_id": "0a67147cc08e4321a475a0b177e5d679",
       "version_major": 2,
       "version_minor": 0
      },
      "text/plain": [
       "Processing tokens:   0%|          | 0/276 [00:00<?, ?it/s]"
      ]
     },
     "metadata": {},
     "output_type": "display_data"
    },
    {
     "name": "stderr",
     "output_type": "stream",
     "text": [
      "Some weights of RobertaModel were not initialized from the model checkpoint at roberta-large and are newly initialized: ['roberta.pooler.dense.bias', 'roberta.pooler.dense.weight']\n",
      "You should probably TRAIN this model on a down-stream task to be able to use it for predictions and inference.\n"
     ]
    },
    {
     "data": {
      "application/vnd.jupyter.widget-view+json": {
       "model_id": "6ba4b37e396940aead78ad701386c23d",
       "version_major": 2,
       "version_minor": 0
      },
      "text/plain": [
       "Processing tokens:   0%|          | 0/88 [00:00<?, ?it/s]"
      ]
     },
     "metadata": {},
     "output_type": "display_data"
    },
    {
     "data": {
      "application/vnd.jupyter.widget-view+json": {
       "model_id": "27694f6e86f5486091bef40e26d10cf4",
       "version_major": 2,
       "version_minor": 0
      },
      "text/plain": [
       "Processing tokens:   0%|          | 0/27 [00:00<?, ?it/s]"
      ]
     },
     "metadata": {},
     "output_type": "display_data"
    },
    {
     "name": "stderr",
     "output_type": "stream",
     "text": [
      "Some weights of RobertaModel were not initialized from the model checkpoint at roberta-large and are newly initialized: ['roberta.pooler.dense.bias', 'roberta.pooler.dense.weight']\n",
      "You should probably TRAIN this model on a down-stream task to be able to use it for predictions and inference.\n"
     ]
    },
    {
     "data": {
      "application/vnd.jupyter.widget-view+json": {
       "model_id": "d92ac5b33b554bc08a13bce25addd0c4",
       "version_major": 2,
       "version_minor": 0
      },
      "text/plain": [
       "Processing tokens:   0%|          | 0/8 [00:00<?, ?it/s]"
      ]
     },
     "metadata": {},
     "output_type": "display_data"
    },
    {
     "data": {
      "application/vnd.jupyter.widget-view+json": {
       "model_id": "94cda8ddcb28414bb292b5bc275588f7",
       "version_major": 2,
       "version_minor": 0
      },
      "text/plain": [
       "Processing tokens:   0%|          | 0/80 [00:00<?, ?it/s]"
      ]
     },
     "metadata": {},
     "output_type": "display_data"
    },
    {
     "name": "stderr",
     "output_type": "stream",
     "text": [
      "Some weights of RobertaModel were not initialized from the model checkpoint at roberta-large and are newly initialized: ['roberta.pooler.dense.bias', 'roberta.pooler.dense.weight']\n",
      "You should probably TRAIN this model on a down-stream task to be able to use it for predictions and inference.\n"
     ]
    },
    {
     "data": {
      "application/vnd.jupyter.widget-view+json": {
       "model_id": "aa7963f3cfed4498b3575da008e39fb0",
       "version_major": 2,
       "version_minor": 0
      },
      "text/plain": [
       "Processing tokens:   0%|          | 0/77 [00:00<?, ?it/s]"
      ]
     },
     "metadata": {},
     "output_type": "display_data"
    },
    {
     "data": {
      "application/vnd.jupyter.widget-view+json": {
       "model_id": "295037cb57554f14ae633bf84b354fb7",
       "version_major": 2,
       "version_minor": 0
      },
      "text/plain": [
       "Processing tokens:   0%|          | 0/327 [00:00<?, ?it/s]"
      ]
     },
     "metadata": {},
     "output_type": "display_data"
    },
    {
     "name": "stderr",
     "output_type": "stream",
     "text": [
      "Some weights of RobertaModel were not initialized from the model checkpoint at roberta-large and are newly initialized: ['roberta.pooler.dense.bias', 'roberta.pooler.dense.weight']\n",
      "You should probably TRAIN this model on a down-stream task to be able to use it for predictions and inference.\n"
     ]
    },
    {
     "data": {
      "application/vnd.jupyter.widget-view+json": {
       "model_id": "a044f5038204442e9bb5aa7245489189",
       "version_major": 2,
       "version_minor": 0
      },
      "text/plain": [
       "Processing tokens:   0%|          | 0/88 [00:00<?, ?it/s]"
      ]
     },
     "metadata": {},
     "output_type": "display_data"
    },
    {
     "data": {
      "application/vnd.jupyter.widget-view+json": {
       "model_id": "1facc5711882401a90f53f6e1ae30799",
       "version_major": 2,
       "version_minor": 0
      },
      "text/plain": [
       "Processing tokens:   0%|          | 0/42 [00:00<?, ?it/s]"
      ]
     },
     "metadata": {},
     "output_type": "display_data"
    },
    {
     "name": "stderr",
     "output_type": "stream",
     "text": [
      "Some weights of RobertaModel were not initialized from the model checkpoint at roberta-large and are newly initialized: ['roberta.pooler.dense.bias', 'roberta.pooler.dense.weight']\n",
      "You should probably TRAIN this model on a down-stream task to be able to use it for predictions and inference.\n"
     ]
    },
    {
     "data": {
      "application/vnd.jupyter.widget-view+json": {
       "model_id": "b98f970980914c449e5f712af5da4247",
       "version_major": 2,
       "version_minor": 0
      },
      "text/plain": [
       "Processing tokens:   0%|          | 0/23 [00:00<?, ?it/s]"
      ]
     },
     "metadata": {},
     "output_type": "display_data"
    },
    {
     "data": {
      "application/vnd.jupyter.widget-view+json": {
       "model_id": "8b873602331f44d6a31840096d707eba",
       "version_major": 2,
       "version_minor": 0
      },
      "text/plain": [
       "Processing tokens:   0%|          | 0/426 [00:00<?, ?it/s]"
      ]
     },
     "metadata": {},
     "output_type": "display_data"
    },
    {
     "name": "stderr",
     "output_type": "stream",
     "text": [
      "Some weights of RobertaModel were not initialized from the model checkpoint at roberta-large and are newly initialized: ['roberta.pooler.dense.bias', 'roberta.pooler.dense.weight']\n",
      "You should probably TRAIN this model on a down-stream task to be able to use it for predictions and inference.\n"
     ]
    },
    {
     "data": {
      "application/vnd.jupyter.widget-view+json": {
       "model_id": "047362711d5a4969a62dd7575790e385",
       "version_major": 2,
       "version_minor": 0
      },
      "text/plain": [
       "Processing tokens:   0%|          | 0/73 [00:00<?, ?it/s]"
      ]
     },
     "metadata": {},
     "output_type": "display_data"
    },
    {
     "data": {
      "application/vnd.jupyter.widget-view+json": {
       "model_id": "3fe5227ef0fa4af89fb399b49cc16b99",
       "version_major": 2,
       "version_minor": 0
      },
      "text/plain": [
       "Processing tokens:   0%|          | 0/43 [00:00<?, ?it/s]"
      ]
     },
     "metadata": {},
     "output_type": "display_data"
    },
    {
     "name": "stderr",
     "output_type": "stream",
     "text": [
      "Some weights of RobertaModel were not initialized from the model checkpoint at roberta-large and are newly initialized: ['roberta.pooler.dense.bias', 'roberta.pooler.dense.weight']\n",
      "You should probably TRAIN this model on a down-stream task to be able to use it for predictions and inference.\n"
     ]
    },
    {
     "data": {
      "application/vnd.jupyter.widget-view+json": {
       "model_id": "a6c5ac9823f74b369577b52ad56acf9f",
       "version_major": 2,
       "version_minor": 0
      },
      "text/plain": [
       "Processing tokens:   0%|          | 0/83 [00:00<?, ?it/s]"
      ]
     },
     "metadata": {},
     "output_type": "display_data"
    },
    {
     "data": {
      "application/vnd.jupyter.widget-view+json": {
       "model_id": "bcbf1330d6d44fb18fd8759bd28ee642",
       "version_major": 2,
       "version_minor": 0
      },
      "text/plain": [
       "Processing tokens:   0%|          | 0/22 [00:00<?, ?it/s]"
      ]
     },
     "metadata": {},
     "output_type": "display_data"
    },
    {
     "name": "stderr",
     "output_type": "stream",
     "text": [
      "Some weights of RobertaModel were not initialized from the model checkpoint at roberta-large and are newly initialized: ['roberta.pooler.dense.bias', 'roberta.pooler.dense.weight']\n",
      "You should probably TRAIN this model on a down-stream task to be able to use it for predictions and inference.\n"
     ]
    },
    {
     "data": {
      "application/vnd.jupyter.widget-view+json": {
       "model_id": "f5f355ccb31f441791d331be3a6f59ce",
       "version_major": 2,
       "version_minor": 0
      },
      "text/plain": [
       "Processing tokens:   0%|          | 0/8 [00:00<?, ?it/s]"
      ]
     },
     "metadata": {},
     "output_type": "display_data"
    },
    {
     "data": {
      "application/vnd.jupyter.widget-view+json": {
       "model_id": "cd4ec583cbb048d28e514d10bdbd359c",
       "version_major": 2,
       "version_minor": 0
      },
      "text/plain": [
       "Processing tokens:   0%|          | 0/33 [00:00<?, ?it/s]"
      ]
     },
     "metadata": {},
     "output_type": "display_data"
    },
    {
     "name": "stderr",
     "output_type": "stream",
     "text": [
      "Some weights of RobertaModel were not initialized from the model checkpoint at roberta-large and are newly initialized: ['roberta.pooler.dense.bias', 'roberta.pooler.dense.weight']\n",
      "You should probably TRAIN this model on a down-stream task to be able to use it for predictions and inference.\n"
     ]
    },
    {
     "data": {
      "application/vnd.jupyter.widget-view+json": {
       "model_id": "78aa761abd6e4b7084e776a81c15c110",
       "version_major": 2,
       "version_minor": 0
      },
      "text/plain": [
       "Processing tokens:   0%|          | 0/85 [00:00<?, ?it/s]"
      ]
     },
     "metadata": {},
     "output_type": "display_data"
    },
    {
     "data": {
      "application/vnd.jupyter.widget-view+json": {
       "model_id": "2c2ee143acfb4aec8f014be8d09c40ca",
       "version_major": 2,
       "version_minor": 0
      },
      "text/plain": [
       "Processing tokens:   0%|          | 0/34 [00:00<?, ?it/s]"
      ]
     },
     "metadata": {},
     "output_type": "display_data"
    },
    {
     "name": "stderr",
     "output_type": "stream",
     "text": [
      "Some weights of RobertaModel were not initialized from the model checkpoint at roberta-large and are newly initialized: ['roberta.pooler.dense.bias', 'roberta.pooler.dense.weight']\n",
      "You should probably TRAIN this model on a down-stream task to be able to use it for predictions and inference.\n"
     ]
    },
    {
     "data": {
      "application/vnd.jupyter.widget-view+json": {
       "model_id": "46fd7c8efd6c47d990f4c4055f8f81b7",
       "version_major": 2,
       "version_minor": 0
      },
      "text/plain": [
       "Processing tokens:   0%|          | 0/8 [00:00<?, ?it/s]"
      ]
     },
     "metadata": {},
     "output_type": "display_data"
    },
    {
     "data": {
      "application/vnd.jupyter.widget-view+json": {
       "model_id": "832c7987cd714f03aebea669b599ae4e",
       "version_major": 2,
       "version_minor": 0
      },
      "text/plain": [
       "Processing tokens:   0%|          | 0/78 [00:00<?, ?it/s]"
      ]
     },
     "metadata": {},
     "output_type": "display_data"
    },
    {
     "name": "stderr",
     "output_type": "stream",
     "text": [
      "Some weights of RobertaModel were not initialized from the model checkpoint at roberta-large and are newly initialized: ['roberta.pooler.dense.bias', 'roberta.pooler.dense.weight']\n",
      "You should probably TRAIN this model on a down-stream task to be able to use it for predictions and inference.\n"
     ]
    },
    {
     "data": {
      "application/vnd.jupyter.widget-view+json": {
       "model_id": "7acefed8415c465f8af3c7c5c9b89cf7",
       "version_major": 2,
       "version_minor": 0
      },
      "text/plain": [
       "Processing tokens:   0%|          | 0/41 [00:00<?, ?it/s]"
      ]
     },
     "metadata": {},
     "output_type": "display_data"
    },
    {
     "data": {
      "application/vnd.jupyter.widget-view+json": {
       "model_id": "00c376c4761c48d6a3356431c477a2c2",
       "version_major": 2,
       "version_minor": 0
      },
      "text/plain": [
       "Processing tokens:   0%|          | 0/38 [00:00<?, ?it/s]"
      ]
     },
     "metadata": {},
     "output_type": "display_data"
    },
    {
     "name": "stderr",
     "output_type": "stream",
     "text": [
      "Some weights of RobertaModel were not initialized from the model checkpoint at roberta-large and are newly initialized: ['roberta.pooler.dense.bias', 'roberta.pooler.dense.weight']\n",
      "You should probably TRAIN this model on a down-stream task to be able to use it for predictions and inference.\n"
     ]
    },
    {
     "data": {
      "application/vnd.jupyter.widget-view+json": {
       "model_id": "a3fa778695554dd5b599544ec28917f8",
       "version_major": 2,
       "version_minor": 0
      },
      "text/plain": [
       "Processing tokens:   0%|          | 0/29 [00:00<?, ?it/s]"
      ]
     },
     "metadata": {},
     "output_type": "display_data"
    },
    {
     "data": {
      "application/vnd.jupyter.widget-view+json": {
       "model_id": "3cc339785db14f08af5b757373a9201a",
       "version_major": 2,
       "version_minor": 0
      },
      "text/plain": [
       "Processing tokens:   0%|          | 0/47 [00:00<?, ?it/s]"
      ]
     },
     "metadata": {},
     "output_type": "display_data"
    },
    {
     "name": "stderr",
     "output_type": "stream",
     "text": [
      "Some weights of RobertaModel were not initialized from the model checkpoint at roberta-large and are newly initialized: ['roberta.pooler.dense.bias', 'roberta.pooler.dense.weight']\n",
      "You should probably TRAIN this model on a down-stream task to be able to use it for predictions and inference.\n"
     ]
    },
    {
     "data": {
      "application/vnd.jupyter.widget-view+json": {
       "model_id": "fc026c6b54324bd7a409e44ea1aae6cd",
       "version_major": 2,
       "version_minor": 0
      },
      "text/plain": [
       "Processing tokens:   0%|          | 0/8 [00:00<?, ?it/s]"
      ]
     },
     "metadata": {},
     "output_type": "display_data"
    },
    {
     "data": {
      "application/vnd.jupyter.widget-view+json": {
       "model_id": "807bdb9e5234417a93635aaffd809aa9",
       "version_major": 2,
       "version_minor": 0
      },
      "text/plain": [
       "Processing tokens:   0%|          | 0/43 [00:00<?, ?it/s]"
      ]
     },
     "metadata": {},
     "output_type": "display_data"
    },
    {
     "name": "stderr",
     "output_type": "stream",
     "text": [
      "Some weights of RobertaModel were not initialized from the model checkpoint at roberta-large and are newly initialized: ['roberta.pooler.dense.bias', 'roberta.pooler.dense.weight']\n",
      "You should probably TRAIN this model on a down-stream task to be able to use it for predictions and inference.\n"
     ]
    },
    {
     "data": {
      "application/vnd.jupyter.widget-view+json": {
       "model_id": "bb01d801154f4094a90d8f9ada908a7f",
       "version_major": 2,
       "version_minor": 0
      },
      "text/plain": [
       "Processing tokens:   0%|          | 0/57 [00:00<?, ?it/s]"
      ]
     },
     "metadata": {},
     "output_type": "display_data"
    },
    {
     "data": {
      "application/vnd.jupyter.widget-view+json": {
       "model_id": "e5f05198255e4a14a3052fd108b8b686",
       "version_major": 2,
       "version_minor": 0
      },
      "text/plain": [
       "Processing tokens:   0%|          | 0/29 [00:00<?, ?it/s]"
      ]
     },
     "metadata": {},
     "output_type": "display_data"
    },
    {
     "name": "stderr",
     "output_type": "stream",
     "text": [
      "Some weights of RobertaModel were not initialized from the model checkpoint at roberta-large and are newly initialized: ['roberta.pooler.dense.bias', 'roberta.pooler.dense.weight']\n",
      "You should probably TRAIN this model on a down-stream task to be able to use it for predictions and inference.\n"
     ]
    },
    {
     "data": {
      "application/vnd.jupyter.widget-view+json": {
       "model_id": "78210b2b17ec4248964b5db9ac760106",
       "version_major": 2,
       "version_minor": 0
      },
      "text/plain": [
       "Processing tokens:   0%|          | 0/8 [00:00<?, ?it/s]"
      ]
     },
     "metadata": {},
     "output_type": "display_data"
    },
    {
     "data": {
      "application/vnd.jupyter.widget-view+json": {
       "model_id": "2d7589a3435e4ebea2105dba91faa155",
       "version_major": 2,
       "version_minor": 0
      },
      "text/plain": [
       "Processing tokens:   0%|          | 0/35 [00:00<?, ?it/s]"
      ]
     },
     "metadata": {},
     "output_type": "display_data"
    },
    {
     "name": "stderr",
     "output_type": "stream",
     "text": [
      "Some weights of RobertaModel were not initialized from the model checkpoint at roberta-large and are newly initialized: ['roberta.pooler.dense.bias', 'roberta.pooler.dense.weight']\n",
      "You should probably TRAIN this model on a down-stream task to be able to use it for predictions and inference.\n"
     ]
    },
    {
     "data": {
      "application/vnd.jupyter.widget-view+json": {
       "model_id": "fddd75ecd6bf434b8b047f276352cb58",
       "version_major": 2,
       "version_minor": 0
      },
      "text/plain": [
       "Processing tokens:   0%|          | 0/51 [00:00<?, ?it/s]"
      ]
     },
     "metadata": {},
     "output_type": "display_data"
    },
    {
     "data": {
      "application/vnd.jupyter.widget-view+json": {
       "model_id": "8da0fcb7ffc248c3a73c70cd19b4fcb9",
       "version_major": 2,
       "version_minor": 0
      },
      "text/plain": [
       "Processing tokens:   0%|          | 0/21 [00:00<?, ?it/s]"
      ]
     },
     "metadata": {},
     "output_type": "display_data"
    },
    {
     "name": "stderr",
     "output_type": "stream",
     "text": [
      "Some weights of RobertaModel were not initialized from the model checkpoint at roberta-large and are newly initialized: ['roberta.pooler.dense.bias', 'roberta.pooler.dense.weight']\n",
      "You should probably TRAIN this model on a down-stream task to be able to use it for predictions and inference.\n"
     ]
    },
    {
     "data": {
      "application/vnd.jupyter.widget-view+json": {
       "model_id": "4c0f972d68504c50969aecffc486639c",
       "version_major": 2,
       "version_minor": 0
      },
      "text/plain": [
       "Processing tokens:   0%|          | 0/75 [00:00<?, ?it/s]"
      ]
     },
     "metadata": {},
     "output_type": "display_data"
    },
    {
     "data": {
      "application/vnd.jupyter.widget-view+json": {
       "model_id": "52cf3bcfc68847a49f91208f0a190f17",
       "version_major": 2,
       "version_minor": 0
      },
      "text/plain": [
       "Processing tokens:   0%|          | 0/48 [00:00<?, ?it/s]"
      ]
     },
     "metadata": {},
     "output_type": "display_data"
    },
    {
     "name": "stderr",
     "output_type": "stream",
     "text": [
      "Some weights of RobertaModel were not initialized from the model checkpoint at roberta-large and are newly initialized: ['roberta.pooler.dense.bias', 'roberta.pooler.dense.weight']\n",
      "You should probably TRAIN this model on a down-stream task to be able to use it for predictions and inference.\n"
     ]
    },
    {
     "data": {
      "application/vnd.jupyter.widget-view+json": {
       "model_id": "914d3afabc144c7fa40b076282016a80",
       "version_major": 2,
       "version_minor": 0
      },
      "text/plain": [
       "Processing tokens:   0%|          | 0/84 [00:00<?, ?it/s]"
      ]
     },
     "metadata": {},
     "output_type": "display_data"
    },
    {
     "data": {
      "application/vnd.jupyter.widget-view+json": {
       "model_id": "1d8ce0292c6e43b79f2b8d066a238013",
       "version_major": 2,
       "version_minor": 0
      },
      "text/plain": [
       "Processing tokens:   0%|          | 0/34 [00:00<?, ?it/s]"
      ]
     },
     "metadata": {},
     "output_type": "display_data"
    },
    {
     "name": "stderr",
     "output_type": "stream",
     "text": [
      "Some weights of RobertaModel were not initialized from the model checkpoint at roberta-large and are newly initialized: ['roberta.pooler.dense.bias', 'roberta.pooler.dense.weight']\n",
      "You should probably TRAIN this model on a down-stream task to be able to use it for predictions and inference.\n"
     ]
    },
    {
     "data": {
      "application/vnd.jupyter.widget-view+json": {
       "model_id": "8093bf39ac314cf18df1709fb9331e8e",
       "version_major": 2,
       "version_minor": 0
      },
      "text/plain": [
       "Processing tokens:   0%|          | 0/84 [00:00<?, ?it/s]"
      ]
     },
     "metadata": {},
     "output_type": "display_data"
    },
    {
     "data": {
      "application/vnd.jupyter.widget-view+json": {
       "model_id": "065099679873434ea18e17c725005a00",
       "version_major": 2,
       "version_minor": 0
      },
      "text/plain": [
       "Processing tokens:   0%|          | 0/44 [00:00<?, ?it/s]"
      ]
     },
     "metadata": {},
     "output_type": "display_data"
    },
    {
     "name": "stderr",
     "output_type": "stream",
     "text": [
      "Some weights of RobertaModel were not initialized from the model checkpoint at roberta-large and are newly initialized: ['roberta.pooler.dense.bias', 'roberta.pooler.dense.weight']\n",
      "You should probably TRAIN this model on a down-stream task to be able to use it for predictions and inference.\n"
     ]
    },
    {
     "data": {
      "application/vnd.jupyter.widget-view+json": {
       "model_id": "a27e3f72f4e64925976a2bd50d4f3ba9",
       "version_major": 2,
       "version_minor": 0
      },
      "text/plain": [
       "Processing tokens:   0%|          | 0/129 [00:00<?, ?it/s]"
      ]
     },
     "metadata": {},
     "output_type": "display_data"
    },
    {
     "data": {
      "application/vnd.jupyter.widget-view+json": {
       "model_id": "2b8045b9606941edae859309a95e8eaf",
       "version_major": 2,
       "version_minor": 0
      },
      "text/plain": [
       "Processing tokens:   0%|          | 0/28 [00:00<?, ?it/s]"
      ]
     },
     "metadata": {},
     "output_type": "display_data"
    },
    {
     "name": "stderr",
     "output_type": "stream",
     "text": [
      "Some weights of RobertaModel were not initialized from the model checkpoint at roberta-large and are newly initialized: ['roberta.pooler.dense.bias', 'roberta.pooler.dense.weight']\n",
      "You should probably TRAIN this model on a down-stream task to be able to use it for predictions and inference.\n"
     ]
    },
    {
     "data": {
      "application/vnd.jupyter.widget-view+json": {
       "model_id": "256a420ea90546bfa33326ccfbdb020e",
       "version_major": 2,
       "version_minor": 0
      },
      "text/plain": [
       "Processing tokens:   0%|          | 0/56 [00:00<?, ?it/s]"
      ]
     },
     "metadata": {},
     "output_type": "display_data"
    },
    {
     "data": {
      "application/vnd.jupyter.widget-view+json": {
       "model_id": "6974bff5dd2149a1bc2ef9b94b38db42",
       "version_major": 2,
       "version_minor": 0
      },
      "text/plain": [
       "Processing tokens:   0%|          | 0/39 [00:00<?, ?it/s]"
      ]
     },
     "metadata": {},
     "output_type": "display_data"
    },
    {
     "name": "stderr",
     "output_type": "stream",
     "text": [
      "Some weights of RobertaModel were not initialized from the model checkpoint at roberta-large and are newly initialized: ['roberta.pooler.dense.bias', 'roberta.pooler.dense.weight']\n",
      "You should probably TRAIN this model on a down-stream task to be able to use it for predictions and inference.\n"
     ]
    },
    {
     "data": {
      "application/vnd.jupyter.widget-view+json": {
       "model_id": "7b93e6086bc044ca867525d17de4b97f",
       "version_major": 2,
       "version_minor": 0
      },
      "text/plain": [
       "Processing tokens:   0%|          | 0/8 [00:00<?, ?it/s]"
      ]
     },
     "metadata": {},
     "output_type": "display_data"
    },
    {
     "data": {
      "application/vnd.jupyter.widget-view+json": {
       "model_id": "5c5bb6e5acfb4726a860667eac861df4",
       "version_major": 2,
       "version_minor": 0
      },
      "text/plain": [
       "Processing tokens:   0%|          | 0/43 [00:00<?, ?it/s]"
      ]
     },
     "metadata": {},
     "output_type": "display_data"
    },
    {
     "name": "stderr",
     "output_type": "stream",
     "text": [
      "Some weights of RobertaModel were not initialized from the model checkpoint at roberta-large and are newly initialized: ['roberta.pooler.dense.bias', 'roberta.pooler.dense.weight']\n",
      "You should probably TRAIN this model on a down-stream task to be able to use it for predictions and inference.\n"
     ]
    },
    {
     "data": {
      "application/vnd.jupyter.widget-view+json": {
       "model_id": "f76ac0f8f60b4b8c97ada7ba13af170a",
       "version_major": 2,
       "version_minor": 0
      },
      "text/plain": [
       "Processing tokens:   0%|          | 0/8 [00:00<?, ?it/s]"
      ]
     },
     "metadata": {},
     "output_type": "display_data"
    },
    {
     "data": {
      "application/vnd.jupyter.widget-view+json": {
       "model_id": "d47c180b191b47aa9f38a5bbd49ef447",
       "version_major": 2,
       "version_minor": 0
      },
      "text/plain": [
       "Processing tokens:   0%|          | 0/41 [00:00<?, ?it/s]"
      ]
     },
     "metadata": {},
     "output_type": "display_data"
    },
    {
     "name": "stderr",
     "output_type": "stream",
     "text": [
      "Some weights of RobertaModel were not initialized from the model checkpoint at roberta-large and are newly initialized: ['roberta.pooler.dense.bias', 'roberta.pooler.dense.weight']\n",
      "You should probably TRAIN this model on a down-stream task to be able to use it for predictions and inference.\n"
     ]
    },
    {
     "data": {
      "application/vnd.jupyter.widget-view+json": {
       "model_id": "6b9b67bdad1e41c78596504a9b07f26d",
       "version_major": 2,
       "version_minor": 0
      },
      "text/plain": [
       "Processing tokens:   0%|          | 0/69 [00:00<?, ?it/s]"
      ]
     },
     "metadata": {},
     "output_type": "display_data"
    },
    {
     "data": {
      "application/vnd.jupyter.widget-view+json": {
       "model_id": "70e2c19f8e404a94b54eb332d70253db",
       "version_major": 2,
       "version_minor": 0
      },
      "text/plain": [
       "Processing tokens:   0%|          | 0/40 [00:00<?, ?it/s]"
      ]
     },
     "metadata": {},
     "output_type": "display_data"
    },
    {
     "name": "stderr",
     "output_type": "stream",
     "text": [
      "Some weights of RobertaModel were not initialized from the model checkpoint at roberta-large and are newly initialized: ['roberta.pooler.dense.bias', 'roberta.pooler.dense.weight']\n",
      "You should probably TRAIN this model on a down-stream task to be able to use it for predictions and inference.\n"
     ]
    },
    {
     "data": {
      "application/vnd.jupyter.widget-view+json": {
       "model_id": "cda4800f6321433295200af55dd446cc",
       "version_major": 2,
       "version_minor": 0
      },
      "text/plain": [
       "Processing tokens:   0%|          | 0/66 [00:00<?, ?it/s]"
      ]
     },
     "metadata": {},
     "output_type": "display_data"
    },
    {
     "data": {
      "application/vnd.jupyter.widget-view+json": {
       "model_id": "bfd5cae9bce2446f80fbfc4a7b291ba7",
       "version_major": 2,
       "version_minor": 0
      },
      "text/plain": [
       "Processing tokens:   0%|          | 0/35 [00:00<?, ?it/s]"
      ]
     },
     "metadata": {},
     "output_type": "display_data"
    },
    {
     "name": "stderr",
     "output_type": "stream",
     "text": [
      "Some weights of RobertaModel were not initialized from the model checkpoint at roberta-large and are newly initialized: ['roberta.pooler.dense.bias', 'roberta.pooler.dense.weight']\n",
      "You should probably TRAIN this model on a down-stream task to be able to use it for predictions and inference.\n"
     ]
    },
    {
     "data": {
      "application/vnd.jupyter.widget-view+json": {
       "model_id": "2ecbca272dcc4699a08a480a43b09621",
       "version_major": 2,
       "version_minor": 0
      },
      "text/plain": [
       "Processing tokens:   0%|          | 0/48 [00:00<?, ?it/s]"
      ]
     },
     "metadata": {},
     "output_type": "display_data"
    },
    {
     "data": {
      "application/vnd.jupyter.widget-view+json": {
       "model_id": "1545d279387a47649b1ebcee25a24c6b",
       "version_major": 2,
       "version_minor": 0
      },
      "text/plain": [
       "Processing tokens:   0%|          | 0/37 [00:00<?, ?it/s]"
      ]
     },
     "metadata": {},
     "output_type": "display_data"
    },
    {
     "name": "stderr",
     "output_type": "stream",
     "text": [
      "Some weights of RobertaModel were not initialized from the model checkpoint at roberta-large and are newly initialized: ['roberta.pooler.dense.bias', 'roberta.pooler.dense.weight']\n",
      "You should probably TRAIN this model on a down-stream task to be able to use it for predictions and inference.\n"
     ]
    },
    {
     "data": {
      "application/vnd.jupyter.widget-view+json": {
       "model_id": "e2446f46fce44c83a7e3099cfee44529",
       "version_major": 2,
       "version_minor": 0
      },
      "text/plain": [
       "Processing tokens:   0%|          | 0/8 [00:00<?, ?it/s]"
      ]
     },
     "metadata": {},
     "output_type": "display_data"
    },
    {
     "data": {
      "application/vnd.jupyter.widget-view+json": {
       "model_id": "3ccab5aa80ad48d29ba8a6a704ffbcb4",
       "version_major": 2,
       "version_minor": 0
      },
      "text/plain": [
       "Processing tokens:   0%|          | 0/86 [00:00<?, ?it/s]"
      ]
     },
     "metadata": {},
     "output_type": "display_data"
    },
    {
     "name": "stderr",
     "output_type": "stream",
     "text": [
      "Some weights of RobertaModel were not initialized from the model checkpoint at roberta-large and are newly initialized: ['roberta.pooler.dense.bias', 'roberta.pooler.dense.weight']\n",
      "You should probably TRAIN this model on a down-stream task to be able to use it for predictions and inference.\n"
     ]
    },
    {
     "data": {
      "application/vnd.jupyter.widget-view+json": {
       "model_id": "f038f4bd8b00443cb802eef041b06a1a",
       "version_major": 2,
       "version_minor": 0
      },
      "text/plain": [
       "Processing tokens:   0%|          | 0/8 [00:00<?, ?it/s]"
      ]
     },
     "metadata": {},
     "output_type": "display_data"
    },
    {
     "data": {
      "application/vnd.jupyter.widget-view+json": {
       "model_id": "52b5348528c349f5b3d4deed06f4281d",
       "version_major": 2,
       "version_minor": 0
      },
      "text/plain": [
       "Processing tokens:   0%|          | 0/39 [00:00<?, ?it/s]"
      ]
     },
     "metadata": {},
     "output_type": "display_data"
    },
    {
     "name": "stderr",
     "output_type": "stream",
     "text": [
      "Some weights of RobertaModel were not initialized from the model checkpoint at roberta-large and are newly initialized: ['roberta.pooler.dense.bias', 'roberta.pooler.dense.weight']\n",
      "You should probably TRAIN this model on a down-stream task to be able to use it for predictions and inference.\n"
     ]
    },
    {
     "data": {
      "application/vnd.jupyter.widget-view+json": {
       "model_id": "ca140fa5b0de40a8b2973accce24d3a6",
       "version_major": 2,
       "version_minor": 0
      },
      "text/plain": [
       "Processing tokens:   0%|          | 0/67 [00:00<?, ?it/s]"
      ]
     },
     "metadata": {},
     "output_type": "display_data"
    },
    {
     "data": {
      "application/vnd.jupyter.widget-view+json": {
       "model_id": "40465eb5bb6d49b0a748cda7e618ccc0",
       "version_major": 2,
       "version_minor": 0
      },
      "text/plain": [
       "Processing tokens:   0%|          | 0/227 [00:00<?, ?it/s]"
      ]
     },
     "metadata": {},
     "output_type": "display_data"
    },
    {
     "name": "stderr",
     "output_type": "stream",
     "text": [
      "Some weights of RobertaModel were not initialized from the model checkpoint at roberta-large and are newly initialized: ['roberta.pooler.dense.bias', 'roberta.pooler.dense.weight']\n",
      "You should probably TRAIN this model on a down-stream task to be able to use it for predictions and inference.\n"
     ]
    },
    {
     "data": {
      "application/vnd.jupyter.widget-view+json": {
       "model_id": "018d150ee8d44281b29b5a2571daf1ce",
       "version_major": 2,
       "version_minor": 0
      },
      "text/plain": [
       "Processing tokens:   0%|          | 0/8 [00:00<?, ?it/s]"
      ]
     },
     "metadata": {},
     "output_type": "display_data"
    },
    {
     "data": {
      "application/vnd.jupyter.widget-view+json": {
       "model_id": "676b647f6da14bc68a657e1ee270b129",
       "version_major": 2,
       "version_minor": 0
      },
      "text/plain": [
       "Processing tokens:   0%|          | 0/491 [00:00<?, ?it/s]"
      ]
     },
     "metadata": {},
     "output_type": "display_data"
    },
    {
     "name": "stderr",
     "output_type": "stream",
     "text": [
      "Some weights of RobertaModel were not initialized from the model checkpoint at roberta-large and are newly initialized: ['roberta.pooler.dense.bias', 'roberta.pooler.dense.weight']\n",
      "You should probably TRAIN this model on a down-stream task to be able to use it for predictions and inference.\n"
     ]
    },
    {
     "data": {
      "application/vnd.jupyter.widget-view+json": {
       "model_id": "33f969619d934d4ca1790ef530dece1a",
       "version_major": 2,
       "version_minor": 0
      },
      "text/plain": [
       "Processing tokens:   0%|          | 0/81 [00:00<?, ?it/s]"
      ]
     },
     "metadata": {},
     "output_type": "display_data"
    },
    {
     "data": {
      "application/vnd.jupyter.widget-view+json": {
       "model_id": "bb461738103246459215ff841cef1aa2",
       "version_major": 2,
       "version_minor": 0
      },
      "text/plain": [
       "Processing tokens:   0%|          | 0/133 [00:00<?, ?it/s]"
      ]
     },
     "metadata": {},
     "output_type": "display_data"
    },
    {
     "name": "stderr",
     "output_type": "stream",
     "text": [
      "Some weights of RobertaModel were not initialized from the model checkpoint at roberta-large and are newly initialized: ['roberta.pooler.dense.bias', 'roberta.pooler.dense.weight']\n",
      "You should probably TRAIN this model on a down-stream task to be able to use it for predictions and inference.\n"
     ]
    },
    {
     "data": {
      "application/vnd.jupyter.widget-view+json": {
       "model_id": "88d0e1d41dc34d92b38e1cfed6c0a79d",
       "version_major": 2,
       "version_minor": 0
      },
      "text/plain": [
       "Processing tokens:   0%|          | 0/8 [00:00<?, ?it/s]"
      ]
     },
     "metadata": {},
     "output_type": "display_data"
    },
    {
     "data": {
      "application/vnd.jupyter.widget-view+json": {
       "model_id": "d605d0cd370f4a398dcc275aaa369610",
       "version_major": 2,
       "version_minor": 0
      },
      "text/plain": [
       "Processing tokens:   0%|          | 0/74 [00:00<?, ?it/s]"
      ]
     },
     "metadata": {},
     "output_type": "display_data"
    },
    {
     "name": "stderr",
     "output_type": "stream",
     "text": [
      "Some weights of RobertaModel were not initialized from the model checkpoint at roberta-large and are newly initialized: ['roberta.pooler.dense.bias', 'roberta.pooler.dense.weight']\n",
      "You should probably TRAIN this model on a down-stream task to be able to use it for predictions and inference.\n"
     ]
    },
    {
     "data": {
      "application/vnd.jupyter.widget-view+json": {
       "model_id": "093197cf3b7c497ea7d4bdf8429d85ae",
       "version_major": 2,
       "version_minor": 0
      },
      "text/plain": [
       "Processing tokens:   0%|          | 0/37 [00:00<?, ?it/s]"
      ]
     },
     "metadata": {},
     "output_type": "display_data"
    },
    {
     "data": {
      "application/vnd.jupyter.widget-view+json": {
       "model_id": "e78ffdff811f44a2bd9452aec4f141f1",
       "version_major": 2,
       "version_minor": 0
      },
      "text/plain": [
       "Processing tokens:   0%|          | 0/45 [00:00<?, ?it/s]"
      ]
     },
     "metadata": {},
     "output_type": "display_data"
    },
    {
     "name": "stderr",
     "output_type": "stream",
     "text": [
      "Some weights of RobertaModel were not initialized from the model checkpoint at roberta-large and are newly initialized: ['roberta.pooler.dense.bias', 'roberta.pooler.dense.weight']\n",
      "You should probably TRAIN this model on a down-stream task to be able to use it for predictions and inference.\n"
     ]
    },
    {
     "data": {
      "application/vnd.jupyter.widget-view+json": {
       "model_id": "49cc725df43e4192bbb5f0f2dbd8a2e0",
       "version_major": 2,
       "version_minor": 0
      },
      "text/plain": [
       "Processing tokens:   0%|          | 0/35 [00:00<?, ?it/s]"
      ]
     },
     "metadata": {},
     "output_type": "display_data"
    },
    {
     "data": {
      "application/vnd.jupyter.widget-view+json": {
       "model_id": "7075c3712c5c4074b8d88ff8ef637301",
       "version_major": 2,
       "version_minor": 0
      },
      "text/plain": [
       "Processing tokens:   0%|          | 0/62 [00:00<?, ?it/s]"
      ]
     },
     "metadata": {},
     "output_type": "display_data"
    },
    {
     "name": "stderr",
     "output_type": "stream",
     "text": [
      "Some weights of RobertaModel were not initialized from the model checkpoint at roberta-large and are newly initialized: ['roberta.pooler.dense.bias', 'roberta.pooler.dense.weight']\n",
      "You should probably TRAIN this model on a down-stream task to be able to use it for predictions and inference.\n"
     ]
    },
    {
     "data": {
      "application/vnd.jupyter.widget-view+json": {
       "model_id": "9005ca8bd00b40d39a86211a97892d62",
       "version_major": 2,
       "version_minor": 0
      },
      "text/plain": [
       "Processing tokens:   0%|          | 0/8 [00:00<?, ?it/s]"
      ]
     },
     "metadata": {},
     "output_type": "display_data"
    },
    {
     "data": {
      "application/vnd.jupyter.widget-view+json": {
       "model_id": "e8c1c657b8bd4a53917dca6800f36375",
       "version_major": 2,
       "version_minor": 0
      },
      "text/plain": [
       "Processing tokens:   0%|          | 0/174 [00:00<?, ?it/s]"
      ]
     },
     "metadata": {},
     "output_type": "display_data"
    },
    {
     "name": "stderr",
     "output_type": "stream",
     "text": [
      "Some weights of RobertaModel were not initialized from the model checkpoint at roberta-large and are newly initialized: ['roberta.pooler.dense.bias', 'roberta.pooler.dense.weight']\n",
      "You should probably TRAIN this model on a down-stream task to be able to use it for predictions and inference.\n"
     ]
    },
    {
     "data": {
      "application/vnd.jupyter.widget-view+json": {
       "model_id": "f1d6a785b8e3468bae010abc6667c575",
       "version_major": 2,
       "version_minor": 0
      },
      "text/plain": [
       "Processing tokens:   0%|          | 0/8 [00:00<?, ?it/s]"
      ]
     },
     "metadata": {},
     "output_type": "display_data"
    },
    {
     "data": {
      "application/vnd.jupyter.widget-view+json": {
       "model_id": "801726167a9c4cdeb0485ba502d8195b",
       "version_major": 2,
       "version_minor": 0
      },
      "text/plain": [
       "Processing tokens:   0%|          | 0/99 [00:00<?, ?it/s]"
      ]
     },
     "metadata": {},
     "output_type": "display_data"
    },
    {
     "name": "stderr",
     "output_type": "stream",
     "text": [
      "Some weights of RobertaModel were not initialized from the model checkpoint at roberta-large and are newly initialized: ['roberta.pooler.dense.bias', 'roberta.pooler.dense.weight']\n",
      "You should probably TRAIN this model on a down-stream task to be able to use it for predictions and inference.\n"
     ]
    },
    {
     "data": {
      "application/vnd.jupyter.widget-view+json": {
       "model_id": "9e4dbb75eca2472f929e9196d9381c7f",
       "version_major": 2,
       "version_minor": 0
      },
      "text/plain": [
       "Processing tokens:   0%|          | 0/16 [00:00<?, ?it/s]"
      ]
     },
     "metadata": {},
     "output_type": "display_data"
    },
    {
     "data": {
      "application/vnd.jupyter.widget-view+json": {
       "model_id": "94079399a84c42948ffe7a1a34ae541b",
       "version_major": 2,
       "version_minor": 0
      },
      "text/plain": [
       "Processing tokens:   0%|          | 0/144 [00:00<?, ?it/s]"
      ]
     },
     "metadata": {},
     "output_type": "display_data"
    },
    {
     "name": "stderr",
     "output_type": "stream",
     "text": [
      "Some weights of RobertaModel were not initialized from the model checkpoint at roberta-large and are newly initialized: ['roberta.pooler.dense.bias', 'roberta.pooler.dense.weight']\n",
      "You should probably TRAIN this model on a down-stream task to be able to use it for predictions and inference.\n"
     ]
    },
    {
     "data": {
      "application/vnd.jupyter.widget-view+json": {
       "model_id": "97b984479ae047859bc494c17dc34401",
       "version_major": 2,
       "version_minor": 0
      },
      "text/plain": [
       "Processing tokens:   0%|          | 0/8 [00:00<?, ?it/s]"
      ]
     },
     "metadata": {},
     "output_type": "display_data"
    },
    {
     "data": {
      "application/vnd.jupyter.widget-view+json": {
       "model_id": "14dc726d968a4f98bbf262355d38b8ea",
       "version_major": 2,
       "version_minor": 0
      },
      "text/plain": [
       "Processing tokens:   0%|          | 0/246 [00:00<?, ?it/s]"
      ]
     },
     "metadata": {},
     "output_type": "display_data"
    },
    {
     "name": "stderr",
     "output_type": "stream",
     "text": [
      "Some weights of RobertaModel were not initialized from the model checkpoint at roberta-large and are newly initialized: ['roberta.pooler.dense.bias', 'roberta.pooler.dense.weight']\n",
      "You should probably TRAIN this model on a down-stream task to be able to use it for predictions and inference.\n"
     ]
    },
    {
     "data": {
      "application/vnd.jupyter.widget-view+json": {
       "model_id": "c69083f7582545dca3200893e48d99a6",
       "version_major": 2,
       "version_minor": 0
      },
      "text/plain": [
       "Processing tokens:   0%|          | 0/57 [00:00<?, ?it/s]"
      ]
     },
     "metadata": {},
     "output_type": "display_data"
    },
    {
     "data": {
      "application/vnd.jupyter.widget-view+json": {
       "model_id": "fa7c6aef93df4b278d627b8fce8faa27",
       "version_major": 2,
       "version_minor": 0
      },
      "text/plain": [
       "Processing tokens:   0%|          | 0/80 [00:00<?, ?it/s]"
      ]
     },
     "metadata": {},
     "output_type": "display_data"
    },
    {
     "name": "stderr",
     "output_type": "stream",
     "text": [
      "Some weights of RobertaModel were not initialized from the model checkpoint at roberta-large and are newly initialized: ['roberta.pooler.dense.bias', 'roberta.pooler.dense.weight']\n",
      "You should probably TRAIN this model on a down-stream task to be able to use it for predictions and inference.\n"
     ]
    },
    {
     "data": {
      "application/vnd.jupyter.widget-view+json": {
       "model_id": "ddbc6a6fb8a449668ef9e3af96834f6a",
       "version_major": 2,
       "version_minor": 0
      },
      "text/plain": [
       "Processing tokens:   0%|          | 0/66 [00:00<?, ?it/s]"
      ]
     },
     "metadata": {},
     "output_type": "display_data"
    },
    {
     "data": {
      "application/vnd.jupyter.widget-view+json": {
       "model_id": "5a9162a265a8489eabedede489e9fd7c",
       "version_major": 2,
       "version_minor": 0
      },
      "text/plain": [
       "Processing tokens:   0%|          | 0/54 [00:00<?, ?it/s]"
      ]
     },
     "metadata": {},
     "output_type": "display_data"
    },
    {
     "name": "stderr",
     "output_type": "stream",
     "text": [
      "Some weights of RobertaModel were not initialized from the model checkpoint at roberta-large and are newly initialized: ['roberta.pooler.dense.bias', 'roberta.pooler.dense.weight']\n",
      "You should probably TRAIN this model on a down-stream task to be able to use it for predictions and inference.\n"
     ]
    },
    {
     "data": {
      "application/vnd.jupyter.widget-view+json": {
       "model_id": "c0f0e2169f194c0e844330769c43fc7d",
       "version_major": 2,
       "version_minor": 0
      },
      "text/plain": [
       "Processing tokens:   0%|          | 0/62 [00:00<?, ?it/s]"
      ]
     },
     "metadata": {},
     "output_type": "display_data"
    },
    {
     "data": {
      "application/vnd.jupyter.widget-view+json": {
       "model_id": "db849e910b1d48f8b558e9c37c30c2b3",
       "version_major": 2,
       "version_minor": 0
      },
      "text/plain": [
       "Processing tokens:   0%|          | 0/40 [00:00<?, ?it/s]"
      ]
     },
     "metadata": {},
     "output_type": "display_data"
    },
    {
     "name": "stderr",
     "output_type": "stream",
     "text": [
      "Some weights of RobertaModel were not initialized from the model checkpoint at roberta-large and are newly initialized: ['roberta.pooler.dense.bias', 'roberta.pooler.dense.weight']\n",
      "You should probably TRAIN this model on a down-stream task to be able to use it for predictions and inference.\n"
     ]
    },
    {
     "data": {
      "application/vnd.jupyter.widget-view+json": {
       "model_id": "24c348a62adf44619af6406966e905bb",
       "version_major": 2,
       "version_minor": 0
      },
      "text/plain": [
       "Processing tokens:   0%|          | 0/57 [00:00<?, ?it/s]"
      ]
     },
     "metadata": {},
     "output_type": "display_data"
    },
    {
     "data": {
      "application/vnd.jupyter.widget-view+json": {
       "model_id": "3ca76cf03a3142f881c93e7d42f4038c",
       "version_major": 2,
       "version_minor": 0
      },
      "text/plain": [
       "Processing tokens:   0%|          | 0/37 [00:00<?, ?it/s]"
      ]
     },
     "metadata": {},
     "output_type": "display_data"
    },
    {
     "name": "stderr",
     "output_type": "stream",
     "text": [
      "Some weights of RobertaModel were not initialized from the model checkpoint at roberta-large and are newly initialized: ['roberta.pooler.dense.bias', 'roberta.pooler.dense.weight']\n",
      "You should probably TRAIN this model on a down-stream task to be able to use it for predictions and inference.\n"
     ]
    },
    {
     "data": {
      "application/vnd.jupyter.widget-view+json": {
       "model_id": "d6a3aba00c554181a81e87977192166d",
       "version_major": 2,
       "version_minor": 0
      },
      "text/plain": [
       "Processing tokens:   0%|          | 0/8 [00:00<?, ?it/s]"
      ]
     },
     "metadata": {},
     "output_type": "display_data"
    },
    {
     "data": {
      "application/vnd.jupyter.widget-view+json": {
       "model_id": "53384ca6c3ff43a3ad5a2cf2b8d176f3",
       "version_major": 2,
       "version_minor": 0
      },
      "text/plain": [
       "Processing tokens:   0%|          | 0/8 [00:00<?, ?it/s]"
      ]
     },
     "metadata": {},
     "output_type": "display_data"
    },
    {
     "name": "stderr",
     "output_type": "stream",
     "text": [
      "Some weights of RobertaModel were not initialized from the model checkpoint at roberta-large and are newly initialized: ['roberta.pooler.dense.bias', 'roberta.pooler.dense.weight']\n",
      "You should probably TRAIN this model on a down-stream task to be able to use it for predictions and inference.\n"
     ]
    },
    {
     "data": {
      "application/vnd.jupyter.widget-view+json": {
       "model_id": "f895f0ed76f8417da80986d925d6f079",
       "version_major": 2,
       "version_minor": 0
      },
      "text/plain": [
       "Processing tokens:   0%|          | 0/8 [00:00<?, ?it/s]"
      ]
     },
     "metadata": {},
     "output_type": "display_data"
    },
    {
     "data": {
      "application/vnd.jupyter.widget-view+json": {
       "model_id": "318bf9bd811945bb9f06625e5fe05e26",
       "version_major": 2,
       "version_minor": 0
      },
      "text/plain": [
       "Processing tokens:   0%|          | 0/8 [00:00<?, ?it/s]"
      ]
     },
     "metadata": {},
     "output_type": "display_data"
    },
    {
     "name": "stderr",
     "output_type": "stream",
     "text": [
      "Some weights of RobertaModel were not initialized from the model checkpoint at roberta-large and are newly initialized: ['roberta.pooler.dense.bias', 'roberta.pooler.dense.weight']\n",
      "You should probably TRAIN this model on a down-stream task to be able to use it for predictions and inference.\n"
     ]
    },
    {
     "data": {
      "application/vnd.jupyter.widget-view+json": {
       "model_id": "11dfd145c3924f9e8e6b737d40d6bec2",
       "version_major": 2,
       "version_minor": 0
      },
      "text/plain": [
       "Processing tokens:   0%|          | 0/8 [00:00<?, ?it/s]"
      ]
     },
     "metadata": {},
     "output_type": "display_data"
    },
    {
     "data": {
      "application/vnd.jupyter.widget-view+json": {
       "model_id": "d9cf5b73da614317b3cdbb01c52811f5",
       "version_major": 2,
       "version_minor": 0
      },
      "text/plain": [
       "Processing tokens:   0%|          | 0/8 [00:00<?, ?it/s]"
      ]
     },
     "metadata": {},
     "output_type": "display_data"
    },
    {
     "name": "stderr",
     "output_type": "stream",
     "text": [
      "Some weights of RobertaModel were not initialized from the model checkpoint at roberta-large and are newly initialized: ['roberta.pooler.dense.bias', 'roberta.pooler.dense.weight']\n",
      "You should probably TRAIN this model on a down-stream task to be able to use it for predictions and inference.\n"
     ]
    },
    {
     "data": {
      "application/vnd.jupyter.widget-view+json": {
       "model_id": "e3bddac771b24abd9c97161decd36617",
       "version_major": 2,
       "version_minor": 0
      },
      "text/plain": [
       "Processing tokens:   0%|          | 0/55 [00:00<?, ?it/s]"
      ]
     },
     "metadata": {},
     "output_type": "display_data"
    },
    {
     "data": {
      "application/vnd.jupyter.widget-view+json": {
       "model_id": "40a1c97517ba449ca18f2c96ae0d05a1",
       "version_major": 2,
       "version_minor": 0
      },
      "text/plain": [
       "Processing tokens:   0%|          | 0/8 [00:00<?, ?it/s]"
      ]
     },
     "metadata": {},
     "output_type": "display_data"
    },
    {
     "name": "stderr",
     "output_type": "stream",
     "text": [
      "Some weights of RobertaModel were not initialized from the model checkpoint at roberta-large and are newly initialized: ['roberta.pooler.dense.bias', 'roberta.pooler.dense.weight']\n",
      "You should probably TRAIN this model on a down-stream task to be able to use it for predictions and inference.\n"
     ]
    },
    {
     "data": {
      "application/vnd.jupyter.widget-view+json": {
       "model_id": "ba5499038ac249e499b784a5d6d9070c",
       "version_major": 2,
       "version_minor": 0
      },
      "text/plain": [
       "Processing tokens:   0%|          | 0/8 [00:00<?, ?it/s]"
      ]
     },
     "metadata": {},
     "output_type": "display_data"
    },
    {
     "data": {
      "application/vnd.jupyter.widget-view+json": {
       "model_id": "e25ad1cc7f7044afb8664bc4a7ff25ba",
       "version_major": 2,
       "version_minor": 0
      },
      "text/plain": [
       "Processing tokens:   0%|          | 0/8 [00:00<?, ?it/s]"
      ]
     },
     "metadata": {},
     "output_type": "display_data"
    },
    {
     "name": "stderr",
     "output_type": "stream",
     "text": [
      "Some weights of RobertaModel were not initialized from the model checkpoint at roberta-large and are newly initialized: ['roberta.pooler.dense.bias', 'roberta.pooler.dense.weight']\n",
      "You should probably TRAIN this model on a down-stream task to be able to use it for predictions and inference.\n"
     ]
    },
    {
     "data": {
      "application/vnd.jupyter.widget-view+json": {
       "model_id": "dd0e78077aec4a65bc0ba68f59fe5b9e",
       "version_major": 2,
       "version_minor": 0
      },
      "text/plain": [
       "Processing tokens:   0%|          | 0/8 [00:00<?, ?it/s]"
      ]
     },
     "metadata": {},
     "output_type": "display_data"
    },
    {
     "data": {
      "application/vnd.jupyter.widget-view+json": {
       "model_id": "560346a2290e469ba5763dbe622d53f3",
       "version_major": 2,
       "version_minor": 0
      },
      "text/plain": [
       "Processing tokens:   0%|          | 0/8 [00:00<?, ?it/s]"
      ]
     },
     "metadata": {},
     "output_type": "display_data"
    },
    {
     "name": "stderr",
     "output_type": "stream",
     "text": [
      "Some weights of RobertaModel were not initialized from the model checkpoint at roberta-large and are newly initialized: ['roberta.pooler.dense.bias', 'roberta.pooler.dense.weight']\n",
      "You should probably TRAIN this model on a down-stream task to be able to use it for predictions and inference.\n"
     ]
    },
    {
     "data": {
      "application/vnd.jupyter.widget-view+json": {
       "model_id": "3b3ef20dbf4d4313bd7bf3fcb05ae9f7",
       "version_major": 2,
       "version_minor": 0
      },
      "text/plain": [
       "Processing tokens:   0%|          | 0/8 [00:00<?, ?it/s]"
      ]
     },
     "metadata": {},
     "output_type": "display_data"
    },
    {
     "data": {
      "application/vnd.jupyter.widget-view+json": {
       "model_id": "6c44a54855274161963f9c1efdb3a2ad",
       "version_major": 2,
       "version_minor": 0
      },
      "text/plain": [
       "Processing tokens:   0%|          | 0/8 [00:00<?, ?it/s]"
      ]
     },
     "metadata": {},
     "output_type": "display_data"
    },
    {
     "name": "stderr",
     "output_type": "stream",
     "text": [
      "Some weights of RobertaModel were not initialized from the model checkpoint at roberta-large and are newly initialized: ['roberta.pooler.dense.bias', 'roberta.pooler.dense.weight']\n",
      "You should probably TRAIN this model on a down-stream task to be able to use it for predictions and inference.\n"
     ]
    },
    {
     "data": {
      "application/vnd.jupyter.widget-view+json": {
       "model_id": "a672fa62aa69403bb661a55633467295",
       "version_major": 2,
       "version_minor": 0
      },
      "text/plain": [
       "Processing tokens:   0%|          | 0/8 [00:00<?, ?it/s]"
      ]
     },
     "metadata": {},
     "output_type": "display_data"
    },
    {
     "data": {
      "application/vnd.jupyter.widget-view+json": {
       "model_id": "d6fb010fbf904e0d828a23f7614cb145",
       "version_major": 2,
       "version_minor": 0
      },
      "text/plain": [
       "Processing tokens:   0%|          | 0/8 [00:00<?, ?it/s]"
      ]
     },
     "metadata": {},
     "output_type": "display_data"
    },
    {
     "name": "stderr",
     "output_type": "stream",
     "text": [
      "Some weights of RobertaModel were not initialized from the model checkpoint at roberta-large and are newly initialized: ['roberta.pooler.dense.bias', 'roberta.pooler.dense.weight']\n",
      "You should probably TRAIN this model on a down-stream task to be able to use it for predictions and inference.\n"
     ]
    },
    {
     "data": {
      "application/vnd.jupyter.widget-view+json": {
       "model_id": "22562b6aa210410fbda09fc1a8fd2506",
       "version_major": 2,
       "version_minor": 0
      },
      "text/plain": [
       "Processing tokens:   0%|          | 0/8 [00:00<?, ?it/s]"
      ]
     },
     "metadata": {},
     "output_type": "display_data"
    },
    {
     "data": {
      "application/vnd.jupyter.widget-view+json": {
       "model_id": "058ac4879dd14db69007792b3ecaf277",
       "version_major": 2,
       "version_minor": 0
      },
      "text/plain": [
       "Processing tokens:   0%|          | 0/8 [00:00<?, ?it/s]"
      ]
     },
     "metadata": {},
     "output_type": "display_data"
    },
    {
     "name": "stderr",
     "output_type": "stream",
     "text": [
      "Some weights of RobertaModel were not initialized from the model checkpoint at roberta-large and are newly initialized: ['roberta.pooler.dense.bias', 'roberta.pooler.dense.weight']\n",
      "You should probably TRAIN this model on a down-stream task to be able to use it for predictions and inference.\n"
     ]
    },
    {
     "data": {
      "application/vnd.jupyter.widget-view+json": {
       "model_id": "9b5f8c925c2140cd8d1a18d37a75a2cc",
       "version_major": 2,
       "version_minor": 0
      },
      "text/plain": [
       "Processing tokens:   0%|          | 0/8 [00:00<?, ?it/s]"
      ]
     },
     "metadata": {},
     "output_type": "display_data"
    },
    {
     "data": {
      "application/vnd.jupyter.widget-view+json": {
       "model_id": "cfe794ce65784709b024a7298c7de63c",
       "version_major": 2,
       "version_minor": 0
      },
      "text/plain": [
       "Processing tokens:   0%|          | 0/8 [00:00<?, ?it/s]"
      ]
     },
     "metadata": {},
     "output_type": "display_data"
    },
    {
     "name": "stderr",
     "output_type": "stream",
     "text": [
      "Some weights of RobertaModel were not initialized from the model checkpoint at roberta-large and are newly initialized: ['roberta.pooler.dense.bias', 'roberta.pooler.dense.weight']\n",
      "You should probably TRAIN this model on a down-stream task to be able to use it for predictions and inference.\n"
     ]
    },
    {
     "data": {
      "application/vnd.jupyter.widget-view+json": {
       "model_id": "c56a9e0f43b64b3c9622b5f1094891d1",
       "version_major": 2,
       "version_minor": 0
      },
      "text/plain": [
       "Processing tokens:   0%|          | 0/8 [00:00<?, ?it/s]"
      ]
     },
     "metadata": {},
     "output_type": "display_data"
    },
    {
     "data": {
      "application/vnd.jupyter.widget-view+json": {
       "model_id": "849c8e167425400095d35b34e458366b",
       "version_major": 2,
       "version_minor": 0
      },
      "text/plain": [
       "Processing tokens:   0%|          | 0/8 [00:00<?, ?it/s]"
      ]
     },
     "metadata": {},
     "output_type": "display_data"
    },
    {
     "name": "stderr",
     "output_type": "stream",
     "text": [
      "Some weights of RobertaModel were not initialized from the model checkpoint at roberta-large and are newly initialized: ['roberta.pooler.dense.bias', 'roberta.pooler.dense.weight']\n",
      "You should probably TRAIN this model on a down-stream task to be able to use it for predictions and inference.\n"
     ]
    },
    {
     "data": {
      "application/vnd.jupyter.widget-view+json": {
       "model_id": "245e1d8f1622435ca731f4093b9f0fd7",
       "version_major": 2,
       "version_minor": 0
      },
      "text/plain": [
       "Processing tokens:   0%|          | 0/8 [00:00<?, ?it/s]"
      ]
     },
     "metadata": {},
     "output_type": "display_data"
    },
    {
     "data": {
      "application/vnd.jupyter.widget-view+json": {
       "model_id": "7eddaec1093c42c594023571fca2d0fd",
       "version_major": 2,
       "version_minor": 0
      },
      "text/plain": [
       "Processing tokens:   0%|          | 0/8 [00:00<?, ?it/s]"
      ]
     },
     "metadata": {},
     "output_type": "display_data"
    },
    {
     "name": "stderr",
     "output_type": "stream",
     "text": [
      "Some weights of RobertaModel were not initialized from the model checkpoint at roberta-large and are newly initialized: ['roberta.pooler.dense.bias', 'roberta.pooler.dense.weight']\n",
      "You should probably TRAIN this model on a down-stream task to be able to use it for predictions and inference.\n"
     ]
    },
    {
     "data": {
      "application/vnd.jupyter.widget-view+json": {
       "model_id": "50ca775fa4bc42f0a8940d7eb965d8c4",
       "version_major": 2,
       "version_minor": 0
      },
      "text/plain": [
       "Processing tokens:   0%|          | 0/8 [00:00<?, ?it/s]"
      ]
     },
     "metadata": {},
     "output_type": "display_data"
    },
    {
     "data": {
      "application/vnd.jupyter.widget-view+json": {
       "model_id": "03efadbe370c4eeabd572d69cbb0a805",
       "version_major": 2,
       "version_minor": 0
      },
      "text/plain": [
       "Processing tokens:   0%|          | 0/8 [00:00<?, ?it/s]"
      ]
     },
     "metadata": {},
     "output_type": "display_data"
    },
    {
     "name": "stderr",
     "output_type": "stream",
     "text": [
      "Some weights of RobertaModel were not initialized from the model checkpoint at roberta-large and are newly initialized: ['roberta.pooler.dense.bias', 'roberta.pooler.dense.weight']\n",
      "You should probably TRAIN this model on a down-stream task to be able to use it for predictions and inference.\n"
     ]
    },
    {
     "data": {
      "application/vnd.jupyter.widget-view+json": {
       "model_id": "59554ed9f532449fae1234d265ad510b",
       "version_major": 2,
       "version_minor": 0
      },
      "text/plain": [
       "Processing tokens:   0%|          | 0/8 [00:00<?, ?it/s]"
      ]
     },
     "metadata": {},
     "output_type": "display_data"
    },
    {
     "data": {
      "application/vnd.jupyter.widget-view+json": {
       "model_id": "18296e0ee5aa4faaadc6ce307ce192fe",
       "version_major": 2,
       "version_minor": 0
      },
      "text/plain": [
       "Processing tokens:   0%|          | 0/8 [00:00<?, ?it/s]"
      ]
     },
     "metadata": {},
     "output_type": "display_data"
    },
    {
     "name": "stderr",
     "output_type": "stream",
     "text": [
      "Some weights of RobertaModel were not initialized from the model checkpoint at roberta-large and are newly initialized: ['roberta.pooler.dense.bias', 'roberta.pooler.dense.weight']\n",
      "You should probably TRAIN this model on a down-stream task to be able to use it for predictions and inference.\n"
     ]
    },
    {
     "data": {
      "application/vnd.jupyter.widget-view+json": {
       "model_id": "7c71b7f2f3944dfca944034d255c4ddd",
       "version_major": 2,
       "version_minor": 0
      },
      "text/plain": [
       "Processing tokens:   0%|          | 0/8 [00:00<?, ?it/s]"
      ]
     },
     "metadata": {},
     "output_type": "display_data"
    },
    {
     "data": {
      "application/vnd.jupyter.widget-view+json": {
       "model_id": "7d108081163545f2ad8ab0895cac586f",
       "version_major": 2,
       "version_minor": 0
      },
      "text/plain": [
       "Processing tokens:   0%|          | 0/8 [00:00<?, ?it/s]"
      ]
     },
     "metadata": {},
     "output_type": "display_data"
    },
    {
     "name": "stderr",
     "output_type": "stream",
     "text": [
      "Some weights of RobertaModel were not initialized from the model checkpoint at roberta-large and are newly initialized: ['roberta.pooler.dense.bias', 'roberta.pooler.dense.weight']\n",
      "You should probably TRAIN this model on a down-stream task to be able to use it for predictions and inference.\n"
     ]
    },
    {
     "data": {
      "application/vnd.jupyter.widget-view+json": {
       "model_id": "d3e4fbf9c8a94ad88317d30051256c80",
       "version_major": 2,
       "version_minor": 0
      },
      "text/plain": [
       "Processing tokens:   0%|          | 0/8 [00:00<?, ?it/s]"
      ]
     },
     "metadata": {},
     "output_type": "display_data"
    },
    {
     "data": {
      "application/vnd.jupyter.widget-view+json": {
       "model_id": "1d086a397bc94e808919ffcafcb4efb1",
       "version_major": 2,
       "version_minor": 0
      },
      "text/plain": [
       "Processing tokens:   0%|          | 0/8 [00:00<?, ?it/s]"
      ]
     },
     "metadata": {},
     "output_type": "display_data"
    },
    {
     "name": "stderr",
     "output_type": "stream",
     "text": [
      "Some weights of RobertaModel were not initialized from the model checkpoint at roberta-large and are newly initialized: ['roberta.pooler.dense.bias', 'roberta.pooler.dense.weight']\n",
      "You should probably TRAIN this model on a down-stream task to be able to use it for predictions and inference.\n"
     ]
    },
    {
     "data": {
      "application/vnd.jupyter.widget-view+json": {
       "model_id": "7f53dd47add942998447ea597dc17d78",
       "version_major": 2,
       "version_minor": 0
      },
      "text/plain": [
       "Processing tokens:   0%|          | 0/8 [00:00<?, ?it/s]"
      ]
     },
     "metadata": {},
     "output_type": "display_data"
    },
    {
     "data": {
      "application/vnd.jupyter.widget-view+json": {
       "model_id": "8c437213c0dc4bec8305c39c801564fc",
       "version_major": 2,
       "version_minor": 0
      },
      "text/plain": [
       "Processing tokens:   0%|          | 0/8 [00:00<?, ?it/s]"
      ]
     },
     "metadata": {},
     "output_type": "display_data"
    },
    {
     "name": "stderr",
     "output_type": "stream",
     "text": [
      "Some weights of RobertaModel were not initialized from the model checkpoint at roberta-large and are newly initialized: ['roberta.pooler.dense.bias', 'roberta.pooler.dense.weight']\n",
      "You should probably TRAIN this model on a down-stream task to be able to use it for predictions and inference.\n"
     ]
    },
    {
     "data": {
      "application/vnd.jupyter.widget-view+json": {
       "model_id": "5370dc1ee9d243a7bb04be949b4d4db0",
       "version_major": 2,
       "version_minor": 0
      },
      "text/plain": [
       "Processing tokens:   0%|          | 0/61 [00:00<?, ?it/s]"
      ]
     },
     "metadata": {},
     "output_type": "display_data"
    },
    {
     "data": {
      "application/vnd.jupyter.widget-view+json": {
       "model_id": "acb977a72271477fb65f3bf97cb4dfa6",
       "version_major": 2,
       "version_minor": 0
      },
      "text/plain": [
       "Processing tokens:   0%|          | 0/35 [00:00<?, ?it/s]"
      ]
     },
     "metadata": {},
     "output_type": "display_data"
    },
    {
     "name": "stderr",
     "output_type": "stream",
     "text": [
      "Some weights of RobertaModel were not initialized from the model checkpoint at roberta-large and are newly initialized: ['roberta.pooler.dense.bias', 'roberta.pooler.dense.weight']\n",
      "You should probably TRAIN this model on a down-stream task to be able to use it for predictions and inference.\n"
     ]
    },
    {
     "data": {
      "application/vnd.jupyter.widget-view+json": {
       "model_id": "a33e0c5f1bfd4a1b82602a96d1bf28cd",
       "version_major": 2,
       "version_minor": 0
      },
      "text/plain": [
       "Processing tokens:   0%|          | 0/65 [00:00<?, ?it/s]"
      ]
     },
     "metadata": {},
     "output_type": "display_data"
    },
    {
     "data": {
      "application/vnd.jupyter.widget-view+json": {
       "model_id": "fd3acc5c3476421daf1d129cdbb31656",
       "version_major": 2,
       "version_minor": 0
      },
      "text/plain": [
       "Processing tokens:   0%|          | 0/47 [00:00<?, ?it/s]"
      ]
     },
     "metadata": {},
     "output_type": "display_data"
    },
    {
     "name": "stderr",
     "output_type": "stream",
     "text": [
      "Some weights of RobertaModel were not initialized from the model checkpoint at roberta-large and are newly initialized: ['roberta.pooler.dense.bias', 'roberta.pooler.dense.weight']\n",
      "You should probably TRAIN this model on a down-stream task to be able to use it for predictions and inference.\n"
     ]
    },
    {
     "data": {
      "application/vnd.jupyter.widget-view+json": {
       "model_id": "7700d46af2314f15b9bafd04df99ee3a",
       "version_major": 2,
       "version_minor": 0
      },
      "text/plain": [
       "Processing tokens:   0%|          | 0/11 [00:00<?, ?it/s]"
      ]
     },
     "metadata": {},
     "output_type": "display_data"
    },
    {
     "data": {
      "application/vnd.jupyter.widget-view+json": {
       "model_id": "5bdd6e48724a4418b234969f4f6479df",
       "version_major": 2,
       "version_minor": 0
      },
      "text/plain": [
       "Processing tokens:   0%|          | 0/8 [00:00<?, ?it/s]"
      ]
     },
     "metadata": {},
     "output_type": "display_data"
    },
    {
     "name": "stderr",
     "output_type": "stream",
     "text": [
      "Some weights of RobertaModel were not initialized from the model checkpoint at roberta-large and are newly initialized: ['roberta.pooler.dense.bias', 'roberta.pooler.dense.weight']\n",
      "You should probably TRAIN this model on a down-stream task to be able to use it for predictions and inference.\n"
     ]
    },
    {
     "data": {
      "application/vnd.jupyter.widget-view+json": {
       "model_id": "64bf80e5e9eb4123aaf71379dad6c032",
       "version_major": 2,
       "version_minor": 0
      },
      "text/plain": [
       "Processing tokens:   0%|          | 0/8 [00:00<?, ?it/s]"
      ]
     },
     "metadata": {},
     "output_type": "display_data"
    },
    {
     "data": {
      "application/vnd.jupyter.widget-view+json": {
       "model_id": "0bd4eafd68a14bd5a820d3bb0eb7c6f9",
       "version_major": 2,
       "version_minor": 0
      },
      "text/plain": [
       "Processing tokens:   0%|          | 0/45 [00:00<?, ?it/s]"
      ]
     },
     "metadata": {},
     "output_type": "display_data"
    },
    {
     "name": "stderr",
     "output_type": "stream",
     "text": [
      "Some weights of RobertaModel were not initialized from the model checkpoint at roberta-large and are newly initialized: ['roberta.pooler.dense.bias', 'roberta.pooler.dense.weight']\n",
      "You should probably TRAIN this model on a down-stream task to be able to use it for predictions and inference.\n"
     ]
    },
    {
     "data": {
      "application/vnd.jupyter.widget-view+json": {
       "model_id": "9b21ef80d1dc4aa1a7b171fd44fb132e",
       "version_major": 2,
       "version_minor": 0
      },
      "text/plain": [
       "Processing tokens:   0%|          | 0/42 [00:00<?, ?it/s]"
      ]
     },
     "metadata": {},
     "output_type": "display_data"
    },
    {
     "data": {
      "application/vnd.jupyter.widget-view+json": {
       "model_id": "919c9cf700ac4d6abce1557f7beadf66",
       "version_major": 2,
       "version_minor": 0
      },
      "text/plain": [
       "Processing tokens:   0%|          | 0/39 [00:00<?, ?it/s]"
      ]
     },
     "metadata": {},
     "output_type": "display_data"
    },
    {
     "name": "stderr",
     "output_type": "stream",
     "text": [
      "Some weights of RobertaModel were not initialized from the model checkpoint at roberta-large and are newly initialized: ['roberta.pooler.dense.bias', 'roberta.pooler.dense.weight']\n",
      "You should probably TRAIN this model on a down-stream task to be able to use it for predictions and inference.\n"
     ]
    },
    {
     "data": {
      "application/vnd.jupyter.widget-view+json": {
       "model_id": "0a7103cfc0d94833a6371909fe6bd59b",
       "version_major": 2,
       "version_minor": 0
      },
      "text/plain": [
       "Processing tokens:   0%|          | 0/8 [00:00<?, ?it/s]"
      ]
     },
     "metadata": {},
     "output_type": "display_data"
    },
    {
     "data": {
      "application/vnd.jupyter.widget-view+json": {
       "model_id": "0795b061e9824db0b07e54668073a4fd",
       "version_major": 2,
       "version_minor": 0
      },
      "text/plain": [
       "Processing tokens:   0%|          | 0/8 [00:00<?, ?it/s]"
      ]
     },
     "metadata": {},
     "output_type": "display_data"
    },
    {
     "name": "stderr",
     "output_type": "stream",
     "text": [
      "Some weights of RobertaModel were not initialized from the model checkpoint at roberta-large and are newly initialized: ['roberta.pooler.dense.bias', 'roberta.pooler.dense.weight']\n",
      "You should probably TRAIN this model on a down-stream task to be able to use it for predictions and inference.\n"
     ]
    },
    {
     "data": {
      "application/vnd.jupyter.widget-view+json": {
       "model_id": "b4fa18eb10954121a6eaa16d05eaaf82",
       "version_major": 2,
       "version_minor": 0
      },
      "text/plain": [
       "Processing tokens:   0%|          | 0/8 [00:00<?, ?it/s]"
      ]
     },
     "metadata": {},
     "output_type": "display_data"
    },
    {
     "data": {
      "application/vnd.jupyter.widget-view+json": {
       "model_id": "1f8f95baaaec4fdb85441915f2b09447",
       "version_major": 2,
       "version_minor": 0
      },
      "text/plain": [
       "Processing tokens:   0%|          | 0/8 [00:00<?, ?it/s]"
      ]
     },
     "metadata": {},
     "output_type": "display_data"
    },
    {
     "name": "stderr",
     "output_type": "stream",
     "text": [
      "Some weights of RobertaModel were not initialized from the model checkpoint at roberta-large and are newly initialized: ['roberta.pooler.dense.bias', 'roberta.pooler.dense.weight']\n",
      "You should probably TRAIN this model on a down-stream task to be able to use it for predictions and inference.\n"
     ]
    },
    {
     "data": {
      "application/vnd.jupyter.widget-view+json": {
       "model_id": "f6e7229ee04a4a1c9975c333490359cc",
       "version_major": 2,
       "version_minor": 0
      },
      "text/plain": [
       "Processing tokens:   0%|          | 0/9 [00:00<?, ?it/s]"
      ]
     },
     "metadata": {},
     "output_type": "display_data"
    },
    {
     "data": {
      "application/vnd.jupyter.widget-view+json": {
       "model_id": "33dce719de45497687310cbda5cf84f0",
       "version_major": 2,
       "version_minor": 0
      },
      "text/plain": [
       "Processing tokens:   0%|          | 0/8 [00:00<?, ?it/s]"
      ]
     },
     "metadata": {},
     "output_type": "display_data"
    },
    {
     "name": "stderr",
     "output_type": "stream",
     "text": [
      "Some weights of RobertaModel were not initialized from the model checkpoint at roberta-large and are newly initialized: ['roberta.pooler.dense.bias', 'roberta.pooler.dense.weight']\n",
      "You should probably TRAIN this model on a down-stream task to be able to use it for predictions and inference.\n"
     ]
    },
    {
     "data": {
      "application/vnd.jupyter.widget-view+json": {
       "model_id": "58c57e7b5c6d405cba756d60331cfacf",
       "version_major": 2,
       "version_minor": 0
      },
      "text/plain": [
       "Processing tokens:   0%|          | 0/8 [00:00<?, ?it/s]"
      ]
     },
     "metadata": {},
     "output_type": "display_data"
    },
    {
     "data": {
      "application/vnd.jupyter.widget-view+json": {
       "model_id": "c9ba6584b4244cc4b9a80fc03d6e6f98",
       "version_major": 2,
       "version_minor": 0
      },
      "text/plain": [
       "Processing tokens:   0%|          | 0/260 [00:00<?, ?it/s]"
      ]
     },
     "metadata": {},
     "output_type": "display_data"
    },
    {
     "name": "stderr",
     "output_type": "stream",
     "text": [
      "Some weights of RobertaModel were not initialized from the model checkpoint at roberta-large and are newly initialized: ['roberta.pooler.dense.bias', 'roberta.pooler.dense.weight']\n",
      "You should probably TRAIN this model on a down-stream task to be able to use it for predictions and inference.\n"
     ]
    },
    {
     "data": {
      "application/vnd.jupyter.widget-view+json": {
       "model_id": "24ac1603ee5f473e91ae461fbd261c94",
       "version_major": 2,
       "version_minor": 0
      },
      "text/plain": [
       "Processing tokens:   0%|          | 0/81 [00:00<?, ?it/s]"
      ]
     },
     "metadata": {},
     "output_type": "display_data"
    },
    {
     "data": {
      "application/vnd.jupyter.widget-view+json": {
       "model_id": "0e5389dd867f4564832a2d8bb4255abf",
       "version_major": 2,
       "version_minor": 0
      },
      "text/plain": [
       "Processing tokens:   0%|          | 0/33 [00:00<?, ?it/s]"
      ]
     },
     "metadata": {},
     "output_type": "display_data"
    },
    {
     "name": "stderr",
     "output_type": "stream",
     "text": [
      "Some weights of RobertaModel were not initialized from the model checkpoint at roberta-large and are newly initialized: ['roberta.pooler.dense.bias', 'roberta.pooler.dense.weight']\n",
      "You should probably TRAIN this model on a down-stream task to be able to use it for predictions and inference.\n"
     ]
    },
    {
     "data": {
      "application/vnd.jupyter.widget-view+json": {
       "model_id": "afd37618bc7b41ea9100f9251fdcfed5",
       "version_major": 2,
       "version_minor": 0
      },
      "text/plain": [
       "Processing tokens:   0%|          | 0/86 [00:00<?, ?it/s]"
      ]
     },
     "metadata": {},
     "output_type": "display_data"
    },
    {
     "data": {
      "application/vnd.jupyter.widget-view+json": {
       "model_id": "9156cd0ae4454a69b7103c16fccf2e91",
       "version_major": 2,
       "version_minor": 0
      },
      "text/plain": [
       "Processing tokens:   0%|          | 0/32 [00:00<?, ?it/s]"
      ]
     },
     "metadata": {},
     "output_type": "display_data"
    },
    {
     "name": "stderr",
     "output_type": "stream",
     "text": [
      "Some weights of RobertaModel were not initialized from the model checkpoint at roberta-large and are newly initialized: ['roberta.pooler.dense.bias', 'roberta.pooler.dense.weight']\n",
      "You should probably TRAIN this model on a down-stream task to be able to use it for predictions and inference.\n"
     ]
    },
    {
     "data": {
      "application/vnd.jupyter.widget-view+json": {
       "model_id": "9e8a4b3fc4824d4db6029453ba996133",
       "version_major": 2,
       "version_minor": 0
      },
      "text/plain": [
       "Processing tokens:   0%|          | 0/8 [00:00<?, ?it/s]"
      ]
     },
     "metadata": {},
     "output_type": "display_data"
    },
    {
     "data": {
      "application/vnd.jupyter.widget-view+json": {
       "model_id": "8c88259f6a2f4197aa9e4c2fffea962d",
       "version_major": 2,
       "version_minor": 0
      },
      "text/plain": [
       "Processing tokens:   0%|          | 0/8 [00:00<?, ?it/s]"
      ]
     },
     "metadata": {},
     "output_type": "display_data"
    },
    {
     "name": "stderr",
     "output_type": "stream",
     "text": [
      "Some weights of RobertaModel were not initialized from the model checkpoint at roberta-large and are newly initialized: ['roberta.pooler.dense.bias', 'roberta.pooler.dense.weight']\n",
      "You should probably TRAIN this model on a down-stream task to be able to use it for predictions and inference.\n"
     ]
    },
    {
     "data": {
      "application/vnd.jupyter.widget-view+json": {
       "model_id": "63ced1f16bfb452a9c18edf6337bb5e7",
       "version_major": 2,
       "version_minor": 0
      },
      "text/plain": [
       "Processing tokens:   0%|          | 0/64 [00:00<?, ?it/s]"
      ]
     },
     "metadata": {},
     "output_type": "display_data"
    },
    {
     "data": {
      "application/vnd.jupyter.widget-view+json": {
       "model_id": "138d187e373e4d87a0b3d1b737e3e08b",
       "version_major": 2,
       "version_minor": 0
      },
      "text/plain": [
       "Processing tokens:   0%|          | 0/36 [00:00<?, ?it/s]"
      ]
     },
     "metadata": {},
     "output_type": "display_data"
    },
    {
     "name": "stderr",
     "output_type": "stream",
     "text": [
      "Some weights of RobertaModel were not initialized from the model checkpoint at roberta-large and are newly initialized: ['roberta.pooler.dense.bias', 'roberta.pooler.dense.weight']\n",
      "You should probably TRAIN this model on a down-stream task to be able to use it for predictions and inference.\n"
     ]
    }
   ],
   "source": [
    "# First pass to collect metric values and determine min and max for normalization\n",
    "for index, row in tqdm(data.iterrows(), total=len(data), desc=\"Processing questions\"):\n",
    "    question = row[\"Question\"]\n",
    "    reference_answer = row[\"Answer\"]\n",
    "    predicted_answer = row[f\"RAG {rag_number}\"]\n",
    "\n",
    "    # Evaluate the metrics\n",
    "    rouge = evaluate_rouge(predicted_answer, reference_answer)\n",
    "    bleu = evaluate_bleu(predicted_answer, reference_answer)\n",
    "    f1 = evaluate_f1(predicted_answer, reference_answer)\n",
    "    bert_score = evaluate_bert_score(predicted_answer, reference_answer)\n",
    "    embedding_similarity = evaluate_embedding_similarity(predicted_answer, reference_answer)\n",
    "\n",
    "    # Append metric values to respective lists\n",
    "    rouge_scores.append(rouge[\"rougeL\"].fmeasure)\n",
    "    bleu_scores.append(bleu)\n",
    "    f1_scores.append(f1)\n",
    "    bert_scores.append(bert_score)\n",
    "    embedding_similarities.append(embedding_similarity)"
   ]
  },
  {
   "cell_type": "code",
   "execution_count": 8,
   "metadata": {},
   "outputs": [],
   "source": [
    "# Perform min-max normalization for each metric\n",
    "def min_max_normalize(values):\n",
    "    min_val, max_val = min(values), max(values)\n",
    "    return [(val - min_val) / (max_val - min_val) if max_val != min_val else 0.5 for val in values]\n",
    "\n",
    "\n",
    "rouge_scores_normalized = min_max_normalize(rouge_scores)\n",
    "bleu_scores_normalized = min_max_normalize(bleu_scores)\n",
    "f1_scores_normalized = min_max_normalize(f1_scores)\n",
    "bert_scores_normalized = min_max_normalize(bert_scores)\n",
    "embedding_similarities_normalized = min_max_normalize(embedding_similarities)"
   ]
  },
  {
   "cell_type": "code",
   "execution_count": 9,
   "metadata": {},
   "outputs": [],
   "source": [
    "hybrid_scores = [\n",
    "    (0.2 * rouge) + (0.2 * bleu) + (0.2 * f1) + (0.2 * bert) + (0.2 * embedding)\n",
    "    for rouge, bleu, f1, bert, embedding in zip(\n",
    "        rouge_scores_normalized, bleu_scores_normalized, f1_scores_normalized, bert_scores_normalized, embedding_similarities_normalized\n",
    "    )\n",
    "]"
   ]
  },
  {
   "cell_type": "code",
   "execution_count": 10,
   "metadata": {},
   "outputs": [
    {
     "name": "stdout",
     "output_type": "stream",
     "text": [
      "[Processing question 1]:\n",
      "\n",
      "ROUGE-L: 0.18749999999999997\n",
      "BLEU: 4.733388305843651\n",
      "F1: 0.26666666666666666\n",
      "BERT Score: 0.8736918568611145\n",
      "Embedding Similarity: 0.7417100071907043\n",
      "Hybrid Score: 0.3304803442071542\n",
      "--------------------------------------------------------------------------------\n",
      "[Processing question 2]:\n",
      "\n",
      "ROUGE-L: 0.2566371681415929\n",
      "BLEU: 2.932606721642658\n",
      "F1: 0.2782608695652174\n",
      "BERT Score: 0.8739281296730042\n",
      "Embedding Similarity: 0.64577317237854\n",
      "Hybrid Score: 0.3241879730781364\n",
      "--------------------------------------------------------------------------------\n",
      "[Processing question 3]:\n",
      "\n",
      "ROUGE-L: 0.1923076923076923\n",
      "BLEU: 1.9917842709544666\n",
      "F1: 0.16129032258064516\n",
      "BERT Score: 0.8658549785614014\n",
      "Embedding Similarity: 0.6244524717330933\n",
      "Hybrid Score: 0.2742361633350776\n",
      "--------------------------------------------------------------------------------\n",
      "[Processing question 4]:\n",
      "\n",
      "ROUGE-L: 0.06896551724137931\n",
      "BLEU: 0.047246800770359\n",
      "F1: 0.0\n",
      "BERT Score: 0.8146019577980042\n",
      "Embedding Similarity: 0.0991063266992569\n",
      "Hybrid Score: 0.06096768925333649\n",
      "--------------------------------------------------------------------------------\n",
      "[Processing question 5]:\n",
      "\n",
      "ROUGE-L: 0.19801980198019803\n",
      "BLEU: 1.3912540681859764\n",
      "F1: 0.23728813559322035\n",
      "BERT Score: 0.8622249960899353\n",
      "Embedding Similarity: 0.7119565010070801\n",
      "Hybrid Score: 0.3033547780489372\n",
      "--------------------------------------------------------------------------------\n",
      "[Processing question 6]:\n",
      "\n",
      "ROUGE-L: 0.2706766917293233\n",
      "BLEU: 4.093490962042387\n",
      "F1: 0.2597402597402597\n",
      "BERT Score: 0.8977516889572144\n",
      "Embedding Similarity: 0.9350728392601013\n",
      "Hybrid Score: 0.40543798421371346\n",
      "--------------------------------------------------------------------------------\n",
      "[Processing question 7]:\n",
      "\n",
      "ROUGE-L: 0.15107913669064751\n",
      "BLEU: 0.6120825236001793\n",
      "F1: 0.1711229946524064\n",
      "BERT Score: 0.8334526419639587\n",
      "Embedding Similarity: 0.6677808165550232\n",
      "Hybrid Score: 0.2434038392124446\n",
      "--------------------------------------------------------------------------------\n",
      "[Processing question 8]:\n",
      "\n",
      "ROUGE-L: 0.0202020202020202\n",
      "BLEU: 5.3091815424192926e-15\n",
      "F1: 0.0\n",
      "BERT Score: 0.7868360877037048\n",
      "Embedding Similarity: 0.061200886964797974\n",
      "Hybrid Score: 0.017539029199667662\n",
      "--------------------------------------------------------------------------------\n",
      "[Processing question 9]:\n",
      "\n",
      "ROUGE-L: 0.29565217391304344\n",
      "BLEU: 10.675749992786605\n",
      "F1: 0.32\n",
      "BERT Score: 0.8963784575462341\n",
      "Embedding Similarity: 0.7865221500396729\n",
      "Hybrid Score: 0.40485010845013236\n",
      "--------------------------------------------------------------------------------\n",
      "[Processing question 10]:\n",
      "\n",
      "ROUGE-L: 0.06451612903225806\n",
      "BLEU: 0.0007445935640909957\n",
      "F1: 0.03846153846153846\n",
      "BERT Score: 0.8164387345314026\n",
      "Embedding Similarity: 0.11542756855487823\n",
      "Hybrid Score: 0.07264283217823947\n",
      "--------------------------------------------------------------------------------\n",
      "[Processing question 11]:\n",
      "\n",
      "ROUGE-L: 0.18561484918793505\n",
      "BLEU: 0.881242976862644\n",
      "F1: 0.254416961130742\n",
      "BERT Score: 0.8474072217941284\n",
      "Embedding Similarity: 0.8900636434555054\n",
      "Hybrid Score: 0.3247595021504306\n",
      "--------------------------------------------------------------------------------\n",
      "[Processing question 12]:\n",
      "\n",
      "ROUGE-L: 0.24615384615384614\n",
      "BLEU: 3.697265102080192\n",
      "F1: 0.27906976744186046\n",
      "BERT Score: 0.8944262266159058\n",
      "Embedding Similarity: 0.711509108543396\n",
      "Hybrid Score: 0.3560737121234919\n",
      "--------------------------------------------------------------------------------\n",
      "[Processing question 13]:\n",
      "\n",
      "ROUGE-L: 0.07643312101910828\n",
      "BLEU: 2.172015230973589e-08\n",
      "F1: 0.10975609756097561\n",
      "BERT Score: 0.8416413068771362\n",
      "Embedding Similarity: 0.8131039142608643\n",
      "Hybrid Score: 0.25152987425224294\n",
      "--------------------------------------------------------------------------------\n",
      "[Processing question 14]:\n",
      "\n",
      "ROUGE-L: 0.28571428571428575\n",
      "BLEU: 4.803621769323192\n",
      "F1: 0.4545454545454546\n",
      "BERT Score: 0.8971410989761353\n",
      "Embedding Similarity: 0.6838198304176331\n",
      "Hybrid Score: 0.3983401207548647\n",
      "--------------------------------------------------------------------------------\n",
      "[Processing question 15]:\n",
      "\n",
      "ROUGE-L: 0.19047619047619047\n",
      "BLEU: 2.7615360550816876\n",
      "F1: 0.18461538461538463\n",
      "BERT Score: 0.8706266283988953\n",
      "Embedding Similarity: 0.794884979724884\n",
      "Hybrid Score: 0.31840939310272304\n",
      "--------------------------------------------------------------------------------\n",
      "[Processing question 16]:\n",
      "\n",
      "ROUGE-L: 0.09302325581395347\n",
      "BLEU: 0.4045281807465375\n",
      "F1: 0.07692307692307691\n",
      "BERT Score: 0.8152503371238708\n",
      "Embedding Similarity: 0.10476555675268173\n",
      "Hybrid Score: 0.08361101367890755\n",
      "--------------------------------------------------------------------------------\n",
      "[Processing question 17]:\n",
      "\n",
      "ROUGE-L: 0.23529411764705885\n",
      "BLEU: 9.059031954284805\n",
      "F1: 0.2608695652173913\n",
      "BERT Score: 0.8964214324951172\n",
      "Embedding Similarity: 0.8681784272193909\n",
      "Hybrid Score: 0.39398109266566483\n",
      "--------------------------------------------------------------------------------\n",
      "[Processing question 18]:\n",
      "\n",
      "ROUGE-L: 0.04494382022471911\n",
      "BLEU: 0.0013496285244731854\n",
      "F1: 0.0\n",
      "BERT Score: 0.8206990957260132\n",
      "Embedding Similarity: 0.08951664716005325\n",
      "Hybrid Score: 0.05988708472285158\n",
      "--------------------------------------------------------------------------------\n",
      "[Processing question 19]:\n",
      "\n",
      "ROUGE-L: 0.2\n",
      "BLEU: 4.832400479861534\n",
      "F1: 0.19607843137254902\n",
      "BERT Score: 0.8915784358978271\n",
      "Embedding Similarity: 0.9039562344551086\n",
      "Hybrid Score: 0.3680744650555374\n",
      "--------------------------------------------------------------------------------\n",
      "[Processing question 20]:\n",
      "\n",
      "ROUGE-L: 0.25974025974025977\n",
      "BLEU: 14.030075994512861\n",
      "F1: 0.4888888888888889\n",
      "BERT Score: 0.9095118641853333\n",
      "Embedding Similarity: 0.7306466102600098\n",
      "Hybrid Score: 0.4393763132174501\n",
      "--------------------------------------------------------------------------------\n",
      "[Processing question 21]:\n",
      "\n",
      "ROUGE-L: 0.07407407407407407\n",
      "BLEU: 0.11050748309419153\n",
      "F1: 0.0\n",
      "BERT Score: 0.8232881426811218\n",
      "Embedding Similarity: 0.012953277677297592\n",
      "Hybrid Score: 0.05315057158102607\n",
      "--------------------------------------------------------------------------------\n",
      "[Processing question 22]:\n",
      "\n",
      "ROUGE-L: 0.21739130434782608\n",
      "BLEU: 2.268901476792124\n",
      "F1: 0.07547169811320754\n",
      "BERT Score: 0.8532177805900574\n",
      "Embedding Similarity: 0.6396750807762146\n",
      "Hybrid Score: 0.2538107191404463\n",
      "--------------------------------------------------------------------------------\n",
      "[Processing question 23]:\n",
      "\n",
      "ROUGE-L: 0.13636363636363638\n",
      "BLEU: 0.3619877208913913\n",
      "F1: 0.09090909090909091\n",
      "BERT Score: 0.8257980346679688\n",
      "Embedding Similarity: 0.14059039950370789\n",
      "Hybrid Score: 0.11200448396898768\n",
      "--------------------------------------------------------------------------------\n",
      "[Processing question 24]:\n",
      "\n",
      "ROUGE-L: 0.2666666666666667\n",
      "BLEU: 5.117095310372349\n",
      "F1: 0.3333333333333333\n",
      "BERT Score: 0.8786786794662476\n",
      "Embedding Similarity: 0.8050838708877563\n",
      "Hybrid Score: 0.377683099124153\n",
      "--------------------------------------------------------------------------------\n",
      "[Processing question 25]:\n",
      "\n",
      "ROUGE-L: 0.2764227642276423\n",
      "BLEU: 9.67458811247473\n",
      "F1: 0.3235294117647059\n",
      "BERT Score: 0.8869822025299072\n",
      "Embedding Similarity: 0.8753044009208679\n",
      "Hybrid Score: 0.4085292382533163\n",
      "--------------------------------------------------------------------------------\n",
      "[Processing question 26]:\n",
      "\n",
      "ROUGE-L: 0.16666666666666666\n",
      "BLEU: 3.473452574530298\n",
      "F1: 0.24999999999999994\n",
      "BERT Score: 0.8844372630119324\n",
      "Embedding Similarity: 0.6126214265823364\n",
      "Hybrid Score: 0.30489761376626123\n",
      "--------------------------------------------------------------------------------\n",
      "[Processing question 27]:\n",
      "\n",
      "ROUGE-L: 0.16666666666666669\n",
      "BLEU: 2.1375514409587932\n",
      "F1: 0.12195121951219512\n",
      "BERT Score: 0.8661487698554993\n",
      "Embedding Similarity: 0.6074995398521423\n",
      "Hybrid Score: 0.2584394550949245\n",
      "--------------------------------------------------------------------------------\n",
      "[Processing question 28]:\n",
      "\n",
      "ROUGE-L: 0.12422360248447205\n",
      "BLEU: 1.1638320716130206\n",
      "F1: 0.14893617021276595\n",
      "BERT Score: 0.8622626066207886\n",
      "Embedding Similarity: 0.6005589962005615\n",
      "Hybrid Score: 0.24837542149322211\n",
      "--------------------------------------------------------------------------------\n",
      "[Processing question 29]:\n",
      "\n",
      "ROUGE-L: 0.23762376237623764\n",
      "BLEU: 5.645514542528133\n",
      "F1: 0.15873015873015872\n",
      "BERT Score: 0.8745926022529602\n",
      "Embedding Similarity: 0.7256801128387451\n",
      "Hybrid Score: 0.31840267017832113\n",
      "--------------------------------------------------------------------------------\n",
      "[Processing question 30]:\n",
      "\n",
      "ROUGE-L: 0.11538461538461539\n",
      "BLEU: 0.08848747501571598\n",
      "F1: 0.0\n",
      "BERT Score: 0.8298901319503784\n",
      "Embedding Similarity: 0.09139987826347351\n",
      "Hybrid Score: 0.0831470862766891\n",
      "--------------------------------------------------------------------------------\n",
      "[Processing question 31]:\n",
      "\n",
      "ROUGE-L: 0.11538461538461539\n",
      "BLEU: 0.09888644067488181\n",
      "F1: 0.0\n",
      "BERT Score: 0.8284242153167725\n",
      "Embedding Similarity: 0.1332835555076599\n",
      "Hybrid Score: 0.09011308444702143\n",
      "--------------------------------------------------------------------------------\n",
      "[Processing question 32]:\n",
      "\n",
      "ROUGE-L: 0.18803418803418803\n",
      "BLEU: 2.1589941041243867\n",
      "F1: 0.3188405797101449\n",
      "BERT Score: 0.8592115044593811\n",
      "Embedding Similarity: 0.741515040397644\n",
      "Hybrid Score: 0.3222483130554088\n",
      "--------------------------------------------------------------------------------\n",
      "[Processing question 33]:\n",
      "\n",
      "ROUGE-L: 0.15841584158415842\n",
      "BLEU: 1.6088167375304445\n",
      "F1: 0.2153846153846154\n",
      "BERT Score: 0.8472848534584045\n",
      "Embedding Similarity: 0.7939189672470093\n",
      "Hybrid Score: 0.29375352135038413\n",
      "--------------------------------------------------------------------------------\n",
      "[Processing question 34]:\n",
      "\n",
      "ROUGE-L: 0.19999999999999998\n",
      "BLEU: 1.9987107572882028\n",
      "F1: 0.03773584905660377\n",
      "BERT Score: 0.8544702529907227\n",
      "Embedding Similarity: 0.7247547507286072\n",
      "Hybrid Score: 0.2603219195988027\n",
      "--------------------------------------------------------------------------------\n",
      "[Processing question 35]:\n",
      "\n",
      "ROUGE-L: 0.0625\n",
      "BLEU: 0.0008240282349047277\n",
      "F1: 0.044444444444444446\n",
      "BERT Score: 0.8214370012283325\n",
      "Embedding Similarity: -0.0067476630210876465\n",
      "Hybrid Score: 0.0538546751307499\n",
      "--------------------------------------------------------------------------------\n",
      "[Processing question 36]:\n",
      "\n",
      "ROUGE-L: 0.041666666666666664\n",
      "BLEU: 0.14352310808615706\n",
      "F1: 0.0\n",
      "BERT Score: 0.8355402946472168\n",
      "Embedding Similarity: 0.17509129643440247\n",
      "Hybrid Score: 0.09044089964591456\n",
      "--------------------------------------------------------------------------------\n",
      "[Processing question 37]:\n",
      "\n",
      "ROUGE-L: 0.17218543046357615\n",
      "BLEU: 1.4361070164396408\n",
      "F1: 0.21951219512195125\n",
      "BERT Score: 0.8209604024887085\n",
      "Embedding Similarity: 0.8118762373924255\n",
      "Hybrid Score: 0.275856121783453\n",
      "--------------------------------------------------------------------------------\n",
      "[Processing question 38]:\n",
      "\n",
      "ROUGE-L: 0.023255813953488372\n",
      "BLEU: 6.533989890581071e-26\n",
      "F1: 0.016194331983805668\n",
      "BERT Score: 0.7987242341041565\n",
      "Embedding Similarity: 0.11040736734867096\n",
      "Hybrid Score: 0.04231798426309627\n",
      "--------------------------------------------------------------------------------\n",
      "[Processing question 39]:\n",
      "\n",
      "ROUGE-L: 0.2100456621004566\n",
      "BLEU: 2.7938123121710885\n",
      "F1: 0.21705426356589147\n",
      "BERT Score: 0.868852972984314\n",
      "Embedding Similarity: 0.7552686929702759\n",
      "Hybrid Score: 0.3193413425860654\n",
      "--------------------------------------------------------------------------------\n",
      "[Processing question 40]:\n",
      "\n",
      "ROUGE-L: 0.023809523809523808\n",
      "BLEU: 0.0029664086114731428\n",
      "F1: 0.0\n",
      "BERT Score: 0.8180707693099976\n",
      "Embedding Similarity: 0.1795969009399414\n",
      "Hybrid Score: 0.07109274376845716\n",
      "--------------------------------------------------------------------------------\n",
      "[Processing question 41]:\n",
      "\n",
      "ROUGE-L: 0.16867469879518074\n",
      "BLEU: 2.1432941082023906\n",
      "F1: 0.30434782608695654\n",
      "BERT Score: 0.869666337966919\n",
      "Embedding Similarity: 0.47638529539108276\n",
      "Hybrid Score: 0.27258512256138506\n",
      "--------------------------------------------------------------------------------\n",
      "[Processing question 42]:\n",
      "\n",
      "ROUGE-L: 0.21782178217821782\n",
      "BLEU: 3.1893039214431007\n",
      "F1: 0.2105263157894737\n",
      "BERT Score: 0.8587819933891296\n",
      "Embedding Similarity: 0.5638495683670044\n",
      "Hybrid Score: 0.2729056859034854\n",
      "--------------------------------------------------------------------------------\n",
      "[Processing question 43]:\n",
      "\n",
      "ROUGE-L: 0.031746031746031744\n",
      "BLEU: 1.1766641937688202e-08\n",
      "F1: 0.0\n",
      "BERT Score: 0.8090988397598267\n",
      "Embedding Similarity: 0.10192422568798065\n",
      "Hybrid Score: 0.048825827297725735\n",
      "--------------------------------------------------------------------------------\n",
      "[Processing question 44]:\n",
      "\n",
      "ROUGE-L: 0.07272727272727272\n",
      "BLEU: 8.069013264428716e-05\n",
      "F1: 0.0\n",
      "BERT Score: 0.8155921101570129\n",
      "Embedding Similarity: 0.11860644072294235\n",
      "Hybrid Score: 0.06642859842383024\n",
      "--------------------------------------------------------------------------------\n",
      "[Processing question 45]:\n",
      "\n",
      "ROUGE-L: 0.17177914110429446\n",
      "BLEU: 0.02238470222308656\n",
      "F1: 0.1702127659574468\n",
      "BERT Score: 0.8768659234046936\n",
      "Embedding Similarity: 0.8192296624183655\n",
      "Hybrid Score: 0.3170014419038685\n",
      "--------------------------------------------------------------------------------\n",
      "[Processing question 46]:\n",
      "\n",
      "ROUGE-L: 0.023076923076923078\n",
      "BLEU: 6.1562529004830894e-12\n",
      "F1: 0.0\n",
      "BERT Score: 0.8064725995063782\n",
      "Embedding Similarity: 0.06540463864803314\n",
      "Hybrid Score: 0.03737298582133456\n",
      "--------------------------------------------------------------------------------\n",
      "[Processing question 47]:\n",
      "\n",
      "ROUGE-L: 0.21428571428571427\n",
      "BLEU: 3.333965651406649\n",
      "F1: 0.2368421052631579\n",
      "BERT Score: 0.8789695501327515\n",
      "Embedding Similarity: 0.7727961540222168\n",
      "Hybrid Score: 0.3382010532186783\n",
      "--------------------------------------------------------------------------------\n",
      "[Processing question 48]:\n",
      "\n",
      "ROUGE-L: 0.3\n",
      "BLEU: 7.472405808862883\n",
      "F1: 0.38554216867469876\n",
      "BERT Score: 0.888057291507721\n",
      "Embedding Similarity: 0.9705398082733154\n",
      "Hybrid Score: 0.44117098940949073\n",
      "--------------------------------------------------------------------------------\n",
      "[Processing question 49]:\n",
      "\n",
      "ROUGE-L: 0.15384615384615383\n",
      "BLEU: 1.698060225599719\n",
      "F1: 0.15873015873015875\n",
      "BERT Score: 0.875995397567749\n",
      "Embedding Similarity: 0.7559994459152222\n",
      "Hybrid Score: 0.3010916338622877\n",
      "--------------------------------------------------------------------------------\n",
      "[Processing question 50]:\n",
      "\n",
      "ROUGE-L: 0.22448979591836735\n",
      "BLEU: 3.8679794982578537\n",
      "F1: 0.12903225806451615\n",
      "BERT Score: 0.8789313435554504\n",
      "Embedding Similarity: 0.7684599161148071\n",
      "Hybrid Score: 0.31885065049641115\n",
      "--------------------------------------------------------------------------------\n",
      "[Processing question 51]:\n",
      "\n",
      "ROUGE-L: 1.0\n",
      "BLEU: 100.00000000000004\n",
      "F1: 1.0\n",
      "BERT Score: 1.0\n",
      "Embedding Similarity: 1.0000001192092896\n",
      "Hybrid Score: 1.0\n",
      "--------------------------------------------------------------------------------\n",
      "[Processing question 52]:\n",
      "\n",
      "ROUGE-L: 1.0\n",
      "BLEU: 100.00000000000004\n",
      "F1: 1.0\n",
      "BERT Score: 1.0\n",
      "Embedding Similarity: 1.0000001192092896\n",
      "Hybrid Score: 1.0\n",
      "--------------------------------------------------------------------------------\n",
      "[Processing question 53]:\n",
      "\n",
      "ROUGE-L: 1.0\n",
      "BLEU: 100.00000000000004\n",
      "F1: 1.0\n",
      "BERT Score: 1.0\n",
      "Embedding Similarity: 1.0000001192092896\n",
      "Hybrid Score: 1.0\n",
      "--------------------------------------------------------------------------------\n",
      "[Processing question 54]:\n",
      "\n",
      "ROUGE-L: 0.11940298507462686\n",
      "BLEU: 1.4657466945029212\n",
      "F1: 0.12903225806451613\n",
      "BERT Score: 0.8521203398704529\n",
      "Embedding Similarity: 0.05501224100589752\n",
      "Hybrid Score: 0.1261403643244664\n",
      "--------------------------------------------------------------------------------\n",
      "[Processing question 55]:\n",
      "\n",
      "ROUGE-L: 1.0\n",
      "BLEU: 100.00000000000004\n",
      "F1: 1.0\n",
      "BERT Score: 1.0\n",
      "Embedding Similarity: 1.0000001192092896\n",
      "Hybrid Score: 1.0\n",
      "--------------------------------------------------------------------------------\n",
      "[Processing question 56]:\n",
      "\n",
      "ROUGE-L: 1.0\n",
      "BLEU: 100.00000000000004\n",
      "F1: 1.0\n",
      "BERT Score: 1.0\n",
      "Embedding Similarity: 1.0000001192092896\n",
      "Hybrid Score: 1.0\n",
      "--------------------------------------------------------------------------------\n",
      "[Processing question 57]:\n",
      "\n",
      "ROUGE-L: 1.0\n",
      "BLEU: 100.00000000000004\n",
      "F1: 1.0\n",
      "BERT Score: 1.0\n",
      "Embedding Similarity: 1.0000001192092896\n",
      "Hybrid Score: 1.0\n",
      "--------------------------------------------------------------------------------\n",
      "[Processing question 58]:\n",
      "\n",
      "ROUGE-L: 1.0\n",
      "BLEU: 100.00000000000004\n",
      "F1: 1.0\n",
      "BERT Score: 1.0\n",
      "Embedding Similarity: 1.0000001192092896\n",
      "Hybrid Score: 1.0\n",
      "--------------------------------------------------------------------------------\n",
      "[Processing question 59]:\n",
      "\n",
      "ROUGE-L: 1.0\n",
      "BLEU: 100.00000000000004\n",
      "F1: 1.0\n",
      "BERT Score: 1.0\n",
      "Embedding Similarity: 1.0000001192092896\n",
      "Hybrid Score: 1.0\n",
      "--------------------------------------------------------------------------------\n",
      "[Processing question 60]:\n",
      "\n",
      "ROUGE-L: 1.0\n",
      "BLEU: 100.00000000000004\n",
      "F1: 1.0\n",
      "BERT Score: 1.0\n",
      "Embedding Similarity: 1.0000001192092896\n",
      "Hybrid Score: 1.0\n",
      "--------------------------------------------------------------------------------\n",
      "[Processing question 61]:\n",
      "\n",
      "ROUGE-L: 1.0\n",
      "BLEU: 100.00000000000004\n",
      "F1: 1.0\n",
      "BERT Score: 1.0\n",
      "Embedding Similarity: 1.0000001192092896\n",
      "Hybrid Score: 1.0\n",
      "--------------------------------------------------------------------------------\n",
      "[Processing question 62]:\n",
      "\n",
      "ROUGE-L: 1.0\n",
      "BLEU: 100.00000000000004\n",
      "F1: 1.0\n",
      "BERT Score: 1.0\n",
      "Embedding Similarity: 1.0000001192092896\n",
      "Hybrid Score: 1.0\n",
      "--------------------------------------------------------------------------------\n",
      "[Processing question 63]:\n",
      "\n",
      "ROUGE-L: 1.0\n",
      "BLEU: 100.00000000000004\n",
      "F1: 1.0\n",
      "BERT Score: 1.0\n",
      "Embedding Similarity: 1.0000001192092896\n",
      "Hybrid Score: 1.0\n",
      "--------------------------------------------------------------------------------\n",
      "[Processing question 64]:\n",
      "\n",
      "ROUGE-L: 1.0\n",
      "BLEU: 100.00000000000004\n",
      "F1: 1.0\n",
      "BERT Score: 1.0\n",
      "Embedding Similarity: 1.0000001192092896\n",
      "Hybrid Score: 1.0\n",
      "--------------------------------------------------------------------------------\n",
      "[Processing question 65]:\n",
      "\n",
      "ROUGE-L: 1.0\n",
      "BLEU: 100.00000000000004\n",
      "F1: 1.0\n",
      "BERT Score: 1.0\n",
      "Embedding Similarity: 1.0000001192092896\n",
      "Hybrid Score: 1.0\n",
      "--------------------------------------------------------------------------------\n",
      "[Processing question 66]:\n",
      "\n",
      "ROUGE-L: 1.0\n",
      "BLEU: 100.00000000000004\n",
      "F1: 1.0\n",
      "BERT Score: 1.0\n",
      "Embedding Similarity: 1.0000001192092896\n",
      "Hybrid Score: 1.0\n",
      "--------------------------------------------------------------------------------\n",
      "[Processing question 67]:\n",
      "\n",
      "ROUGE-L: 1.0\n",
      "BLEU: 100.00000000000004\n",
      "F1: 1.0\n",
      "BERT Score: 1.0\n",
      "Embedding Similarity: 1.0000001192092896\n",
      "Hybrid Score: 1.0\n",
      "--------------------------------------------------------------------------------\n",
      "[Processing question 68]:\n",
      "\n",
      "ROUGE-L: 0.1836734693877551\n",
      "BLEU: 1.8721699911367995\n",
      "F1: 0.23333333333333334\n",
      "BERT Score: 0.8643071055412292\n",
      "Embedding Similarity: 0.8328567743301392\n",
      "Hybrid Score: 0.3266279015872114\n",
      "--------------------------------------------------------------------------------\n",
      "[Processing question 69]:\n",
      "\n",
      "ROUGE-L: 0.26890756302521013\n",
      "BLEU: 5.844046030199651\n",
      "F1: 0.30303030303030304\n",
      "BERT Score: 0.9005212783813477\n",
      "Embedding Similarity: 0.9685454368591309\n",
      "Hybrid Score: 0.4264914801658957\n",
      "--------------------------------------------------------------------------------\n",
      "[Processing question 70]:\n",
      "\n",
      "ROUGE-L: 0.09999999999999999\n",
      "BLEU: 3.673526562988939\n",
      "F1: 0.0\n",
      "BERT Score: 0.8584569096565247\n",
      "Embedding Similarity: 0.16122542321681976\n",
      "Hybrid Score: 0.1279143884359905\n",
      "--------------------------------------------------------------------------------\n",
      "[Processing question 71]:\n",
      "\n",
      "ROUGE-L: 0.07017543859649122\n",
      "BLEU: 0.08848747501571598\n",
      "F1: 0.0588235294117647\n",
      "BERT Score: 0.8243909478187561\n",
      "Embedding Similarity: 0.15883885324001312\n",
      "Hybrid Score: 0.0941077682588137\n",
      "--------------------------------------------------------------------------------\n",
      "[Processing question 72]:\n",
      "\n",
      "ROUGE-L: 0.14634146341463414\n",
      "BLEU: 2.8310852916881273\n",
      "F1: 0.23529411764705882\n",
      "BERT Score: 0.8790706992149353\n",
      "Embedding Similarity: 0.7068784236907959\n",
      "Hybrid Score: 0.31029655929346367\n",
      "--------------------------------------------------------------------------------\n",
      "[Processing question 73]:\n",
      "\n",
      "ROUGE-L: 1.0\n",
      "BLEU: 100.00000000000004\n",
      "F1: 1.0\n",
      "BERT Score: 1.0\n",
      "Embedding Similarity: 1.0000001192092896\n",
      "Hybrid Score: 1.0\n",
      "--------------------------------------------------------------------------------\n",
      "[Processing question 74]:\n",
      "\n",
      "ROUGE-L: 1.0\n",
      "BLEU: 100.00000000000004\n",
      "F1: 1.0\n",
      "BERT Score: 1.0\n",
      "Embedding Similarity: 1.0000001192092896\n",
      "Hybrid Score: 1.0\n",
      "--------------------------------------------------------------------------------\n",
      "[Processing question 75]:\n",
      "\n",
      "ROUGE-L: 0.0\n",
      "BLEU: 3.7477767366779213\n",
      "F1: 0.0\n",
      "BERT Score: 0.8634998202323914\n",
      "Embedding Similarity: 0.14933840930461884\n",
      "Hybrid Score: 0.11043290752994346\n",
      "--------------------------------------------------------------------------------\n",
      "[Processing question 76]:\n",
      "\n",
      "ROUGE-L: 0.021660649819494584\n",
      "BLEU: 6.118378067115334e-14\n",
      "F1: 0.0\n",
      "BERT Score: 0.7991567254066467\n",
      "Embedding Similarity: 0.0019057709723711014\n",
      "Hybrid Score: 0.01761099494018091\n",
      "--------------------------------------------------------------------------------\n",
      "[Processing question 77]:\n",
      "\n",
      "ROUGE-L: 0.21848739495798322\n",
      "BLEU: 1.7268094771190337\n",
      "F1: 0.3333333333333333\n",
      "BERT Score: 0.8797343969345093\n",
      "Embedding Similarity: 0.5926899909973145\n",
      "Hybrid Score: 0.32006313836534156\n",
      "--------------------------------------------------------------------------------\n",
      "[Processing question 78]:\n",
      "\n",
      "ROUGE-L: 0.23529411764705882\n",
      "BLEU: 3.635091612467362\n",
      "F1: 0.14705882352941177\n",
      "BERT Score: 0.8796389102935791\n",
      "Embedding Similarity: 0.7229968309402466\n",
      "Hybrid Score: 0.3157832459550103\n",
      "--------------------------------------------------------------------------------\n",
      "[Processing question 79]:\n",
      "\n",
      "ROUGE-L: 1.0\n",
      "BLEU: 100.00000000000004\n",
      "F1: 1.0\n",
      "BERT Score: 1.0\n",
      "Embedding Similarity: 1.0000001192092896\n",
      "Hybrid Score: 1.0\n",
      "--------------------------------------------------------------------------------\n",
      "[Processing question 80]:\n",
      "\n",
      "ROUGE-L: 0.22857142857142856\n",
      "BLEU: 4.914237357372588\n",
      "F1: 0.1492537313432836\n",
      "BERT Score: 0.8647775053977966\n",
      "Embedding Similarity: 0.7049978375434875\n",
      "Hybrid Score: 0.29991666988642474\n",
      "--------------------------------------------------------------------------------\n"
     ]
    }
   ],
   "source": [
    "# Add the hybrid score to the DataFrame\n",
    "data[\"Hybrid Score\"] = hybrid_scores\n",
    "\n",
    "# Print each result\n",
    "for index in range(len(data)):\n",
    "    print(f\"[Processing question {index + 1}]:\\n\")\n",
    "    print(f\"ROUGE-L: {rouge_scores[index]}\")\n",
    "    print(f\"BLEU: {bleu_scores[index]}\")\n",
    "    print(f\"F1: {f1_scores[index]}\")\n",
    "    print(f\"BERT Score: {bert_scores[index]}\")\n",
    "    print(f\"Embedding Similarity: {embedding_similarities[index]}\")\n",
    "    print(f\"Hybrid Score: {hybrid_scores[index]}\")\n",
    "    print(\"-\" * 80)"
   ]
  },
  {
   "cell_type": "code",
   "execution_count": 11,
   "metadata": {},
   "outputs": [
    {
     "name": "stdout",
     "output_type": "stream",
     "text": [
      "=== Evaluation Summary ===\n",
      "Average ROUGE-L: 0.3584\n",
      "Average BLEU: 25.73\n",
      "Average F1: 0.3599\n",
      "Average BERT Score: 0.8896\n",
      "Average Embedding Similarity: 0.6372\n",
      "Average Hybrid Score: 0.4195\n"
     ]
    }
   ],
   "source": [
    "# Save the evaluation metrics to a CSV file\n",
    "evaluation_metrics = {\n",
    "    \"ROUGE-L\": rouge_scores,\n",
    "    \"BLEU\": bleu_scores,\n",
    "    \"F1\": f1_scores,\n",
    "    \"BERT Score\": bert_scores,\n",
    "    \"Embedding Similarity\": embedding_similarities,\n",
    "    \"Hybrid Score\": hybrid_scores\n",
    "}\n",
    "evaluation_df = pd.DataFrame(evaluation_metrics)\n",
    "\n",
    "evaluation_df.to_csv(f\"data/rag{rag_number}_evaluation_metrics.csv\", index=False)\n",
    "\n",
    "# Print evaluation summary\n",
    "print(\"=== Evaluation Summary ===\")\n",
    "print(f\"Average ROUGE-L: {sum(rouge_scores) / len(rouge_scores):.4f}\")\n",
    "print(f\"Average BLEU: {sum(bleu_scores) / len(bleu_scores):.2f}\")\n",
    "print(f\"Average F1: {sum(f1_scores) / len(f1_scores):.4f}\")\n",
    "print(f\"Average BERT Score: {sum(bert_scores) / len(bert_scores):.4f}\")\n",
    "print(f\"Average Embedding Similarity: {sum(embedding_similarities) / len(embedding_similarities):.4f}\")\n",
    "print(f\"Average Hybrid Score: {sum(hybrid_scores) / len(hybrid_scores):.4f}\")"
   ]
  }
 ],
 "metadata": {
  "kernelspec": {
   "display_name": "base",
   "language": "python",
   "name": "python3"
  },
  "language_info": {
   "codemirror_mode": {
    "name": "ipython",
    "version": 3
   },
   "file_extension": ".py",
   "mimetype": "text/x-python",
   "name": "python",
   "nbconvert_exporter": "python",
   "pygments_lexer": "ipython3",
   "version": "3.12.7"
  }
 },
 "nbformat": 4,
 "nbformat_minor": 2
}
